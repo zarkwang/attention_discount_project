{
 "cells": [
  {
   "cell_type": "code",
   "execution_count": 383,
   "metadata": {},
   "outputs": [],
   "source": [
    "import numpy as np\n",
    "from tqdm import tqdm\n",
    "\n",
    "class budget_optimizer:\n",
    "\n",
    "    def __init__(self,T,budget,params):\n",
    "        \n",
    "        #init_allocation = np.flip(np.arange(T+1))+1\n",
    "        init_allocation = np.repeat(1,T+1)\n",
    "\n",
    "        self.init_X = (init_allocation/sum(init_allocation))*budget\n",
    "        self.M = budget\n",
    "        self.T = T\n",
    "        self.gamma = params['gamma']\n",
    "        self.delta = params['delta']\n",
    "        self.lambd = params['lambd']\n",
    "\n",
    "    @staticmethod\n",
    "    def utility(x, gamma):\n",
    "        return x**gamma\n",
    "\n",
    "    @staticmethod\n",
    "    def u_1st(x, gamma):\n",
    "        return gamma*x**(gamma-1)\n",
    "\n",
    "    @staticmethod\n",
    "    def w_up(u,lambd):\n",
    "        return np.exp(u/lambd)\n",
    "\n",
    "    @staticmethod\n",
    "    def default_w(T,delta):\n",
    "        return delta**np.arange(T+1)\n",
    "    \n",
    "    @staticmethod\n",
    "    def neg_adjust(x,M,neg_adjust = 1e-4):   \n",
    " \n",
    "        # adjust negative x to tiny positive number\n",
    "       \n",
    "        if sum(x <= 0)>0:\n",
    "            x_neg_adjust = (x <= 0) * neg_adjust \n",
    "            x_nonneg_adjust = (x > neg_adjust) * x - sum(x_neg_adjust) / sum(x > neg_adjust)\n",
    "\n",
    "            x_adjust = neg_adjust + (x > neg_adjust)*x_nonneg_adjust + ((x<=neg_adjust) & (x>0))*x\n",
    "        else:\n",
    "            x_adjust = x\n",
    "\n",
    "        return x_adjust / sum(x_adjust) * M\n",
    "\n",
    "\n",
    "    def grad_func(self,x,d):\n",
    "    \n",
    "        u = self.utility(x,self.gamma) \n",
    "        u_prime = self.u_1st(x,self.gamma)\n",
    "        w_upper = self.w_up(u,self.lambd) * d\n",
    "        \n",
    "        w = w_upper / sum(w_upper)\n",
    "        V = w @ u\n",
    "        G = w * (u+1-V) * u_prime\n",
    "\n",
    "        obj = -np.log(V)\n",
    "        grad = -G/V\n",
    "    \n",
    "        return obj, grad\n",
    "    \n",
    "    def proj_func(self,x):\n",
    "        return x + (self.M-sum(x))/len(x)\n",
    "\n",
    "    def solve(self,init_x = None, stepsize = 0.1, iters = 10000, tol = 1e-6, \n",
    "              diffusion = 1e-3, a_grid = np.arange(4)/3,\n",
    "              break_point = np.Inf):\n",
    "\n",
    "        d = self.default_w(self.T,self.delta)\n",
    "\n",
    "        if init_x is None:\n",
    "            x_0 = self.init_X\n",
    "        else:\n",
    "            x_0 = init_x\n",
    "            \n",
    "        obj_0, grad_0 = self.grad_func(x_0,d)\n",
    "        self.fn = [obj_0]\n",
    "\n",
    "        for i in tqdm(range(iters)):\n",
    "\n",
    "            fn_min = min(self.fn)\n",
    "            \n",
    "            # Projection Gradient Descent (PG)\n",
    "            y = x_0 - stepsize * grad_0\n",
    "            x_1 = self.proj_func(y)\n",
    "\n",
    "            # adjust negative x to tiny positive\n",
    "            x_pg = self.neg_adjust(x_1,M=self.M)\n",
    "\n",
    "\n",
    "            # new obj and grad\n",
    "            obj_pg, grad_pg = self.grad_func(x_pg,d)\n",
    "\n",
    "            # WL algorithm: concentrate all budget on the period with minimal gradient \n",
    "            y_concentrate = np.repeat(0,self.T+1)\n",
    "            x_min_idx = np.where(grad_pg==min(grad_pg))[0]\n",
    "            y_concentrate[x_min_idx] = self.M\n",
    "\n",
    "            x_2 = x_pg + 2/(i+2)*(y_concentrate-x_pg)\n",
    "\n",
    "            # adjust negative x to tiny positive\n",
    "            x_wl = self.neg_adjust(x_2,M=self.M)\n",
    "\n",
    "            # generate a series of x between PG solution and WL solution\n",
    "            x_list = list(map(lambda a:x_pg * (1-a) + x_wl * a,a_grid))\n",
    "\n",
    "            obj_list = [obj_pg]\n",
    "            grad_list = [grad_pg]\n",
    "\n",
    "            for j in range(1,len(x_list)):\n",
    "                obj_wl, grad_wl = self.grad_func(x_list[j],d)\n",
    "                obj_list += [obj_wl]\n",
    "                grad_list += [grad_wl]\n",
    "\n",
    "\n",
    "            obj_array = np.array(obj_list)\n",
    "            idx_obj_min = np.where(obj_array==min(obj_array))[0]\n",
    "\n",
    "            # if the minimal obj in the generated series of x is smaller than the old obj, then take it;\n",
    "            # otherwise take the old x\n",
    "            if obj_array[idx_obj_min] <= fn_min:\n",
    "                grad_new = grad_list[idx_obj_min[0]]\n",
    "                obj_new = obj_list[idx_obj_min[0]]\n",
    "                x_new = x_list[idx_obj_min[0]]\n",
    "            \n",
    "            else:\n",
    "                grad_new = grad_0\n",
    "                obj_new = obj_0\n",
    "                x_new = x_0\n",
    "\n",
    "            # add a random diffusion to x_new\n",
    "            self.fn += [obj_new]\n",
    "\n",
    "            if i > 100:\n",
    "                if np.linalg.norm(x_0 - x_new) < tol:\n",
    "                    break\n",
    "\n",
    "            x_0 = x_new + np.random.normal(loc=0,scale=self.M*1e-3,size=self.T+1) \n",
    "            obj_0 = obj_new\n",
    "            grad_0 = grad_new\n",
    "\n",
    "            if i == break_point:\n",
    "                break\n",
    "   \n",
    "        self.x = x_new\n",
    "        self.gradient = grad_new\n",
    "\n",
    "        return {\"x\":x_new, \"obj_fn\":obj_new, \"gradient\":grad_new}\n",
    "    "
   ]
  },
  {
   "cell_type": "code",
   "execution_count": 393,
   "metadata": {},
   "outputs": [],
   "source": [
    "delta = .9\n",
    "gamma = .5\n",
    "lambd = 1\n",
    "T = 3\n",
    "budget = 100\n",
    "problem = budget_optimizer(T,budget,params={\"delta\":delta,\"gamma\":gamma,\"lambd\":lambd})"
   ]
  },
  {
   "cell_type": "code",
   "execution_count": 394,
   "metadata": {},
   "outputs": [
    {
     "name": "stderr",
     "output_type": "stream",
     "text": [
      "  1%|          | 101/10000 [00:00<00:01, 5311.91it/s]\n"
     ]
    },
    {
     "data": {
      "text/plain": [
       "{'x': array([ 9.90152188e+01, -3.77366129e-02,  2.81715874e-01,  2.75443325e+00]),\n",
       " 'obj_fn': -2.3024724547077495,\n",
       " 'gradient': array([-0.00500559,  0.00219462,  0.00197515,  0.00177764])}"
      ]
     },
     "execution_count": 394,
     "metadata": {},
     "output_type": "execute_result"
    }
   ],
   "source": [
    "problem.solve()"
   ]
  },
  {
   "cell_type": "code",
   "execution_count": 395,
   "metadata": {},
   "outputs": [
    {
     "data": {
      "text/plain": [
       "[<matplotlib.lines.Line2D at 0x1cb845de740>]"
      ]
     },
     "execution_count": 395,
     "metadata": {},
     "output_type": "execute_result"
    },
    {
     "data": {
      "image/png": "[encoded data removed]",
      "text/plain": [
       "<Figure size 640x480 with 1 Axes>"
      ]
     },
     "metadata": {},
     "output_type": "display_data"
    }
   ],
   "source": [
    "import matplotlib.pyplot as plt\n",
    "\n",
    "plt.plot(problem.fn)"
   ]
  },
  {
   "cell_type": "code",
   "execution_count": 396,
   "metadata": {},
   "outputs": [
    {
     "name": "stdout",
     "output_type": "stream",
     "text": [
      "[ 9.9015e+01 -3.8000e-02  2.8200e-01  2.7540e+00]\n",
      "-2.3024724547077495\n"
     ]
    }
   ],
   "source": [
    "print(np.round(problem.x,3))\n",
    "print(problem.fn[-1])"
   ]
  },
  {
   "cell_type": "code",
   "execution_count": 397,
   "metadata": {},
   "outputs": [
    {
     "data": {
      "text/plain": [
       "(-2.302423721571916,\n",
       " array([-0.00500627,  0.00035255,  0.0003173 ,  0.00028557]))"
      ]
     },
     "execution_count": 397,
     "metadata": {},
     "output_type": "execute_result"
    }
   ],
   "source": [
    "x_k = np.array([99.991,0.003,0.003,0.003])\n",
    "problem.grad_func(x=x_k,d=problem.default_w(T,delta))"
   ]
  }
 ],
 "metadata": {
  "kernelspec": {
   "display_name": "Python 3",
   "language": "python",
   "name": "python3"
  },
  "language_info": {
   "codemirror_mode": {
    "name": "ipython",
    "version": 3
   },
   "file_extension": ".py",
   "mimetype": "text/x-python",
   "name": "python",
   "nbconvert_exporter": "python",
   "pygments_lexer": "ipython3",
   "version": "3.10.6"
  },
  "orig_nbformat": 4
 },
 "nbformat": 4,
 "nbformat_minor": 2
}
