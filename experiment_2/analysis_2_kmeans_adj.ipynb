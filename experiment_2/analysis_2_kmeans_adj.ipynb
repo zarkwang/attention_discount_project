{
 "cells": [
  {
   "cell_type": "code",
   "execution_count": 16,
   "metadata": {},
   "outputs": [],
   "source": [
    "%reload_ext autoreload\n",
    "%autoreload 2\n",
    "\n",
    "import json\n",
    "import pickle\n",
    "import pandas as pd\n",
    "import numpy as np\n",
    "import matplotlib.pyplot as plt\n",
    "from scipy import stats\n",
    "from sklearn.cluster import KMeans\n",
    "import statsmodels.api as sm\n",
    "from lib import utils\n",
    "\n",
    "\n",
    "plt.rcParams['font.family'] = 'times new roman'\n",
    "plt.rcParams['font.size'] = 16"
   ]
  },
  {
   "cell_type": "code",
   "execution_count": 2,
   "metadata": {},
   "outputs": [],
   "source": [
    "df = pd.read_csv('valid_sequence_data.csv',index_col=0)"
   ]
  },
  {
   "cell_type": "code",
   "execution_count": 18,
   "metadata": {},
   "outputs": [
    {
     "name": "stdout",
     "output_type": "stream",
     "text": [
      "Number of participants in each cluster: [110  46   1]\n"
     ]
    }
   ],
   "source": [
    "# If data is clustered to three groups, one of these groups only has 9 subjects\n",
    "# This explains why we only cluster subjects to two groups \n",
    "df_time_pivot_2 = df.pivot(index='worker_id', columns='reward', values='value_surplus')\n",
    "kmeans = KMeans(n_clusters=3,random_state=42)\n",
    "kmeans.fit(df_time_pivot_2.values)\n",
    "print('Number of participants in each cluster:',np.bincount(kmeans.labels_))"
   ]
  },
  {
   "cell_type": "code",
   "execution_count": 4,
   "metadata": {},
   "outputs": [
    {
     "name": "stdout",
     "output_type": "stream",
     "text": [
      "SignificanceResult(statistic=-0.043245998593847375, pvalue=0.04263276342226129)\n",
      "SignificanceResult(statistic=-0.017606148185120487, pvalue=0.49998842410269084)\n",
      "SignificanceResult(statistic=-0.18241995351590656, pvalue=7.227940717397807e-07)\n"
     ]
    }
   ],
   "source": [
    "# Spearman rank-order correlation\n",
    "# the entire sample\n",
    "print(stats.spearmanr(df['value_surplus'],df['front_amount']))\n",
    "\n",
    "# cluster 1\n",
    "print(stats.spearmanr(df[df['label_kmeans'] == 0]['value_surplus'],\n",
    "                df[df['label_kmeans'] == 0]['front_amount']))\n",
    "\n",
    "# cluster 2\n",
    "print(stats.spearmanr(df[df['label_kmeans'] == 1]['value_surplus'],\n",
    "                    df[df['label_kmeans'] == 1]['front_amount']))"
   ]
  },
  {
   "cell_type": "code",
   "execution_count": 5,
   "metadata": {},
   "outputs": [
    {
     "name": "stdout",
     "output_type": "stream",
     "text": [
      "Number of outliers (lower and upper): [4, 8]\n"
     ]
    }
   ],
   "source": [
    "df['front_amount_6m'] = df['front_amount'] * (df['seq_length'] == '6 months')\n",
    "df['front_amount_12m'] = df['front_amount'] * (df['seq_length'] == '12 months')\n",
    "df['front_amount_6m_0'] = df['front_amount_6m']  * (df['label_kmeans'] == 0)\n",
    "df['front_amount_6m_1'] = df['front_amount_6m']  * (df['label_kmeans'] == 1)\n",
    "df['front_amount_12m_0'] = df['front_amount_12m']  * (df['label_kmeans'] == 0)\n",
    "df['front_amount_12m_1'] = df['front_amount_12m']  * (df['label_kmeans'] == 1)\n",
    "\n",
    "\n",
    "df_dummy = pd.concat([df,pd.get_dummies(df['worker_id'], prefix='worker_id')],axis=1)\n",
    "df_filtered = utils.rule_out_outlier(df_dummy,col_name='value_surplus')\n",
    "\n",
    "reg_cols_baseline = ['front_amount_6m','front_amount_12m','choice_peli']\n",
    "reg_cols_label = ['front_amount_6m_0','front_amount_12m_0','front_amount_6m_1','front_amount_12m_1','choice_peli']\n",
    "reg_cols_dummy = reg_cols_baseline + [col for col in df_dummy.columns if col.startswith('worker_id_')]\n",
    "reg_cols_dummy_2 = reg_cols_label + [col for col in df_dummy.columns if col.startswith('worker_id_')]\n",
    "\n",
    "\n",
    "formula_pool_1 = 'value_surplus ~ front_amount_6m + front_amount_12m + choice_peli'\n",
    "model_ols_pool_1 = sm.OLS.from_formula(formula_pool_1,data=df_filtered).fit(\n",
    "                                        cov_type='cluster',cov_kwds={'groups': df_filtered['worker_id']})"
   ]
  },
  {
   "cell_type": "code",
   "execution_count": 6,
   "metadata": {},
   "outputs": [],
   "source": [
    "formula_pool_2 = 'value_surplus ~ front_amount_6m_0 + front_amount_12m_0 + front_amount_6m_1 + front_amount_12m_1 + choice_peli'\n",
    "model_ols_pool_2 = sm.OLS.from_formula(formula_pool_2,data=df_filtered).fit(\n",
    "                                        cov_type='cluster',cov_kwds={'groups': df_filtered['worker_id']})"
   ]
  },
  {
   "cell_type": "code",
   "execution_count": 7,
   "metadata": {},
   "outputs": [
    {
     "data": {
      "text/html": [
       "<div>\n",
       "<style scoped>\n",
       "    .dataframe tbody tr th:only-of-type {\n",
       "        vertical-align: middle;\n",
       "    }\n",
       "\n",
       "    .dataframe tbody tr th {\n",
       "        vertical-align: top;\n",
       "    }\n",
       "\n",
       "    .dataframe thead th {\n",
       "        text-align: right;\n",
       "    }\n",
       "</style>\n",
       "<table border=\"1\" class=\"dataframe\">\n",
       "  <thead>\n",
       "    <tr style=\"text-align: right;\">\n",
       "      <th></th>\n",
       "      <th>coef</th>\n",
       "      <th>pvalues</th>\n",
       "      <th>ci_lower</th>\n",
       "      <th>ci_upper</th>\n",
       "    </tr>\n",
       "  </thead>\n",
       "  <tbody>\n",
       "    <tr>\n",
       "      <th>front_amount_6m</th>\n",
       "      <td>-0.005040</td>\n",
       "      <td>0.014359</td>\n",
       "      <td>-0.009075</td>\n",
       "      <td>-0.001005</td>\n",
       "    </tr>\n",
       "    <tr>\n",
       "      <th>front_amount_12m</th>\n",
       "      <td>-0.005306</td>\n",
       "      <td>0.009632</td>\n",
       "      <td>-0.009324</td>\n",
       "      <td>-0.001289</td>\n",
       "    </tr>\n",
       "    <tr>\n",
       "      <th>choice_peli</th>\n",
       "      <td>9.186859</td>\n",
       "      <td>0.000000</td>\n",
       "      <td>9.158254</td>\n",
       "      <td>9.215465</td>\n",
       "    </tr>\n",
       "  </tbody>\n",
       "</table>\n",
       "</div>"
      ],
      "text/plain": [
       "                      coef   pvalues  ci_lower  ci_upper\n",
       "front_amount_6m  -0.005040  0.014359 -0.009075 -0.001005\n",
       "front_amount_12m -0.005306  0.009632 -0.009324 -0.001289\n",
       "choice_peli       9.186859  0.000000  9.158254  9.215465"
      ]
     },
     "execution_count": 7,
     "metadata": {},
     "output_type": "execute_result"
    }
   ],
   "source": [
    "formula_fe = formula_pool_1 + '+C(worker_id)'\n",
    "model_ols_fe = sm.OLS.from_formula(formula_fe,data=df_filtered).fit(\n",
    "                                        cov_type='cluster',cov_kwds={'groups': df_filtered['worker_id']})\n",
    "\n",
    "pd.concat([model_ols_fe.params[reg_cols_baseline].rename('coef'),\n",
    "           model_ols_fe.pvalues[reg_cols_baseline].rename('pvalues'),\n",
    "           model_ols_fe.conf_int().loc[reg_cols_baseline].rename(columns={0:'ci_lower',1:'ci_upper'})],\n",
    "           axis=1)"
   ]
  },
  {
   "cell_type": "code",
   "execution_count": 8,
   "metadata": {},
   "outputs": [
    {
     "data": {
      "text/html": [
       "<div>\n",
       "<style scoped>\n",
       "    .dataframe tbody tr th:only-of-type {\n",
       "        vertical-align: middle;\n",
       "    }\n",
       "\n",
       "    .dataframe tbody tr th {\n",
       "        vertical-align: top;\n",
       "    }\n",
       "\n",
       "    .dataframe thead th {\n",
       "        text-align: right;\n",
       "    }\n",
       "</style>\n",
       "<table border=\"1\" class=\"dataframe\">\n",
       "  <thead>\n",
       "    <tr style=\"text-align: right;\">\n",
       "      <th></th>\n",
       "      <th>coef</th>\n",
       "      <th>pvalues</th>\n",
       "      <th>ci_lower</th>\n",
       "      <th>ci_upper</th>\n",
       "    </tr>\n",
       "  </thead>\n",
       "  <tbody>\n",
       "    <tr>\n",
       "      <th>front_amount_6m_0</th>\n",
       "      <td>0.001903</td>\n",
       "      <td>2.996807e-01</td>\n",
       "      <td>-0.001694</td>\n",
       "      <td>0.005500</td>\n",
       "    </tr>\n",
       "    <tr>\n",
       "      <th>front_amount_12m_0</th>\n",
       "      <td>0.002535</td>\n",
       "      <td>1.661264e-01</td>\n",
       "      <td>-0.001053</td>\n",
       "      <td>0.006123</td>\n",
       "    </tr>\n",
       "    <tr>\n",
       "      <th>front_amount_6m_1</th>\n",
       "      <td>-0.019018</td>\n",
       "      <td>1.111287e-05</td>\n",
       "      <td>-0.027501</td>\n",
       "      <td>-0.010536</td>\n",
       "    </tr>\n",
       "    <tr>\n",
       "      <th>front_amount_12m_1</th>\n",
       "      <td>-0.021080</td>\n",
       "      <td>3.064075e-07</td>\n",
       "      <td>-0.029151</td>\n",
       "      <td>-0.013010</td>\n",
       "    </tr>\n",
       "    <tr>\n",
       "      <th>choice_peli</th>\n",
       "      <td>7.215137</td>\n",
       "      <td>2.493699e-87</td>\n",
       "      <td>6.501246</td>\n",
       "      <td>7.929027</td>\n",
       "    </tr>\n",
       "  </tbody>\n",
       "</table>\n",
       "</div>"
      ],
      "text/plain": [
       "                        coef       pvalues  ci_lower  ci_upper\n",
       "front_amount_6m_0   0.001903  2.996807e-01 -0.001694  0.005500\n",
       "front_amount_12m_0  0.002535  1.661264e-01 -0.001053  0.006123\n",
       "front_amount_6m_1  -0.019018  1.111287e-05 -0.027501 -0.010536\n",
       "front_amount_12m_1 -0.021080  3.064075e-07 -0.029151 -0.013010\n",
       "choice_peli         7.215137  2.493699e-87  6.501246  7.929027"
      ]
     },
     "execution_count": 8,
     "metadata": {},
     "output_type": "execute_result"
    }
   ],
   "source": [
    "formula_fe_2 = formula_pool_2 + '+C(worker_id)'\n",
    "model_ols_fe_2 = sm.OLS.from_formula(formula_fe_2,data=df_filtered).fit(\n",
    "                                        cov_type='cluster',cov_kwds={'groups': df_filtered['worker_id']})\n",
    "\n",
    "pd.concat([model_ols_fe_2.params[reg_cols_label].rename('coef'),\n",
    "           model_ols_fe_2.pvalues[reg_cols_label].rename('pvalues'),\n",
    "           model_ols_fe_2.conf_int().loc[reg_cols_label].rename(columns={0:'ci_lower',1:'ci_upper'})],\n",
    "           axis=1)"
   ]
  },
  {
   "cell_type": "code",
   "execution_count": 9,
   "metadata": {},
   "outputs": [
    {
     "data": {
      "text/html": [
       "<table class=\"simpletable\">\n",
       "<caption>Robust linear Model Regression Results</caption>\n",
       "<tr>\n",
       "  <th>Dep. Variable:</th>                             <td>value_surplus</td>                           <th>  No. Observations:  </th> <td>  2198</td>\n",
       "</tr>\n",
       "<tr>\n",
       "  <th>Model:</th>                                          <td>RLM</td>                                <th>  Df Residuals:      </th> <td>  2194</td>\n",
       "</tr>\n",
       "<tr>\n",
       "  <th>Method:</th>                                        <td>IRLS</td>                                <th>  Df Model:          </th> <td>     3</td>\n",
       "</tr>\n",
       "<tr>\n",
       "  <th>Norm:</th>                                         <td>HuberT</td>                               <th>                     </th>    <td> </td>  \n",
       "</tr>\n",
       "<tr>\n",
       "  <th>Scale Est.:</th>     <td><statsmodels.robust.scale.HuberScale object at 0x000001DE4BAEFA90></td> <th>                     </th>    <td> </td>  \n",
       "</tr>\n",
       "<tr>\n",
       "  <th>Cov Type:</th>                                       <td>H1</td>                                 <th>                     </th>    <td> </td>  \n",
       "</tr>\n",
       "<tr>\n",
       "  <th>Date:</th>                                    <td>Sun, 11 Feb 2024</td>                          <th>                     </th>    <td> </td>  \n",
       "</tr>\n",
       "<tr>\n",
       "  <th>Time:</th>                                        <td>01:54:48</td>                              <th>                     </th>    <td> </td>  \n",
       "</tr>\n",
       "<tr>\n",
       "  <th>No. Iterations:</th>                                 <td>12</td>                                 <th>                     </th>    <td> </td>  \n",
       "</tr>\n",
       "</table>\n",
       "<table class=\"simpletable\">\n",
       "<tr>\n",
       "          <td></td>            <th>coef</th>     <th>std err</th>      <th>z</th>      <th>P>|z|</th>  <th>[0.025</th>    <th>0.975]</th>  \n",
       "</tr>\n",
       "<tr>\n",
       "  <th>const</th>            <td>   55.0002</td> <td>    0.963</td> <td>   57.084</td> <td> 0.000</td> <td>   53.112</td> <td>   56.889</td>\n",
       "</tr>\n",
       "<tr>\n",
       "  <th>front_amount_6m</th>  <td>   -0.0048</td> <td>    0.003</td> <td>   -1.920</td> <td> 0.055</td> <td>   -0.010</td> <td>    0.000</td>\n",
       "</tr>\n",
       "<tr>\n",
       "  <th>front_amount_12m</th> <td>   -0.0060</td> <td>    0.003</td> <td>   -2.397</td> <td> 0.017</td> <td>   -0.011</td> <td>   -0.001</td>\n",
       "</tr>\n",
       "<tr>\n",
       "  <th>choice_peli</th>      <td>   -0.8484</td> <td>    0.861</td> <td>   -0.985</td> <td> 0.324</td> <td>   -2.536</td> <td>    0.839</td>\n",
       "</tr>\n",
       "</table><br/><br/>If the model instance has been used for another fit with different fit parameters, then the fit options might not be the correct ones anymore ."
      ],
      "text/latex": [
       "\\begin{center}\n",
       "\\begin{tabular}{lclc}\n",
       "\\toprule\n",
       "\\textbf{Dep. Variable:}     &                            value\\_surplus                            & \\textbf{  No. Observations:  } &     2198    \\\\\n",
       "\\textbf{Model:}             &                                 RLM                                  & \\textbf{  Df Residuals:      } &     2194    \\\\\n",
       "\\textbf{Method:}            &                                 IRLS                                 & \\textbf{  Df Model:          } &        3    \\\\\n",
       "\\textbf{Norm:}              &                                HuberT                                & \\textbf{                     } &             \\\\\n",
       "\\textbf{Scale Est.:}        & <statsmodels.robust.scale.HuberScale object at 0x000001DE4BB18B10$>$ & \\textbf{                     } &             \\\\\n",
       "\\textbf{Cov Type:}          &                                  H1                                  & \\textbf{                     } &             \\\\\n",
       "\\textbf{Date:}              &                           Sun, 11 Feb 2024                           & \\textbf{                     } &             \\\\\n",
       "\\textbf{Time:}              &                               01:54:48                               & \\textbf{                     } &             \\\\\n",
       "\\textbf{No. Iterations:}    &                                  12                                  & \\textbf{                     } &             \\\\\n",
       "\\bottomrule\n",
       "\\end{tabular}\n",
       "\\begin{tabular}{lcccccc}\n",
       "                            & \\textbf{coef} & \\textbf{std err} & \\textbf{z} & \\textbf{P$> |$z$|$} & \\textbf{[0.025} & \\textbf{0.975]}  \\\\\n",
       "\\midrule\n",
       "\\textbf{const}              &      55.0002  &        0.963     &    57.084  &         0.000        &       53.112    &       56.889     \\\\\n",
       "\\textbf{front\\_amount\\_6m}  &      -0.0048  &        0.003     &    -1.920  &         0.055        &       -0.010    &        0.000     \\\\\n",
       "\\textbf{front\\_amount\\_12m} &      -0.0060  &        0.003     &    -2.397  &         0.017        &       -0.011    &       -0.001     \\\\\n",
       "\\textbf{choice\\_peli}       &      -0.8484  &        0.861     &    -0.985  &         0.324        &       -2.536    &        0.839     \\\\\n",
       "\\bottomrule\n",
       "\\end{tabular}\n",
       "%\\caption{Robust linear Model Regression Results}\n",
       "\\end{center}\n",
       "\n",
       "If the model instance has been used for another fit with different fit parameters, then the fit options might not be the correct ones anymore ."
      ],
      "text/plain": [
       "<class 'statsmodels.iolib.summary.Summary'>\n",
       "\"\"\"\n",
       "                                            Robust linear Model Regression Results                                            \n",
       "==============================================================================================================================\n",
       "Dep. Variable:                                                          value_surplus   No. Observations:                 2198\n",
       "Model:                                                                            RLM   Df Residuals:                     2194\n",
       "Method:                                                                          IRLS   Df Model:                            3\n",
       "Norm:                                                                          HuberT                                         \n",
       "Scale Est.:        <statsmodels.robust.scale.HuberScale object at 0x000001DE4BAEFA90>                                         \n",
       "Cov Type:                                                                          H1                                         \n",
       "Date:                                                                Sun, 11 Feb 2024                                         \n",
       "Time:                                                                        01:54:48                                         \n",
       "No. Iterations:                                                                    12                                         \n",
       "====================================================================================\n",
       "                       coef    std err          z      P>|z|      [0.025      0.975]\n",
       "------------------------------------------------------------------------------------\n",
       "const               55.0002      0.963     57.084      0.000      53.112      56.889\n",
       "front_amount_6m     -0.0048      0.003     -1.920      0.055      -0.010       0.000\n",
       "front_amount_12m    -0.0060      0.003     -2.397      0.017      -0.011      -0.001\n",
       "choice_peli         -0.8484      0.861     -0.985      0.324      -2.536       0.839\n",
       "====================================================================================\n",
       "\n",
       "If the model instance has been used for another fit with different fit parameters, then the fit options might not be the correct ones anymore .\n",
       "\"\"\""
      ]
     },
     "execution_count": 9,
     "metadata": {},
     "output_type": "execute_result"
    }
   ],
   "source": [
    "y = df['value_surplus']\n",
    "X = sm.add_constant(df[reg_cols_baseline]).astype(float)\n",
    "model_rlm_pool_1 = sm.RLM(endog=y,exog=X,M=sm.robust.norms.HuberT()).fit(maxiter=200,scale_est=sm.robust.scale.HuberScale())\n",
    "model_rlm_pool_1.summary()"
   ]
  },
  {
   "cell_type": "code",
   "execution_count": 10,
   "metadata": {},
   "outputs": [
    {
     "data": {
      "text/html": [
       "<table class=\"simpletable\">\n",
       "<caption>Robust linear Model Regression Results</caption>\n",
       "<tr>\n",
       "  <th>Dep. Variable:</th>                             <td>value_surplus</td>                           <th>  No. Observations:  </th> <td>  2198</td>\n",
       "</tr>\n",
       "<tr>\n",
       "  <th>Model:</th>                                          <td>RLM</td>                                <th>  Df Residuals:      </th> <td>  2192</td>\n",
       "</tr>\n",
       "<tr>\n",
       "  <th>Method:</th>                                        <td>IRLS</td>                                <th>  Df Model:          </th> <td>     5</td>\n",
       "</tr>\n",
       "<tr>\n",
       "  <th>Norm:</th>                                         <td>HuberT</td>                               <th>                     </th>    <td> </td>  \n",
       "</tr>\n",
       "<tr>\n",
       "  <th>Scale Est.:</th>     <td><statsmodels.robust.scale.HuberScale object at 0x000001DE4BAC3DD0></td> <th>                     </th>    <td> </td>  \n",
       "</tr>\n",
       "<tr>\n",
       "  <th>Cov Type:</th>                                       <td>H1</td>                                 <th>                     </th>    <td> </td>  \n",
       "</tr>\n",
       "<tr>\n",
       "  <th>Date:</th>                                    <td>Sun, 11 Feb 2024</td>                          <th>                     </th>    <td> </td>  \n",
       "</tr>\n",
       "<tr>\n",
       "  <th>Time:</th>                                        <td>01:54:49</td>                              <th>                     </th>    <td> </td>  \n",
       "</tr>\n",
       "<tr>\n",
       "  <th>No. Iterations:</th>                                 <td>18</td>                                 <th>                     </th>    <td> </td>  \n",
       "</tr>\n",
       "</table>\n",
       "<table class=\"simpletable\">\n",
       "<tr>\n",
       "           <td></td>             <th>coef</th>     <th>std err</th>      <th>z</th>      <th>P>|z|</th>  <th>[0.025</th>    <th>0.975]</th>  \n",
       "</tr>\n",
       "<tr>\n",
       "  <th>const</th>              <td>   55.8293</td> <td>    0.717</td> <td>   77.902</td> <td> 0.000</td> <td>   54.425</td> <td>   57.234</td>\n",
       "</tr>\n",
       "<tr>\n",
       "  <th>front_amount_6m_0</th>  <td>    0.0148</td> <td>    0.002</td> <td>    7.171</td> <td> 0.000</td> <td>    0.011</td> <td>    0.019</td>\n",
       "</tr>\n",
       "<tr>\n",
       "  <th>front_amount_12m_0</th> <td>    0.0145</td> <td>    0.002</td> <td>    7.050</td> <td> 0.000</td> <td>    0.010</td> <td>    0.019</td>\n",
       "</tr>\n",
       "<tr>\n",
       "  <th>front_amount_6m_1</th>  <td>   -0.0614</td> <td>    0.003</td> <td>  -24.078</td> <td> 0.000</td> <td>   -0.066</td> <td>   -0.056</td>\n",
       "</tr>\n",
       "<tr>\n",
       "  <th>front_amount_12m_1</th> <td>   -0.0666</td> <td>    0.003</td> <td>  -26.107</td> <td> 0.000</td> <td>   -0.072</td> <td>   -0.062</td>\n",
       "</tr>\n",
       "<tr>\n",
       "  <th>choice_peli</th>        <td>   -1.0143</td> <td>    0.640</td> <td>   -1.584</td> <td> 0.113</td> <td>   -2.270</td> <td>    0.241</td>\n",
       "</tr>\n",
       "</table><br/><br/>If the model instance has been used for another fit with different fit parameters, then the fit options might not be the correct ones anymore ."
      ],
      "text/latex": [
       "\\begin{center}\n",
       "\\begin{tabular}{lclc}\n",
       "\\toprule\n",
       "\\textbf{Dep. Variable:}        &                            value\\_surplus                            & \\textbf{  No. Observations:  } &     2198    \\\\\n",
       "\\textbf{Model:}                &                                 RLM                                  & \\textbf{  Df Residuals:      } &     2192    \\\\\n",
       "\\textbf{Method:}               &                                 IRLS                                 & \\textbf{  Df Model:          } &        5    \\\\\n",
       "\\textbf{Norm:}                 &                                HuberT                                & \\textbf{                     } &             \\\\\n",
       "\\textbf{Scale Est.:}           & <statsmodels.robust.scale.HuberScale object at 0x000001DE4BB2F6D0$>$ & \\textbf{                     } &             \\\\\n",
       "\\textbf{Cov Type:}             &                                  H1                                  & \\textbf{                     } &             \\\\\n",
       "\\textbf{Date:}                 &                           Sun, 11 Feb 2024                           & \\textbf{                     } &             \\\\\n",
       "\\textbf{Time:}                 &                               01:54:49                               & \\textbf{                     } &             \\\\\n",
       "\\textbf{No. Iterations:}       &                                  18                                  & \\textbf{                     } &             \\\\\n",
       "\\bottomrule\n",
       "\\end{tabular}\n",
       "\\begin{tabular}{lcccccc}\n",
       "                               & \\textbf{coef} & \\textbf{std err} & \\textbf{z} & \\textbf{P$> |$z$|$} & \\textbf{[0.025} & \\textbf{0.975]}  \\\\\n",
       "\\midrule\n",
       "\\textbf{const}                 &      55.8293  &        0.717     &    77.902  &         0.000        &       54.425    &       57.234     \\\\\n",
       "\\textbf{front\\_amount\\_6m\\_0}  &       0.0148  &        0.002     &     7.171  &         0.000        &        0.011    &        0.019     \\\\\n",
       "\\textbf{front\\_amount\\_12m\\_0} &       0.0145  &        0.002     &     7.050  &         0.000        &        0.010    &        0.019     \\\\\n",
       "\\textbf{front\\_amount\\_6m\\_1}  &      -0.0614  &        0.003     &   -24.078  &         0.000        &       -0.066    &       -0.056     \\\\\n",
       "\\textbf{front\\_amount\\_12m\\_1} &      -0.0666  &        0.003     &   -26.107  &         0.000        &       -0.072    &       -0.062     \\\\\n",
       "\\textbf{choice\\_peli}          &      -1.0143  &        0.640     &    -1.584  &         0.113        &       -2.270    &        0.241     \\\\\n",
       "\\bottomrule\n",
       "\\end{tabular}\n",
       "%\\caption{Robust linear Model Regression Results}\n",
       "\\end{center}\n",
       "\n",
       "If the model instance has been used for another fit with different fit parameters, then the fit options might not be the correct ones anymore ."
      ],
      "text/plain": [
       "<class 'statsmodels.iolib.summary.Summary'>\n",
       "\"\"\"\n",
       "                                            Robust linear Model Regression Results                                            \n",
       "==============================================================================================================================\n",
       "Dep. Variable:                                                          value_surplus   No. Observations:                 2198\n",
       "Model:                                                                            RLM   Df Residuals:                     2192\n",
       "Method:                                                                          IRLS   Df Model:                            5\n",
       "Norm:                                                                          HuberT                                         \n",
       "Scale Est.:        <statsmodels.robust.scale.HuberScale object at 0x000001DE4BAC3DD0>                                         \n",
       "Cov Type:                                                                          H1                                         \n",
       "Date:                                                                Sun, 11 Feb 2024                                         \n",
       "Time:                                                                        01:54:49                                         \n",
       "No. Iterations:                                                                    18                                         \n",
       "======================================================================================\n",
       "                         coef    std err          z      P>|z|      [0.025      0.975]\n",
       "--------------------------------------------------------------------------------------\n",
       "const                 55.8293      0.717     77.902      0.000      54.425      57.234\n",
       "front_amount_6m_0      0.0148      0.002      7.171      0.000       0.011       0.019\n",
       "front_amount_12m_0     0.0145      0.002      7.050      0.000       0.010       0.019\n",
       "front_amount_6m_1     -0.0614      0.003    -24.078      0.000      -0.066      -0.056\n",
       "front_amount_12m_1    -0.0666      0.003    -26.107      0.000      -0.072      -0.062\n",
       "choice_peli           -1.0143      0.640     -1.584      0.113      -2.270       0.241\n",
       "======================================================================================\n",
       "\n",
       "If the model instance has been used for another fit with different fit parameters, then the fit options might not be the correct ones anymore .\n",
       "\"\"\""
      ]
     },
     "execution_count": 10,
     "metadata": {},
     "output_type": "execute_result"
    }
   ],
   "source": [
    "y = df['value_surplus']\n",
    "X = sm.add_constant(df[reg_cols_label]).astype(float)\n",
    "model_rlm_pool_2 = sm.RLM(endog=y,exog=X,M=sm.robust.norms.HuberT()).fit(maxiter=200,scale_est=sm.robust.scale.HuberScale())\n",
    "model_rlm_pool_2.summary()"
   ]
  },
  {
   "cell_type": "code",
   "execution_count": 11,
   "metadata": {},
   "outputs": [
    {
     "data": {
      "text/html": [
       "<div>\n",
       "<style scoped>\n",
       "    .dataframe tbody tr th:only-of-type {\n",
       "        vertical-align: middle;\n",
       "    }\n",
       "\n",
       "    .dataframe tbody tr th {\n",
       "        vertical-align: top;\n",
       "    }\n",
       "\n",
       "    .dataframe thead th {\n",
       "        text-align: right;\n",
       "    }\n",
       "</style>\n",
       "<table border=\"1\" class=\"dataframe\">\n",
       "  <thead>\n",
       "    <tr style=\"text-align: right;\">\n",
       "      <th></th>\n",
       "      <th>coef</th>\n",
       "      <th>pvalues</th>\n",
       "      <th>ci_lower</th>\n",
       "      <th>ci_upper</th>\n",
       "    </tr>\n",
       "  </thead>\n",
       "  <tbody>\n",
       "    <tr>\n",
       "      <th>front_amount_6m</th>\n",
       "      <td>-0.004768</td>\n",
       "      <td>1.405737e-06</td>\n",
       "      <td>-0.006705</td>\n",
       "      <td>-0.002831</td>\n",
       "    </tr>\n",
       "    <tr>\n",
       "      <th>front_amount_12m</th>\n",
       "      <td>-0.006412</td>\n",
       "      <td>8.714686e-11</td>\n",
       "      <td>-0.008349</td>\n",
       "      <td>-0.004475</td>\n",
       "    </tr>\n",
       "    <tr>\n",
       "      <th>choice_peli</th>\n",
       "      <td>2.181327</td>\n",
       "      <td>7.852493e-12</td>\n",
       "      <td>1.556390</td>\n",
       "      <td>2.806263</td>\n",
       "    </tr>\n",
       "  </tbody>\n",
       "</table>\n",
       "</div>"
      ],
      "text/plain": [
       "                      coef       pvalues  ci_lower  ci_upper\n",
       "front_amount_6m  -0.004768  1.405737e-06 -0.006705 -0.002831\n",
       "front_amount_12m -0.006412  8.714686e-11 -0.008349 -0.004475\n",
       "choice_peli       2.181327  7.852493e-12  1.556390  2.806263"
      ]
     },
     "execution_count": 11,
     "metadata": {},
     "output_type": "execute_result"
    }
   ],
   "source": [
    "y = df_dummy['value_surplus']\n",
    "X = sm.add_constant(df_dummy[reg_cols_dummy]).astype(float)\n",
    "model_rlm_fe = sm.RLM(endog=y,exog=X,M=sm.robust.norms.HuberT()).fit(maxiter=200,scale_est=sm.robust.scale.HuberScale())\n",
    "\n",
    "pd.concat([model_rlm_fe.params[reg_cols_baseline].rename('coef'),\n",
    "           model_rlm_fe.pvalues[reg_cols_baseline].rename('pvalues'),\n",
    "           model_rlm_fe.conf_int().loc[reg_cols_baseline].rename(columns={0:'ci_lower',1:'ci_upper'})],\n",
    "           axis=1)"
   ]
  },
  {
   "cell_type": "code",
   "execution_count": 12,
   "metadata": {},
   "outputs": [
    {
     "data": {
      "text/html": [
       "<div>\n",
       "<style scoped>\n",
       "    .dataframe tbody tr th:only-of-type {\n",
       "        vertical-align: middle;\n",
       "    }\n",
       "\n",
       "    .dataframe tbody tr th {\n",
       "        vertical-align: top;\n",
       "    }\n",
       "\n",
       "    .dataframe thead th {\n",
       "        text-align: right;\n",
       "    }\n",
       "</style>\n",
       "<table border=\"1\" class=\"dataframe\">\n",
       "  <thead>\n",
       "    <tr style=\"text-align: right;\">\n",
       "      <th></th>\n",
       "      <th>coef</th>\n",
       "      <th>pvalues</th>\n",
       "      <th>ci_lower</th>\n",
       "      <th>ci_upper</th>\n",
       "    </tr>\n",
       "  </thead>\n",
       "  <tbody>\n",
       "    <tr>\n",
       "      <th>front_amount_6m_0</th>\n",
       "      <td>0.000075</td>\n",
       "      <td>9.490699e-01</td>\n",
       "      <td>-0.002227</td>\n",
       "      <td>0.002377</td>\n",
       "    </tr>\n",
       "    <tr>\n",
       "      <th>front_amount_12m_0</th>\n",
       "      <td>-0.000382</td>\n",
       "      <td>7.450786e-01</td>\n",
       "      <td>-0.002683</td>\n",
       "      <td>0.001920</td>\n",
       "    </tr>\n",
       "    <tr>\n",
       "      <th>front_amount_6m_1</th>\n",
       "      <td>-0.017401</td>\n",
       "      <td>1.850390e-25</td>\n",
       "      <td>-0.020672</td>\n",
       "      <td>-0.014130</td>\n",
       "    </tr>\n",
       "    <tr>\n",
       "      <th>front_amount_12m_1</th>\n",
       "      <td>-0.022004</td>\n",
       "      <td>1.056333e-39</td>\n",
       "      <td>-0.025274</td>\n",
       "      <td>-0.018733</td>\n",
       "    </tr>\n",
       "    <tr>\n",
       "      <th>choice_peli</th>\n",
       "      <td>2.206247</td>\n",
       "      <td>1.084793e-12</td>\n",
       "      <td>1.598860</td>\n",
       "      <td>2.813634</td>\n",
       "    </tr>\n",
       "  </tbody>\n",
       "</table>\n",
       "</div>"
      ],
      "text/plain": [
       "                        coef       pvalues  ci_lower  ci_upper\n",
       "front_amount_6m_0   0.000075  9.490699e-01 -0.002227  0.002377\n",
       "front_amount_12m_0 -0.000382  7.450786e-01 -0.002683  0.001920\n",
       "front_amount_6m_1  -0.017401  1.850390e-25 -0.020672 -0.014130\n",
       "front_amount_12m_1 -0.022004  1.056333e-39 -0.025274 -0.018733\n",
       "choice_peli         2.206247  1.084793e-12  1.598860  2.813634"
      ]
     },
     "execution_count": 12,
     "metadata": {},
     "output_type": "execute_result"
    }
   ],
   "source": [
    "y = df_dummy['value_surplus']\n",
    "X = sm.add_constant(df_dummy[reg_cols_dummy_2]).astype(float)\n",
    "model_rlm_fe_2 = sm.RLM(endog=y,exog=X,M=sm.robust.norms.HuberT()).fit(maxiter=200,scale_est=sm.robust.scale.HuberScale())\n",
    "\n",
    "pd.concat([model_rlm_fe_2.params[reg_cols_label].rename('coef'),\n",
    "           model_rlm_fe_2.pvalues[reg_cols_label].rename('pvalues'),\n",
    "           model_rlm_fe_2.conf_int().loc[reg_cols_label].rename(columns={0:'ci_lower',1:'ci_upper'})],\n",
    "           axis=1)"
   ]
  },
  {
   "cell_type": "code",
   "execution_count": 13,
   "metadata": {},
   "outputs": [
    {
     "name": "stdout",
     "output_type": "stream",
     "text": [
      "NormaltestResult(statistic=1408.0328798960743, pvalue=1.7764171666885885e-306)\n"
     ]
    },
    {
     "data": {
      "image/png": "[encoded data removed]",
      "text/plain": [
       "<Figure size 640x480 with 1 Axes>"
      ]
     },
     "metadata": {},
     "output_type": "display_data"
    }
   ],
   "source": [
    "pplot = sm.ProbPlot(model_rlm_fe_2.resid)\n",
    "fig = pplot.qqplot(line='s')\n",
    "plt.title('Q-Q plot')\n",
    "print(stats.normaltest(model_rlm_fe_2.resid))"
   ]
  },
  {
   "cell_type": "code",
   "execution_count": 14,
   "metadata": {},
   "outputs": [],
   "source": [
    "# save regression results\n",
    "model_results = {'ols_pool_baseline':utils.get_reg_result(model_ols_pool_1,reg_cols_baseline),\n",
    "                 'ols_pool_label':utils.get_reg_result(model_ols_pool_2,reg_cols_label),\n",
    "                 'ols_fe_baseline':utils.get_reg_result(model_ols_fe,reg_cols_baseline),\n",
    "                 'ols_fe_label':utils.get_reg_result(model_ols_fe_2,reg_cols_label),\n",
    "                 'rlm_pool_baseline':utils.get_reg_result(model_rlm_pool_1,reg_cols_baseline),\n",
    "                 'rlm_pool_label':utils.get_reg_result(model_rlm_pool_2,reg_cols_label),\n",
    "                 'rlm_fe_baseline':utils.get_reg_result(model_rlm_fe,reg_cols_baseline),\n",
    "                 'rlm_fe_label':utils.get_reg_result(model_rlm_fe_2,reg_cols_label)\n",
    "                 }\n",
    "\n",
    "with open('model_reg_result_k.json', \"w\") as f:\n",
    "    json.dump(model_results, f)"
   ]
  },
  {
   "cell_type": "code",
   "execution_count": 15,
   "metadata": {},
   "outputs": [
    {
     "name": "stderr",
     "output_type": "stream",
     "text": [
      " 18%|█▊        | 178/1000 [00:09<00:43, 19.08it/s]\n"
     ]
    },
    {
     "ename": "TypeError",
     "evalue": "'RLMResultsWrapper' object is not subscriptable",
     "output_type": "error",
     "traceback": [
      "\u001b[1;31m---------------------------------------------------------------------------\u001b[0m",
      "\u001b[1;31mKeyboardInterrupt\u001b[0m                         Traceback (most recent call last)",
      "File \u001b[1;32mc:\\Users\\phd19zw1\\OneDrive - University of Warwick\\Discounting_Experiment_ZWang\\experiment_2\\lib\\utils.py:191\u001b[0m, in \u001b[0;36mbootstrap_model.bootstrap\u001b[1;34m(self, n_jobs)\u001b[0m\n\u001b[0;32m    190\u001b[0m     dev \u001b[38;5;241m=\u001b[39m result\u001b[38;5;241m.\u001b[39mfit_history[\u001b[38;5;124m'\u001b[39m\u001b[38;5;124mdeviance\u001b[39m\u001b[38;5;124m'\u001b[39m][\u001b[38;5;241m-\u001b[39m\u001b[38;5;241m1\u001b[39m]\n\u001b[1;32m--> 191\u001b[0m     cond_loss \u001b[38;5;241m=\u001b[39m \u001b[38;5;28;43mself\u001b[39;49m\u001b[38;5;241;43m.\u001b[39;49m\u001b[43mget_cond_loss\u001b[49m\u001b[43m(\u001b[49m\u001b[43mresult\u001b[49m\u001b[43m)\u001b[49m\n\u001b[0;32m    192\u001b[0m \u001b[38;5;28;01mexcept\u001b[39;00m:\n",
      "File \u001b[1;32mc:\\Users\\phd19zw1\\OneDrive - University of Warwick\\Discounting_Experiment_ZWang\\experiment_2\\lib\\utils.py:239\u001b[0m, in \u001b[0;36mbootstrap_model.get_cond_loss\u001b[1;34m(self, result, b)\u001b[0m\n\u001b[0;32m    238\u001b[0m y \u001b[38;5;241m=\u001b[39m \u001b[38;5;28mself\u001b[39m\u001b[38;5;241m.\u001b[39mdata[\u001b[38;5;124m'\u001b[39m\u001b[38;5;124mvalue_surplus\u001b[39m\u001b[38;5;124m'\u001b[39m]\n\u001b[1;32m--> 239\u001b[0m X \u001b[38;5;241m=\u001b[39m \u001b[43msm\u001b[49m\u001b[38;5;241;43m.\u001b[39;49m\u001b[43madd_constant\u001b[49m\u001b[43m(\u001b[49m\u001b[38;5;28;43mself\u001b[39;49m\u001b[38;5;241;43m.\u001b[39;49m\u001b[43mdata\u001b[49m\u001b[43m[\u001b[49m\u001b[38;5;28;43mself\u001b[39;49m\u001b[38;5;241;43m.\u001b[39;49m\u001b[43mendog_cols\u001b[49m\u001b[43m]\u001b[49m\u001b[43m)\u001b[49m\u001b[38;5;241;43m.\u001b[39;49m\u001b[43mastype\u001b[49m\u001b[43m(\u001b[49m\u001b[38;5;28;43mfloat\u001b[39;49m\u001b[43m)\u001b[49m\n\u001b[0;32m    241\u001b[0m _sresid \u001b[38;5;241m=\u001b[39m (y \u001b[38;5;241m-\u001b[39m result\u001b[38;5;241m.\u001b[39mpredict(X)) \u001b[38;5;241m/\u001b[39m \u001b[38;5;28mself\u001b[39m\u001b[38;5;241m.\u001b[39mmodel\u001b[38;5;241m.\u001b[39mscale\n",
      "File \u001b[1;32mc:\\Users\\phd19zw1\\AppData\\Local\\Programs\\Python\\Python311\\Lib\\site-packages\\pandas\\core\\generic.py:6324\u001b[0m, in \u001b[0;36mNDFrame.astype\u001b[1;34m(self, dtype, copy, errors)\u001b[0m\n\u001b[0;32m   6322\u001b[0m \u001b[38;5;28;01melse\u001b[39;00m:\n\u001b[0;32m   6323\u001b[0m     \u001b[38;5;66;03m# else, only a single dtype is given\u001b[39;00m\n\u001b[1;32m-> 6324\u001b[0m     new_data \u001b[38;5;241m=\u001b[39m \u001b[38;5;28;43mself\u001b[39;49m\u001b[38;5;241;43m.\u001b[39;49m\u001b[43m_mgr\u001b[49m\u001b[38;5;241;43m.\u001b[39;49m\u001b[43mastype\u001b[49m\u001b[43m(\u001b[49m\u001b[43mdtype\u001b[49m\u001b[38;5;241;43m=\u001b[39;49m\u001b[43mdtype\u001b[49m\u001b[43m,\u001b[49m\u001b[43m \u001b[49m\u001b[43mcopy\u001b[49m\u001b[38;5;241;43m=\u001b[39;49m\u001b[43mcopy\u001b[49m\u001b[43m,\u001b[49m\u001b[43m \u001b[49m\u001b[43merrors\u001b[49m\u001b[38;5;241;43m=\u001b[39;49m\u001b[43merrors\u001b[49m\u001b[43m)\u001b[49m\n\u001b[0;32m   6325\u001b[0m     \u001b[38;5;28;01mreturn\u001b[39;00m \u001b[38;5;28mself\u001b[39m\u001b[38;5;241m.\u001b[39m_constructor(new_data)\u001b[38;5;241m.\u001b[39m__finalize__(\u001b[38;5;28mself\u001b[39m, method\u001b[38;5;241m=\u001b[39m\u001b[38;5;124m\"\u001b[39m\u001b[38;5;124mastype\u001b[39m\u001b[38;5;124m\"\u001b[39m)\n",
      "File \u001b[1;32mc:\\Users\\phd19zw1\\AppData\\Local\\Programs\\Python\\Python311\\Lib\\site-packages\\pandas\\core\\internals\\managers.py:451\u001b[0m, in \u001b[0;36mBaseBlockManager.astype\u001b[1;34m(self, dtype, copy, errors)\u001b[0m\n\u001b[0;32m    449\u001b[0m     copy \u001b[38;5;241m=\u001b[39m \u001b[38;5;28;01mFalse\u001b[39;00m\n\u001b[1;32m--> 451\u001b[0m \u001b[38;5;28;01mreturn\u001b[39;00m \u001b[38;5;28;43mself\u001b[39;49m\u001b[38;5;241;43m.\u001b[39;49m\u001b[43mapply\u001b[49m\u001b[43m(\u001b[49m\n\u001b[0;32m    452\u001b[0m \u001b[43m    \u001b[49m\u001b[38;5;124;43m\"\u001b[39;49m\u001b[38;5;124;43mastype\u001b[39;49m\u001b[38;5;124;43m\"\u001b[39;49m\u001b[43m,\u001b[49m\n\u001b[0;32m    453\u001b[0m \u001b[43m    \u001b[49m\u001b[43mdtype\u001b[49m\u001b[38;5;241;43m=\u001b[39;49m\u001b[43mdtype\u001b[49m\u001b[43m,\u001b[49m\n\u001b[0;32m    454\u001b[0m \u001b[43m    \u001b[49m\u001b[43mcopy\u001b[49m\u001b[38;5;241;43m=\u001b[39;49m\u001b[43mcopy\u001b[49m\u001b[43m,\u001b[49m\n\u001b[0;32m    455\u001b[0m \u001b[43m    \u001b[49m\u001b[43merrors\u001b[49m\u001b[38;5;241;43m=\u001b[39;49m\u001b[43merrors\u001b[49m\u001b[43m,\u001b[49m\n\u001b[0;32m    456\u001b[0m \u001b[43m    \u001b[49m\u001b[43musing_cow\u001b[49m\u001b[38;5;241;43m=\u001b[39;49m\u001b[43musing_copy_on_write\u001b[49m\u001b[43m(\u001b[49m\u001b[43m)\u001b[49m\u001b[43m,\u001b[49m\n\u001b[0;32m    457\u001b[0m \u001b[43m\u001b[49m\u001b[43m)\u001b[49m\n",
      "File \u001b[1;32mc:\\Users\\phd19zw1\\AppData\\Local\\Programs\\Python\\Python311\\Lib\\site-packages\\pandas\\core\\internals\\managers.py:352\u001b[0m, in \u001b[0;36mBaseBlockManager.apply\u001b[1;34m(self, f, align_keys, **kwargs)\u001b[0m\n\u001b[0;32m    351\u001b[0m \u001b[38;5;28;01melse\u001b[39;00m:\n\u001b[1;32m--> 352\u001b[0m     applied \u001b[38;5;241m=\u001b[39m \u001b[38;5;28;43mgetattr\u001b[39;49m\u001b[43m(\u001b[49m\u001b[43mb\u001b[49m\u001b[43m,\u001b[49m\u001b[43m \u001b[49m\u001b[43mf\u001b[49m\u001b[43m)\u001b[49m\u001b[43m(\u001b[49m\u001b[38;5;241;43m*\u001b[39;49m\u001b[38;5;241;43m*\u001b[39;49m\u001b[43mkwargs\u001b[49m\u001b[43m)\u001b[49m\n\u001b[0;32m    353\u001b[0m result_blocks \u001b[38;5;241m=\u001b[39m extend_blocks(applied, result_blocks)\n",
      "File \u001b[1;32mc:\\Users\\phd19zw1\\AppData\\Local\\Programs\\Python\\Python311\\Lib\\site-packages\\pandas\\core\\internals\\blocks.py:511\u001b[0m, in \u001b[0;36mBlock.astype\u001b[1;34m(self, dtype, copy, errors, using_cow)\u001b[0m\n\u001b[0;32m    509\u001b[0m values \u001b[38;5;241m=\u001b[39m \u001b[38;5;28mself\u001b[39m\u001b[38;5;241m.\u001b[39mvalues\n\u001b[1;32m--> 511\u001b[0m new_values \u001b[38;5;241m=\u001b[39m \u001b[43mastype_array_safe\u001b[49m\u001b[43m(\u001b[49m\u001b[43mvalues\u001b[49m\u001b[43m,\u001b[49m\u001b[43m \u001b[49m\u001b[43mdtype\u001b[49m\u001b[43m,\u001b[49m\u001b[43m \u001b[49m\u001b[43mcopy\u001b[49m\u001b[38;5;241;43m=\u001b[39;49m\u001b[43mcopy\u001b[49m\u001b[43m,\u001b[49m\u001b[43m \u001b[49m\u001b[43merrors\u001b[49m\u001b[38;5;241;43m=\u001b[39;49m\u001b[43merrors\u001b[49m\u001b[43m)\u001b[49m\n\u001b[0;32m    513\u001b[0m new_values \u001b[38;5;241m=\u001b[39m maybe_coerce_values(new_values)\n",
      "File \u001b[1;32mc:\\Users\\phd19zw1\\AppData\\Local\\Programs\\Python\\Python311\\Lib\\site-packages\\pandas\\core\\dtypes\\astype.py:242\u001b[0m, in \u001b[0;36mastype_array_safe\u001b[1;34m(values, dtype, copy, errors)\u001b[0m\n\u001b[0;32m    241\u001b[0m \u001b[38;5;28;01mtry\u001b[39;00m:\n\u001b[1;32m--> 242\u001b[0m     new_values \u001b[38;5;241m=\u001b[39m \u001b[43mastype_array\u001b[49m\u001b[43m(\u001b[49m\u001b[43mvalues\u001b[49m\u001b[43m,\u001b[49m\u001b[43m \u001b[49m\u001b[43mdtype\u001b[49m\u001b[43m,\u001b[49m\u001b[43m \u001b[49m\u001b[43mcopy\u001b[49m\u001b[38;5;241;43m=\u001b[39;49m\u001b[43mcopy\u001b[49m\u001b[43m)\u001b[49m\n\u001b[0;32m    243\u001b[0m \u001b[38;5;28;01mexcept\u001b[39;00m (\u001b[38;5;167;01mValueError\u001b[39;00m, \u001b[38;5;167;01mTypeError\u001b[39;00m):\n\u001b[0;32m    244\u001b[0m     \u001b[38;5;66;03m# e.g. _astype_nansafe can fail on object-dtype of strings\u001b[39;00m\n\u001b[0;32m    245\u001b[0m     \u001b[38;5;66;03m#  trying to convert to float\u001b[39;00m\n",
      "File \u001b[1;32mc:\\Users\\phd19zw1\\AppData\\Local\\Programs\\Python\\Python311\\Lib\\site-packages\\pandas\\core\\dtypes\\astype.py:179\u001b[0m, in \u001b[0;36mastype_array\u001b[1;34m(values, dtype, copy)\u001b[0m\n\u001b[0;32m    178\u001b[0m \u001b[38;5;28;01mif\u001b[39;00m copy:\n\u001b[1;32m--> 179\u001b[0m     \u001b[38;5;28;01mreturn\u001b[39;00m values\u001b[38;5;241m.\u001b[39mcopy()\n\u001b[0;32m    180\u001b[0m \u001b[38;5;28;01mreturn\u001b[39;00m values\n",
      "\u001b[1;31mKeyboardInterrupt\u001b[0m: ",
      "\nDuring handling of the above exception, another exception occurred:\n",
      "\u001b[1;31mTypeError\u001b[0m                                 Traceback (most recent call last)",
      "Cell \u001b[1;32mIn[15], line 2\u001b[0m\n\u001b[0;32m      1\u001b[0m model_bootstrap \u001b[38;5;241m=\u001b[39m utils\u001b[38;5;241m.\u001b[39mbootstrap_model(df,model\u001b[38;5;241m=\u001b[39mmodel_rlm_pool_1,param_names\u001b[38;5;241m=\u001b[39mreg_cols_baseline,n_bootstrap\u001b[38;5;241m=\u001b[39m\u001b[38;5;241m1000\u001b[39m)\n\u001b[1;32m----> 2\u001b[0m \u001b[43mmodel_bootstrap\u001b[49m\u001b[38;5;241;43m.\u001b[39;49m\u001b[43mbootstrap\u001b[49m\u001b[43m(\u001b[49m\u001b[43m)\u001b[49m\n\u001b[0;32m      3\u001b[0m \u001b[38;5;28;01mwith\u001b[39;00m \u001b[38;5;28mopen\u001b[39m(\u001b[38;5;124m'\u001b[39m\u001b[38;5;124mbootstrap_rlm_pool_baseline_k.pkl\u001b[39m\u001b[38;5;124m'\u001b[39m, \u001b[38;5;124m'\u001b[39m\u001b[38;5;124mwb\u001b[39m\u001b[38;5;124m'\u001b[39m) \u001b[38;5;28;01mas\u001b[39;00m file:\n\u001b[0;32m      4\u001b[0m     pickle\u001b[38;5;241m.\u001b[39mdump(model_bootstrap, file)\n",
      "File \u001b[1;32mc:\\Users\\phd19zw1\\OneDrive - University of Warwick\\Discounting_Experiment_ZWang\\experiment_2\\lib\\utils.py:193\u001b[0m, in \u001b[0;36mbootstrap_model.bootstrap\u001b[1;34m(self, n_jobs)\u001b[0m\n\u001b[0;32m    191\u001b[0m     cond_loss \u001b[38;5;241m=\u001b[39m \u001b[38;5;28mself\u001b[39m\u001b[38;5;241m.\u001b[39mget_cond_loss(result)\n\u001b[0;32m    192\u001b[0m \u001b[38;5;28;01mexcept\u001b[39;00m:\n\u001b[1;32m--> 193\u001b[0m     dev \u001b[38;5;241m=\u001b[39m \u001b[43mresult\u001b[49m\u001b[43m[\u001b[49m\u001b[38;5;124;43m'\u001b[39;49m\u001b[38;5;124;43mdeviance\u001b[39;49m\u001b[38;5;124;43m'\u001b[39;49m\u001b[43m]\u001b[49m\n\u001b[0;32m    194\u001b[0m     cond_loss \u001b[38;5;241m=\u001b[39m result[\u001b[38;5;124m'\u001b[39m\u001b[38;5;124mcond_loss\u001b[39m\u001b[38;5;124m'\u001b[39m]\n\u001b[0;32m    196\u001b[0m result_dict[\u001b[38;5;124m'\u001b[39m\u001b[38;5;124mnobs\u001b[39m\u001b[38;5;124m'\u001b[39m] \u001b[38;5;241m+\u001b[39m\u001b[38;5;241m=\u001b[39m [result\u001b[38;5;241m.\u001b[39mnobs] \n",
      "\u001b[1;31mTypeError\u001b[0m: 'RLMResultsWrapper' object is not subscriptable"
     ]
    }
   ],
   "source": [
    "model_bootstrap = utils.bootstrap_model(df,model=model_rlm_pool_1,param_names=reg_cols_baseline,n_bootstrap=1000)\n",
    "model_bootstrap.bootstrap()\n",
    "with open('bootstrap_rlm_pool_baseline_k.pkl', 'wb') as file:\n",
    "    pickle.dump(model_bootstrap, file)"
   ]
  },
  {
   "cell_type": "code",
   "execution_count": null,
   "metadata": {},
   "outputs": [
    {
     "name": "stderr",
     "output_type": "stream",
     "text": [
      "100%|██████████| 1000/1000 [00:26<00:00, 37.91it/s]\n"
     ]
    }
   ],
   "source": [
    "model_bootstrap = utils.bootstrap_model(df,model=model_rlm_pool_2,param_names=reg_cols_label,n_bootstrap=1000)\n",
    "model_bootstrap.bootstrap()\n",
    "with open('bootstrap_rlm_pool_label_k.pkl', 'wb') as file:\n",
    "    pickle.dump(model_bootstrap, file)"
   ]
  },
  {
   "cell_type": "code",
   "execution_count": null,
   "metadata": {},
   "outputs": [
    {
     "name": "stderr",
     "output_type": "stream",
     "text": [
      "100%|██████████| 1000/1000 [32:15<00:00,  1.94s/it]\n"
     ]
    }
   ],
   "source": [
    "model_bootstrap = utils.bootstrap_model(df,model=model_rlm_fe,param_names=reg_cols_baseline,n_bootstrap=1000,fe=True)\n",
    "model_bootstrap.bootstrap()\n",
    "with open('bootstrap_rlm_fe_baseline_k.pkl', 'wb') as file:\n",
    "    pickle.dump(model_bootstrap, file)"
   ]
  },
  {
   "cell_type": "code",
   "execution_count": null,
   "metadata": {},
   "outputs": [
    {
     "name": "stderr",
     "output_type": "stream",
     "text": [
      "100%|██████████| 1000/1000 [33:12<00:00,  1.99s/it]\n"
     ]
    }
   ],
   "source": [
    "model_bootstrap = utils.bootstrap_model(df,model=model_rlm_fe_2,param_names=reg_cols_label,n_bootstrap=1000,fe=True)\n",
    "model_bootstrap.bootstrap()\n",
    "with open('bootstrap_rlm_fe_label_k.pkl', 'wb') as file:\n",
    "    pickle.dump(model_bootstrap, file)"
   ]
  },
  {
   "cell_type": "code",
   "execution_count": null,
   "metadata": {},
   "outputs": [],
   "source": []
  }
 ],
 "metadata": {
  "kernelspec": {
   "display_name": "Python 3",
   "language": "python",
   "name": "python3"
  },
  "language_info": {
   "codemirror_mode": {
    "name": "ipython",
    "version": 3
   },
   "file_extension": ".py",
   "mimetype": "text/x-python",
   "name": "python",
   "nbconvert_exporter": "python",
   "pygments_lexer": "ipython3",
   "version": "3.11.2"
  }
 },
 "nbformat": 4,
 "nbformat_minor": 2
}
