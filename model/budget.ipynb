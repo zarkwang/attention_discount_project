{
 "cells": [
  {
   "cell_type": "code",
   "execution_count": 1,
   "metadata": {},
   "outputs": [],
   "source": [
    "import numpy as np\n",
    "from tqdm import tqdm"
   ]
  },
  {
   "cell_type": "code",
   "execution_count": 170,
   "metadata": {},
   "outputs": [],
   "source": [
    "\n",
    "class budget_optimizer:\n",
    "\n",
    "    def __init__(self,T,budget,params,x_position=None):\n",
    "        \n",
    "        self.x_position = x_position\n",
    "        self.M = budget # total budget\n",
    "        self.T = T      # sequence length\n",
    "        self.gamma = params['gamma'] # RRA coef\n",
    "        self.delta = params['delta'] # discount parameter\n",
    "        self.lambd = params['lambd'] # unit cost of infomation\n",
    "\n",
    "    @staticmethod\n",
    "    # instantaneous utility function\n",
    "    def utility(x, gamma):\n",
    "        return x**gamma\n",
    "\n",
    "    @staticmethod\n",
    "    # first-order derivative of utility function\n",
    "    def u_1st(x, gamma):\n",
    "        return gamma*x**(gamma-1)\n",
    "\n",
    "    @staticmethod\n",
    "    def w_up(u,lambd):\n",
    "        return np.exp(u/lambd)\n",
    "\n",
    "    @staticmethod\n",
    "    # default weight (discounting factor)\n",
    "    def default_w(T,delta):\n",
    "        return delta**np.arange(T+1)\n",
    "    \n",
    "    @staticmethod\n",
    "    # affline projection\n",
    "    def proj_func(budget,x):\n",
    "        return x + (budget-sum(x))/len(x)\n",
    "    \n",
    "    @staticmethod\n",
    "    def neg_adjust(x,M,neg_adjust = 1e-4):   \n",
    " \n",
    "        # adjust negative x to tiny positive number\n",
    "       \n",
    "        if sum(x <= 0)>0:\n",
    "            x_neg_adjust = (x <= 0) * neg_adjust \n",
    "            x_nonneg_adjust = (x > neg_adjust) * x - sum(x_neg_adjust) / sum(x > neg_adjust)\n",
    "\n",
    "            x_adjust = neg_adjust + (x > neg_adjust)*x_nonneg_adjust + ((x<=neg_adjust) & (x>0))*x\n",
    "        else:\n",
    "            x_adjust = x\n",
    "\n",
    "        return x_adjust / sum(x_adjust) * M\n",
    "    \n",
    "\n",
    "    def grad_func(self,x,d):\n",
    "\n",
    "        # gradient function  \n",
    "    \n",
    "        u = self.utility(x,self.gamma) \n",
    "        u_prime = self.u_1st(x,self.gamma)\n",
    "        \n",
    "        if self.x_position is None:\n",
    "            w_upper = self.w_up(u,self.lambd) * d\n",
    "            w = w_upper / sum(w_upper)\n",
    "        else:\n",
    "            w_upper = self.w_up(u,self.lambd) * d[self.x_position]\n",
    "            w_other_sum = np.delete(d, self.x_position).sum()\n",
    "            w = w_upper / (sum(w_upper) + w_other_sum)\n",
    "\n",
    "        V = w @ u\n",
    "        G = w * (u+1-V) * u_prime\n",
    "\n",
    "        obj = -np.log(V) # minimization objective\n",
    "        grad = -G/V # gradient\n",
    "    \n",
    "        return obj, grad\n",
    "    \n",
    "\n",
    "    def solve_local(self, x_0, grad_0, obj_0, d, \n",
    "                    stepsize = 0.1, iters = 300, a_grid = np.arange(4)/3,\n",
    "                    stopping = 100, tol = 1e-6):\n",
    "\n",
    "        for i in range(iters):\n",
    "            \n",
    "            # Projection Gradient Descent (PG)\n",
    "            y = x_0 - stepsize * grad_0\n",
    "            x_1 = self.proj_func(self.M,y)\n",
    "\n",
    "            # adjust negative x to tiny positive\n",
    "            x_pg = self.neg_adjust(x_1,M=self.M)\n",
    "\n",
    "            # new obj and grad\n",
    "            obj_pg, grad_pg = self.grad_func(x_pg,d)\n",
    "\n",
    "            # WL algorithm: concentrate all budget on the period with minimal gradient \n",
    "            y_concentrate = np.repeat(0,len(x_0))\n",
    "            x_min_idx = np.where(grad_pg==min(grad_pg))[0]\n",
    "            y_concentrate[x_min_idx] = self.M\n",
    "\n",
    "            x_2 = x_pg + 2/(i+2)*(y_concentrate-x_pg)\n",
    "\n",
    "            # adjust negative x to tiny positive\n",
    "            x_wl = self.neg_adjust(x_2,M=self.M)\n",
    "\n",
    "            # generate a series of x between PG solution and WL solution\n",
    "            # calculate obj, grad for each generated x\n",
    "            x_list = list(map(lambda a:x_pg * (1-a) + x_wl * a,a_grid))\n",
    "\n",
    "            obj_list = [obj_pg]\n",
    "            grad_list = [grad_pg]\n",
    "\n",
    "            for j in range(1,len(x_list)):\n",
    "                obj_wl, grad_wl = self.grad_func(x_list[j],d)\n",
    "                obj_list += [obj_wl]\n",
    "                grad_list += [grad_wl]\n",
    "\n",
    "\n",
    "            obj_array = np.array(obj_list)\n",
    "            idx_obj_min = np.where(obj_array==min(obj_array))[0]\n",
    "\n",
    "            # if the minimal obj in the generated series of x is smaller than the old obj, then take it;\n",
    "            # otherwise take the old x\n",
    "            if obj_array[idx_obj_min] <= obj_0:\n",
    "                grad_new = grad_list[idx_obj_min[0]]\n",
    "                obj_new = obj_list[idx_obj_min[0]]\n",
    "                x_new = x_list[idx_obj_min[0]]\n",
    "            \n",
    "            else:\n",
    "                grad_new = grad_0\n",
    "                obj_new = obj_0\n",
    "                x_new = x_0\n",
    "\n",
    "            # condition for early stopping\n",
    "            if j > stopping:\n",
    "                if abs(obj_0 - obj_new) < tol:\n",
    "                    break\n",
    "           \n",
    "            # update x_0, obj_0, grad_0\n",
    "            x_0 = x_new\n",
    "            obj_0 = obj_new\n",
    "            grad_0 = grad_new\n",
    "        \n",
    "        return x_new, grad_new, obj_new\n",
    "   \n",
    "        \n",
    "    \n",
    "    def solve(self,init_x = None,\n",
    "              global_iter = 700, diffusion = 1e-3, \n",
    "              break_point = np.Inf):\n",
    "\n",
    "        # calculate default weight (discounting factor)\n",
    "        d = self.default_w(self.T,self.delta)\n",
    "\n",
    "        # set-up initial status\n",
    "        if self.x_position is None:\n",
    "            init_allocation = np.repeat(1,self.T+1)\n",
    "        else:\n",
    "            init_allocation = np.repeat(1,len(self.x_position))\n",
    "        \n",
    "        if init_x is None:\n",
    "            init_x = (init_allocation/sum(init_allocation))*self.M\n",
    "    \n",
    "        init_obj, init_grad = self.grad_func(init_x,d)\n",
    "\n",
    "        x_0 = init_x\n",
    "        grad_0 = init_grad\n",
    "        obj_0 = init_obj\n",
    "        self.fn = [obj_0]\n",
    "\n",
    "        for j in tqdm(range(global_iter)):\n",
    "\n",
    "            # local solver\n",
    "            x_1, grad_1, obj_1 = self.solve_local(init_x,init_grad,init_obj,d)\n",
    "\n",
    "            # if the new obj is smaller than the old obj, then keep the new solution\n",
    "            # otherwise, take the old solution\n",
    "            if obj_1 <= obj_0:\n",
    "                x_new = x_1\n",
    "                grad_new = grad_1\n",
    "                obj_new = obj_1  \n",
    "            else:\n",
    "                x_new = x_0\n",
    "                grad_new = grad_0\n",
    "                obj_new = obj_0\n",
    "\n",
    "            # calculate obj for the current iteration \n",
    "            self.fn += [obj_new] \n",
    "\n",
    "            # update x_0, obj_0, grad_0\n",
    "            # x_0: add a random diffusion to x_new and ensure all are positive\n",
    "            x_2 = x_new + np.random.normal(loc=0,scale=self.M*diffusion,size=len(x_new))\n",
    "            init_x = self.neg_adjust(x_2,M=self.M)  \n",
    "            init_obj, init_grad = self.grad_func(init_x,d)\n",
    "           \n",
    "            if j == break_point:\n",
    "                break\n",
    "            \n",
    "            x_0 = x_new\n",
    "            grad_0 = grad_new\n",
    "            obj_0 = obj_new\n",
    "        \n",
    "        self.x = x_new\n",
    "        self.gradient = grad_new\n",
    "\n",
    "        return {\"x\":np.around(x_new, decimals=3), \"obj_fn\":obj_new, \"gradient\":grad_new}"
   ]
  },
  {
   "cell_type": "code",
   "execution_count": 173,
   "metadata": {},
   "outputs": [
    {
     "name": "stderr",
     "output_type": "stream",
     "text": [
      "100%|██████████| 700/700 [00:26<00:00, 26.48it/s]\n"
     ]
    },
    {
     "data": {
      "text/plain": [
       "{'x': array([38.665, 27.319, 19.668, 14.348]),\n",
       " 'obj_fn': -1.9441810211282053,\n",
       " 'gradient': array([-1.75538464e-02, -7.73052284e-03,  8.50944581e-05,  6.41565770e-03])}"
      ]
     },
     "execution_count": 173,
     "metadata": {},
     "output_type": "execute_result"
    }
   ],
   "source": [
    "delta = .9\n",
    "gamma = .6\n",
    "lambd = 100\n",
    "T = 3\n",
    "budget = 100\n",
    "x_position = None\n",
    "problem = budget_optimizer(T,budget,params={\"delta\":delta,\"gamma\":gamma,\"lambd\":lambd},x_position=x_position)\n",
    "problem.solve()"
   ]
  },
  {
   "cell_type": "code",
   "execution_count": 179,
   "metadata": {},
   "outputs": [
    {
     "name": "stderr",
     "output_type": "stream",
     "text": [
      "100%|██████████| 400/400 [00:15<00:00, 26.60it/s]\n",
      "100%|██████████| 400/400 [00:14<00:00, 27.05it/s]\n",
      "100%|██████████| 400/400 [00:14<00:00, 27.20it/s]\n"
     ]
    }
   ],
   "source": [
    "delta = .9\n",
    "gamma = .6\n",
    "lambd = 100\n",
    "T = 3\n",
    "budget = 100\n",
    "x_position = None\n",
    "x_solve = {}\n",
    "for i in range(T):\n",
    "    lambd = lambd / (i+1)\n",
    "    problem = budget_optimizer(T-i,budget,params={\"delta\":delta,\"gamma\":gamma,\"lambd\":lambd},x_position=x_position)\n",
    "    problem.solve(global_iter=400)\n",
    "    x_solve[i] = problem.x\n",
    "    budget = budget - problem.x[0]"
   ]
  },
  {
   "cell_type": "code",
   "execution_count": 180,
   "metadata": {},
   "outputs": [
    {
     "data": {
      "text/plain": [
       "{0: array([38.60554567, 27.36952998, 19.69812859, 14.32679576]),\n",
       " 1: array([29.4657072 , 19.0025897 , 12.92615743]),\n",
       " 2: array([26.67467519,  5.25407194])}"
      ]
     },
     "execution_count": 180,
     "metadata": {},
     "output_type": "execute_result"
    }
   ],
   "source": [
    "x_solve"
   ]
  },
  {
   "cell_type": "code",
   "execution_count": 174,
   "metadata": {},
   "outputs": [
    {
     "data": {
      "text/plain": [
       "[<matplotlib.lines.Line2D at 0x168012ceb00>]"
      ]
     },
     "execution_count": 174,
     "metadata": {},
     "output_type": "execute_result"
    },
    {
     "data": {
      "image/png": "[encoded data removed]",
      "text/plain": [
       "<Figure size 640x480 with 1 Axes>"
      ]
     },
     "metadata": {},
     "output_type": "display_data"
    }
   ],
   "source": [
    "import matplotlib.pyplot as plt\n",
    "\n",
    "plt.plot(problem.fn)"
   ]
  },
  {
   "cell_type": "code",
   "execution_count": 124,
   "metadata": {},
   "outputs": [
    {
     "name": "stdout",
     "output_type": "stream",
     "text": [
      "[100.   0.   0.   0.]\n",
      "-2.7631011917412938\n"
     ]
    }
   ],
   "source": [
    "print(np.round(problem.x,3))\n",
    "print(problem.fn[-1])"
   ]
  },
  {
   "cell_type": "code",
   "execution_count": 397,
   "metadata": {},
   "outputs": [
    {
     "data": {
      "text/plain": [
       "(-2.302423721571916,\n",
       " array([-0.00500627,  0.00035255,  0.0003173 ,  0.00028557]))"
      ]
     },
     "execution_count": 397,
     "metadata": {},
     "output_type": "execute_result"
    }
   ],
   "source": [
    "x_k = np.array([99.991,0.003,0.003,0.003])\n",
    "problem.grad_func(x=x_k,d=problem.default_w(T,delta))"
   ]
  }
 ],
 "metadata": {
  "kernelspec": {
   "display_name": "Python 3",
   "language": "python",
   "name": "python3"
  },
  "language_info": {
   "codemirror_mode": {
    "name": "ipython",
    "version": 3
   },
   "file_extension": ".py",
   "mimetype": "text/x-python",
   "name": "python",
   "nbconvert_exporter": "python",
   "pygments_lexer": "ipython3",
   "version": "3.10.6"
  },
  "orig_nbformat": 4
 },
 "nbformat": 4,
 "nbformat_minor": 2
}
