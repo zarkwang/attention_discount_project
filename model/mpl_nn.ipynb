{
 "cells": [
  {
   "cell_type": "code",
   "execution_count": 1,
   "metadata": {},
   "outputs": [
    {
     "name": "stderr",
     "output_type": "stream",
     "text": [
      "d:\\Python\\lib\\site-packages\\tqdm\\auto.py:22: TqdmWarning: IProgress not found. Please update jupyter and ipywidgets. See https://ipywidgets.readthedocs.io/en/stable/user_install.html\n",
      "  from .autonotebook import tqdm as notebook_tqdm\n"
     ]
    }
   ],
   "source": [
    "import numpy as np\n",
    "import pandas as pd\n",
    "import torch\n",
    "import torch.nn as nn\n",
    "import torch.optim as optim"
   ]
  },
  {
   "cell_type": "code",
   "execution_count": 2,
   "metadata": {},
   "outputs": [],
   "source": [
    "# Load the data from Chavez, et al. (2017)\n",
    "chavez_dt = pd.read_csv('data/chavez_data.csv')\n",
    "\n",
    "# questionnaire design\n",
    "pregunta = np.array([54,0,55,117,55,0,75,61,19,0,25,53,31,0,85,7,\n",
    "                     14,0,25,19,47,0,50,160,15,0,35,13,25,0,60,14,\n",
    "                     78,0,80,162,40,0,55,62,11,0,30,7,67,0,75,119,\n",
    "                     34,0,35,186,27,0,50,21,69,0,85,91,49,0,60,89,\n",
    "                     80,0,85,157,24,0,35,29,33,0,80,14,28,0,30,179,\n",
    "                     34,0,50,30,25,0,30,80,41,0,75,20,54,0,60,111,\n",
    "                     54,0,80,30,22,0,25,136,20,0,55,7]).reshape(27, 4)\n",
    "\n",
    "condition_col = np.array(['DT'+str(i) for i in range(1, 28)]).reshape(-1,1)\n",
    "pregunta = np.hstack((condition_col,pregunta))\n",
    "pregunta = pd.DataFrame(pregunta)\n",
    "condition_col_name = ['ss_x','ss_t','ll_x','ll_t']\n",
    "pregunta.columns = ['condition'] + condition_col_name\n",
    "\n",
    "# object containing participants' choices: '0' is choice of SS, '1' is choice of 'LL'\n",
    "chavez_dt = pd.melt(chavez_dt, id_vars=['ID','School'], var_name='condition', value_name='choice')\n",
    "chavez_dt = pd.merge(chavez_dt,pregunta,on='condition')\n",
    "chavez_dt[condition_col_name] = chavez_dt[condition_col_name].apply(pd.to_numeric)\n",
    "chavez_dt.columns = ['person_id','school','condition','choice'] + condition_col_name"
   ]
  },
  {
   "cell_type": "code",
   "execution_count": 23,
   "metadata": {},
   "outputs": [
    {
     "data": {
      "text/plain": [
       "0.7767637259162683"
      ]
     },
     "execution_count": 23,
     "metadata": {},
     "output_type": "execute_result"
    }
   ],
   "source": [
    "df_group = chavez_dt.groupby(['ss_x','ss_t','ll_x','ll_t'])['choice']\n",
    "choice_group = df_group.mean('choice')\n",
    "choice_correct = choice_group *(choice_group > 0.5) +  (1-choice_group) *(choice_group <= 0.5)\n",
    "\n",
    "sum(choice_correct * df_group.count()) / sum(df_group.count())"
   ]
  },
  {
   "cell_type": "code",
   "execution_count": 27,
   "metadata": {},
   "outputs": [],
   "source": [
    "itch_dt = pd.read_csv('data/ericson_data.csv')\n",
    "itch_dt = itch_dt.rename(columns={\"Subject\":\"person_id\",\n",
    "                                \"Condition\":\"condition\",\n",
    "                                \"Question\":\"question_id\",\n",
    "                                \"X1\":\"ss_x\",\n",
    "                                \"T1\":\"ss_t\",\n",
    "                                \"X2\":\"ll_x\",\n",
    "                                \"T2\":\"ll_t\",\n",
    "                                \"LaterOptionChosen\": \"choice\"}).\\\n",
    "                drop(['R','G','D'],axis=1).dropna()"
   ]
  },
  {
   "cell_type": "code",
   "execution_count": 29,
   "metadata": {},
   "outputs": [
    {
     "data": {
      "text/plain": [
       "0.7120314729151356"
      ]
     },
     "execution_count": 29,
     "metadata": {},
     "output_type": "execute_result"
    }
   ],
   "source": [
    "df_group = itch_dt.groupby(['ss_x','ss_t','ll_x','ll_t'])['choice']\n",
    "choice_group = df_group.mean('choice')\n",
    "choice_correct = choice_group *(choice_group > 0.5) +  (1-choice_group) *(choice_group <= 0.5)\n",
    "\n",
    "sum(choice_correct * df_group.count()) / sum(df_group.count())"
   ]
  },
  {
   "cell_type": "code",
   "execution_count": 19,
   "metadata": {},
   "outputs": [],
   "source": [
    "# Convert training and testing data to PyTorch tensors\n",
    "train_data = chavez_dt.dropna()\n",
    "X = torch.tensor(train_data[['ss_x', 'll_x', 'ss_t', 'll_t']].values, dtype=torch.float32)\n",
    "y = torch.tensor(train_data['choice'].values, dtype=torch.float32)"
   ]
  },
  {
   "cell_type": "code",
   "execution_count": 20,
   "metadata": {},
   "outputs": [],
   "source": [
    "# Define the neural network\n",
    "class NetV(nn.Module):\n",
    "    def __init__(self):\n",
    "        super(NetV, self).__init__()\n",
    "        self.fc1 = nn.Linear(2, 64)\n",
    "        self.fc2 = nn.Linear(64, 32)\n",
    "        self.fc3 = nn.Linear(32, 1)\n",
    "\n",
    "    def forward(self, x):\n",
    "        x = torch.relu(self.fc1(x))\n",
    "        x = torch.relu(self.fc2(x))\n",
    "        x = self.fc3(x)\n",
    "        return x\n",
    "\n",
    "\n",
    "class NetClassifier(nn.Module):\n",
    "    def __init__(self):\n",
    "        super(NetClassifier, self).__init__()\n",
    "        self.v_s = NetV()\n",
    "        self.v_l = NetV()\n",
    "        self.logit_temperature = nn.Parameter(torch.tensor(1.0), requires_grad=True)\n",
    "\n",
    "    def forward(self, ss_x, ss_t, ll_x, ll_t):\n",
    "        v_s = self.v_s(torch.stack([ss_x, ss_t], dim=1))\n",
    "        v_l = self.v_l(torch.stack([ll_x, ll_t], dim=1))\n",
    "        diff = v_l - v_s\n",
    "        logit_input = diff * self.logit_temperature\n",
    "        prob = torch.sigmoid(logit_input)\n",
    "        return prob"
   ]
  },
  {
   "cell_type": "code",
   "execution_count": 21,
   "metadata": {},
   "outputs": [
    {
     "name": "stdout",
     "output_type": "stream",
     "text": [
      "Epoch 1/50, Val Loss: 0.5250, Accuracy: 76.85%\n",
      "Epoch 2/50, Val Loss: 0.5072, Accuracy: 77.01%\n",
      "Epoch 3/50, Val Loss: 0.5013, Accuracy: 77.01%\n",
      "Epoch 4/50, Val Loss: 0.5186, Accuracy: 76.85%\n",
      "Epoch 5/50, Val Loss: 0.5040, Accuracy: 77.01%\n",
      "Epoch 6/50, Val Loss: 0.5063, Accuracy: 77.01%\n",
      "Epoch 7/50, Val Loss: 0.5080, Accuracy: 75.82%\n",
      "Epoch 8/50, Val Loss: 0.5025, Accuracy: 77.01%\n",
      "Epoch 9/50, Val Loss: 0.5003, Accuracy: 77.01%\n",
      "Epoch 10/50, Val Loss: 0.5023, Accuracy: 77.01%\n",
      "Epoch 11/50, Val Loss: 0.5017, Accuracy: 77.01%\n",
      "Epoch 12/50, Val Loss: 0.4996, Accuracy: 77.01%\n",
      "Epoch 13/50, Val Loss: 0.4987, Accuracy: 77.01%\n",
      "Epoch 14/50, Val Loss: 0.5049, Accuracy: 75.98%\n",
      "Epoch 15/50, Val Loss: 0.4993, Accuracy: 77.01%\n",
      "Epoch 16/50, Val Loss: 0.5017, Accuracy: 77.01%\n",
      "Epoch 17/50, Val Loss: 0.5030, Accuracy: 77.01%\n",
      "Epoch 18/50, Val Loss: 0.5007, Accuracy: 77.01%\n",
      "Epoch 19/50, Val Loss: 0.4986, Accuracy: 77.01%\n",
      "Epoch 20/50, Val Loss: 0.4982, Accuracy: 76.85%\n",
      "Epoch 21/50, Val Loss: 0.4995, Accuracy: 77.01%\n",
      "Epoch 22/50, Val Loss: 0.4997, Accuracy: 77.01%\n",
      "Epoch 23/50, Val Loss: 0.4986, Accuracy: 77.01%\n",
      "Epoch 24/50, Val Loss: 0.4983, Accuracy: 77.01%\n",
      "Epoch 25/50, Val Loss: 0.4986, Accuracy: 76.85%\n",
      "Epoch 26/50, Val Loss: 0.4978, Accuracy: 76.85%\n",
      "Epoch 27/50, Val Loss: 0.4986, Accuracy: 77.01%\n",
      "Epoch 28/50, Val Loss: 0.4989, Accuracy: 76.85%\n",
      "Epoch 29/50, Val Loss: 0.4993, Accuracy: 77.01%\n",
      "Epoch 30/50, Val Loss: 0.4977, Accuracy: 77.01%\n",
      "Epoch 31/50, Val Loss: 0.4976, Accuracy: 77.01%\n",
      "Epoch 32/50, Val Loss: 0.5025, Accuracy: 76.85%\n",
      "Epoch 33/50, Val Loss: 0.4976, Accuracy: 77.01%\n",
      "Epoch 34/50, Val Loss: 0.4976, Accuracy: 77.01%\n",
      "Epoch 35/50, Val Loss: 0.4974, Accuracy: 77.01%\n",
      "Epoch 36/50, Val Loss: 0.4981, Accuracy: 76.85%\n",
      "Epoch 37/50, Val Loss: 0.5006, Accuracy: 77.01%\n",
      "Epoch 38/50, Val Loss: 0.5010, Accuracy: 77.01%\n",
      "Epoch 39/50, Val Loss: 0.4982, Accuracy: 76.85%\n",
      "Epoch 40/50, Val Loss: 0.4964, Accuracy: 77.01%\n",
      "Epoch 41/50, Val Loss: 0.4971, Accuracy: 77.01%\n",
      "Epoch 42/50, Val Loss: 0.4993, Accuracy: 76.85%\n",
      "Epoch 43/50, Val Loss: 0.4981, Accuracy: 77.01%\n",
      "Epoch 44/50, Val Loss: 0.4970, Accuracy: 77.01%\n",
      "Epoch 45/50, Val Loss: 0.4989, Accuracy: 76.85%\n",
      "Epoch 46/50, Val Loss: 0.4980, Accuracy: 77.01%\n",
      "Epoch 47/50, Val Loss: 0.4985, Accuracy: 77.01%\n",
      "Epoch 48/50, Val Loss: 0.4971, Accuracy: 77.01%\n",
      "Epoch 49/50, Val Loss: 0.4988, Accuracy: 77.01%\n",
      "Epoch 50/50, Val Loss: 0.4967, Accuracy: 76.85%\n"
     ]
    }
   ],
   "source": [
    "from torch.utils.data import DataLoader, TensorDataset\n",
    "\n",
    "# Initialize the classifier\n",
    "classifier = NetClassifier()\n",
    "\n",
    "# Define the loss function and optimizer\n",
    "criterion = nn.BCELoss()\n",
    "optimizer = optim.Adam(classifier.parameters(), lr=0.001)\n",
    "\n",
    "# Define the number of epochs and batch size\n",
    "epochs = 50\n",
    "batch_size = 32\n",
    "\n",
    "# Split the data into training and validation sets\n",
    "dataset = TensorDataset(X, y)\n",
    "train_size = int(0.8 * len(dataset))\n",
    "train_dataset, val_dataset = torch.utils.data.random_split(dataset, [train_size, len(dataset) - train_size])\n",
    "\n",
    "# Create data loaders\n",
    "train_loader = DataLoader(train_dataset, batch_size=batch_size, shuffle=True)\n",
    "val_loader = DataLoader(val_dataset, batch_size=batch_size)\n",
    "\n",
    "# Training loop\n",
    "for epoch in range(epochs):\n",
    "    classifier.train()\n",
    "    for batch_x, batch_y in train_loader:\n",
    "        optimizer.zero_grad()\n",
    "        prob = classifier(*batch_x.T)\n",
    "        loss = criterion(prob.view(-1), batch_y)\n",
    "        loss.backward()\n",
    "        optimizer.step()\n",
    "\n",
    "    # Validation\n",
    "    classifier.eval()\n",
    "    val_loss = 0\n",
    "    correct = 0\n",
    "    with torch.no_grad():\n",
    "        for batch_x, batch_y in val_loader:\n",
    "            prob = classifier(*batch_x.T)\n",
    "            val_loss += criterion(prob.view(-1), batch_y).item()\n",
    "            predicted = (prob >= 0.5).float()\n",
    "            correct += predicted.eq(batch_y.view_as(predicted)).sum().item()\n",
    "\n",
    "    val_loss /= len(val_loader)\n",
    "    accuracy = 100. * correct / len(val_dataset)\n",
    "    print(f'Epoch {epoch + 1}/{epochs}, Val Loss: {val_loss:.4f}, Accuracy: {accuracy:.2f}%')"
   ]
  }
 ],
 "metadata": {
  "kernelspec": {
   "display_name": "Python 3",
   "language": "python",
   "name": "python3"
  },
  "language_info": {
   "codemirror_mode": {
    "name": "ipython",
    "version": 3
   },
   "file_extension": ".py",
   "mimetype": "text/x-python",
   "name": "python",
   "nbconvert_exporter": "python",
   "pygments_lexer": "ipython3",
   "version": "3.10.6"
  },
  "orig_nbformat": 4
 },
 "nbformat": 4,
 "nbformat_minor": 2
}
