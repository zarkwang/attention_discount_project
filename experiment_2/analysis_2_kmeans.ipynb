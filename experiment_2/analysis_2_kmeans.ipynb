{
 "cells": [
  {
   "cell_type": "code",
   "execution_count": 16,
   "metadata": {},
   "outputs": [],
   "source": [
    "%reload_ext autoreload\n",
    "%autoreload 2\n",
    "\n",
    "import json\n",
    "import pickle\n",
    "import pandas as pd\n",
    "import numpy as np\n",
    "import matplotlib.pyplot as plt\n",
    "import matplotlib as mpl\n",
    "from scipy import stats\n",
    "from sklearn.cluster import KMeans\n",
    "import statsmodels.api as sm\n",
    "from lib import utils\n",
    "\n",
    "\n",
    "mpl.rcParams['font.family'] = 'times new roman'\n",
    "mpl.rcParams['font.size'] = 16"
   ]
  },
  {
   "cell_type": "code",
   "execution_count": 17,
   "metadata": {},
   "outputs": [],
   "source": [
    "df = pd.read_csv('valid_sequence_data.csv',index_col=0)"
   ]
  },
  {
   "cell_type": "code",
   "execution_count": 18,
   "metadata": {},
   "outputs": [
    {
     "name": "stdout",
     "output_type": "stream",
     "text": [
      "Number of participants in each cluster: [105  43   9]\n"
     ]
    },
    {
     "name": "stderr",
     "output_type": "stream",
     "text": [
      "c:\\users\\PHD19ZW1\\Appdata\\Roaming\\Python\\Python38\\site-packages\\sklearn\\cluster\\_kmeans.py:1416: FutureWarning: The default value of `n_init` will change from 10 to 'auto' in 1.4. Set the value of `n_init` explicitly to suppress the warning\n",
      "  super()._check_params_vs_input(X, default_n_init=10)\n"
     ]
    }
   ],
   "source": [
    "# If data is clustered to three groups, one of these groups only has 9 subjects\n",
    "# This explains why we only cluster subjects to two groups \n",
    "df_time_pivot_2 = df.pivot(index='worker_id', columns='reward', values='value_surplus')\n",
    "kmeans = KMeans(n_clusters=3,random_state=42)\n",
    "kmeans.fit(df_time_pivot_2.values)\n",
    "print('Number of participants in each cluster:',np.bincount(kmeans.labels_))"
   ]
  },
  {
   "cell_type": "code",
   "execution_count": 19,
   "metadata": {},
   "outputs": [
    {
     "name": "stdout",
     "output_type": "stream",
     "text": [
      "SignificanceResult(statistic=-0.043245998593847375, pvalue=0.04263276342226129)\n",
      "SignificanceResult(statistic=-0.17557494143900643, pvalue=1.189944758721708e-06)\n",
      "SignificanceResult(statistic=-0.016437572770570754, pvalue=0.5328273275241426)\n"
     ]
    }
   ],
   "source": [
    "# Spearman rank-order correlation\n",
    "# the entire sample\n",
    "print(stats.spearmanr(df['value_surplus'],df['front_amount']))\n",
    "\n",
    "# cluster 1\n",
    "print(stats.spearmanr(df[df['label_kmeans'] == 0]['value_surplus'],\n",
    "                df[df['label_kmeans'] == 0]['front_amount']))\n",
    "\n",
    "# cluster 2\n",
    "print(stats.spearmanr(df[df['label_kmeans'] == 1]['value_surplus'],\n",
    "                    df[df['label_kmeans'] == 1]['front_amount']))"
   ]
  },
  {
   "cell_type": "code",
   "execution_count": 20,
   "metadata": {},
   "outputs": [
    {
     "name": "stdout",
     "output_type": "stream",
     "text": [
      "Number of outliers (lower and upper): [4, 8]\n"
     ]
    }
   ],
   "source": [
    "df['front_amount_6m'] = df['front_amount'] * (df['seq_length'] == '6 months')\n",
    "df['front_amount_12m'] = df['front_amount'] * (df['seq_length'] == '12 months')\n",
    "df['front_amount_6m_0'] = df['front_amount_6m']  * (df['label_kmeans'] == 0)\n",
    "df['front_amount_6m_1'] = df['front_amount_6m']  * (df['label_kmeans'] == 1)\n",
    "df['front_amount_12m_0'] = df['front_amount_12m']  * (df['label_kmeans'] == 0)\n",
    "df['front_amount_12m_1'] = df['front_amount_12m']  * (df['label_kmeans'] == 1)\n",
    "\n",
    "\n",
    "df_dummy = pd.concat([df,pd.get_dummies(df['worker_id'], prefix='worker_id')],axis=1)\n",
    "df_filtered = utils.rule_out_outlier(df_dummy,col_name='value_surplus')\n",
    "\n",
    "reg_cols_baseline = ['front_amount_6m','front_amount_12m','choice_peli']\n",
    "reg_cols_label = ['front_amount_6m_0','front_amount_12m_0','front_amount_6m_1','front_amount_12m_1','choice_peli']\n",
    "reg_cols_dummy = reg_cols_baseline + [col for col in df_dummy.columns if col.startswith('worker_id_')]\n",
    "reg_cols_dummy_2 = reg_cols_label + [col for col in df_dummy.columns if col.startswith('worker_id_')]\n",
    "\n",
    "\n",
    "formula_pool_1 = 'value_surplus ~ front_amount_6m + front_amount_12m + choice_peli'\n",
    "model_ols_pool_1 = sm.OLS.from_formula(formula_pool_1,data=df_filtered).fit(\n",
    "                                        cov_type='cluster',cov_kwds={'groups': df_filtered['worker_id']})"
   ]
  },
  {
   "cell_type": "code",
   "execution_count": 21,
   "metadata": {},
   "outputs": [],
   "source": [
    "formula_pool_2 = 'value_surplus ~ front_amount_6m_0 + front_amount_12m_0 + front_amount_6m_1 + front_amount_12m_1 + choice_peli'\n",
    "model_ols_pool_2 = sm.OLS.from_formula(formula_pool_2,data=df_filtered).fit(\n",
    "                                        cov_type='cluster',cov_kwds={'groups': df_filtered['worker_id']})"
   ]
  },
  {
   "cell_type": "code",
   "execution_count": 22,
   "metadata": {},
   "outputs": [
    {
     "data": {
      "text/html": [
       "<div>\n",
       "<style scoped>\n",
       "    .dataframe tbody tr th:only-of-type {\n",
       "        vertical-align: middle;\n",
       "    }\n",
       "\n",
       "    .dataframe tbody tr th {\n",
       "        vertical-align: top;\n",
       "    }\n",
       "\n",
       "    .dataframe thead th {\n",
       "        text-align: right;\n",
       "    }\n",
       "</style>\n",
       "<table border=\"1\" class=\"dataframe\">\n",
       "  <thead>\n",
       "    <tr style=\"text-align: right;\">\n",
       "      <th></th>\n",
       "      <th>coef</th>\n",
       "      <th>pvalues</th>\n",
       "      <th>ci_lower</th>\n",
       "      <th>ci_upper</th>\n",
       "    </tr>\n",
       "  </thead>\n",
       "  <tbody>\n",
       "    <tr>\n",
       "      <th>front_amount_6m</th>\n",
       "      <td>-0.005040</td>\n",
       "      <td>0.014359</td>\n",
       "      <td>-0.009075</td>\n",
       "      <td>-0.001005</td>\n",
       "    </tr>\n",
       "    <tr>\n",
       "      <th>front_amount_12m</th>\n",
       "      <td>-0.005306</td>\n",
       "      <td>0.009632</td>\n",
       "      <td>-0.009324</td>\n",
       "      <td>-0.001289</td>\n",
       "    </tr>\n",
       "    <tr>\n",
       "      <th>choice_peli</th>\n",
       "      <td>9.186859</td>\n",
       "      <td>0.000000</td>\n",
       "      <td>9.158254</td>\n",
       "      <td>9.215465</td>\n",
       "    </tr>\n",
       "  </tbody>\n",
       "</table>\n",
       "</div>"
      ],
      "text/plain": [
       "                      coef   pvalues  ci_lower  ci_upper\n",
       "front_amount_6m  -0.005040  0.014359 -0.009075 -0.001005\n",
       "front_amount_12m -0.005306  0.009632 -0.009324 -0.001289\n",
       "choice_peli       9.186859  0.000000  9.158254  9.215465"
      ]
     },
     "execution_count": 22,
     "metadata": {},
     "output_type": "execute_result"
    }
   ],
   "source": [
    "formula_fe = formula_pool_1 + '+C(worker_id)'\n",
    "model_ols_fe = sm.OLS.from_formula(formula_fe,data=df_filtered).fit(\n",
    "                                        cov_type='cluster',cov_kwds={'groups': df_filtered['worker_id']})\n",
    "\n",
    "pd.concat([model_ols_fe.params[reg_cols_baseline].rename('coef'),\n",
    "           model_ols_fe.pvalues[reg_cols_baseline].rename('pvalues'),\n",
    "           model_ols_fe.conf_int().loc[reg_cols_baseline].rename(columns={0:'ci_lower',1:'ci_upper'})],\n",
    "           axis=1)"
   ]
  },
  {
   "cell_type": "code",
   "execution_count": 23,
   "metadata": {},
   "outputs": [
    {
     "data": {
      "text/html": [
       "<div>\n",
       "<style scoped>\n",
       "    .dataframe tbody tr th:only-of-type {\n",
       "        vertical-align: middle;\n",
       "    }\n",
       "\n",
       "    .dataframe tbody tr th {\n",
       "        vertical-align: top;\n",
       "    }\n",
       "\n",
       "    .dataframe thead th {\n",
       "        text-align: right;\n",
       "    }\n",
       "</style>\n",
       "<table border=\"1\" class=\"dataframe\">\n",
       "  <thead>\n",
       "    <tr style=\"text-align: right;\">\n",
       "      <th></th>\n",
       "      <th>coef</th>\n",
       "      <th>pvalues</th>\n",
       "      <th>ci_lower</th>\n",
       "      <th>ci_upper</th>\n",
       "    </tr>\n",
       "  </thead>\n",
       "  <tbody>\n",
       "    <tr>\n",
       "      <th>front_amount_6m_0</th>\n",
       "      <td>-0.018557</td>\n",
       "      <td>1.090818e-05</td>\n",
       "      <td>-0.026827</td>\n",
       "      <td>-0.010288</td>\n",
       "    </tr>\n",
       "    <tr>\n",
       "      <th>front_amount_12m_0</th>\n",
       "      <td>-0.020008</td>\n",
       "      <td>7.519102e-07</td>\n",
       "      <td>-0.027934</td>\n",
       "      <td>-0.012082</td>\n",
       "    </tr>\n",
       "    <tr>\n",
       "      <th>front_amount_6m_1</th>\n",
       "      <td>0.002069</td>\n",
       "      <td>2.614515e-01</td>\n",
       "      <td>-0.001542</td>\n",
       "      <td>0.005681</td>\n",
       "    </tr>\n",
       "    <tr>\n",
       "      <th>front_amount_12m_1</th>\n",
       "      <td>0.002432</td>\n",
       "      <td>1.914368e-01</td>\n",
       "      <td>-0.001217</td>\n",
       "      <td>0.006082</td>\n",
       "    </tr>\n",
       "    <tr>\n",
       "      <th>choice_peli</th>\n",
       "      <td>7.278428</td>\n",
       "      <td>1.284148e-91</td>\n",
       "      <td>6.575698</td>\n",
       "      <td>7.981157</td>\n",
       "    </tr>\n",
       "  </tbody>\n",
       "</table>\n",
       "</div>"
      ],
      "text/plain": [
       "                        coef       pvalues  ci_lower  ci_upper\n",
       "front_amount_6m_0  -0.018557  1.090818e-05 -0.026827 -0.010288\n",
       "front_amount_12m_0 -0.020008  7.519102e-07 -0.027934 -0.012082\n",
       "front_amount_6m_1   0.002069  2.614515e-01 -0.001542  0.005681\n",
       "front_amount_12m_1  0.002432  1.914368e-01 -0.001217  0.006082\n",
       "choice_peli         7.278428  1.284148e-91  6.575698  7.981157"
      ]
     },
     "execution_count": 23,
     "metadata": {},
     "output_type": "execute_result"
    }
   ],
   "source": [
    "formula_fe_2 = formula_pool_2 + '+C(worker_id)'\n",
    "model_ols_fe_2 = sm.OLS.from_formula(formula_fe_2,data=df_filtered).fit(\n",
    "                                        cov_type='cluster',cov_kwds={'groups': df_filtered['worker_id']})\n",
    "\n",
    "pd.concat([model_ols_fe_2.params[reg_cols_label].rename('coef'),\n",
    "           model_ols_fe_2.pvalues[reg_cols_label].rename('pvalues'),\n",
    "           model_ols_fe_2.conf_int().loc[reg_cols_label].rename(columns={0:'ci_lower',1:'ci_upper'})],\n",
    "           axis=1)"
   ]
  },
  {
   "cell_type": "code",
   "execution_count": 24,
   "metadata": {},
   "outputs": [
    {
     "data": {
      "text/html": [
       "<table class=\"simpletable\">\n",
       "<caption>Robust linear Model Regression Results</caption>\n",
       "<tr>\n",
       "  <th>Dep. Variable:</th>                             <td>value_surplus</td>                           <th>  No. Observations:  </th> <td>  2198</td>\n",
       "</tr>\n",
       "<tr>\n",
       "  <th>Model:</th>                                          <td>RLM</td>                                <th>  Df Residuals:      </th> <td>  2194</td>\n",
       "</tr>\n",
       "<tr>\n",
       "  <th>Method:</th>                                        <td>IRLS</td>                                <th>  Df Model:          </th> <td>     3</td>\n",
       "</tr>\n",
       "<tr>\n",
       "  <th>Norm:</th>                                         <td>HuberT</td>                               <th>                     </th>    <td> </td>  \n",
       "</tr>\n",
       "<tr>\n",
       "  <th>Scale Est.:</th>     <td><statsmodels.robust.scale.HuberScale object at 0x000001CD092C0820></td> <th>                     </th>    <td> </td>  \n",
       "</tr>\n",
       "<tr>\n",
       "  <th>Cov Type:</th>                                       <td>H2</td>                                 <th>                     </th>    <td> </td>  \n",
       "</tr>\n",
       "<tr>\n",
       "  <th>Date:</th>                                    <td>Mon, 05 Feb 2024</td>                          <th>                     </th>    <td> </td>  \n",
       "</tr>\n",
       "<tr>\n",
       "  <th>Time:</th>                                        <td>15:41:39</td>                              <th>                     </th>    <td> </td>  \n",
       "</tr>\n",
       "<tr>\n",
       "  <th>No. Iterations:</th>                                 <td>12</td>                                 <th>                     </th>    <td> </td>  \n",
       "</tr>\n",
       "</table>\n",
       "<table class=\"simpletable\">\n",
       "<tr>\n",
       "          <td></td>            <th>coef</th>     <th>std err</th>      <th>z</th>      <th>P>|z|</th>  <th>[0.025</th>    <th>0.975]</th>  \n",
       "</tr>\n",
       "<tr>\n",
       "  <th>const</th>            <td>   55.0002</td> <td>    0.987</td> <td>   55.735</td> <td> 0.000</td> <td>   53.066</td> <td>   56.934</td>\n",
       "</tr>\n",
       "<tr>\n",
       "  <th>front_amount_6m</th>  <td>   -0.0048</td> <td>    0.002</td> <td>   -1.938</td> <td> 0.053</td> <td>   -0.010</td> <td> 5.55e-05</td>\n",
       "</tr>\n",
       "<tr>\n",
       "  <th>front_amount_12m</th> <td>   -0.0060</td> <td>    0.003</td> <td>   -2.396</td> <td> 0.017</td> <td>   -0.011</td> <td>   -0.001</td>\n",
       "</tr>\n",
       "<tr>\n",
       "  <th>choice_peli</th>      <td>   -0.8484</td> <td>    0.891</td> <td>   -0.952</td> <td> 0.341</td> <td>   -2.595</td> <td>    0.898</td>\n",
       "</tr>\n",
       "</table><br/><br/>If the model instance has been used for another fit with different fit parameters, then the fit options might not be the correct ones anymore ."
      ],
      "text/latex": [
       "\\begin{center}\n",
       "\\begin{tabular}{lclc}\n",
       "\\toprule\n",
       "\\textbf{Dep. Variable:}     &                            value\\_surplus                            & \\textbf{  No. Observations:  } &     2198    \\\\\n",
       "\\textbf{Model:}             &                                 RLM                                  & \\textbf{  Df Residuals:      } &     2194    \\\\\n",
       "\\textbf{Method:}            &                                 IRLS                                 & \\textbf{  Df Model:          } &        3    \\\\\n",
       "\\textbf{Norm:}              &                                HuberT                                & \\textbf{                     } &             \\\\\n",
       "\\textbf{Scale Est.:}        & <statsmodels.robust.scale.HuberScale object at 0x000001CD092C6310$>$ & \\textbf{                     } &             \\\\\n",
       "\\textbf{Cov Type:}          &                                  H2                                  & \\textbf{                     } &             \\\\\n",
       "\\textbf{Date:}              &                           Mon, 05 Feb 2024                           & \\textbf{                     } &             \\\\\n",
       "\\textbf{Time:}              &                               15:41:39                               & \\textbf{                     } &             \\\\\n",
       "\\textbf{No. Iterations:}    &                                  12                                  & \\textbf{                     } &             \\\\\n",
       "\\bottomrule\n",
       "\\end{tabular}\n",
       "\\begin{tabular}{lcccccc}\n",
       "                            & \\textbf{coef} & \\textbf{std err} & \\textbf{z} & \\textbf{P$> |$z$|$} & \\textbf{[0.025} & \\textbf{0.975]}  \\\\\n",
       "\\midrule\n",
       "\\textbf{const}              &      55.0002  &        0.987     &    55.735  &         0.000        &       53.066    &       56.934     \\\\\n",
       "\\textbf{front\\_amount\\_6m}  &      -0.0048  &        0.002     &    -1.938  &         0.053        &       -0.010    &     5.55e-05     \\\\\n",
       "\\textbf{front\\_amount\\_12m} &      -0.0060  &        0.003     &    -2.396  &         0.017        &       -0.011    &       -0.001     \\\\\n",
       "\\textbf{choice\\_peli}       &      -0.8484  &        0.891     &    -0.952  &         0.341        &       -2.595    &        0.898     \\\\\n",
       "\\bottomrule\n",
       "\\end{tabular}\n",
       "%\\caption{Robust linear Model Regression Results}\n",
       "\\end{center}\n",
       "\n",
       "If the model instance has been used for another fit with different fit parameters, then the fit options might not be the correct ones anymore ."
      ],
      "text/plain": [
       "<class 'statsmodels.iolib.summary.Summary'>\n",
       "\"\"\"\n",
       "                                            Robust linear Model Regression Results                                            \n",
       "==============================================================================================================================\n",
       "Dep. Variable:                                                          value_surplus   No. Observations:                 2198\n",
       "Model:                                                                            RLM   Df Residuals:                     2194\n",
       "Method:                                                                          IRLS   Df Model:                            3\n",
       "Norm:                                                                          HuberT                                         \n",
       "Scale Est.:        <statsmodels.robust.scale.HuberScale object at 0x000001CD092C0820>                                         \n",
       "Cov Type:                                                                          H2                                         \n",
       "Date:                                                                Mon, 05 Feb 2024                                         \n",
       "Time:                                                                        15:41:39                                         \n",
       "No. Iterations:                                                                    12                                         \n",
       "====================================================================================\n",
       "                       coef    std err          z      P>|z|      [0.025      0.975]\n",
       "------------------------------------------------------------------------------------\n",
       "const               55.0002      0.987     55.735      0.000      53.066      56.934\n",
       "front_amount_6m     -0.0048      0.002     -1.938      0.053      -0.010    5.55e-05\n",
       "front_amount_12m    -0.0060      0.003     -2.396      0.017      -0.011      -0.001\n",
       "choice_peli         -0.8484      0.891     -0.952      0.341      -2.595       0.898\n",
       "====================================================================================\n",
       "\n",
       "If the model instance has been used for another fit with different fit parameters, then the fit options might not be the correct ones anymore .\n",
       "\"\"\""
      ]
     },
     "execution_count": 24,
     "metadata": {},
     "output_type": "execute_result"
    }
   ],
   "source": [
    "y = df['value_surplus']\n",
    "X = sm.add_constant(df[reg_cols_baseline]).astype(float)\n",
    "model_rlm_pool_1 = sm.RLM(endog=y,exog=X,M=sm.robust.norms.HuberT()).fit(maxiter=200,scale_est=sm.robust.scale.HuberScale(),cov='H2')\n",
    "model_rlm_pool_1.summary()"
   ]
  },
  {
   "cell_type": "code",
   "execution_count": 25,
   "metadata": {},
   "outputs": [
    {
     "data": {
      "text/html": [
       "<table class=\"simpletable\">\n",
       "<caption>Robust linear Model Regression Results</caption>\n",
       "<tr>\n",
       "  <th>Dep. Variable:</th>                             <td>value_surplus</td>                           <th>  No. Observations:  </th> <td>  2198</td>\n",
       "</tr>\n",
       "<tr>\n",
       "  <th>Model:</th>                                          <td>RLM</td>                                <th>  Df Residuals:      </th> <td>  2192</td>\n",
       "</tr>\n",
       "<tr>\n",
       "  <th>Method:</th>                                        <td>IRLS</td>                                <th>  Df Model:          </th> <td>     5</td>\n",
       "</tr>\n",
       "<tr>\n",
       "  <th>Norm:</th>                                         <td>HuberT</td>                               <th>                     </th>    <td> </td>  \n",
       "</tr>\n",
       "<tr>\n",
       "  <th>Scale Est.:</th>     <td><statsmodels.robust.scale.HuberScale object at 0x000001CD04E4FE20></td> <th>                     </th>    <td> </td>  \n",
       "</tr>\n",
       "<tr>\n",
       "  <th>Cov Type:</th>                                       <td>H2</td>                                 <th>                     </th>    <td> </td>  \n",
       "</tr>\n",
       "<tr>\n",
       "  <th>Date:</th>                                    <td>Mon, 05 Feb 2024</td>                          <th>                     </th>    <td> </td>  \n",
       "</tr>\n",
       "<tr>\n",
       "  <th>Time:</th>                                        <td>15:41:39</td>                              <th>                     </th>    <td> </td>  \n",
       "</tr>\n",
       "<tr>\n",
       "  <th>No. Iterations:</th>                                 <td>20</td>                                 <th>                     </th>    <td> </td>  \n",
       "</tr>\n",
       "</table>\n",
       "<table class=\"simpletable\">\n",
       "<tr>\n",
       "           <td></td>             <th>coef</th>     <th>std err</th>      <th>z</th>      <th>P>|z|</th>  <th>[0.025</th>    <th>0.975]</th>  \n",
       "</tr>\n",
       "<tr>\n",
       "  <th>const</th>              <td>   55.5403</td> <td>    0.760</td> <td>   73.076</td> <td> 0.000</td> <td>   54.051</td> <td>   57.030</td>\n",
       "</tr>\n",
       "<tr>\n",
       "  <th>front_amount_6m_0</th>  <td>   -0.0590</td> <td>    0.003</td> <td>  -19.339</td> <td> 0.000</td> <td>   -0.065</td> <td>   -0.053</td>\n",
       "</tr>\n",
       "<tr>\n",
       "  <th>front_amount_12m_0</th> <td>   -0.0643</td> <td>    0.003</td> <td>  -21.967</td> <td> 0.000</td> <td>   -0.070</td> <td>   -0.059</td>\n",
       "</tr>\n",
       "<tr>\n",
       "  <th>front_amount_6m_1</th>  <td>    0.0155</td> <td>    0.002</td> <td>    7.603</td> <td> 0.000</td> <td>    0.011</td> <td>    0.019</td>\n",
       "</tr>\n",
       "<tr>\n",
       "  <th>front_amount_12m_1</th> <td>    0.0152</td> <td>    0.002</td> <td>    7.457</td> <td> 0.000</td> <td>    0.011</td> <td>    0.019</td>\n",
       "</tr>\n",
       "<tr>\n",
       "  <th>choice_peli</th>        <td>   -0.6821</td> <td>    0.677</td> <td>   -1.007</td> <td> 0.314</td> <td>   -2.010</td> <td>    0.645</td>\n",
       "</tr>\n",
       "</table><br/><br/>If the model instance has been used for another fit with different fit parameters, then the fit options might not be the correct ones anymore ."
      ],
      "text/latex": [
       "\\begin{center}\n",
       "\\begin{tabular}{lclc}\n",
       "\\toprule\n",
       "\\textbf{Dep. Variable:}        &                            value\\_surplus                            & \\textbf{  No. Observations:  } &     2198    \\\\\n",
       "\\textbf{Model:}                &                                 RLM                                  & \\textbf{  Df Residuals:      } &     2192    \\\\\n",
       "\\textbf{Method:}               &                                 IRLS                                 & \\textbf{  Df Model:          } &        5    \\\\\n",
       "\\textbf{Norm:}                 &                                HuberT                                & \\textbf{                     } &             \\\\\n",
       "\\textbf{Scale Est.:}           & <statsmodels.robust.scale.HuberScale object at 0x000001CD0B0EA4C0$>$ & \\textbf{                     } &             \\\\\n",
       "\\textbf{Cov Type:}             &                                  H2                                  & \\textbf{                     } &             \\\\\n",
       "\\textbf{Date:}                 &                           Mon, 05 Feb 2024                           & \\textbf{                     } &             \\\\\n",
       "\\textbf{Time:}                 &                               15:41:39                               & \\textbf{                     } &             \\\\\n",
       "\\textbf{No. Iterations:}       &                                  20                                  & \\textbf{                     } &             \\\\\n",
       "\\bottomrule\n",
       "\\end{tabular}\n",
       "\\begin{tabular}{lcccccc}\n",
       "                               & \\textbf{coef} & \\textbf{std err} & \\textbf{z} & \\textbf{P$> |$z$|$} & \\textbf{[0.025} & \\textbf{0.975]}  \\\\\n",
       "\\midrule\n",
       "\\textbf{const}                 &      55.5403  &        0.760     &    73.076  &         0.000        &       54.051    &       57.030     \\\\\n",
       "\\textbf{front\\_amount\\_6m\\_0}  &      -0.0590  &        0.003     &   -19.339  &         0.000        &       -0.065    &       -0.053     \\\\\n",
       "\\textbf{front\\_amount\\_12m\\_0} &      -0.0643  &        0.003     &   -21.967  &         0.000        &       -0.070    &       -0.059     \\\\\n",
       "\\textbf{front\\_amount\\_6m\\_1}  &       0.0155  &        0.002     &     7.603  &         0.000        &        0.011    &        0.019     \\\\\n",
       "\\textbf{front\\_amount\\_12m\\_1} &       0.0152  &        0.002     &     7.457  &         0.000        &        0.011    &        0.019     \\\\\n",
       "\\textbf{choice\\_peli}          &      -0.6821  &        0.677     &    -1.007  &         0.314        &       -2.010    &        0.645     \\\\\n",
       "\\bottomrule\n",
       "\\end{tabular}\n",
       "%\\caption{Robust linear Model Regression Results}\n",
       "\\end{center}\n",
       "\n",
       "If the model instance has been used for another fit with different fit parameters, then the fit options might not be the correct ones anymore ."
      ],
      "text/plain": [
       "<class 'statsmodels.iolib.summary.Summary'>\n",
       "\"\"\"\n",
       "                                            Robust linear Model Regression Results                                            \n",
       "==============================================================================================================================\n",
       "Dep. Variable:                                                          value_surplus   No. Observations:                 2198\n",
       "Model:                                                                            RLM   Df Residuals:                     2192\n",
       "Method:                                                                          IRLS   Df Model:                            5\n",
       "Norm:                                                                          HuberT                                         \n",
       "Scale Est.:        <statsmodels.robust.scale.HuberScale object at 0x000001CD04E4FE20>                                         \n",
       "Cov Type:                                                                          H2                                         \n",
       "Date:                                                                Mon, 05 Feb 2024                                         \n",
       "Time:                                                                        15:41:39                                         \n",
       "No. Iterations:                                                                    20                                         \n",
       "======================================================================================\n",
       "                         coef    std err          z      P>|z|      [0.025      0.975]\n",
       "--------------------------------------------------------------------------------------\n",
       "const                 55.5403      0.760     73.076      0.000      54.051      57.030\n",
       "front_amount_6m_0     -0.0590      0.003    -19.339      0.000      -0.065      -0.053\n",
       "front_amount_12m_0    -0.0643      0.003    -21.967      0.000      -0.070      -0.059\n",
       "front_amount_6m_1      0.0155      0.002      7.603      0.000       0.011       0.019\n",
       "front_amount_12m_1     0.0152      0.002      7.457      0.000       0.011       0.019\n",
       "choice_peli           -0.6821      0.677     -1.007      0.314      -2.010       0.645\n",
       "======================================================================================\n",
       "\n",
       "If the model instance has been used for another fit with different fit parameters, then the fit options might not be the correct ones anymore .\n",
       "\"\"\""
      ]
     },
     "execution_count": 25,
     "metadata": {},
     "output_type": "execute_result"
    }
   ],
   "source": [
    "y = df['value_surplus']\n",
    "X = sm.add_constant(df[reg_cols_label]).astype(float)\n",
    "model_rlm_pool_2 = sm.RLM(endog=y,exog=X,M=sm.robust.norms.HuberT()).fit(maxiter=200,scale_est=sm.robust.scale.HuberScale(),cov='H2')\n",
    "model_rlm_pool_2.summary()"
   ]
  },
  {
   "cell_type": "code",
   "execution_count": 26,
   "metadata": {},
   "outputs": [
    {
     "data": {
      "text/html": [
       "<div>\n",
       "<style scoped>\n",
       "    .dataframe tbody tr th:only-of-type {\n",
       "        vertical-align: middle;\n",
       "    }\n",
       "\n",
       "    .dataframe tbody tr th {\n",
       "        vertical-align: top;\n",
       "    }\n",
       "\n",
       "    .dataframe thead th {\n",
       "        text-align: right;\n",
       "    }\n",
       "</style>\n",
       "<table border=\"1\" class=\"dataframe\">\n",
       "  <thead>\n",
       "    <tr style=\"text-align: right;\">\n",
       "      <th></th>\n",
       "      <th>coef</th>\n",
       "      <th>pvalues</th>\n",
       "      <th>ci_lower</th>\n",
       "      <th>ci_upper</th>\n",
       "    </tr>\n",
       "  </thead>\n",
       "  <tbody>\n",
       "    <tr>\n",
       "      <th>front_amount_6m</th>\n",
       "      <td>-0.004768</td>\n",
       "      <td>1.299708e-06</td>\n",
       "      <td>-0.006699</td>\n",
       "      <td>-0.002837</td>\n",
       "    </tr>\n",
       "    <tr>\n",
       "      <th>front_amount_12m</th>\n",
       "      <td>-0.006412</td>\n",
       "      <td>9.138827e-11</td>\n",
       "      <td>-0.008351</td>\n",
       "      <td>-0.004473</td>\n",
       "    </tr>\n",
       "    <tr>\n",
       "      <th>choice_peli</th>\n",
       "      <td>2.181327</td>\n",
       "      <td>NaN</td>\n",
       "      <td>NaN</td>\n",
       "      <td>NaN</td>\n",
       "    </tr>\n",
       "  </tbody>\n",
       "</table>\n",
       "</div>"
      ],
      "text/plain": [
       "                      coef       pvalues  ci_lower  ci_upper\n",
       "front_amount_6m  -0.004768  1.299708e-06 -0.006699 -0.002837\n",
       "front_amount_12m -0.006412  9.138827e-11 -0.008351 -0.004473\n",
       "choice_peli       2.181327           NaN       NaN       NaN"
      ]
     },
     "execution_count": 26,
     "metadata": {},
     "output_type": "execute_result"
    }
   ],
   "source": [
    "y = df_dummy['value_surplus']\n",
    "X = sm.add_constant(df_dummy[reg_cols_dummy]).astype(float)\n",
    "model_rlm_fe = sm.RLM(endog=y,exog=X,M=sm.robust.norms.HuberT()).fit(maxiter=200,scale_est=sm.robust.scale.HuberScale(),cov='H2')\n",
    "\n",
    "pd.concat([model_rlm_fe.params[reg_cols_baseline].rename('coef'),\n",
    "           model_rlm_fe.pvalues[reg_cols_baseline].rename('pvalues'),\n",
    "           model_rlm_fe.conf_int().loc[reg_cols_baseline].rename(columns={0:'ci_lower',1:'ci_upper'})],\n",
    "           axis=1)"
   ]
  },
  {
   "cell_type": "code",
   "execution_count": 27,
   "metadata": {},
   "outputs": [
    {
     "data": {
      "text/html": [
       "<div>\n",
       "<style scoped>\n",
       "    .dataframe tbody tr th:only-of-type {\n",
       "        vertical-align: middle;\n",
       "    }\n",
       "\n",
       "    .dataframe tbody tr th {\n",
       "        vertical-align: top;\n",
       "    }\n",
       "\n",
       "    .dataframe thead th {\n",
       "        text-align: right;\n",
       "    }\n",
       "</style>\n",
       "<table border=\"1\" class=\"dataframe\">\n",
       "  <thead>\n",
       "    <tr style=\"text-align: right;\">\n",
       "      <th></th>\n",
       "      <th>coef</th>\n",
       "      <th>pvalues</th>\n",
       "      <th>ci_lower</th>\n",
       "      <th>ci_upper</th>\n",
       "    </tr>\n",
       "  </thead>\n",
       "  <tbody>\n",
       "    <tr>\n",
       "      <th>front_amount_6m_0</th>\n",
       "      <td>-0.016540</td>\n",
       "      <td>1.766165e-20</td>\n",
       "      <td>-0.020034</td>\n",
       "      <td>-0.013045</td>\n",
       "    </tr>\n",
       "    <tr>\n",
       "      <th>front_amount_12m_0</th>\n",
       "      <td>-0.021410</td>\n",
       "      <td>3.415874e-33</td>\n",
       "      <td>-0.024906</td>\n",
       "      <td>-0.017914</td>\n",
       "    </tr>\n",
       "    <tr>\n",
       "      <th>front_amount_6m_1</th>\n",
       "      <td>0.000059</td>\n",
       "      <td>9.587551e-01</td>\n",
       "      <td>-0.002165</td>\n",
       "      <td>0.002283</td>\n",
       "    </tr>\n",
       "    <tr>\n",
       "      <th>front_amount_12m_1</th>\n",
       "      <td>-0.000203</td>\n",
       "      <td>8.590688e-01</td>\n",
       "      <td>-0.002443</td>\n",
       "      <td>0.002037</td>\n",
       "    </tr>\n",
       "    <tr>\n",
       "      <th>choice_peli</th>\n",
       "      <td>2.279011</td>\n",
       "      <td>NaN</td>\n",
       "      <td>NaN</td>\n",
       "      <td>NaN</td>\n",
       "    </tr>\n",
       "  </tbody>\n",
       "</table>\n",
       "</div>"
      ],
      "text/plain": [
       "                        coef       pvalues  ci_lower  ci_upper\n",
       "front_amount_6m_0  -0.016540  1.766165e-20 -0.020034 -0.013045\n",
       "front_amount_12m_0 -0.021410  3.415874e-33 -0.024906 -0.017914\n",
       "front_amount_6m_1   0.000059  9.587551e-01 -0.002165  0.002283\n",
       "front_amount_12m_1 -0.000203  8.590688e-01 -0.002443  0.002037\n",
       "choice_peli         2.279011           NaN       NaN       NaN"
      ]
     },
     "execution_count": 27,
     "metadata": {},
     "output_type": "execute_result"
    }
   ],
   "source": [
    "y = df_dummy['value_surplus']\n",
    "X = sm.add_constant(df_dummy[reg_cols_dummy_2]).astype(float)\n",
    "model_rlm_fe_2 = sm.RLM(endog=y,exog=X,M=sm.robust.norms.HuberT()).fit(maxiter=200,scale_est=sm.robust.scale.HuberScale(),cov='H2')\n",
    "\n",
    "pd.concat([model_rlm_fe_2.params[reg_cols_label].rename('coef'),\n",
    "           model_rlm_fe_2.pvalues[reg_cols_label].rename('pvalues'),\n",
    "           model_rlm_fe_2.conf_int().loc[reg_cols_label].rename(columns={0:'ci_lower',1:'ci_upper'})],\n",
    "           axis=1)"
   ]
  },
  {
   "cell_type": "code",
   "execution_count": 28,
   "metadata": {},
   "outputs": [
    {
     "name": "stdout",
     "output_type": "stream",
     "text": [
      "NormaltestResult(statistic=1407.782552565554, pvalue=2.0132738404586662e-306)\n"
     ]
    },
    {
     "data": {
      "image/png": "[encoded data removed]",
      "text/plain": [
       "<Figure size 640x480 with 1 Axes>"
      ]
     },
     "metadata": {},
     "output_type": "display_data"
    }
   ],
   "source": [
    "pplot = sm.ProbPlot(model_rlm_fe_2.resid)\n",
    "fig = pplot.qqplot(line='s')\n",
    "plt.title('Q-Q plot')\n",
    "print(stats.normaltest(model_rlm_fe_2.resid))"
   ]
  },
  {
   "cell_type": "code",
   "execution_count": 29,
   "metadata": {},
   "outputs": [],
   "source": [
    "# save regression results\n",
    "model_results = {'ols_pool_baseline':utils.get_reg_result(model_ols_pool_1,reg_cols_baseline),\n",
    "                 'ols_pool_label':utils.get_reg_result(model_ols_pool_2,reg_cols_label),\n",
    "                 'ols_fe_baseline':utils.get_reg_result(model_ols_fe,reg_cols_baseline),\n",
    "                 'ols_fe_label':utils.get_reg_result(model_ols_fe_2,reg_cols_label),\n",
    "                 'rlm_pool_baseline':utils.get_reg_result(model_rlm_pool_1,reg_cols_baseline),\n",
    "                 'rlm_pool_label':utils.get_reg_result(model_rlm_pool_2,reg_cols_label),\n",
    "                 'rlm_fe_baseline':utils.get_reg_result(model_rlm_fe,reg_cols_baseline),\n",
    "                 'rlm_fe_label':utils.get_reg_result(model_rlm_fe_2,reg_cols_label)\n",
    "                 }\n",
    "\n",
    "with open('model_reg_result_k.json', \"w\") as f:\n",
    "    json.dump(model_results, f)"
   ]
  },
  {
   "cell_type": "code",
   "execution_count": 30,
   "metadata": {},
   "outputs": [
    {
     "name": "stderr",
     "output_type": "stream",
     "text": [
      "100%|██████████| 1000/1000 [00:22<00:00, 43.91it/s]\n"
     ]
    }
   ],
   "source": [
    "model_bootstrap = utils.bootstrap_model(df,model=model_rlm_pool_1,param_names=reg_cols_baseline,n_bootstrap=1000)\n",
    "model_bootstrap.bootstrap()\n",
    "with open('bootstrap_rlm_pool_baseline_k.pkl', 'wb') as file:\n",
    "    pickle.dump(model_bootstrap, file)"
   ]
  },
  {
   "cell_type": "code",
   "execution_count": 31,
   "metadata": {},
   "outputs": [
    {
     "name": "stderr",
     "output_type": "stream",
     "text": [
      "100%|██████████| 1000/1000 [00:26<00:00, 37.91it/s]\n"
     ]
    }
   ],
   "source": [
    "model_bootstrap = utils.bootstrap_model(df,model=model_rlm_pool_2,param_names=reg_cols_label,n_bootstrap=1000)\n",
    "model_bootstrap.bootstrap()\n",
    "with open('bootstrap_rlm_pool_label_k.pkl', 'wb') as file:\n",
    "    pickle.dump(model_bootstrap, file)"
   ]
  },
  {
   "cell_type": "code",
   "execution_count": 32,
   "metadata": {},
   "outputs": [
    {
     "name": "stderr",
     "output_type": "stream",
     "text": [
      "100%|██████████| 1000/1000 [32:15<00:00,  1.94s/it]\n"
     ]
    }
   ],
   "source": [
    "model_bootstrap = utils.bootstrap_model(df,model=model_rlm_fe,param_names=reg_cols_baseline,n_bootstrap=1000,fe=True)\n",
    "model_bootstrap.bootstrap()\n",
    "with open('bootstrap_rlm_fe_baseline_k.pkl', 'wb') as file:\n",
    "    pickle.dump(model_bootstrap, file)"
   ]
  },
  {
   "cell_type": "code",
   "execution_count": 33,
   "metadata": {},
   "outputs": [
    {
     "name": "stderr",
     "output_type": "stream",
     "text": [
      "100%|██████████| 1000/1000 [33:12<00:00,  1.99s/it]\n"
     ]
    }
   ],
   "source": [
    "model_bootstrap = utils.bootstrap_model(df,model=model_rlm_fe_2,param_names=reg_cols_label,n_bootstrap=1000,fe=True)\n",
    "model_bootstrap.bootstrap()\n",
    "with open('bootstrap_rlm_fe_label_k.pkl', 'wb') as file:\n",
    "    pickle.dump(model_bootstrap, file)"
   ]
  },
  {
   "cell_type": "code",
   "execution_count": null,
   "metadata": {},
   "outputs": [],
   "source": []
  }
 ],
 "metadata": {
  "kernelspec": {
   "display_name": "Python 3",
   "language": "python",
   "name": "python3"
  },
  "language_info": {
   "codemirror_mode": {
    "name": "ipython",
    "version": 3
   },
   "file_extension": ".py",
   "mimetype": "text/x-python",
   "name": "python",
   "nbconvert_exporter": "python",
   "pygments_lexer": "ipython3",
   "version": "3.8.6"
  }
 },
 "nbformat": 4,
 "nbformat_minor": 2
}
