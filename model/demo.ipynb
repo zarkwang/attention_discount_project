{
 "cells": [
  {
   "cell_type": "code",
   "execution_count": 1,
   "metadata": {},
   "outputs": [],
   "source": [
    "%reload_ext autoreload\n",
    "%autoreload 2\n",
    "import pandas as pd\n",
    "import numpy as np\n",
    "from scipy.optimize import minimize\n",
    "import mpl_utility_func \n",
    "import mpl_estimation"
   ]
  },
  {
   "cell_type": "code",
   "execution_count": 5,
   "metadata": {},
   "outputs": [
    {
     "data": {
      "text/plain": [
       "array([0.53687091])"
      ]
     },
     "execution_count": 5,
     "metadata": {},
     "output_type": "execute_result"
    }
   ],
   "source": [
    "#mpl_utility_func.mpl_v(0,10,params=np.array([1,.8,10]),dstyle='attention')\n",
    "#mpl_utility_func.mpl_v(0,10,args={'rra':1,'k':2},dstyle='hb')\n",
    "mpl_utility_func.mpl_v(10,10,params={'rra':1,'beta':.5,'delta':.8},dstyle='quasihb')\n",
    "#mpl_utility_func.mpl_v(0,10,args={'rra':1,'k':1,'a':1},dstyle='lp')\n",
    "#mpl_utility_func.mpl_v(0,10,args={'rra':1,'k':1,'b':1},dstyle='bbs')\n",
    "#mpl_utility_func.mpl_v(10,10,params={'rra':1,'beta':2},dstyle='gb')"
   ]
  },
  {
   "cell_type": "code",
   "execution_count": 6,
   "metadata": {},
   "outputs": [],
   "source": [
    "chavez_dt = pd.read_csv('data/chavez_data.csv')\n",
    "\n",
    "# Kirby's questionnaire\n",
    "pregunta = np.array([54,0,55,117,55,0,75,61,19,0,25,53,31,0,85,7,\n",
    "                     14,0,25,19,47,0,50,160,15,0,35,13,25,0,60,14,\n",
    "                     78,0,80,162,40,0,55,62,11,0,30,7,67,0,75,119,\n",
    "                     34,0,35,186,27,0,50,21,69,0,85,91,49,0,60,89,\n",
    "                     80,0,85,157,24,0,35,29,33,0,80,14,28,0,30,179,\n",
    "                     34,0,50,30,25,0,30,80,41,0,75,20,54,0,60,111,\n",
    "                     54,0,80,30,22,0,25,136,20,0,55,7]).reshape(27, 4)\n",
    "\n",
    "condition_col = np.array(['DT'+str(i) for i in range(1, 28)]).reshape(-1,1)\n",
    "pregunta = np.hstack((condition_col,pregunta))\n",
    "pregunta = pd.DataFrame(pregunta)\n",
    "condition_col_name = ['ss_amount','ss_delay','ll_amount','ll_delay']\n",
    "pregunta.columns = ['condition'] + condition_col_name\n",
    "\n",
    "# object containing participants' choices: '0' is choice of SS, '1' is choice of 'LL'\n",
    "chavez_dt = pd.melt(chavez_dt, id_vars=['ID','School'], var_name='condition', value_name='choice')\n",
    "chavez_dt = pd.merge(chavez_dt,pregunta,on='condition')\n",
    "chavez_dt[condition_col_name] = chavez_dt[condition_col_name].apply(pd.to_numeric)\n",
    "chavez_dt.columns = ['person_id','school','condition','choice'] + condition_col_name"
   ]
  },
  {
   "cell_type": "code",
   "execution_count": 7,
   "metadata": {},
   "outputs": [
    {
     "data": {
      "text/html": [
       "<div>\n",
       "<style scoped>\n",
       "    .dataframe tbody tr th:only-of-type {\n",
       "        vertical-align: middle;\n",
       "    }\n",
       "\n",
       "    .dataframe tbody tr th {\n",
       "        vertical-align: top;\n",
       "    }\n",
       "\n",
       "    .dataframe thead th {\n",
       "        text-align: right;\n",
       "    }\n",
       "</style>\n",
       "<table border=\"1\" class=\"dataframe\">\n",
       "  <thead>\n",
       "    <tr style=\"text-align: right;\">\n",
       "      <th></th>\n",
       "      <th>person_id</th>\n",
       "      <th>school</th>\n",
       "      <th>condition</th>\n",
       "      <th>choice</th>\n",
       "      <th>ss_amount</th>\n",
       "      <th>ss_delay</th>\n",
       "      <th>ll_amount</th>\n",
       "      <th>ll_delay</th>\n",
       "    </tr>\n",
       "  </thead>\n",
       "  <tbody>\n",
       "    <tr>\n",
       "      <th>0</th>\n",
       "      <td>1</td>\n",
       "      <td>1</td>\n",
       "      <td>DT1</td>\n",
       "      <td>0.0</td>\n",
       "      <td>54</td>\n",
       "      <td>0</td>\n",
       "      <td>55</td>\n",
       "      <td>117</td>\n",
       "    </tr>\n",
       "    <tr>\n",
       "      <th>1</th>\n",
       "      <td>2</td>\n",
       "      <td>1</td>\n",
       "      <td>DT1</td>\n",
       "      <td>0.0</td>\n",
       "      <td>54</td>\n",
       "      <td>0</td>\n",
       "      <td>55</td>\n",
       "      <td>117</td>\n",
       "    </tr>\n",
       "    <tr>\n",
       "      <th>2</th>\n",
       "      <td>3</td>\n",
       "      <td>1</td>\n",
       "      <td>DT1</td>\n",
       "      <td>0.0</td>\n",
       "      <td>54</td>\n",
       "      <td>0</td>\n",
       "      <td>55</td>\n",
       "      <td>117</td>\n",
       "    </tr>\n",
       "    <tr>\n",
       "      <th>3</th>\n",
       "      <td>4</td>\n",
       "      <td>1</td>\n",
       "      <td>DT1</td>\n",
       "      <td>1.0</td>\n",
       "      <td>54</td>\n",
       "      <td>0</td>\n",
       "      <td>55</td>\n",
       "      <td>117</td>\n",
       "    </tr>\n",
       "    <tr>\n",
       "      <th>4</th>\n",
       "      <td>5</td>\n",
       "      <td>1</td>\n",
       "      <td>DT1</td>\n",
       "      <td>0.0</td>\n",
       "      <td>54</td>\n",
       "      <td>0</td>\n",
       "      <td>55</td>\n",
       "      <td>117</td>\n",
       "    </tr>\n",
       "    <tr>\n",
       "      <th>...</th>\n",
       "      <td>...</td>\n",
       "      <td>...</td>\n",
       "      <td>...</td>\n",
       "      <td>...</td>\n",
       "      <td>...</td>\n",
       "      <td>...</td>\n",
       "      <td>...</td>\n",
       "      <td>...</td>\n",
       "    </tr>\n",
       "    <tr>\n",
       "      <th>34663</th>\n",
       "      <td>1552</td>\n",
       "      <td>8</td>\n",
       "      <td>DT27</td>\n",
       "      <td>1.0</td>\n",
       "      <td>20</td>\n",
       "      <td>0</td>\n",
       "      <td>55</td>\n",
       "      <td>7</td>\n",
       "    </tr>\n",
       "    <tr>\n",
       "      <th>34664</th>\n",
       "      <td>1553</td>\n",
       "      <td>8</td>\n",
       "      <td>DT27</td>\n",
       "      <td>1.0</td>\n",
       "      <td>20</td>\n",
       "      <td>0</td>\n",
       "      <td>55</td>\n",
       "      <td>7</td>\n",
       "    </tr>\n",
       "    <tr>\n",
       "      <th>34665</th>\n",
       "      <td>1554</td>\n",
       "      <td>8</td>\n",
       "      <td>DT27</td>\n",
       "      <td>1.0</td>\n",
       "      <td>20</td>\n",
       "      <td>0</td>\n",
       "      <td>55</td>\n",
       "      <td>7</td>\n",
       "    </tr>\n",
       "    <tr>\n",
       "      <th>34666</th>\n",
       "      <td>1555</td>\n",
       "      <td>8</td>\n",
       "      <td>DT27</td>\n",
       "      <td>1.0</td>\n",
       "      <td>20</td>\n",
       "      <td>0</td>\n",
       "      <td>55</td>\n",
       "      <td>7</td>\n",
       "    </tr>\n",
       "    <tr>\n",
       "      <th>34667</th>\n",
       "      <td>1556</td>\n",
       "      <td>8</td>\n",
       "      <td>DT27</td>\n",
       "      <td>1.0</td>\n",
       "      <td>20</td>\n",
       "      <td>0</td>\n",
       "      <td>55</td>\n",
       "      <td>7</td>\n",
       "    </tr>\n",
       "  </tbody>\n",
       "</table>\n",
       "<p>34668 rows × 8 columns</p>\n",
       "</div>"
      ],
      "text/plain": [
       "       person_id  school condition  choice  ss_amount  ss_delay  ll_amount  \\\n",
       "0              1       1       DT1     0.0         54         0         55   \n",
       "1              2       1       DT1     0.0         54         0         55   \n",
       "2              3       1       DT1     0.0         54         0         55   \n",
       "3              4       1       DT1     1.0         54         0         55   \n",
       "4              5       1       DT1     0.0         54         0         55   \n",
       "...          ...     ...       ...     ...        ...       ...        ...   \n",
       "34663       1552       8      DT27     1.0         20         0         55   \n",
       "34664       1553       8      DT27     1.0         20         0         55   \n",
       "34665       1554       8      DT27     1.0         20         0         55   \n",
       "34666       1555       8      DT27     1.0         20         0         55   \n",
       "34667       1556       8      DT27     1.0         20         0         55   \n",
       "\n",
       "       ll_delay  \n",
       "0           117  \n",
       "1           117  \n",
       "2           117  \n",
       "3           117  \n",
       "4           117  \n",
       "...         ...  \n",
       "34663         7  \n",
       "34664         7  \n",
       "34665         7  \n",
       "34666         7  \n",
       "34667         7  \n",
       "\n",
       "[34668 rows x 8 columns]"
      ]
     },
     "execution_count": 7,
     "metadata": {},
     "output_type": "execute_result"
    }
   ],
   "source": [
    "chavez_dt"
   ]
  },
  {
   "cell_type": "code",
   "execution_count": 11,
   "metadata": {},
   "outputs": [
    {
     "data": {
      "text/plain": [
       "  message: CONVERGENCE: REL_REDUCTION_OF_F_<=_FACTR*EPSMCH\n",
       "  success: True\n",
       "   status: 0\n",
       "      fun: 16993.583764312538\n",
       "        x: [ 9.926e-01  8.355e-01  3.502e-01]\n",
       "      nit: 13\n",
       "      jac: [ 1.143e+00 -9.459e-02  1.313e-01]\n",
       "     nfev: 100\n",
       "     njev: 25\n",
       " hess_inv: <3x3 LbfgsInvHessProduct with dtype=float64>"
      ]
     },
     "execution_count": 11,
     "metadata": {},
     "output_type": "execute_result"
    }
   ],
   "source": [
    "data = chavez_dt\n",
    "init_params = np.array([1,50,1])\n",
    "dstyle = 'attention'\n",
    "ustyle = 'crra'\n",
    "bounds = [(0,1),(0.8,100),(0,100)]\n",
    "result = minimize(mpl_estimation.log_likelihood, \n",
    "         x0=init_params, args=(data,dstyle,ustyle), \n",
    "         bounds=bounds,\n",
    "         tol=1e-8,\n",
    "         method='L-BFGS-B')\n",
    "result"
   ]
  },
  {
   "cell_type": "code",
   "execution_count": 85,
   "metadata": {},
   "outputs": [
    {
     "data": {
      "text/plain": [
       "     fun: 369924.0212076079\n",
       "     jac: array([-1.56250000e-02, -1.21093750e-01,  1.31880775e+06])\n",
       " message: 'Optimization terminated successfully'\n",
       "    nfev: 4\n",
       "     nit: 5\n",
       "    njev: 1\n",
       "  status: 0\n",
       " success: True\n",
       "       x: array([0.1, 0.1, 1. ])"
      ]
     },
     "execution_count": 85,
     "metadata": {},
     "output_type": "execute_result"
    }
   ],
   "source": [
    "data = chavez_dt\n",
    "init_params = np.array([.1,.1,1])\n",
    "dstyle = 'quasihb'\n",
    "ustyle = 'crra'\n",
    "bounds = [(0,1),(0,1),(0,100)]\n",
    "result = minimize(mpl_estimation.log_likelihood, \n",
    "         x0=init_params, args=(data,dstyle,ustyle), \n",
    "         bounds=bounds,\n",
    "         method='L-BFGS-B')\n",
    "result"
   ]
  },
  {
   "cell_type": "code",
   "execution_count": 162,
   "metadata": {},
   "outputs": [
    {
     "data": {
      "text/plain": [
       "      fun: 17157.30734585428\n",
       " hess_inv: <2x2 LbfgsInvHessProduct with dtype=float64>\n",
       "      jac: array([-0.33905962, -0.04911271])\n",
       "  message: 'CONVERGENCE: REL_REDUCTION_OF_F_<=_FACTR*EPSMCH'\n",
       "     nfev: 123\n",
       "      nit: 16\n",
       "     njev: 41\n",
       "   status: 0\n",
       "  success: True\n",
       "        x: array([0.00894893, 0.3722144 ])"
      ]
     },
     "execution_count": 162,
     "metadata": {},
     "output_type": "execute_result"
    }
   ],
   "source": [
    "data = chavez_dt\n",
    "init_params = np.array([1,1])\n",
    "dstyle = 'hb'\n",
    "ustyle = 'crra'\n",
    "bounds = [(0,100),(0,100)]\n",
    "result = minimize(mpl_estimation.log_likelihood, \n",
    "         x0=init_params, args=(data,dstyle,ustyle), \n",
    "         bounds=bounds,\n",
    "         method='L-BFGS-B')\n",
    "result"
   ]
  },
  {
   "cell_type": "code",
   "execution_count": 166,
   "metadata": {},
   "outputs": [
    {
     "data": {
      "text/plain": [
       "      fun: 17294.079875952157\n",
       " hess_inv: <3x3 LbfgsInvHessProduct with dtype=float64>\n",
       "      jac: array([0.00327418, 0.00109139, 0.01309672])\n",
       "  message: 'CONVERGENCE: REL_REDUCTION_OF_F_<=_FACTR*EPSMCH'\n",
       "     nfev: 88\n",
       "      nit: 15\n",
       "     njev: 22\n",
       "   status: 0\n",
       "  success: True\n",
       "        x: array([9.88356450e+02, 3.00560959e+01, 5.16930174e-01])"
      ]
     },
     "execution_count": 166,
     "metadata": {},
     "output_type": "execute_result"
    }
   ],
   "source": [
    "data = chavez_dt\n",
    "init_params = np.array([1,1,1])\n",
    "dstyle = 'lp'\n",
    "ustyle = 'crra'\n",
    "bounds = [(0,1000),(0,100),(0,100)]\n",
    "result = minimize(mpl_estimation.log_likelihood, \n",
    "         x0=init_params, args=(data,dstyle,ustyle), \n",
    "         bounds=bounds,\n",
    "         method='L-BFGS-B')\n",
    "result"
   ]
  },
  {
   "cell_type": "code",
   "execution_count": 6,
   "metadata": {},
   "outputs": [
    {
     "data": {
      "text/plain": [
       "      fun: 17278.081341516026\n",
       " hess_inv: <3x3 LbfgsInvHessProduct with dtype=float64>\n",
       "      jac: array([89739.02404303,     0.        ,  1173.2492573 ])\n",
       "  message: 'CONVERGENCE: REL_REDUCTION_OF_F_<=_FACTR*EPSMCH'\n",
       "     nfev: 96\n",
       "      nit: 9\n",
       "     njev: 24\n",
       "   status: 0\n",
       "  success: True\n",
       "        x: array([0.00892269, 0.9999999 , 0.33606459])"
      ]
     },
     "execution_count": 6,
     "metadata": {},
     "output_type": "execute_result"
    }
   ],
   "source": [
    "data = chavez_dt\n",
    "init_params = np.array([1,1,1])\n",
    "dstyle = 'bbs'\n",
    "ustyle = 'crra'\n",
    "bounds = [(0,1000),(0,100),(0,100)]\n",
    "result = minimize(mpl_estimation.log_likelihood, \n",
    "         x0=init_params, args=(data,dstyle,ustyle), \n",
    "         bounds=bounds,\n",
    "         method='L-BFGS-B')\n",
    "result"
   ]
  },
  {
   "cell_type": "code",
   "execution_count": 10,
   "metadata": {},
   "outputs": [
    {
     "data": {
      "text/plain": [
       "{'params': array([0.99259818, 0.83549667, 0.35023709]),\n",
       " 'se': array([0.10884479, 0.64526873, 0.45972438]),\n",
       " 'log-likelihood': -16993.583764184197,\n",
       " 'aic': 33993.167528368394,\n",
       " 'bic': 34049.88896246992,\n",
       " 'gradient': array([ 0.11677912, -0.00873115,  0.02291927])}"
      ]
     },
     "execution_count": 10,
     "metadata": {},
     "output_type": "execute_result"
    }
   ],
   "source": [
    "mpl_estimation.mle(data=chavez_dt,\n",
    "         init_params=np.array([1,1000,1]), \n",
    "         dstyle='attention',\n",
    "         ustyle='crra', \n",
    "         bounds=[(0,1),(.8,100),(0,100)])"
   ]
  }
 ],
 "metadata": {
  "kernelspec": {
   "display_name": ".venv",
   "language": "python",
   "name": "python3"
  },
  "language_info": {
   "codemirror_mode": {
    "name": "ipython",
    "version": 3
   },
   "file_extension": ".py",
   "mimetype": "text/x-python",
   "name": "python",
   "nbconvert_exporter": "python",
   "pygments_lexer": "ipython3",
   "version": "3.11.2"
  },
  "orig_nbformat": 4,
  "vscode": {
   "interpreter": {
    "hash": "91a3f79980d343046a569744bf4e61f0724ec1b23021aa99da34e16b4b0fb3b7"
   }
  }
 },
 "nbformat": 4,
 "nbformat_minor": 2
}
