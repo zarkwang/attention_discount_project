{
 "cells": [
  {
   "cell_type": "code",
   "execution_count": 37,
   "metadata": {},
   "outputs": [],
   "source": [
    "%reload_ext autoreload\n",
    "%autoreload 2\n",
    "\n",
    "import json\n",
    "import pickle\n",
    "import pandas as pd\n",
    "import numpy as np\n",
    "from lib import utils\n",
    "import matplotlib.pyplot as plt\n",
    "\n",
    "plt.rcParams['font.family'] = 'times new roman'\n",
    "plt.rcParams['font.size'] = 16\n",
    "plt.rcParams['text.usetex'] = True"
   ]
  },
  {
   "cell_type": "code",
   "execution_count": 3,
   "metadata": {},
   "outputs": [
    {
     "data": {
      "text/plain": [
       "62"
      ]
     },
     "execution_count": 3,
     "metadata": {},
     "output_type": "execute_result"
    }
   ],
   "source": [
    "df = pd.read_csv('valid_sequence_data.csv',index_col=0)\n",
    "df['total_money_heuristic'] = df['value_surplus'] == 60\n",
    "(df.groupby('worker_id')['total_money_heuristic'].sum() >= 12).sum()"
   ]
  },
  {
   "cell_type": "code",
   "execution_count": 4,
   "metadata": {},
   "outputs": [
    {
     "name": "stdout",
     "output_type": "stream",
     "text": [
      "                    median_coef        se       mad   ci_lower   ci_upper\n",
      "const                 52.037295  0.625276  0.381272  50.950359  53.414325\n",
      "front_amount_6m_0     -0.016828  0.002253  0.001517  -0.021194  -0.012561\n",
      "front_amount_12m_0    -0.021499  0.002290  0.001554  -0.025676  -0.016800\n",
      "front_amount_6m_1     -0.000712  0.000613  0.000437  -0.001879   0.000454\n",
      "front_amount_12m_1    -0.000919  0.000612  0.000408  -0.002155   0.000255\n",
      "choice_peli            2.480300  0.689064  0.431866   0.879837   3.663456\n",
      "M-W Criterion: 122.18324049920186\n"
     ]
    }
   ],
   "source": [
    "with open('bootstrap_rlm_fe_label_k.pkl', 'rb') as file:\n",
    "    bootstrap_rlm_fe_label_k = pickle.load(file)\n",
    "\n",
    "print(bootstrap_rlm_fe_label_k.conf_int())\n",
    "print('M-W Criterion:',bootstrap_rlm_fe_label_k.muller_welsh_criterion())"
   ]
  },
  {
   "cell_type": "code",
   "execution_count": 5,
   "metadata": {},
   "outputs": [
    {
     "name": "stdout",
     "output_type": "stream",
     "text": [
      "                    median_coef        se       mad   ci_lower   ci_upper\n",
      "const                 51.597495  0.575344  0.365516  50.548243  52.743395\n",
      "front_amount_6m_0     -0.009036  0.001353  0.000874  -0.011724  -0.006411\n",
      "front_amount_12m_0    -0.011782  0.001413  0.000923  -0.014636  -0.009045\n",
      "front_amount_6m_1      0.000541  0.000565  0.000386  -0.000611   0.001641\n",
      "front_amount_12m_1     0.000742  0.000537  0.000376  -0.000308   0.001776\n",
      "choice_peli            2.694854  0.642191  0.426026   1.492297   4.004999\n",
      "M-W Criterion: 125.76683295705983\n"
     ]
    }
   ],
   "source": [
    "with open('bootstrap_rlm_fe_label.pkl', 'rb') as file:\n",
    "    bootstrap_rlm_fe_label_gm = pickle.load(file)\n",
    "\n",
    "print(bootstrap_rlm_fe_label_gm.conf_int())\n",
    "print('M-W Criterion:',bootstrap_rlm_fe_label_gm.muller_welsh_criterion())"
   ]
  },
  {
   "cell_type": "code",
   "execution_count": 45,
   "metadata": {},
   "outputs": [
    {
     "name": "stdout",
     "output_type": "stream",
     "text": [
      "                  median_coef        se       mad   ci_lower   ci_upper\n",
      "const               51.619849  0.598339  0.374734  50.549524  52.824301\n",
      "front_amount_6m     -0.004382  0.000754  0.000509  -0.005870  -0.002897\n",
      "front_amount_12m    -0.005661  0.000800  0.000536  -0.007342  -0.004210\n",
      "choice_peli          2.354568  0.647736  0.399835   1.031708   3.573726\n",
      "M-W Criterion: 128.45698448371468\n"
     ]
    }
   ],
   "source": [
    "with open('bootstrap_rlm_fe_baseline_k.pkl', 'rb') as file:\n",
    "    bootstrap_rlm_fe_baseline_k = pickle.load(file)\n",
    "\n",
    "print(bootstrap_rlm_fe_baseline_k.conf_int())\n",
    "print('M-W Criterion:',bootstrap_rlm_fe_baseline_k.muller_welsh_criterion())"
   ]
  },
  {
   "cell_type": "code",
   "execution_count": 7,
   "metadata": {},
   "outputs": [
    {
     "name": "stdout",
     "output_type": "stream",
     "text": [
      "                  median_coef        se       mad   ci_lower   ci_upper\n",
      "const               51.658136  0.627373  0.392313  50.483062  53.055173\n",
      "front_amount_6m     -0.004406  0.000783  0.000531  -0.006070  -0.002942\n",
      "front_amount_12m    -0.005718  0.000796  0.000537  -0.007345  -0.004221\n",
      "choice_peli          2.325110  0.679582  0.435810   0.971769   3.710583\n",
      "M-W Criterion: 128.47548136846734\n"
     ]
    }
   ],
   "source": [
    "with open('bootstrap_rlm_fe_baseline.pkl', 'rb') as file:\n",
    "    bootstrap_rlm_fe_baseline_gm = pickle.load(file)\n",
    "\n",
    "print(bootstrap_rlm_fe_baseline_gm.conf_int())\n",
    "print('M-W Criterion:',bootstrap_rlm_fe_baseline_gm.muller_welsh_criterion())"
   ]
  },
  {
   "cell_type": "code",
   "execution_count": 8,
   "metadata": {},
   "outputs": [
    {
     "name": "stdout",
     "output_type": "stream",
     "text": [
      "                    median_coef        se       mad   ci_lower   ci_upper\n",
      "const                 57.495463  0.621453  0.434982  56.298747  58.645625\n",
      "front_amount_6m_0     -0.065220  0.003300  0.002146  -0.071808  -0.058728\n",
      "front_amount_12m_0    -0.068312  0.003036  0.001987  -0.074383  -0.062169\n",
      "front_amount_6m_1      0.009657  0.001413  0.000961   0.007095   0.012658\n",
      "front_amount_12m_1     0.009002  0.001521  0.001046   0.006023   0.011987\n",
      "choice_peli           -1.362942  0.532011  0.352872  -2.409226  -0.311968\n",
      "M-W Criterion: 233.49339736820806\n"
     ]
    }
   ],
   "source": [
    "with open('bootstrap_rlm_pool_label_k.pkl', 'rb') as file:\n",
    "    bootstrap_rlm_pool_label_k = pickle.load(file)\n",
    "\n",
    "print(bootstrap_rlm_pool_label_k.conf_int())\n",
    "print('M-W Criterion:',bootstrap_rlm_pool_label_k.muller_welsh_criterion())"
   ]
  },
  {
   "cell_type": "code",
   "execution_count": 9,
   "metadata": {},
   "outputs": [
    {
     "name": "stdout",
     "output_type": "stream",
     "text": [
      "                    median_coef        se       mad   ci_lower   ci_upper\n",
      "const                 56.466645  0.784845  0.533973  54.892232  57.889864\n",
      "front_amount_6m_0     -0.025179  0.002782  0.001766  -0.030860  -0.019785\n",
      "front_amount_12m_0    -0.028759  0.002939  0.002043  -0.034487  -0.023168\n",
      "front_amount_6m_1      0.013115  0.001693  0.001124   0.010050   0.016607\n",
      "front_amount_12m_1     0.013226  0.001591  0.001075   0.010217   0.016490\n",
      "choice_peli           -0.106409  0.715483  0.470609  -1.546472   1.246396\n",
      "M-W Criterion: 356.8011617864081\n"
     ]
    }
   ],
   "source": [
    "with open('bootstrap_rlm_pool_label.pkl', 'rb') as file:\n",
    "    bootstrap_rlm_pool_label_gm = pickle.load(file)\n",
    "\n",
    "print(bootstrap_rlm_pool_label_gm.conf_int())\n",
    "print('M-W Criterion:',bootstrap_rlm_pool_label_gm.muller_welsh_criterion())"
   ]
  },
  {
   "cell_type": "code",
   "execution_count": 10,
   "metadata": {},
   "outputs": [
    {
     "name": "stdout",
     "output_type": "stream",
     "text": [
      "                  median_coef        se       mad   ci_lower   ci_upper\n",
      "const               57.124822  0.863202  0.579563  55.328662  58.808239\n",
      "front_amount_6m     -0.002620  0.002060  0.001344  -0.006633   0.001352\n",
      "front_amount_12m    -0.003855  0.002100  0.001432  -0.008180   0.000193\n",
      "choice_peli         -2.219607  0.792939  0.521845  -3.792836  -0.664388\n",
      "M-W Criterion: 427.48249228425016\n"
     ]
    }
   ],
   "source": [
    "with open('bootstrap_rlm_pool_baseline_k.pkl', 'rb') as file:\n",
    "    bootstrap_rlm_pool_baseline_k = pickle.load(file)\n",
    "\n",
    "print(bootstrap_rlm_pool_baseline_k.conf_int())\n",
    "print('M-W Criterion:',bootstrap_rlm_pool_baseline_k.muller_welsh_criterion())"
   ]
  },
  {
   "cell_type": "code",
   "execution_count": 11,
   "metadata": {},
   "outputs": [
    {
     "name": "stdout",
     "output_type": "stream",
     "text": [
      "                  median_coef        se       mad   ci_lower   ci_upper\n",
      "const               57.101185  0.887055  0.588957  55.301130  58.755019\n",
      "front_amount_6m     -0.002627  0.002039  0.001364  -0.006644   0.001328\n",
      "front_amount_12m    -0.003934  0.002085  0.001383  -0.008101   0.000183\n",
      "choice_peli         -2.230786  0.800106  0.529479  -3.738779  -0.620995\n",
      "M-W Criterion: 427.4926733136112\n"
     ]
    }
   ],
   "source": [
    "with open('bootstrap_rlm_pool_baseline.pkl', 'rb') as file:\n",
    "    bootstrap_rlm_pool_baseline_gm = pickle.load(file)\n",
    "\n",
    "print(bootstrap_rlm_pool_baseline_gm.conf_int())\n",
    "print('M-W Criterion:',bootstrap_rlm_pool_baseline_gm.muller_welsh_criterion())"
   ]
  },
  {
   "cell_type": "code",
   "execution_count": 68,
   "metadata": {},
   "outputs": [],
   "source": [
    "# Make regression tables\n",
    "# load the regression results\n",
    "with open('model_reg_result_k.json', 'r') as f:\n",
    "    reg_result = json.load(f)\n",
    "\n",
    "# some OLS results contain the 'Intercept' term\n",
    "# replace it by 'const' \n",
    "for m in list(reg_result.keys()):\n",
    "    if 'Intercept' in reg_result[m]['coef_name']:\n",
    "        index_to_replace = reg_result[m]['coef_name'].index('Intercept')\n",
    "        reg_result[m]['coef_name'][index_to_replace] = 'const'\n",
    "\n",
    "# column names for the dataframe\n",
    "indicators = ['nobs','rsquared_adj']\n",
    "col_name_list = ['b_front_amount_6m','se_front_amount_6m',\n",
    "                'b_front_amount_12m','se_front_amount_12m',\n",
    "                'b_front_amount_6m_0','se_front_amount_6m_0',\n",
    "                'b_front_amount_12m_0','se_front_amount_12m_0',\n",
    "                'b_front_amount_6m_1','se_front_amount_6m_1',\n",
    "                'b_front_amount_12m_1','se_front_amount_12m_1',\n",
    "                'b_choice_peli','se_choice_peli',\n",
    "                'b_const','se_const'] \n",
    "\n",
    "col_names = col_name_list + indicators\n",
    "\n",
    "# make a dataframe in which columns are specified using the column names\n",
    "# each row of this dataframe is correspondent to a model \n",
    "result_table = utils.draw_df_from_result(reg_result,col_names)\n",
    "\n",
    "# specific the indices used for table\n",
    "param_list = [r'$Y_1\\cdot1\\{T=T_L\\}$',\n",
    "            '',\n",
    "            r'$Y_1\\cdot1\\{T=T_H\\}$',\n",
    "            '',\n",
    "            r'$Y_1\\cdot1\\{T=T_L\\}\\times$CL1',\n",
    "            '',\n",
    "            r'$Y_1\\cdot1\\{T=T_H\\}\\times$CL1',\n",
    "            '',\n",
    "            r'$Y_1\\cdot1\\{T=T_L\\}\\times$CL2',\n",
    "            '',\n",
    "            r'$Y_1\\cdot1\\{T=T_H\\}\\times$CL2',\n",
    "            '',\n",
    "            'PELI',\n",
    "            '',\n",
    "            'Constant',\n",
    "            '',\n",
    "            'observations']\n",
    "\n",
    "# make a grand table\n",
    "reg_table = pd.DataFrame(result_table.iloc[:,:-1].values.T,columns=result_table['model'])\n",
    "reg_table.iloc[-1,4:] = np.repeat('',4)\n",
    "reg_table.index.name = None\n",
    "reg_table.columns.name = None\n"
   ]
  },
  {
   "cell_type": "code",
   "execution_count": 69,
   "metadata": {},
   "outputs": [
    {
     "name": "stderr",
     "output_type": "stream",
     "text": [
      "C:\\Users\\zarkwang\\AppData\\Local\\Temp\\ipykernel_4476\\3144719332.py:3: SettingWithCopyWarning: \n",
      "A value is trying to be set on a copy of a slice from a DataFrame\n",
      "\n",
      "See the caveats in the documentation: https://pandas.pydata.org/pandas-docs/stable/user_guide/indexing.html#returning-a-view-versus-a-copy\n",
      "  reg_table_combined.loc['muller_welsh'] = [\n"
     ]
    }
   ],
   "source": [
    "reg_table_combined = reg_table.iloc[:,[0,1,2,3,6,7]]\n",
    "reg_table_combined.columns = ['(1) Pool', '(2) Pool', '(3) FE', '(4) FE','(5) RLM', '(6) RLM']\n",
    "reg_table_combined.loc['muller_welsh'] = [\n",
    "                    '','','','',\n",
    "                    str(round(bootstrap_rlm_fe_baseline_k.muller_welsh_criterion(),3)),\n",
    "                    str(round(bootstrap_rlm_fe_label_k.muller_welsh_criterion(),3))]\n",
    "reg_table_combined.index = param_list + ['adj-$R^2$','Muller-Welsh']\n",
    "\n",
    "utils.make_table(reg_table_combined,'tables/reg_combined.tex')"
   ]
  },
  {
   "cell_type": "code",
   "execution_count": 27,
   "metadata": {},
   "outputs": [
    {
     "name": "stderr",
     "output_type": "stream",
     "text": [
      "C:\\Users\\zarkwang\\AppData\\Local\\Temp\\ipykernel_4476\\2605552774.py:2: SettingWithCopyWarning: \n",
      "A value is trying to be set on a copy of a slice from a DataFrame\n",
      "\n",
      "See the caveats in the documentation: https://pandas.pydata.org/pandas-docs/stable/user_guide/indexing.html#returning-a-view-versus-a-copy\n",
      "  reg_table_combined.loc['muller_welsh'] = [\n"
     ]
    }
   ],
   "source": [
    "reg_table_combined = reg_table[reg_table.columns[['_fe' in col for col in reg_table.columns]]]\n",
    "reg_table_combined.columns = ['(1) OLS', '(2) OLS', '(3) RLM', '(4) RLM']\n",
    "reg_table_combined.loc['muller_welsh'] = [\n",
    "                    '','',\n",
    "                    str(round(bootstrap_rlm_fe_baseline_k.muller_welsh_criterion(),3)),\n",
    "                    str(round(bootstrap_rlm_fe_label_k.muller_welsh_criterion(),3))]\n",
    "reg_table_combined.index = param_list + ['adj-$R^2$','Muller-Welsh']\n",
    "\n",
    "utils.make_table(reg_table_combined,'tables/reg_combined.tex')"
   ]
  },
  {
   "cell_type": "code",
   "execution_count": 28,
   "metadata": {},
   "outputs": [],
   "source": [
    "\n",
    "# split the OLS table from the grand table\n",
    "reg_table_1 = reg_table.iloc[:,:4]\n",
    "reg_table_1.columns = ['(1) Pooled', '(2) Pooled', '(3) FE', '(4) FE']\n",
    "reg_table_1.index = param_list + ['adj-$R^2$']\n",
    "\n",
    "# split the RLM table from the grand table\n",
    "reg_table_2 = reg_table.iloc[:-1,4:]\n",
    "reg_table_2.loc['muller_welsh'] = np.round([\n",
    "                    bootstrap_rlm_pool_baseline_k.muller_welsh_criterion(),\n",
    "                    bootstrap_rlm_pool_label_k.muller_welsh_criterion(),\n",
    "                    bootstrap_rlm_fe_baseline_k.muller_welsh_criterion(),\n",
    "                    bootstrap_rlm_fe_label_k.muller_welsh_criterion()],3).astype(str)\n",
    "\n",
    "reg_table_2.columns = ['(5) Pooled', '(6) Pooled', '(7) FE', '(8) FE']\n",
    "reg_table_2.index = param_list + ['Muller-Welsh']\n",
    "\n",
    "# write latex code\n",
    "utils.make_table(reg_table_1,'tables/reg_ols.tex')\n",
    "utils.make_table(reg_table_2,'tables/reg_rlm.tex')"
   ]
  },
  {
   "cell_type": "code",
   "execution_count": 29,
   "metadata": {},
   "outputs": [],
   "source": [
    "# Make table for GMM results\n",
    "with open('model_reg_result_gm.json', 'r') as f:\n",
    "    reg_result = json.load(f)\n",
    "\n",
    "col_names = col_name_list + ['nobs']\n",
    "\n",
    "result_table = utils.draw_df_from_result(reg_result,col_names)\n",
    "\n",
    "reg_table = pd.DataFrame(result_table.iloc[:,:-1].values.T,columns=result_table['model'])\n",
    "reg_table.columns.name = None\n",
    "reg_table.loc['muller_welsh'] = np.round([\n",
    "                    bootstrap_rlm_pool_baseline_gm.muller_welsh_criterion(),\n",
    "                    bootstrap_rlm_pool_label_gm.muller_welsh_criterion(),\n",
    "                    bootstrap_rlm_fe_baseline_gm.muller_welsh_criterion(),\n",
    "                    bootstrap_rlm_fe_label_gm.muller_welsh_criterion()],3).astype(str)\n",
    "\n",
    "reg_table.columns = ['(5) Pooled', '(6) Pooled', '(7) FE', '(8) FE']\n",
    "reg_table.index = param_list + ['Muller-Welsh']\n",
    "\n",
    "utils.make_table(reg_table,'tables/reg_rlm_GMM.tex')"
   ]
  },
  {
   "cell_type": "code",
   "execution_count": 58,
   "metadata": {},
   "outputs": [
    {
     "data": {
      "image/png": "[encoded data removed]",
      "text/plain": [
       "<Figure size 640x480 with 1 Axes>"
      ]
     },
     "metadata": {},
     "output_type": "display_data"
    }
   ],
   "source": [
    "ci_table = bootstrap_rlm_fe_label_k.conf_int().iloc[1:,3:5]\n",
    "ci_table['coef'] = bootstrap_rlm_fe_label_k.model.params[bootstrap_rlm_fe_label_k.param_names]\n",
    "ci_table = ci_table.iloc[:-1,:]\n",
    "plt.errorbar(x=ci_table['coef'], y=ci_table.index, \n",
    "             xerr=[ci_table['coef'] - ci_table['ci_lower'], ci_table['ci_upper'] - ci_table['coef']], \n",
    "             fmt='none', color='black',\n",
    "             capsize=3)\n",
    "plt.scatter(x=ci_table['coef'], y=ci_table.index, color = 'black')\n",
    "plt.axvline(x = 0, color = 'red', linestyle = 'dashed')\n",
    "\n",
    "\n",
    "label_param_list = [\n",
    "            r'$Y_1\\cdot1\\{T=T_L\\}\\times$ Cluster 1',\n",
    "            r'$Y_1\\cdot1\\{T=T_H\\}\\times$ Cluster 1',\n",
    "            r'$Y_1\\cdot1\\{T=T_L\\}\\times$ Cluster 2',\n",
    "            r'$Y_1\\cdot1\\{T=T_H\\}\\times$ Cluster 2'\n",
    "            ]\n",
    "\n",
    "plt.yticks(ci_table.index,label_param_list)\n",
    "plt.xticks(np.arange(-0.025,0.005,step=0.005))\n",
    "plt.xlim((-0.028,0.002))\n",
    "plt.show()"
   ]
  },
  {
   "cell_type": "code",
   "execution_count": 57,
   "metadata": {},
   "outputs": [
    {
     "data": {
      "image/png": "[encoded data removed]",
      "text/plain": [
       "<Figure size 640x480 with 1 Axes>"
      ]
     },
     "metadata": {},
     "output_type": "display_data"
    }
   ],
   "source": [
    "ci_table = bootstrap_rlm_fe_baseline_k.conf_int().iloc[1:,3:5]\n",
    "ci_table['coef'] = bootstrap_rlm_fe_baseline_k.model.params[bootstrap_rlm_fe_baseline_k.param_names]\n",
    "ci_table = ci_table.iloc[:-1,:]\n",
    "plt.errorbar(x=ci_table['coef'], y=ci_table.index, \n",
    "             xerr=[ci_table['coef'] - ci_table['ci_lower'], ci_table['ci_upper'] - ci_table['coef']], \n",
    "             fmt='none', color='black',\n",
    "             capsize=3)\n",
    "plt.scatter(x=ci_table['coef'], y=ci_table.index, color = 'black')\n",
    "plt.axvline(x = 0, color = 'red', linestyle = 'dashed')\n",
    "\n",
    "label_param_list = [\n",
    "            r'$Y_1\\cdot1\\{T=T_L\\}$',\n",
    "            r'$Y_1\\cdot1\\{T=T_H\\}$'\n",
    "            ]\n",
    "\n",
    "plt.yticks(ci_table.index,label_param_list)\n",
    "plt.xticks(np.arange(-0.025,0.005,step=0.005))\n",
    "plt.xlim((-0.028,0.002))\n",
    "plt.show()"
   ]
  },
  {
   "cell_type": "code",
   "execution_count": 54,
   "metadata": {},
   "outputs": [
    {
     "data": {
      "text/plain": [
       "array([-2.50000000e-02, -2.00000000e-02, -1.50000000e-02, -1.00000000e-02,\n",
       "       -5.00000000e-03,  3.46944695e-18])"
      ]
     },
     "execution_count": 54,
     "metadata": {},
     "output_type": "execute_result"
    }
   ],
   "source": [
    "np.arange(-0.025,0.001,step=0.005)"
   ]
  }
 ],
 "metadata": {
  "kernelspec": {
   "display_name": "Python 3",
   "language": "python",
   "name": "python3"
  },
  "language_info": {
   "codemirror_mode": {
    "name": "ipython",
    "version": 3
   },
   "file_extension": ".py",
   "mimetype": "text/x-python",
   "name": "python",
   "nbconvert_exporter": "python",
   "pygments_lexer": "ipython3",
   "version": "3.10.6"
  }
 },
 "nbformat": 4,
 "nbformat_minor": 2
}
