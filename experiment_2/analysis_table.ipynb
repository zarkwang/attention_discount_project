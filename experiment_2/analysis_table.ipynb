{
 "cells": [
  {
   "cell_type": "code",
   "execution_count": 1,
   "metadata": {},
   "outputs": [],
   "source": [
    "%reload_ext autoreload\n",
    "%autoreload 2\n",
    "\n",
    "import json\n",
    "import pickle\n",
    "import pandas as pd\n",
    "import numpy as np\n",
    "from scipy import stats\n",
    "from lib import utils\n",
    "from sklearn import metrics\n",
    "import matplotlib.pyplot as plt\n",
    "\n",
    "plt.rcParams['font.family'] = 'times new roman'\n",
    "plt.rcParams['font.size'] = 16\n",
    "plt.rcParams['text.usetex'] = True"
   ]
  },
  {
   "cell_type": "code",
   "execution_count": 2,
   "metadata": {},
   "outputs": [
    {
     "name": "stdout",
     "output_type": "stream",
     "text": [
      "all answers are total money: 62\n"
     ]
    },
    {
     "data": {
      "text/plain": [
       "worker_id    435026.633540\n",
       "sex_value         0.552795\n",
       "age              40.720497\n",
       "dtype: float64"
      ]
     },
     "execution_count": 2,
     "metadata": {},
     "output_type": "execute_result"
    }
   ],
   "source": [
    "df = pd.read_csv('valid_sequence_data.csv',index_col=0)\n",
    "df['total_money_heuristic'] = df['value_surplus'] == 60\n",
    "\n",
    "\n",
    "df_meta = pd.read_excel('all_components_data.xlsx',sheet_name='meta_data')\n",
    "\n",
    "df_meta['sex_value'] = df_meta['sex'] == 'Male'\n",
    "\n",
    "df_demo = pd.merge(df,df_meta,on='worker_id').groupby('worker_id')[['sex_value','age']].mean().reset_index()\n",
    "\n",
    "print('all answers are total money:', (df.groupby('worker_id')['total_money_heuristic'].sum() >= 12).sum())\n",
    "\n",
    "df_demo.mean()\n"
   ]
  },
  {
   "cell_type": "code",
   "execution_count": 13,
   "metadata": {},
   "outputs": [
    {
     "data": {
      "text/plain": [
       "0.8637976929902396"
      ]
     },
     "execution_count": 13,
     "metadata": {},
     "output_type": "execute_result"
    }
   ],
   "source": [
    "df[(df['value_surplus'] <= 60) & (df['value_surplus'] >= 0)].shape[0] / 2254"
   ]
  },
  {
   "cell_type": "code",
   "execution_count": 12,
   "metadata": {},
   "outputs": [
    {
     "data": {
      "text/plain": [
       "0.12821650399290152"
      ]
     },
     "execution_count": 12,
     "metadata": {},
     "output_type": "execute_result"
    }
   ],
   "source": [
    "df[(df['value_surplus'] > 60)].shape[0] / 2254"
   ]
  },
  {
   "cell_type": "code",
   "execution_count": 52,
   "metadata": {},
   "outputs": [
    {
     "name": "stdout",
     "output_type": "stream",
     "text": [
      "SignificanceResult(statistic=-0.04871921859566945, pvalue=0.020717183445793052)\n",
      "SignificanceResult(statistic=-0.01543062586818839, pvalue=0.5563145093935986)\n",
      "SignificanceResult(statistic=-0.1892458603593054, pvalue=7.190225038954018e-08)\n"
     ]
    }
   ],
   "source": [
    "# Spearman rank-order correlation\n",
    "# the entire sample\n",
    "print(stats.spearmanr(df['value_surplus'],df['front_amount']))\n",
    "\n",
    "# cluster 1\n",
    "print(stats.spearmanr(df[df['label_kmeans'] == 0]['value_surplus'],\n",
    "                df[df['label_kmeans'] == 0]['front_amount']))\n",
    "\n",
    "# cluster 2\n",
    "print(stats.spearmanr(df[df['label_kmeans'] == 1]['value_surplus'],\n",
    "                    df[df['label_kmeans'] == 1]['front_amount']))"
   ]
  },
  {
   "cell_type": "code",
   "execution_count": 53,
   "metadata": {},
   "outputs": [
    {
     "name": "stdout",
     "output_type": "stream",
     "text": [
      "SignificanceResult(statistic=-0.038273860587928185, pvalue=0.01839663835549035)\n",
      "SignificanceResult(statistic=-0.012553623458832002, pvalue=0.5520872925395864)\n",
      "SignificanceResult(statistic=-0.1476984023409496, pvalue=2.5585460680410593e-08)\n"
     ]
    }
   ],
   "source": [
    "# Kendall’s tau\n",
    "# the entire sample\n",
    "print(stats.kendalltau(df['value_surplus'],df['front_amount']))\n",
    "\n",
    "# cluster 1\n",
    "print(stats.kendalltau(df[df['label_kmeans'] == 0]['value_surplus'],\n",
    "                df[df['label_kmeans'] == 0]['front_amount']))\n",
    "\n",
    "# cluster 2\n",
    "print(stats.kendalltau(df[df['label_kmeans'] == 1]['value_surplus'],\n",
    "                    df[df['label_kmeans'] == 1]['front_amount']))"
   ]
  },
  {
   "cell_type": "code",
   "execution_count": 40,
   "metadata": {},
   "outputs": [
    {
     "data": {
      "text/plain": [
       "MannwhitneyuResult(statistic=1059304.0, pvalue=2.668221610224322e-251)"
      ]
     },
     "execution_count": 40,
     "metadata": {},
     "output_type": "execute_result"
    }
   ],
   "source": [
    "stats.mannwhitneyu(df['value_surplus'][df['label_kmeans'] == 0],df['value_surplus'][df['label_kmeans'] == 1])"
   ]
  },
  {
   "cell_type": "code",
   "execution_count": 6,
   "metadata": {},
   "outputs": [
    {
     "data": {
      "text/plain": [
       "MannwhitneyuResult(statistic=421520.0, pvalue=0.0035907175383260576)"
      ]
     },
     "execution_count": 6,
     "metadata": {},
     "output_type": "execute_result"
    }
   ],
   "source": [
    "stats.mannwhitneyu(df['value_surplus'][df['choice_peli'] == 1],df['value_surplus'][df['choice_peli'] == 0])"
   ]
  },
  {
   "cell_type": "code",
   "execution_count": 19,
   "metadata": {},
   "outputs": [
    {
     "data": {
      "text/plain": [
       "Chi2ContingencyResult(statistic=11.063173450343989, pvalue=0.0008805929528317736, dof=1, expected_freq=array([[ 327.13043478,  204.86956522],\n",
       "       [1058.86956522,  663.13043478]]))"
      ]
     },
     "execution_count": 19,
     "metadata": {},
     "output_type": "execute_result"
    }
   ],
   "source": [
    "stats.chi2_contingency(pd.crosstab(df['choice_peli'], df['label_gmm']))"
   ]
  },
  {
   "cell_type": "code",
   "execution_count": 18,
   "metadata": {},
   "outputs": [
    {
     "data": {
      "text/plain": [
       "62.0"
      ]
     },
     "execution_count": 18,
     "metadata": {},
     "output_type": "execute_result"
    }
   ],
   "source": [
    "df['label_gmm'].sum() / 14"
   ]
  },
  {
   "cell_type": "code",
   "execution_count": 44,
   "metadata": {},
   "outputs": [
    {
     "data": {
      "text/plain": [
       "0.7907268170426065"
      ]
     },
     "execution_count": 44,
     "metadata": {},
     "output_type": "execute_result"
    }
   ],
   "source": [
    "df[(df['label_kmeans'] == 1) & (df['value_surplus'] > 0) & (df['value_surplus'] < 60)].shape[0] / df[(df['label_kmeans'] == 1)].shape[0]"
   ]
  },
  {
   "cell_type": "code",
   "execution_count": 28,
   "metadata": {},
   "outputs": [
    {
     "data": {
      "text/plain": [
       "65"
      ]
     },
     "execution_count": 28,
     "metadata": {},
     "output_type": "execute_result"
    }
   ],
   "source": [
    "(df.groupby('worker_id').sum()['total_money_heuristic'] == 0).sum()"
   ]
  },
  {
   "cell_type": "code",
   "execution_count": 3,
   "metadata": {},
   "outputs": [
    {
     "name": "stdout",
     "output_type": "stream",
     "text": [
      "                    median_coef        se       mad   ci_lower   ci_upper\n",
      "const                 52.829221  0.620943  0.372760  51.695819  54.202981\n",
      "front_amount_6m_0     -0.000643  0.000620  0.000412  -0.001906   0.000509\n",
      "front_amount_12m_0    -0.000910  0.000625  0.000445  -0.002124   0.000279\n",
      "front_amount_6m_1     -0.017604  0.002419  0.001636  -0.022255  -0.012798\n",
      "front_amount_12m_1    -0.021964  0.002327  0.001627  -0.026525  -0.017581\n",
      "choice_peli            1.553705  0.673897  0.414639   0.112228   2.730432\n",
      "M-W Criterion: 139.58908884625788\n"
     ]
    }
   ],
   "source": [
    "with open('bootstrap_rlm_fe_label_k.pkl', 'rb') as file:\n",
    "    bootstrap_rlm_fe_label_k = pickle.load(file)\n",
    "\n",
    "print(bootstrap_rlm_fe_label_k.conf_int())\n",
    "print('M-W Criterion:',bootstrap_rlm_fe_label_k.muller_welsh_criterion())"
   ]
  },
  {
   "cell_type": "code",
   "execution_count": 4,
   "metadata": {},
   "outputs": [
    {
     "name": "stdout",
     "output_type": "stream",
     "text": [
      "                    median_coef        se       mad   ci_lower   ci_upper\n",
      "const                 52.306397  0.650041  0.400422  51.110218  53.740399\n",
      "front_amount_6m_0     -0.009475  0.001339  0.000902  -0.012143  -0.006931\n",
      "front_amount_12m_0    -0.012100  0.001410  0.000989  -0.014877  -0.009443\n",
      "front_amount_6m_1      0.000472  0.000639  0.000409  -0.000802   0.001817\n",
      "front_amount_12m_1     0.000723  0.000577  0.000364  -0.000347   0.001853\n",
      "choice_peli            1.793923  0.686338  0.431331   0.309061   3.057770\n",
      "M-W Criterion: 143.60660441079636\n"
     ]
    }
   ],
   "source": [
    "with open('bootstrap_rlm_fe_label.pkl', 'rb') as file:\n",
    "    bootstrap_rlm_fe_label_gm = pickle.load(file)\n",
    "\n",
    "print(bootstrap_rlm_fe_label_gm.conf_int())\n",
    "print('M-W Criterion:',bootstrap_rlm_fe_label_gm.muller_welsh_criterion())"
   ]
  },
  {
   "cell_type": "code",
   "execution_count": 5,
   "metadata": {},
   "outputs": [
    {
     "name": "stdout",
     "output_type": "stream",
     "text": [
      "                  median_coef        se       mad   ci_lower   ci_upper\n",
      "const               52.272494  0.592342  0.348155  51.150431  53.641380\n",
      "front_amount_6m     -0.004649  0.000812  0.000562  -0.006226  -0.003015\n",
      "front_amount_12m    -0.006037  0.000840  0.000563  -0.007710  -0.004389\n",
      "choice_peli          1.550211  0.647237  0.382408   0.133744   2.850291\n",
      "M-W Criterion: 146.73420227957365\n"
     ]
    }
   ],
   "source": [
    "with open('bootstrap_rlm_fe_baseline_k.pkl', 'rb') as file:\n",
    "    bootstrap_rlm_fe_baseline_k = pickle.load(file)\n",
    "\n",
    "print(bootstrap_rlm_fe_baseline_k.conf_int())\n",
    "print('M-W Criterion:',bootstrap_rlm_fe_baseline_k.muller_welsh_criterion())"
   ]
  },
  {
   "cell_type": "code",
   "execution_count": 6,
   "metadata": {},
   "outputs": [
    {
     "name": "stdout",
     "output_type": "stream",
     "text": [
      "                  median_coef        se       mad   ci_lower   ci_upper\n",
      "const               52.290474  0.634875  0.388110  51.093774  53.587144\n",
      "front_amount_6m     -0.004604  0.000810  0.000524  -0.006107  -0.002984\n",
      "front_amount_12m    -0.006058  0.000864  0.000571  -0.007698  -0.004339\n",
      "choice_peli          1.496759  0.686113  0.436900   0.188556   2.906631\n",
      "M-W Criterion: 146.73790980392337\n"
     ]
    }
   ],
   "source": [
    "with open('bootstrap_rlm_fe_baseline.pkl', 'rb') as file:\n",
    "    bootstrap_rlm_fe_baseline_gm = pickle.load(file)\n",
    "\n",
    "print(bootstrap_rlm_fe_baseline_gm.conf_int())\n",
    "print('M-W Criterion:',bootstrap_rlm_fe_baseline_gm.muller_welsh_criterion())"
   ]
  },
  {
   "cell_type": "code",
   "execution_count": 7,
   "metadata": {},
   "outputs": [
    {
     "name": "stdout",
     "output_type": "stream",
     "text": [
      "                    median_coef        se       mad   ci_lower   ci_upper\n",
      "const                 58.381029  0.629061  0.436021  57.114893  59.563410\n",
      "front_amount_6m_0      0.009427  0.001359  0.000900   0.006846   0.012147\n",
      "front_amount_12m_0     0.008684  0.001513  0.001059   0.005801   0.011650\n",
      "front_amount_6m_1     -0.064912  0.003550  0.002388  -0.071966  -0.058042\n",
      "front_amount_12m_1    -0.069267  0.003303  0.002210  -0.075744  -0.063339\n",
      "choice_peli           -2.254707  0.552220  0.369562  -3.353969  -1.160216\n",
      "M-W Criterion: 250.58568371091397\n"
     ]
    }
   ],
   "source": [
    "with open('bootstrap_rlm_pool_label_k.pkl', 'rb') as file:\n",
    "    bootstrap_rlm_pool_label_k = pickle.load(file)\n",
    "\n",
    "print(bootstrap_rlm_pool_label_k.conf_int())\n",
    "print('M-W Criterion:',bootstrap_rlm_pool_label_k.muller_welsh_criterion())"
   ]
  },
  {
   "cell_type": "code",
   "execution_count": 8,
   "metadata": {},
   "outputs": [
    {
     "name": "stdout",
     "output_type": "stream",
     "text": [
      "                    median_coef        se       mad   ci_lower   ci_upper\n",
      "const                 56.837910  0.784683  0.533065  55.231471  58.279624\n",
      "front_amount_6m_0     -0.025582  0.002735  0.001893  -0.030967  -0.020104\n",
      "front_amount_12m_0    -0.029517  0.002938  0.001990  -0.034966  -0.023267\n",
      "front_amount_6m_1      0.012948  0.001621  0.001125   0.010052   0.016296\n",
      "front_amount_12m_1     0.013050  0.001594  0.001109   0.009846   0.016232\n",
      "choice_peli           -0.556588  0.741638  0.490530  -2.036535   0.789587\n",
      "M-W Criterion: 382.35402150373045\n"
     ]
    }
   ],
   "source": [
    "with open('bootstrap_rlm_pool_label.pkl', 'rb') as file:\n",
    "    bootstrap_rlm_pool_label_gm = pickle.load(file)\n",
    "\n",
    "print(bootstrap_rlm_pool_label_gm.conf_int())\n",
    "print('M-W Criterion:',bootstrap_rlm_pool_label_gm.muller_welsh_criterion())"
   ]
  },
  {
   "cell_type": "code",
   "execution_count": 9,
   "metadata": {},
   "outputs": [
    {
     "name": "stdout",
     "output_type": "stream",
     "text": [
      "                  median_coef        se       mad   ci_lower   ci_upper\n",
      "const               57.265395  0.888236  0.599257  55.493310  58.896586\n",
      "front_amount_6m     -0.003025  0.002053  0.001413  -0.007158   0.001075\n",
      "front_amount_12m    -0.004436  0.002161  0.001471  -0.008703  -0.000201\n",
      "choice_peli         -2.445123  0.814077  0.518281  -4.045346  -0.828407\n",
      "M-W Criterion: 456.53468793091855\n"
     ]
    }
   ],
   "source": [
    "with open('bootstrap_rlm_pool_baseline_k.pkl', 'rb') as file:\n",
    "    bootstrap_rlm_pool_baseline_k = pickle.load(file)\n",
    "\n",
    "print(bootstrap_rlm_pool_baseline_k.conf_int())\n",
    "print('M-W Criterion:',bootstrap_rlm_pool_baseline_k.muller_welsh_criterion())"
   ]
  },
  {
   "cell_type": "code",
   "execution_count": 10,
   "metadata": {},
   "outputs": [
    {
     "name": "stdout",
     "output_type": "stream",
     "text": [
      "                  median_coef        se       mad   ci_lower   ci_upper\n",
      "const               57.236325  0.856312  0.586479  55.535867  58.852683\n",
      "front_amount_6m     -0.003022  0.002016  0.001395  -0.006727   0.000850\n",
      "front_amount_12m    -0.004415  0.002089  0.001448  -0.008606  -0.000662\n",
      "choice_peli         -2.506136  0.790877  0.532557  -4.067814  -0.978330\n",
      "M-W Criterion: 456.5015899252077\n"
     ]
    }
   ],
   "source": [
    "with open('bootstrap_rlm_pool_baseline.pkl', 'rb') as file:\n",
    "    bootstrap_rlm_pool_baseline_gm = pickle.load(file)\n",
    "\n",
    "print(bootstrap_rlm_pool_baseline_gm.conf_int())\n",
    "print('M-W Criterion:',bootstrap_rlm_pool_baseline_gm.muller_welsh_criterion())"
   ]
  },
  {
   "cell_type": "code",
   "execution_count": 12,
   "metadata": {},
   "outputs": [],
   "source": [
    "# Make regression tables\n",
    "# load the regression results\n",
    "with open('model_reg_result_k.json', 'r') as f:\n",
    "    reg_result = json.load(f)\n",
    "\n",
    "# some OLS results contain the 'Intercept' term\n",
    "# replace it by 'const' \n",
    "for m in list(reg_result.keys()):\n",
    "    if 'Intercept' in reg_result[m]['coef_name']:\n",
    "        index_to_replace = reg_result[m]['coef_name'].index('Intercept')\n",
    "        reg_result[m]['coef_name'][index_to_replace] = 'const'\n",
    "\n",
    "# column names for the dataframe\n",
    "indicators = ['nobs','rsquared_adj']\n",
    "col_name_list = ['b_front_amount_6m','se_front_amount_6m',\n",
    "                'b_front_amount_12m','se_front_amount_12m',\n",
    "                'b_front_amount_6m_0','se_front_amount_6m_0',\n",
    "                'b_front_amount_12m_0','se_front_amount_12m_0',\n",
    "                'b_front_amount_6m_1','se_front_amount_6m_1',\n",
    "                'b_front_amount_12m_1','se_front_amount_12m_1',\n",
    "                'b_choice_peli','se_choice_peli',\n",
    "                'b_const','se_const'] \n",
    "\n",
    "col_names = col_name_list + indicators\n",
    "\n",
    "# make a dataframe in which columns are specified using the column names\n",
    "# each row of this dataframe is correspondent to a model \n",
    "result_table = utils.draw_df_from_result(reg_result,col_names)\n",
    "\n",
    "# specific the indices used for table\n",
    "param_list = [r'$X_1\\cdot1\\{T=T_L\\}$',\n",
    "            '',\n",
    "            r'$X_1\\cdot1\\{T=T_H\\}$',\n",
    "            '',\n",
    "            r'$X_1\\cdot1\\{T=T_L\\}\\times$CL1',\n",
    "            '',\n",
    "            r'$X_1\\cdot1\\{T=T_H\\}\\times$CL1',\n",
    "            '',\n",
    "            r'$X_1\\cdot1\\{T=T_L\\}\\times$CL2',\n",
    "            '',\n",
    "            r'$X_1\\cdot1\\{T=T_H\\}\\times$CL2',\n",
    "            '',\n",
    "            'PELI',\n",
    "            '',\n",
    "            'Constant',\n",
    "            '',\n",
    "            'observations']\n",
    "\n",
    "# make a grand table\n",
    "reg_table = pd.DataFrame(result_table.iloc[:,:-1].values.T,columns=result_table['model'])\n",
    "reg_table.iloc[-1,4:] = np.repeat('',4)\n",
    "reg_table.index.name = None\n",
    "reg_table.columns.name = None\n"
   ]
  },
  {
   "cell_type": "code",
   "execution_count": 13,
   "metadata": {},
   "outputs": [
    {
     "name": "stderr",
     "output_type": "stream",
     "text": [
      "C:\\Users\\zarkwang\\AppData\\Local\\Temp\\ipykernel_17260\\3144719332.py:3: SettingWithCopyWarning: \n",
      "A value is trying to be set on a copy of a slice from a DataFrame\n",
      "\n",
      "See the caveats in the documentation: https://pandas.pydata.org/pandas-docs/stable/user_guide/indexing.html#returning-a-view-versus-a-copy\n",
      "  reg_table_combined.loc['muller_welsh'] = [\n"
     ]
    }
   ],
   "source": [
    "reg_table_combined = reg_table.iloc[:,[0,1,2,3,6,7]]\n",
    "reg_table_combined.columns = ['(1) Pool', '(2) Pool', '(3) FE', '(4) FE','(5) RLM', '(6) RLM']\n",
    "reg_table_combined.loc['muller_welsh'] = [\n",
    "                    '','','','',\n",
    "                    str(round(bootstrap_rlm_fe_baseline_k.muller_welsh_criterion(),3)),\n",
    "                    str(round(bootstrap_rlm_fe_label_k.muller_welsh_criterion(),3))]\n",
    "reg_table_combined.index = param_list + ['adj-$R^2$','Muller-Welsh']\n",
    "\n",
    "utils.make_table(reg_table_combined,'tables/reg_combined.tex')"
   ]
  },
  {
   "cell_type": "code",
   "execution_count": 14,
   "metadata": {},
   "outputs": [],
   "source": [
    "\n",
    "# split the OLS table from the grand table\n",
    "reg_table_1 = reg_table.iloc[:,:4]\n",
    "reg_table_1.columns = ['(1) Pooled', '(2) Pooled', '(3) FE', '(4) FE']\n",
    "reg_table_1.index = param_list + ['adj-$R^2$']\n",
    "\n",
    "# split the RLM table from the grand table\n",
    "reg_table_2 = reg_table.iloc[:-1,4:]\n",
    "reg_table_2.loc['muller_welsh'] = np.round([\n",
    "                    bootstrap_rlm_pool_baseline_k.muller_welsh_criterion(),\n",
    "                    bootstrap_rlm_pool_label_k.muller_welsh_criterion(),\n",
    "                    bootstrap_rlm_fe_baseline_k.muller_welsh_criterion(),\n",
    "                    bootstrap_rlm_fe_label_k.muller_welsh_criterion()],3).astype(str)\n",
    "\n",
    "reg_table_2.columns = ['(5) Pooled', '(6) Pooled', '(7) FE', '(8) FE']\n",
    "reg_table_2.index = param_list + ['Muller-Welsh']\n",
    "\n",
    "# write latex code\n",
    "utils.make_table(reg_table_1,'tables/reg_ols.tex')\n",
    "utils.make_table(reg_table_2,'tables/reg_rlm.tex')"
   ]
  },
  {
   "cell_type": "code",
   "execution_count": 15,
   "metadata": {},
   "outputs": [],
   "source": [
    "# Make table for GMM results\n",
    "with open('model_reg_result_gm.json', 'r') as f:\n",
    "    reg_result = json.load(f)\n",
    "\n",
    "col_names = col_name_list[4:] + ['nobs']\n",
    "\n",
    "result_table = utils.draw_df_from_result(reg_result,col_names)\n",
    "\n",
    "reg_table = pd.DataFrame(result_table.iloc[[1,3],:-1].values.T,columns=result_table['model'][[1,3]])\n",
    "reg_table.columns.name = None\n",
    "reg_table.loc['muller_welsh'] = np.round([\n",
    "                    bootstrap_rlm_pool_label_gm.muller_welsh_criterion(),\n",
    "                    bootstrap_rlm_fe_label_gm.muller_welsh_criterion()],3).astype(str)\n",
    "\n",
    "reg_table.columns = ['(1) Pooled', '(2) FE']\n",
    "reg_table.index = param_list[4:] + ['Muller-Welsh']\n",
    "\n",
    "utils.make_table(reg_table,'tables/reg_rlm_GMM.tex')"
   ]
  },
  {
   "cell_type": "code",
   "execution_count": 16,
   "metadata": {},
   "outputs": [
    {
     "name": "stdout",
     "output_type": "stream",
     "text": [
      "                    median_coef        se       mad   ci_lower   ci_upper\n",
      "const                 52.241917  0.357480  0.246990  51.584584  52.991907\n",
      "front_amount_6m_0     -0.009450  0.000971  0.000648  -0.011334  -0.007524\n",
      "front_amount_12m_0    -0.012113  0.000969  0.000677  -0.013936  -0.010143\n",
      "front_amount_6m_1      0.000456  0.000446  0.000289  -0.000417   0.001356\n",
      "front_amount_12m_1     0.000652  0.000406  0.000276  -0.000128   0.001472\n",
      "choice_peli            1.878645  0.389942  0.273772   1.120825   2.593016\n",
      "M-W Criterion: 142.30425182614027\n"
     ]
    }
   ],
   "source": [
    "with open('bootstrap/bootstrap_rlm_GMM_fe_label.pkl', 'rb') as file:\n",
    "    bootstrap_rlm_fe_label_full_gm = pickle.load(file)\n",
    "\n",
    "print(bootstrap_rlm_fe_label_full_gm.conf_int())\n",
    "print('M-W Criterion:',bootstrap_rlm_fe_label_full_gm.muller_welsh_criterion())"
   ]
  },
  {
   "cell_type": "code",
   "execution_count": 17,
   "metadata": {},
   "outputs": [
    {
     "name": "stdout",
     "output_type": "stream",
     "text": [
      "                    median_coef        se       mad   ci_lower   ci_upper\n",
      "const                 52.721028  0.368049  0.246641  52.032330  53.471182\n",
      "front_amount_6m_0     -0.000727  0.000446  0.000302  -0.001535   0.000151\n",
      "front_amount_12m_0    -0.000947  0.000456  0.000304  -0.001889  -0.000074\n",
      "front_amount_6m_1     -0.017358  0.001583  0.001019  -0.020339  -0.014093\n",
      "front_amount_12m_1    -0.021893  0.001560  0.001081  -0.024835  -0.018782\n",
      "choice_peli            1.622464  0.388625  0.266264   0.828622   2.318951\n",
      "M-W Criterion: 138.35394656438257\n"
     ]
    }
   ],
   "source": [
    "with open('bootstrap/full_bootstrap_rlm_fe_label_k.pkl', 'rb') as file:\n",
    "    bootstrap_rlm_fe_label_full = pickle.load(file)\n",
    "\n",
    "print(bootstrap_rlm_fe_label_full.conf_int())\n",
    "print('M-W Criterion:',bootstrap_rlm_fe_label_full.muller_welsh_criterion())"
   ]
  },
  {
   "cell_type": "code",
   "execution_count": 18,
   "metadata": {},
   "outputs": [
    {
     "name": "stdout",
     "output_type": "stream",
     "text": [
      "                  median_coef        se       mad   ci_lower   ci_upper\n",
      "const               52.280060  0.370942  0.258848  51.608717  52.990787\n",
      "front_amount_6m     -0.004677  0.000542  0.000358  -0.005700  -0.003596\n",
      "front_amount_12m    -0.006076  0.000563  0.000378  -0.007272  -0.005033\n",
      "choice_peli          1.540714  0.400306  0.273646   0.764057   2.347958\n",
      "M-W Criterion: 145.42191181173675\n"
     ]
    }
   ],
   "source": [
    "with open('bootstrap/full_bootstrap_rlm_fe_baseline_k.pkl', 'rb') as file:\n",
    "    bootstrap_rlm_fe_baseline_full = pickle.load(file)\n",
    "\n",
    "print(bootstrap_rlm_fe_baseline_full.conf_int())\n",
    "print('M-W Criterion:',bootstrap_rlm_fe_baseline_full.muller_welsh_criterion())"
   ]
  },
  {
   "cell_type": "code",
   "execution_count": 19,
   "metadata": {},
   "outputs": [
    {
     "data": {
      "image/png": "[encoded data removed]",
      "text/plain": [
       "<Figure size 600x400 with 1 Axes>"
      ]
     },
     "metadata": {},
     "output_type": "display_data"
    }
   ],
   "source": [
    "ci_table = bootstrap_rlm_fe_label_full.conf_int().iloc[1:,:]\n",
    "ci_table['coef'] = bootstrap_rlm_fe_label_full.model.params[bootstrap_rlm_fe_label_full.param_names]\n",
    "ci_table = ci_table.iloc[:-1,:]\n",
    "\n",
    "plt.figure(figsize=(6, 4)) \n",
    "plt.errorbar(x=ci_table['coef'], y=ci_table.index, \n",
    "             xerr=[ci_table['median_coef'] - ci_table['ci_lower'], ci_table['ci_upper'] - ci_table['median_coef']], \n",
    "             fmt='none', color='black',\n",
    "             capsize=3)\n",
    "plt.scatter(x=ci_table['coef'], y=ci_table.index, color = 'black')\n",
    "plt.axvline(x = 0, color = 'red', linestyle = 'dashed')\n",
    "\n",
    "\n",
    "label_param_list = [\n",
    "            r'$X_1\\cdot1\\{T=T_L\\}\\times$ Cluster 1',\n",
    "            r'$X_1\\cdot1\\{T=T_H\\}\\times$ Cluster 1',\n",
    "            r'$X_1\\cdot1\\{T=T_L\\}\\times$ Cluster 2',\n",
    "            r'$X_1\\cdot1\\{T=T_H\\}\\times$ Cluster 2'\n",
    "            ]\n",
    "\n",
    "plt.yticks(ci_table.index,label_param_list)\n",
    "plt.xticks(np.arange(-0.025,0.005,step=0.005))\n",
    "plt.xlim((-0.028,0.002))\n",
    "plt.show()"
   ]
  },
  {
   "cell_type": "code",
   "execution_count": 20,
   "metadata": {},
   "outputs": [
    {
     "data": {
      "image/png": "[encoded data removed]",
      "text/plain": [
       "<Figure size 600x400 with 1 Axes>"
      ]
     },
     "metadata": {},
     "output_type": "display_data"
    }
   ],
   "source": [
    "ci_table = bootstrap_rlm_fe_baseline_full.conf_int().iloc[1:,:]\n",
    "ci_table['coef'] = bootstrap_rlm_fe_baseline_full.model.params[bootstrap_rlm_fe_baseline_full.param_names]\n",
    "ci_table = ci_table.iloc[:-1,:]\n",
    "\n",
    "plt.figure(figsize=(6, 4)) \n",
    "plt.errorbar(x=ci_table['coef'], y=ci_table.index, \n",
    "             xerr=[ci_table['median_coef'] - ci_table['ci_lower'], ci_table['ci_upper'] - ci_table['median_coef']], \n",
    "             fmt='none', color='black',\n",
    "             capsize=3)\n",
    "plt.scatter(x=ci_table['coef'], y=ci_table.index, color = 'black')\n",
    "plt.axvline(x = 0, color = 'red', linestyle = 'dashed')\n",
    "\n",
    "label_param_list = [\n",
    "            r'$X_1\\cdot1\\{T=T_L\\}$',\n",
    "            r'$X_1\\cdot1\\{T=T_H\\}$'\n",
    "            ]\n",
    "\n",
    "plt.yticks(ci_table.index,label_param_list)\n",
    "plt.xticks(np.arange(-0.025,0.005,step=0.005))\n",
    "plt.xlim((-0.028,0.002))\n",
    "plt.show()"
   ]
  },
  {
   "cell_type": "code",
   "execution_count": 21,
   "metadata": {},
   "outputs": [
    {
     "data": {
      "image/png": "[encoded data removed]",
      "text/plain": [
       "<Figure size 600x400 with 1 Axes>"
      ]
     },
     "metadata": {},
     "output_type": "display_data"
    }
   ],
   "source": [
    "ci_table = bootstrap_rlm_fe_label_full_gm.conf_int()\n",
    "ci_table['coef'] = bootstrap_rlm_fe_label_full_gm.model.params[bootstrap_rlm_fe_label_full_gm.param_names]\n",
    "ci_table = ci_table.iloc[1:-1,:]\n",
    "ci_table = ci_table.loc[['front_amount_6m_1', 'front_amount_12m_1', 'front_amount_6m_0','front_amount_12m_0']]\n",
    "\n",
    "plt.figure(figsize=(6, 4)) \n",
    "plt.errorbar(x=ci_table['median_coef'], y=ci_table.index, \n",
    "             xerr=[ci_table['median_coef'] - ci_table['ci_lower'], ci_table['ci_upper'] - ci_table['median_coef']], \n",
    "             fmt='none', color='black',\n",
    "             capsize=3)\n",
    "plt.scatter(x=ci_table['coef'], y=ci_table.index, color = 'black')\n",
    "plt.axvline(x = 0, color = 'red', linestyle = 'dashed')\n",
    "\n",
    "\n",
    "label_param_list = [\n",
    "            r'$X_1\\cdot1\\{T=T_L\\}\\times$ Cluster 1',\n",
    "            r'$X_1\\cdot1\\{T=T_H\\}\\times$ Cluster 1',\n",
    "            r'$X_1\\cdot1\\{T=T_L\\}\\times$ Cluster 2',\n",
    "            r'$X_1\\cdot1\\{T=T_H\\}\\times$ Cluster 2'\n",
    "            ]\n",
    "\n",
    "plt.yticks(ci_table.index,label_param_list)\n",
    "plt.xticks(np.arange(-0.025,0.01,step=0.005))\n",
    "plt.xlim((-0.028,0.005))\n",
    "plt.show()"
   ]
  },
  {
   "cell_type": "code",
   "execution_count": null,
   "metadata": {},
   "outputs": [],
   "source": []
  }
 ],
 "metadata": {
  "kernelspec": {
   "display_name": "Python 3",
   "language": "python",
   "name": "python3"
  },
  "language_info": {
   "codemirror_mode": {
    "name": "ipython",
    "version": 3
   },
   "file_extension": ".py",
   "mimetype": "text/x-python",
   "name": "python",
   "nbconvert_exporter": "python",
   "pygments_lexer": "ipython3",
   "version": "3.10.6"
  }
 },
 "nbformat": 4,
 "nbformat_minor": 2
}
