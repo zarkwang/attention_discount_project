{
 "cells": [
  {
   "cell_type": "code",
   "execution_count": 4,
   "metadata": {},
   "outputs": [],
   "source": [
    "%reload_ext autoreload\n",
    "%autoreload 2\n",
    "\n",
    "import json\n",
    "import pickle\n",
    "import pandas as pd\n",
    "import numpy as np\n",
    "import matplotlib.pyplot as plt\n",
    "import matplotlib as mpl\n",
    "from scipy import stats\n",
    "from sklearn.cluster import KMeans\n",
    "import statsmodels.api as sm\n",
    "from lib import utils\n",
    "\n",
    "\n",
    "mpl.rcParams['font.family'] = 'times new roman'\n",
    "mpl.rcParams['font.size'] = 16"
   ]
  },
  {
   "cell_type": "code",
   "execution_count": 5,
   "metadata": {},
   "outputs": [],
   "source": [
    "df = pd.read_csv('valid_sequence_data.csv',index_col=0)"
   ]
  },
  {
   "cell_type": "code",
   "execution_count": 6,
   "metadata": {},
   "outputs": [
    {
     "name": "stdout",
     "output_type": "stream",
     "text": [
      "Number of participants in each cluster: [105  55   1]\n"
     ]
    }
   ],
   "source": [
    "# If data is clustered to three groups, one of these groups only has 9 subjects\n",
    "# This explains why we only cluster subjects to two groups \n",
    "df_time_pivot_2 = df.pivot(index='worker_id', columns='reward', values='value_surplus')\n",
    "kmeans = KMeans(n_clusters=3,random_state=42)\n",
    "kmeans.fit(df_time_pivot_2.values)\n",
    "print('Number of participants in each cluster:',np.bincount(kmeans.labels_))"
   ]
  },
  {
   "cell_type": "code",
   "execution_count": 7,
   "metadata": {},
   "outputs": [
    {
     "name": "stdout",
     "output_type": "stream",
     "text": [
      "SignificanceResult(statistic=-0.04871921859566945, pvalue=0.020717183445793052)\n",
      "SignificanceResult(statistic=-0.01543062586818839, pvalue=0.5563145093935986)\n",
      "SignificanceResult(statistic=-0.1892458603593054, pvalue=7.190225038954018e-08)\n"
     ]
    }
   ],
   "source": [
    "# Spearman rank-order correlation\n",
    "# the entire sample\n",
    "print(stats.spearmanr(df['value_surplus'],df['front_amount']))\n",
    "\n",
    "# cluster 1\n",
    "print(stats.spearmanr(df[df['label_kmeans'] == 0]['value_surplus'],\n",
    "                df[df['label_kmeans'] == 0]['front_amount']))\n",
    "\n",
    "# cluster 2\n",
    "print(stats.spearmanr(df[df['label_kmeans'] == 1]['value_surplus'],\n",
    "                    df[df['label_kmeans'] == 1]['front_amount']))"
   ]
  },
  {
   "cell_type": "code",
   "execution_count": 8,
   "metadata": {},
   "outputs": [
    {
     "name": "stdout",
     "output_type": "stream",
     "text": [
      "Number of outliers (lower and upper): [5, 7]\n"
     ]
    }
   ],
   "source": [
    "df['front_amount_6m'] = df['front_amount'] * (df['seq_length'] == '6 months')\n",
    "df['front_amount_12m'] = df['front_amount'] * (df['seq_length'] == '12 months')\n",
    "df['front_amount_6m_0'] = df['front_amount_6m']  * (df['label_kmeans'] == 0)\n",
    "df['front_amount_6m_1'] = df['front_amount_6m']  * (df['label_kmeans'] == 1)\n",
    "df['front_amount_12m_0'] = df['front_amount_12m']  * (df['label_kmeans'] == 0)\n",
    "df['front_amount_12m_1'] = df['front_amount_12m']  * (df['label_kmeans'] == 1)\n",
    "\n",
    "\n",
    "df_dummy = pd.concat([df,pd.get_dummies(df['worker_id'], prefix='worker_id')],axis=1)\n",
    "df_filtered = utils.rule_out_outlier(df_dummy,col_name='value_surplus')\n",
    "\n",
    "reg_cols_baseline = ['front_amount_6m','front_amount_12m','choice_peli']\n",
    "reg_cols_label = ['front_amount_6m_0','front_amount_12m_0','front_amount_6m_1','front_amount_12m_1','choice_peli']\n",
    "reg_cols_dummy = reg_cols_baseline + [col for col in df_dummy.columns if col.startswith('worker_id_')]\n",
    "reg_cols_dummy_2 = reg_cols_label + [col for col in df_dummy.columns if col.startswith('worker_id_')]\n",
    "\n",
    "\n",
    "formula_pool_1 = 'value_surplus ~ front_amount_6m + front_amount_12m + choice_peli'\n",
    "model_ols_pool_1 = sm.OLS.from_formula(formula_pool_1,data=df_filtered).fit(\n",
    "                                        cov_type='cluster',cov_kwds={'groups': df_filtered['worker_id']})"
   ]
  },
  {
   "cell_type": "code",
   "execution_count": 9,
   "metadata": {},
   "outputs": [],
   "source": [
    "formula_pool_2 = 'value_surplus ~ front_amount_6m_0 + front_amount_12m_0 + front_amount_6m_1 + front_amount_12m_1 + choice_peli'\n",
    "model_ols_pool_2 = sm.OLS.from_formula(formula_pool_2,data=df_filtered).fit(\n",
    "                                        cov_type='cluster',cov_kwds={'groups': df_filtered['worker_id']})"
   ]
  },
  {
   "cell_type": "code",
   "execution_count": 10,
   "metadata": {},
   "outputs": [
    {
     "data": {
      "text/html": [
       "<div>\n",
       "<style scoped>\n",
       "    .dataframe tbody tr th:only-of-type {\n",
       "        vertical-align: middle;\n",
       "    }\n",
       "\n",
       "    .dataframe tbody tr th {\n",
       "        vertical-align: top;\n",
       "    }\n",
       "\n",
       "    .dataframe thead th {\n",
       "        text-align: right;\n",
       "    }\n",
       "</style>\n",
       "<table border=\"1\" class=\"dataframe\">\n",
       "  <thead>\n",
       "    <tr style=\"text-align: right;\">\n",
       "      <th></th>\n",
       "      <th>coef</th>\n",
       "      <th>pvalues</th>\n",
       "      <th>ci_lower</th>\n",
       "      <th>ci_upper</th>\n",
       "    </tr>\n",
       "  </thead>\n",
       "  <tbody>\n",
       "    <tr>\n",
       "      <th>front_amount_6m</th>\n",
       "      <td>-0.005829</td>\n",
       "      <td>0.005440</td>\n",
       "      <td>-0.00994</td>\n",
       "      <td>-0.001719</td>\n",
       "    </tr>\n",
       "    <tr>\n",
       "      <th>front_amount_12m</th>\n",
       "      <td>-0.005720</td>\n",
       "      <td>0.008665</td>\n",
       "      <td>-0.00999</td>\n",
       "      <td>-0.001449</td>\n",
       "    </tr>\n",
       "    <tr>\n",
       "      <th>choice_peli</th>\n",
       "      <td>8.796278</td>\n",
       "      <td>0.000000</td>\n",
       "      <td>8.76846</td>\n",
       "      <td>8.824097</td>\n",
       "    </tr>\n",
       "  </tbody>\n",
       "</table>\n",
       "</div>"
      ],
      "text/plain": [
       "                      coef   pvalues  ci_lower  ci_upper\n",
       "front_amount_6m  -0.005829  0.005440  -0.00994 -0.001719\n",
       "front_amount_12m -0.005720  0.008665  -0.00999 -0.001449\n",
       "choice_peli       8.796278  0.000000   8.76846  8.824097"
      ]
     },
     "execution_count": 10,
     "metadata": {},
     "output_type": "execute_result"
    }
   ],
   "source": [
    "formula_fe = formula_pool_1 + '+C(worker_id)'\n",
    "model_ols_fe = sm.OLS.from_formula(formula_fe,data=df_filtered).fit(\n",
    "                                        cov_type='cluster',cov_kwds={'groups': df_filtered['worker_id']})\n",
    "\n",
    "pd.concat([model_ols_fe.params[reg_cols_baseline].rename('coef'),\n",
    "           model_ols_fe.pvalues[reg_cols_baseline].rename('pvalues'),\n",
    "           model_ols_fe.conf_int().loc[reg_cols_baseline].rename(columns={0:'ci_lower',1:'ci_upper'})],\n",
    "           axis=1)"
   ]
  },
  {
   "cell_type": "code",
   "execution_count": 11,
   "metadata": {},
   "outputs": [
    {
     "data": {
      "text/html": [
       "<div>\n",
       "<style scoped>\n",
       "    .dataframe tbody tr th:only-of-type {\n",
       "        vertical-align: middle;\n",
       "    }\n",
       "\n",
       "    .dataframe tbody tr th {\n",
       "        vertical-align: top;\n",
       "    }\n",
       "\n",
       "    .dataframe thead th {\n",
       "        text-align: right;\n",
       "    }\n",
       "</style>\n",
       "<table border=\"1\" class=\"dataframe\">\n",
       "  <thead>\n",
       "    <tr style=\"text-align: right;\">\n",
       "      <th></th>\n",
       "      <th>coef</th>\n",
       "      <th>pvalues</th>\n",
       "      <th>ci_lower</th>\n",
       "      <th>ci_upper</th>\n",
       "    </tr>\n",
       "  </thead>\n",
       "  <tbody>\n",
       "    <tr>\n",
       "      <th>front_amount_6m_0</th>\n",
       "      <td>0.002182</td>\n",
       "      <td>2.327582e-01</td>\n",
       "      <td>-0.001402</td>\n",
       "      <td>0.005765</td>\n",
       "    </tr>\n",
       "    <tr>\n",
       "      <th>front_amount_12m_0</th>\n",
       "      <td>0.003181</td>\n",
       "      <td>1.091919e-01</td>\n",
       "      <td>-0.000711</td>\n",
       "      <td>0.007074</td>\n",
       "    </tr>\n",
       "    <tr>\n",
       "      <th>front_amount_6m_1</th>\n",
       "      <td>-0.020469</td>\n",
       "      <td>1.150768e-06</td>\n",
       "      <td>-0.028718</td>\n",
       "      <td>-0.012221</td>\n",
       "    </tr>\n",
       "    <tr>\n",
       "      <th>front_amount_12m_1</th>\n",
       "      <td>-0.021932</td>\n",
       "      <td>1.162556e-07</td>\n",
       "      <td>-0.030043</td>\n",
       "      <td>-0.013820</td>\n",
       "    </tr>\n",
       "    <tr>\n",
       "      <th>choice_peli</th>\n",
       "      <td>6.520186</td>\n",
       "      <td>3.281062e-62</td>\n",
       "      <td>5.752435</td>\n",
       "      <td>7.287937</td>\n",
       "    </tr>\n",
       "  </tbody>\n",
       "</table>\n",
       "</div>"
      ],
      "text/plain": [
       "                        coef       pvalues  ci_lower  ci_upper\n",
       "front_amount_6m_0   0.002182  2.327582e-01 -0.001402  0.005765\n",
       "front_amount_12m_0  0.003181  1.091919e-01 -0.000711  0.007074\n",
       "front_amount_6m_1  -0.020469  1.150768e-06 -0.028718 -0.012221\n",
       "front_amount_12m_1 -0.021932  1.162556e-07 -0.030043 -0.013820\n",
       "choice_peli         6.520186  3.281062e-62  5.752435  7.287937"
      ]
     },
     "execution_count": 11,
     "metadata": {},
     "output_type": "execute_result"
    }
   ],
   "source": [
    "formula_fe_2 = formula_pool_2 + '+C(worker_id)'\n",
    "model_ols_fe_2 = sm.OLS.from_formula(formula_fe_2,data=df_filtered).fit(\n",
    "                                        cov_type='cluster',cov_kwds={'groups': df_filtered['worker_id']})\n",
    "\n",
    "pd.concat([model_ols_fe_2.params[reg_cols_label].rename('coef'),\n",
    "           model_ols_fe_2.pvalues[reg_cols_label].rename('pvalues'),\n",
    "           model_ols_fe_2.conf_int().loc[reg_cols_label].rename(columns={0:'ci_lower',1:'ci_upper'})],\n",
    "           axis=1)"
   ]
  },
  {
   "cell_type": "code",
   "execution_count": 12,
   "metadata": {},
   "outputs": [
    {
     "data": {
      "text/html": [
       "<table class=\"simpletable\">\n",
       "<caption>Robust linear Model Regression Results</caption>\n",
       "<tr>\n",
       "  <th>Dep. Variable:</th>                             <td>value_surplus</td>                           <th>  No. Observations:  </th> <td>  2254</td>\n",
       "</tr>\n",
       "<tr>\n",
       "  <th>Model:</th>                                          <td>RLM</td>                                <th>  Df Residuals:      </th> <td>  2250</td>\n",
       "</tr>\n",
       "<tr>\n",
       "  <th>Method:</th>                                        <td>IRLS</td>                                <th>  Df Model:          </th> <td>     3</td>\n",
       "</tr>\n",
       "<tr>\n",
       "  <th>Norm:</th>                                         <td>HuberT</td>                               <th>                     </th>    <td> </td>  \n",
       "</tr>\n",
       "<tr>\n",
       "  <th>Scale Est.:</th>     <td><statsmodels.robust.scale.HuberScale object at 0x000001D928C6B690></td> <th>                     </th>    <td> </td>  \n",
       "</tr>\n",
       "<tr>\n",
       "  <th>Cov Type:</th>                                       <td>H1</td>                                 <th>                     </th>    <td> </td>  \n",
       "</tr>\n",
       "<tr>\n",
       "  <th>Date:</th>                                    <td>Sun, 11 Feb 2024</td>                          <th>                     </th>    <td> </td>  \n",
       "</tr>\n",
       "<tr>\n",
       "  <th>Time:</th>                                        <td>02:35:28</td>                              <th>                     </th>    <td> </td>  \n",
       "</tr>\n",
       "<tr>\n",
       "  <th>No. Iterations:</th>                                 <td>12</td>                                 <th>                     </th>    <td> </td>  \n",
       "</tr>\n",
       "</table>\n",
       "<table class=\"simpletable\">\n",
       "<tr>\n",
       "          <td></td>            <th>coef</th>     <th>std err</th>      <th>z</th>      <th>P>|z|</th>  <th>[0.025</th>    <th>0.975]</th>  \n",
       "</tr>\n",
       "<tr>\n",
       "  <th>const</th>            <td>   55.4254</td> <td>    0.970</td> <td>   57.118</td> <td> 0.000</td> <td>   53.523</td> <td>   57.327</td>\n",
       "</tr>\n",
       "<tr>\n",
       "  <th>front_amount_6m</th>  <td>   -0.0055</td> <td>    0.003</td> <td>   -2.137</td> <td> 0.033</td> <td>   -0.011</td> <td>   -0.000</td>\n",
       "</tr>\n",
       "<tr>\n",
       "  <th>front_amount_12m</th> <td>   -0.0068</td> <td>    0.003</td> <td>   -2.632</td> <td> 0.008</td> <td>   -0.012</td> <td>   -0.002</td>\n",
       "</tr>\n",
       "<tr>\n",
       "  <th>choice_peli</th>      <td>   -1.3322</td> <td>    0.865</td> <td>   -1.540</td> <td> 0.124</td> <td>   -3.027</td> <td>    0.363</td>\n",
       "</tr>\n",
       "</table><br/><br/>If the model instance has been used for another fit with different fit parameters, then the fit options might not be the correct ones anymore ."
      ],
      "text/latex": [
       "\\begin{center}\n",
       "\\begin{tabular}{lclc}\n",
       "\\toprule\n",
       "\\textbf{Dep. Variable:}     &                            value\\_surplus                            & \\textbf{  No. Observations:  } &     2254    \\\\\n",
       "\\textbf{Model:}             &                                 RLM                                  & \\textbf{  Df Residuals:      } &     2250    \\\\\n",
       "\\textbf{Method:}            &                                 IRLS                                 & \\textbf{  Df Model:          } &        3    \\\\\n",
       "\\textbf{Norm:}              &                                HuberT                                & \\textbf{                     } &             \\\\\n",
       "\\textbf{Scale Est.:}        & <statsmodels.robust.scale.HuberScale object at 0x000001D92A1A5150$>$ & \\textbf{                     } &             \\\\\n",
       "\\textbf{Cov Type:}          &                                  H1                                  & \\textbf{                     } &             \\\\\n",
       "\\textbf{Date:}              &                           Sun, 11 Feb 2024                           & \\textbf{                     } &             \\\\\n",
       "\\textbf{Time:}              &                               02:35:28                               & \\textbf{                     } &             \\\\\n",
       "\\textbf{No. Iterations:}    &                                  12                                  & \\textbf{                     } &             \\\\\n",
       "\\bottomrule\n",
       "\\end{tabular}\n",
       "\\begin{tabular}{lcccccc}\n",
       "                            & \\textbf{coef} & \\textbf{std err} & \\textbf{z} & \\textbf{P$> |$z$|$} & \\textbf{[0.025} & \\textbf{0.975]}  \\\\\n",
       "\\midrule\n",
       "\\textbf{const}              &      55.4254  &        0.970     &    57.118  &         0.000        &       53.523    &       57.327     \\\\\n",
       "\\textbf{front\\_amount\\_6m}  &      -0.0055  &        0.003     &    -2.137  &         0.033        &       -0.011    &       -0.000     \\\\\n",
       "\\textbf{front\\_amount\\_12m} &      -0.0068  &        0.003     &    -2.632  &         0.008        &       -0.012    &       -0.002     \\\\\n",
       "\\textbf{choice\\_peli}       &      -1.3322  &        0.865     &    -1.540  &         0.124        &       -3.027    &        0.363     \\\\\n",
       "\\bottomrule\n",
       "\\end{tabular}\n",
       "%\\caption{Robust linear Model Regression Results}\n",
       "\\end{center}\n",
       "\n",
       "If the model instance has been used for another fit with different fit parameters, then the fit options might not be the correct ones anymore ."
      ],
      "text/plain": [
       "<class 'statsmodels.iolib.summary.Summary'>\n",
       "\"\"\"\n",
       "                                            Robust linear Model Regression Results                                            \n",
       "==============================================================================================================================\n",
       "Dep. Variable:                                                          value_surplus   No. Observations:                 2254\n",
       "Model:                                                                            RLM   Df Residuals:                     2250\n",
       "Method:                                                                          IRLS   Df Model:                            3\n",
       "Norm:                                                                          HuberT                                         \n",
       "Scale Est.:        <statsmodels.robust.scale.HuberScale object at 0x000001D928C6B690>                                         \n",
       "Cov Type:                                                                          H1                                         \n",
       "Date:                                                                Sun, 11 Feb 2024                                         \n",
       "Time:                                                                        02:35:28                                         \n",
       "No. Iterations:                                                                    12                                         \n",
       "====================================================================================\n",
       "                       coef    std err          z      P>|z|      [0.025      0.975]\n",
       "------------------------------------------------------------------------------------\n",
       "const               55.4254      0.970     57.118      0.000      53.523      57.327\n",
       "front_amount_6m     -0.0055      0.003     -2.137      0.033      -0.011      -0.000\n",
       "front_amount_12m    -0.0068      0.003     -2.632      0.008      -0.012      -0.002\n",
       "choice_peli         -1.3322      0.865     -1.540      0.124      -3.027       0.363\n",
       "====================================================================================\n",
       "\n",
       "If the model instance has been used for another fit with different fit parameters, then the fit options might not be the correct ones anymore .\n",
       "\"\"\""
      ]
     },
     "execution_count": 12,
     "metadata": {},
     "output_type": "execute_result"
    }
   ],
   "source": [
    "y = df['value_surplus']\n",
    "X = sm.add_constant(df[reg_cols_baseline]).astype(float)\n",
    "model_rlm_pool_1 = sm.RLM(endog=y,exog=X,M=sm.robust.norms.HuberT()).fit(maxiter=200,scale_est=sm.robust.scale.HuberScale())\n",
    "model_rlm_pool_1.summary()"
   ]
  },
  {
   "cell_type": "code",
   "execution_count": 13,
   "metadata": {},
   "outputs": [
    {
     "data": {
      "text/html": [
       "<table class=\"simpletable\">\n",
       "<caption>Robust linear Model Regression Results</caption>\n",
       "<tr>\n",
       "  <th>Dep. Variable:</th>                             <td>value_surplus</td>                           <th>  No. Observations:  </th> <td>  2254</td>\n",
       "</tr>\n",
       "<tr>\n",
       "  <th>Model:</th>                                          <td>RLM</td>                                <th>  Df Residuals:      </th> <td>  2248</td>\n",
       "</tr>\n",
       "<tr>\n",
       "  <th>Method:</th>                                        <td>IRLS</td>                                <th>  Df Model:          </th> <td>     5</td>\n",
       "</tr>\n",
       "<tr>\n",
       "  <th>Norm:</th>                                         <td>HuberT</td>                               <th>                     </th>    <td> </td>  \n",
       "</tr>\n",
       "<tr>\n",
       "  <th>Scale Est.:</th>     <td><statsmodels.robust.scale.HuberScale object at 0x000001D928F82DD0></td> <th>                     </th>    <td> </td>  \n",
       "</tr>\n",
       "<tr>\n",
       "  <th>Cov Type:</th>                                       <td>H1</td>                                 <th>                     </th>    <td> </td>  \n",
       "</tr>\n",
       "<tr>\n",
       "  <th>Date:</th>                                    <td>Sun, 11 Feb 2024</td>                          <th>                     </th>    <td> </td>  \n",
       "</tr>\n",
       "<tr>\n",
       "  <th>Time:</th>                                        <td>02:35:29</td>                              <th>                     </th>    <td> </td>  \n",
       "</tr>\n",
       "<tr>\n",
       "  <th>No. Iterations:</th>                                 <td>16</td>                                 <th>                     </th>    <td> </td>  \n",
       "</tr>\n",
       "</table>\n",
       "<table class=\"simpletable\">\n",
       "<tr>\n",
       "           <td></td>             <th>coef</th>     <th>std err</th>      <th>z</th>      <th>P>|z|</th>  <th>[0.025</th>    <th>0.975]</th>  \n",
       "</tr>\n",
       "<tr>\n",
       "  <th>const</th>              <td>   56.2852</td> <td>    0.732</td> <td>   76.858</td> <td> 0.000</td> <td>   54.850</td> <td>   57.720</td>\n",
       "</tr>\n",
       "<tr>\n",
       "  <th>front_amount_6m_0</th>  <td>    0.0158</td> <td>    0.002</td> <td>    7.321</td> <td> 0.000</td> <td>    0.012</td> <td>    0.020</td>\n",
       "</tr>\n",
       "<tr>\n",
       "  <th>front_amount_12m_0</th> <td>    0.0156</td> <td>    0.002</td> <td>    7.202</td> <td> 0.000</td> <td>    0.011</td> <td>    0.020</td>\n",
       "</tr>\n",
       "<tr>\n",
       "  <th>front_amount_6m_1</th>  <td>   -0.0601</td> <td>    0.003</td> <td>  -23.150</td> <td> 0.000</td> <td>   -0.065</td> <td>   -0.055</td>\n",
       "</tr>\n",
       "<tr>\n",
       "  <th>front_amount_12m_1</th> <td>   -0.0650</td> <td>    0.003</td> <td>  -25.056</td> <td> 0.000</td> <td>   -0.070</td> <td>   -0.060</td>\n",
       "</tr>\n",
       "<tr>\n",
       "  <th>choice_peli</th>        <td>   -1.5245</td> <td>    0.653</td> <td>   -2.335</td> <td> 0.020</td> <td>   -2.804</td> <td>   -0.245</td>\n",
       "</tr>\n",
       "</table><br/><br/>If the model instance has been used for another fit with different fit parameters, then the fit options might not be the correct ones anymore ."
      ],
      "text/latex": [
       "\\begin{center}\n",
       "\\begin{tabular}{lclc}\n",
       "\\toprule\n",
       "\\textbf{Dep. Variable:}        &                            value\\_surplus                            & \\textbf{  No. Observations:  } &     2254    \\\\\n",
       "\\textbf{Model:}                &                                 RLM                                  & \\textbf{  Df Residuals:      } &     2248    \\\\\n",
       "\\textbf{Method:}               &                                 IRLS                                 & \\textbf{  Df Model:          } &        5    \\\\\n",
       "\\textbf{Norm:}                 &                                HuberT                                & \\textbf{                     } &             \\\\\n",
       "\\textbf{Scale Est.:}           & <statsmodels.robust.scale.HuberScale object at 0x000001D92A1C38D0$>$ & \\textbf{                     } &             \\\\\n",
       "\\textbf{Cov Type:}             &                                  H1                                  & \\textbf{                     } &             \\\\\n",
       "\\textbf{Date:}                 &                           Sun, 11 Feb 2024                           & \\textbf{                     } &             \\\\\n",
       "\\textbf{Time:}                 &                               02:35:29                               & \\textbf{                     } &             \\\\\n",
       "\\textbf{No. Iterations:}       &                                  16                                  & \\textbf{                     } &             \\\\\n",
       "\\bottomrule\n",
       "\\end{tabular}\n",
       "\\begin{tabular}{lcccccc}\n",
       "                               & \\textbf{coef} & \\textbf{std err} & \\textbf{z} & \\textbf{P$> |$z$|$} & \\textbf{[0.025} & \\textbf{0.975]}  \\\\\n",
       "\\midrule\n",
       "\\textbf{const}                 &      56.2852  &        0.732     &    76.858  &         0.000        &       54.850    &       57.720     \\\\\n",
       "\\textbf{front\\_amount\\_6m\\_0}  &       0.0158  &        0.002     &     7.321  &         0.000        &        0.012    &        0.020     \\\\\n",
       "\\textbf{front\\_amount\\_12m\\_0} &       0.0156  &        0.002     &     7.202  &         0.000        &        0.011    &        0.020     \\\\\n",
       "\\textbf{front\\_amount\\_6m\\_1}  &      -0.0601  &        0.003     &   -23.150  &         0.000        &       -0.065    &       -0.055     \\\\\n",
       "\\textbf{front\\_amount\\_12m\\_1} &      -0.0650  &        0.003     &   -25.056  &         0.000        &       -0.070    &       -0.060     \\\\\n",
       "\\textbf{choice\\_peli}          &      -1.5245  &        0.653     &    -2.335  &         0.020        &       -2.804    &       -0.245     \\\\\n",
       "\\bottomrule\n",
       "\\end{tabular}\n",
       "%\\caption{Robust linear Model Regression Results}\n",
       "\\end{center}\n",
       "\n",
       "If the model instance has been used for another fit with different fit parameters, then the fit options might not be the correct ones anymore ."
      ],
      "text/plain": [
       "<class 'statsmodels.iolib.summary.Summary'>\n",
       "\"\"\"\n",
       "                                            Robust linear Model Regression Results                                            \n",
       "==============================================================================================================================\n",
       "Dep. Variable:                                                          value_surplus   No. Observations:                 2254\n",
       "Model:                                                                            RLM   Df Residuals:                     2248\n",
       "Method:                                                                          IRLS   Df Model:                            5\n",
       "Norm:                                                                          HuberT                                         \n",
       "Scale Est.:        <statsmodels.robust.scale.HuberScale object at 0x000001D928F82DD0>                                         \n",
       "Cov Type:                                                                          H1                                         \n",
       "Date:                                                                Sun, 11 Feb 2024                                         \n",
       "Time:                                                                        02:35:29                                         \n",
       "No. Iterations:                                                                    16                                         \n",
       "======================================================================================\n",
       "                         coef    std err          z      P>|z|      [0.025      0.975]\n",
       "--------------------------------------------------------------------------------------\n",
       "const                 56.2852      0.732     76.858      0.000      54.850      57.720\n",
       "front_amount_6m_0      0.0158      0.002      7.321      0.000       0.012       0.020\n",
       "front_amount_12m_0     0.0156      0.002      7.202      0.000       0.011       0.020\n",
       "front_amount_6m_1     -0.0601      0.003    -23.150      0.000      -0.065      -0.055\n",
       "front_amount_12m_1    -0.0650      0.003    -25.056      0.000      -0.070      -0.060\n",
       "choice_peli           -1.5245      0.653     -2.335      0.020      -2.804      -0.245\n",
       "======================================================================================\n",
       "\n",
       "If the model instance has been used for another fit with different fit parameters, then the fit options might not be the correct ones anymore .\n",
       "\"\"\""
      ]
     },
     "execution_count": 13,
     "metadata": {},
     "output_type": "execute_result"
    }
   ],
   "source": [
    "y = df['value_surplus']\n",
    "X = sm.add_constant(df[reg_cols_label]).astype(float)\n",
    "model_rlm_pool_2 = sm.RLM(endog=y,exog=X,M=sm.robust.norms.HuberT()).fit(maxiter=200,scale_est=sm.robust.scale.HuberScale())\n",
    "model_rlm_pool_2.summary()"
   ]
  },
  {
   "cell_type": "code",
   "execution_count": 14,
   "metadata": {},
   "outputs": [
    {
     "data": {
      "text/html": [
       "<div>\n",
       "<style scoped>\n",
       "    .dataframe tbody tr th:only-of-type {\n",
       "        vertical-align: middle;\n",
       "    }\n",
       "\n",
       "    .dataframe tbody tr th {\n",
       "        vertical-align: top;\n",
       "    }\n",
       "\n",
       "    .dataframe thead th {\n",
       "        text-align: right;\n",
       "    }\n",
       "</style>\n",
       "<table border=\"1\" class=\"dataframe\">\n",
       "  <thead>\n",
       "    <tr style=\"text-align: right;\">\n",
       "      <th></th>\n",
       "      <th>coef</th>\n",
       "      <th>pvalues</th>\n",
       "      <th>ci_lower</th>\n",
       "      <th>ci_upper</th>\n",
       "    </tr>\n",
       "  </thead>\n",
       "  <tbody>\n",
       "    <tr>\n",
       "      <th>front_amount_6m</th>\n",
       "      <td>-0.005190</td>\n",
       "      <td>6.105280e-07</td>\n",
       "      <td>-0.007230</td>\n",
       "      <td>-0.003151</td>\n",
       "    </tr>\n",
       "    <tr>\n",
       "      <th>front_amount_12m</th>\n",
       "      <td>-0.006747</td>\n",
       "      <td>8.923453e-11</td>\n",
       "      <td>-0.008787</td>\n",
       "      <td>-0.004708</td>\n",
       "    </tr>\n",
       "    <tr>\n",
       "      <th>choice_peli</th>\n",
       "      <td>1.431461</td>\n",
       "      <td>1.474419e-05</td>\n",
       "      <td>0.783884</td>\n",
       "      <td>2.079038</td>\n",
       "    </tr>\n",
       "  </tbody>\n",
       "</table>\n",
       "</div>"
      ],
      "text/plain": [
       "                      coef       pvalues  ci_lower  ci_upper\n",
       "front_amount_6m  -0.005190  6.105280e-07 -0.007230 -0.003151\n",
       "front_amount_12m -0.006747  8.923453e-11 -0.008787 -0.004708\n",
       "choice_peli       1.431461  1.474419e-05  0.783884  2.079038"
      ]
     },
     "execution_count": 14,
     "metadata": {},
     "output_type": "execute_result"
    }
   ],
   "source": [
    "y = df_dummy['value_surplus']\n",
    "X = sm.add_constant(df_dummy[reg_cols_dummy]).astype(float)\n",
    "model_rlm_fe = sm.RLM(endog=y,exog=X,M=sm.robust.norms.HuberT()).fit(maxiter=200,scale_est=sm.robust.scale.HuberScale())\n",
    "\n",
    "pd.concat([model_rlm_fe.params[reg_cols_baseline].rename('coef'),\n",
    "           model_rlm_fe.pvalues[reg_cols_baseline].rename('pvalues'),\n",
    "           model_rlm_fe.conf_int().loc[reg_cols_baseline].rename(columns={0:'ci_lower',1:'ci_upper'})],\n",
    "           axis=1)"
   ]
  },
  {
   "cell_type": "code",
   "execution_count": 15,
   "metadata": {},
   "outputs": [
    {
     "data": {
      "text/html": [
       "<div>\n",
       "<style scoped>\n",
       "    .dataframe tbody tr th:only-of-type {\n",
       "        vertical-align: middle;\n",
       "    }\n",
       "\n",
       "    .dataframe tbody tr th {\n",
       "        vertical-align: top;\n",
       "    }\n",
       "\n",
       "    .dataframe thead th {\n",
       "        text-align: right;\n",
       "    }\n",
       "</style>\n",
       "<table border=\"1\" class=\"dataframe\">\n",
       "  <thead>\n",
       "    <tr style=\"text-align: right;\">\n",
       "      <th></th>\n",
       "      <th>coef</th>\n",
       "      <th>pvalues</th>\n",
       "      <th>ci_lower</th>\n",
       "      <th>ci_upper</th>\n",
       "    </tr>\n",
       "  </thead>\n",
       "  <tbody>\n",
       "    <tr>\n",
       "      <th>front_amount_6m_0</th>\n",
       "      <td>0.000134</td>\n",
       "      <td>9.155041e-01</td>\n",
       "      <td>-0.002335</td>\n",
       "      <td>0.002603</td>\n",
       "    </tr>\n",
       "    <tr>\n",
       "      <th>front_amount_12m_0</th>\n",
       "      <td>-0.000072</td>\n",
       "      <td>9.546211e-01</td>\n",
       "      <td>-0.002541</td>\n",
       "      <td>0.002397</td>\n",
       "    </tr>\n",
       "    <tr>\n",
       "      <th>front_amount_6m_1</th>\n",
       "      <td>-0.017829</td>\n",
       "      <td>1.093544e-25</td>\n",
       "      <td>-0.021164</td>\n",
       "      <td>-0.014494</td>\n",
       "    </tr>\n",
       "    <tr>\n",
       "      <th>front_amount_12m_1</th>\n",
       "      <td>-0.022489</td>\n",
       "      <td>7.050665e-40</td>\n",
       "      <td>-0.025824</td>\n",
       "      <td>-0.019154</td>\n",
       "    </tr>\n",
       "    <tr>\n",
       "      <th>choice_peli</th>\n",
       "      <td>1.438963</td>\n",
       "      <td>7.660842e-06</td>\n",
       "      <td>0.808647</td>\n",
       "      <td>2.069279</td>\n",
       "    </tr>\n",
       "  </tbody>\n",
       "</table>\n",
       "</div>"
      ],
      "text/plain": [
       "                        coef       pvalues  ci_lower  ci_upper\n",
       "front_amount_6m_0   0.000134  9.155041e-01 -0.002335  0.002603\n",
       "front_amount_12m_0 -0.000072  9.546211e-01 -0.002541  0.002397\n",
       "front_amount_6m_1  -0.017829  1.093544e-25 -0.021164 -0.014494\n",
       "front_amount_12m_1 -0.022489  7.050665e-40 -0.025824 -0.019154\n",
       "choice_peli         1.438963  7.660842e-06  0.808647  2.069279"
      ]
     },
     "execution_count": 15,
     "metadata": {},
     "output_type": "execute_result"
    }
   ],
   "source": [
    "y = df_dummy['value_surplus']\n",
    "X = sm.add_constant(df_dummy[reg_cols_dummy_2]).astype(float)\n",
    "model_rlm_fe_2 = sm.RLM(endog=y,exog=X,M=sm.robust.norms.HuberT()).fit(maxiter=200,scale_est=sm.robust.scale.HuberScale())\n",
    "\n",
    "pd.concat([model_rlm_fe_2.params[reg_cols_label].rename('coef'),\n",
    "           model_rlm_fe_2.pvalues[reg_cols_label].rename('pvalues'),\n",
    "           model_rlm_fe_2.conf_int().loc[reg_cols_label].rename(columns={0:'ci_lower',1:'ci_upper'})],\n",
    "           axis=1)"
   ]
  },
  {
   "cell_type": "code",
   "execution_count": 16,
   "metadata": {},
   "outputs": [
    {
     "name": "stdout",
     "output_type": "stream",
     "text": [
      "NormaltestResult(statistic=1432.9044175816362, pvalue=0.0)\n"
     ]
    },
    {
     "data": {
      "image/png": "[encoded data removed]",
      "text/plain": [
       "<Figure size 640x480 with 1 Axes>"
      ]
     },
     "metadata": {},
     "output_type": "display_data"
    }
   ],
   "source": [
    "pplot = sm.ProbPlot(model_rlm_fe_2.resid)\n",
    "fig = pplot.qqplot(line='s')\n",
    "plt.title('Q-Q plot')\n",
    "print(stats.normaltest(model_rlm_fe_2.resid))"
   ]
  },
  {
   "cell_type": "code",
   "execution_count": 17,
   "metadata": {},
   "outputs": [],
   "source": [
    "# save regression results\n",
    "model_results = {'ols_pool_baseline':utils.get_reg_result(model_ols_pool_1,reg_cols_baseline),\n",
    "                 'ols_pool_label':utils.get_reg_result(model_ols_pool_2,reg_cols_label),\n",
    "                 'ols_fe_baseline':utils.get_reg_result(model_ols_fe,reg_cols_baseline),\n",
    "                 'ols_fe_label':utils.get_reg_result(model_ols_fe_2,reg_cols_label),\n",
    "                 'rlm_pool_baseline':utils.get_reg_result(model_rlm_pool_1,reg_cols_baseline),\n",
    "                 'rlm_pool_label':utils.get_reg_result(model_rlm_pool_2,reg_cols_label),\n",
    "                 'rlm_fe_baseline':utils.get_reg_result(model_rlm_fe,reg_cols_baseline),\n",
    "                 'rlm_fe_label':utils.get_reg_result(model_rlm_fe_2,reg_cols_label)\n",
    "                 }\n",
    "\n",
    "with open('model_reg_result_k.json', \"w\") as f:\n",
    "    json.dump(model_results, f)"
   ]
  },
  {
   "cell_type": "code",
   "execution_count": 18,
   "metadata": {},
   "outputs": [
    {
     "name": "stderr",
     "output_type": "stream",
     "text": [
      "100%|██████████| 1000/1000 [00:30<00:00, 33.07it/s]\n"
     ]
    }
   ],
   "source": [
    "model_bootstrap = utils.bootstrap_model(df,model=model_rlm_pool_1,param_names=reg_cols_baseline,n_bootstrap=1000)\n",
    "model_bootstrap.bootstrap()\n",
    "with open('bootstrap_rlm_pool_baseline_k.pkl', 'wb') as file:\n",
    "    pickle.dump(model_bootstrap, file)"
   ]
  },
  {
   "cell_type": "code",
   "execution_count": 19,
   "metadata": {},
   "outputs": [
    {
     "name": "stderr",
     "output_type": "stream",
     "text": [
      "100%|██████████| 1000/1000 [00:31<00:00, 31.33it/s]\n"
     ]
    }
   ],
   "source": [
    "model_bootstrap = utils.bootstrap_model(df,model=model_rlm_pool_2,param_names=reg_cols_label,n_bootstrap=1000)\n",
    "model_bootstrap.bootstrap()\n",
    "with open('bootstrap_rlm_pool_label_k.pkl', 'wb') as file:\n",
    "    pickle.dump(model_bootstrap, file)"
   ]
  },
  {
   "cell_type": "code",
   "execution_count": 20,
   "metadata": {},
   "outputs": [
    {
     "name": "stderr",
     "output_type": "stream",
     "text": [
      "100%|██████████| 1000/1000 [40:04<00:00,  2.40s/it] \n"
     ]
    }
   ],
   "source": [
    "model_bootstrap = utils.bootstrap_model(df,model=model_rlm_fe,param_names=reg_cols_baseline,n_bootstrap=1000,fe=True)\n",
    "model_bootstrap.bootstrap()\n",
    "with open('bootstrap_rlm_fe_baseline_k.pkl', 'wb') as file:\n",
    "    pickle.dump(model_bootstrap, file)"
   ]
  },
  {
   "cell_type": "code",
   "execution_count": 21,
   "metadata": {},
   "outputs": [
    {
     "name": "stderr",
     "output_type": "stream",
     "text": [
      "100%|██████████| 1000/1000 [31:29<00:00,  1.89s/it]\n"
     ]
    }
   ],
   "source": [
    "model_bootstrap = utils.bootstrap_model(df,model=model_rlm_fe_2,param_names=reg_cols_label,n_bootstrap=1000,fe=True)\n",
    "model_bootstrap.bootstrap()\n",
    "with open('bootstrap_rlm_fe_label_k.pkl', 'wb') as file:\n",
    "    pickle.dump(model_bootstrap, file)"
   ]
  },
  {
   "cell_type": "code",
   "execution_count": null,
   "metadata": {},
   "outputs": [],
   "source": []
  }
 ],
 "metadata": {
  "kernelspec": {
   "display_name": "Python 3",
   "language": "python",
   "name": "python3"
  },
  "language_info": {
   "codemirror_mode": {
    "name": "ipython",
    "version": 3
   },
   "file_extension": ".py",
   "mimetype": "text/x-python",
   "name": "python",
   "nbconvert_exporter": "python",
   "pygments_lexer": "ipython3",
   "version": "3.11.2"
  }
 },
 "nbformat": 4,
 "nbformat_minor": 2
}
