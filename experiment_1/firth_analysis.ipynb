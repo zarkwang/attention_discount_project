{
 "cells": [
  {
   "cell_type": "code",
   "execution_count": 1,
   "metadata": {},
   "outputs": [],
   "source": [
    "%reload_ext autoreload\n",
    "%autoreload 2\n",
    "import numpy as np\n",
    "import pandas as pd\n",
    "import scipy.stats as st\n",
    "import statsmodels.formula.api as smf\n",
    "import statsmodels.api as sm\n",
    "from firth import firthLogit"
   ]
  },
  {
   "cell_type": "code",
   "execution_count": 2,
   "metadata": {},
   "outputs": [],
   "source": [
    "# Load data\n",
    "df_choice = pd.read_csv('intertemporal_choice_obs.csv',sep=',',index_col=0)\n",
    "\n",
    "# Create dummy variables\n",
    "pid_dummies = pd.get_dummies(df_choice['pid'], prefix='pid')\n",
    "rw_dummies = pd.get_dummies(df_choice['b_fixed_rw'], prefix='factor_fixed_rw')\n",
    "delay_dummies = pd.get_dummies(df_choice['b_delay'], prefix='factor_delay')\n",
    "df_choice = pd.concat([df_choice,pid_dummies,rw_dummies,delay_dummies],axis=1)\n",
    "\n",
    "cols_pid = [i for i in df_choice.columns if 'pid_' in i and i!= 'pid_1']\n",
    "\n",
    "# Create interaction terms\n",
    "factor_cols = [col for col in df_choice.columns if col.startswith('factor_fixed_rw') or col.startswith('factor_delay')]\n",
    "for factor_col in factor_cols:\n",
    "    factor_name = factor_col.replace('factor_', '')\n",
    "    interaction_col = f'I_vary_{factor_name}'\n",
    "    df_choice[interaction_col] = df_choice[factor_col] * df_choice['b_vary_rw']\n",
    "\n",
    "# Covert boolean vairables to numerical variables\n",
    "bool_cols = df_choice.select_dtypes(include=['bool']).columns\n",
    "df_choice[bool_cols] = df_choice[bool_cols].astype(int)\n",
    "\n",
    "# Create regression sample for Immed_Rw_Vary\n",
    "x_cols1 = ['a_rw','b_vary_rw',\n",
    "           'factor_fixed_rw_7','factor_fixed_rw_9','factor_delay_9','factor_delay_18',\n",
    "           'I_vary_fixed_rw_7','I_vary_fixed_rw_9','I_vary_delay_9','I_vary_delay_18']\n",
    "\n",
    "df_choice_immed = df_choice[df_choice['cond'] == 'Immed_Rw_Vary']\n",
    "y1 = df_choice_immed['choice']\n",
    "X1 = sm.add_constant(df_choice_immed[x_cols1 + cols_pid])\n",
    "\n",
    "# Create sample for Delayed_Rw_Vary\n",
    "x_cols2 = ['a_rw','b_vary_rw',\n",
    "           'factor_fixed_rw_7','factor_fixed_rw_9',\n",
    "           'I_vary_fixed_rw_7','I_vary_fixed_rw_9']\n",
    "\n",
    "df_choice_delayed = df_choice[df_choice['cond'] == 'Delayed_Rw_Vary']\n",
    "y2 = df_choice_delayed['choice']\n",
    "X2 = sm.add_constant(df_choice_delayed[x_cols2 + cols_pid])"
   ]
  },
  {
   "cell_type": "code",
   "execution_count": 3,
   "metadata": {},
   "outputs": [
    {
     "name": "stdout",
     "output_type": "stream",
     "text": [
      "iteration: 0 , LL= 12751.908641337992\n",
      "iteration: 1 , LL= 5848.334232711649\n",
      "iteration: 2 , LL= 4266.579633452862\n",
      "iteration: 3 , LL= 3606.98158435943\n",
      "iteration: 4 , LL= 3389.758368902345\n",
      "iteration: 5 , LL= 3353.1689375316205\n",
      "iteration: 6 , LL= 3351.5572946751117\n",
      "iteration: 7 , LL= 3351.5500972578798\n",
      "iteration: 8 , LL= 3351.5500932456757\n",
      "iteration: 9 , LL= 3351.5500932438845\n",
      "iteration: 10 , LL= 3351.550093243884\n"
     ]
    }
   ],
   "source": [
    "firth_reg_1 = firthLogit(y1,X1)\n",
    "firth_reg_1.fit()"
   ]
  },
  {
   "cell_type": "code",
   "execution_count": 4,
   "metadata": {},
   "outputs": [
    {
     "name": "stdout",
     "output_type": "stream",
     "text": [
      "Confidence level:  0.95\n"
     ]
    }
   ],
   "source": [
    "wald_result_1 = firth_reg_1.wald()\n",
    "wald_coef_result_1 = wald_result_1[wald_result_1['var_name'].isin(x_cols1)]\n",
    "wald_coef_result_1.to_csv('firth_result_immed.csv')"
   ]
  },
  {
   "cell_type": "code",
   "execution_count": 5,
   "metadata": {},
   "outputs": [
    {
     "name": "stderr",
     "output_type": "stream",
     "text": [
      "C:\\Users\\zarkwang\\AppData\\Local\\Temp\\ipykernel_1368\\2395919629.py:2: SettingWithCopyWarning: \n",
      "A value is trying to be set on a copy of a slice from a DataFrame.\n",
      "Try using .loc[row_indexer,col_indexer] = value instead\n",
      "\n",
      "See the caveats in the documentation: https://pandas.pydata.org/pandas-docs/stable/user_guide/indexing.html#returning-a-view-versus-a-copy\n",
      "  df_choice_immed_q['pred_firth'] = firth_reg_1.predict()\n"
     ]
    }
   ],
   "source": [
    "df_choice_immed_q = df_choice_immed[['a_rw','b_fixed_rw','b_vary_rw','b_delay']]\n",
    "df_choice_immed_q['pred_firth'] = firth_reg_1.predict()\n",
    "pred_firth_immed = df_choice_immed_q.groupby(['a_rw','b_fixed_rw','b_vary_rw','b_delay']).mean('pred_firth')\n",
    "pred_firth_immed.reset_index().to_csv('firth_pred_immed.csv')"
   ]
  },
  {
   "cell_type": "code",
   "execution_count": 6,
   "metadata": {},
   "outputs": [
    {
     "name": "stdout",
     "output_type": "stream",
     "text": [
      "iteration: 0 , LL= 6293.7021291342935\n",
      "iteration: 1 , LL= 2618.0610249924903\n",
      "iteration: 2 , LL= 1691.1154516442043\n",
      "iteration: 3 , LL= 1224.3363985323476\n",
      "iteration: 4 , LL= 992.4025445968265\n",
      "iteration: 5 , LL= 899.3022986420766\n",
      "iteration: 6 , LL= 876.6519023539877\n",
      "iteration: 7 , LL= 874.5239159401027\n",
      "iteration: 8 , LL= 874.4760096565784\n",
      "iteration: 9 , LL= 874.4756705870433\n",
      "iteration: 10 , LL= 874.4756687663141\n",
      "iteration: 11 , LL= 874.475668756779\n",
      "iteration: 12 , LL= 874.475668756729\n",
      "iteration: 13 , LL= 874.4756687567289\n"
     ]
    }
   ],
   "source": [
    "firth_reg_2 = firthLogit(y2,X2)\n",
    "firth_reg_2.fit()\n"
   ]
  },
  {
   "cell_type": "code",
   "execution_count": 7,
   "metadata": {},
   "outputs": [
    {
     "name": "stdout",
     "output_type": "stream",
     "text": [
      "Confidence level:  0.95\n"
     ]
    }
   ],
   "source": [
    "wald_result_2 = firth_reg_2.wald()\n",
    "wald_coef_result_2 = wald_result_2[wald_result_2['var_name'].isin(x_cols2)]\n",
    "wald_coef_result_2.to_csv('firth_result_delayed.csv')"
   ]
  },
  {
   "cell_type": "code",
   "execution_count": 8,
   "metadata": {},
   "outputs": [
    {
     "name": "stderr",
     "output_type": "stream",
     "text": [
      "C:\\Users\\zarkwang\\AppData\\Local\\Temp\\ipykernel_1368\\2143971205.py:2: SettingWithCopyWarning: \n",
      "A value is trying to be set on a copy of a slice from a DataFrame.\n",
      "Try using .loc[row_indexer,col_indexer] = value instead\n",
      "\n",
      "See the caveats in the documentation: https://pandas.pydata.org/pandas-docs/stable/user_guide/indexing.html#returning-a-view-versus-a-copy\n",
      "  df_choice_delayed_q['pred_firth'] = firth_reg_2.predict()\n"
     ]
    }
   ],
   "source": [
    "df_choice_delayed_q = df_choice_delayed[['a_rw','b_fixed_rw','b_vary_rw','b_delay']]\n",
    "df_choice_delayed_q['pred_firth'] = firth_reg_2.predict()\n",
    "pred_firth_delayed = df_choice_delayed_q.groupby(['a_rw','b_fixed_rw','b_vary_rw','b_delay']).mean('pred_firth')\n",
    "pred_firth_delayed.reset_index().to_csv('firth_pred_delayed.csv')"
   ]
  }
 ],
 "metadata": {
  "kernelspec": {
   "display_name": "Python 3",
   "language": "python",
   "name": "python3"
  },
  "language_info": {
   "codemirror_mode": {
    "name": "ipython",
    "version": 3
   },
   "file_extension": ".py",
   "mimetype": "text/x-python",
   "name": "python",
   "nbconvert_exporter": "python",
   "pygments_lexer": "ipython3",
   "version": "3.10.6"
  }
 },
 "nbformat": 4,
 "nbformat_minor": 2
}
