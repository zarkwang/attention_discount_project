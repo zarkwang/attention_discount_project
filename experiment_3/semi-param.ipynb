{
 "cells": [
  {
   "cell_type": "code",
   "execution_count": 1,
   "metadata": {},
   "outputs": [],
   "source": [
    "import numpy as np\n",
    "import pandas as pd\n",
    "import matplotlib.pyplot as plt\n",
    "from sklearn.neighbors import KernelDensity\n"
   ]
  },
  {
   "cell_type": "code",
   "execution_count": 2,
   "metadata": {},
   "outputs": [],
   "source": [
    "df = pd.read_csv('choice_data.csv',index_col=0)"
   ]
  },
  {
   "cell_type": "code",
   "execution_count": 3,
   "metadata": {},
   "outputs": [],
   "source": [
    "tab_reward = (df.groupby(['front_ratio','single_amount'])['choice_value'].count()/ len(df)).reset_index()\n",
    "tab_reward = tab_reward.rename(columns={'choice_value':'prob'})\n",
    "\n",
    "var = {'front_ratio':0.1,'single_amount':200}\n",
    "\n",
    "def kernelReward(var,tab=None):\n",
    "    \n",
    "    reward = None\n",
    "    for key, value in var.items():\n",
    "        if reward is None:\n",
    "            reward = tab[key] == value\n",
    "        else:\n",
    "            reward &= tab[key] == value\n",
    "\n",
    "    # Find corresponding row\n",
    "    _row = tab[reward]\n",
    "\n",
    "    return _row['prob'].values[0]"
   ]
  },
  {
   "cell_type": "code",
   "execution_count": 4,
   "metadata": {},
   "outputs": [
    {
     "data": {
      "text/plain": [
       "0.041666666666666664"
      ]
     },
     "execution_count": 4,
     "metadata": {},
     "output_type": "execute_result"
    }
   ],
   "source": [
    "kernelReward(var,tab=tab_reward)"
   ]
  },
  {
   "cell_type": "code",
   "execution_count": 5,
   "metadata": {},
   "outputs": [],
   "source": [
    "logLink = lambda s: np.exp(s)/(1+np.exp(s))\n",
    "logLink_prime = lambda s: np.exp(-s)/(1+np.exp(-s))**2\n",
    "V = lambda m: m*(1-m)\n",
    "G = lambda s: logLink_prime(s)*V(logLink(s)) \n"
   ]
  },
  {
   "cell_type": "code",
   "execution_count": null,
   "metadata": {},
   "outputs": [],
   "source": []
  },
  {
   "cell_type": "code",
   "execution_count": null,
   "metadata": {},
   "outputs": [],
   "source": [
    "\n",
    "# Generate some random data\n",
    "np.random.seed(0)\n",
    "data = np.random.randn(1000)\n",
    "\n",
    "# Instantiate and fit the KDE model\n",
    "kde = KernelDensity(bandwidth=0.5, kernel='gaussian')\n",
    "kde.fit(data[:, None])\n",
    "\n",
    "# Generate points for evaluation\n",
    "x = np.linspace(-5, 5, 1000)\n",
    "log_density = kde.score_samples(x[:, None])\n",
    "\n",
    "# Plot the KDE\n",
    "plt.fill_between(x, np.exp(log_density), alpha=0.5)\n",
    "plt.xlabel('x')\n",
    "plt.ylabel('Density')\n",
    "plt.title('Kernel Density Estimation')\n",
    "plt.show()"
   ]
  }
 ],
 "metadata": {
  "kernelspec": {
   "display_name": "Python 3",
   "language": "python",
   "name": "python3"
  },
  "language_info": {
   "codemirror_mode": {
    "name": "ipython",
    "version": 3
   },
   "file_extension": ".py",
   "mimetype": "text/x-python",
   "name": "python",
   "nbconvert_exporter": "python",
   "pygments_lexer": "ipython3",
   "version": "3.10.6"
  }
 },
 "nbformat": 4,
 "nbformat_minor": 2
}
