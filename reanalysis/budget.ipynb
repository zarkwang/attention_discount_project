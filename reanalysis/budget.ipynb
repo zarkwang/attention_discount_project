{
 "cells": [
  {
   "cell_type": "code",
   "execution_count": 2,
   "metadata": {},
   "outputs": [],
   "source": [
    "import numpy as np\n",
    "import pandas as pd\n",
    "from tqdm import tqdm\n",
    "import matplotlib.pyplot as plt\n",
    "\n",
    "plt.rcParams['font.family'] = 'times new roman'\n",
    "plt.rcParams['font.size'] = 16\n",
    "# plt.rcParams['text.usetex'] = True"
   ]
  },
  {
   "cell_type": "code",
   "execution_count": 3,
   "metadata": {},
   "outputs": [],
   "source": [
    "\n",
    "class budget_optimizer:\n",
    "\n",
    "    def __init__(self,T,budget,params,x_position=None):\n",
    "        \n",
    "        self.x_position = x_position\n",
    "        self.M = budget # total budget\n",
    "        self.T = T      # sequence length\n",
    "        self.gamma = params['gamma'] # RRA coef\n",
    "        self.delta = params['delta'] # discount parameter\n",
    "        self.lambd = params['lambd'] # unit cost of infomation\n",
    "\n",
    "    @staticmethod\n",
    "    # instantaneous utility function\n",
    "    def utility(x, gamma):\n",
    "        return x**gamma\n",
    "\n",
    "    @staticmethod\n",
    "    # first-order derivative of utility function\n",
    "    def u_1st(x, gamma):\n",
    "        return gamma*x**(gamma-1)\n",
    "\n",
    "    @staticmethod\n",
    "    def w_up(u,lambd):\n",
    "        return np.exp(u/lambd)\n",
    "\n",
    "    @staticmethod\n",
    "    # default weight (discounting factor)\n",
    "    def default_w(T,delta):\n",
    "        return delta**np.arange(T+1)\n",
    "    \n",
    "    @staticmethod\n",
    "    # affline projection\n",
    "    def proj_func(budget,x):\n",
    "        return x + (budget-sum(x))/len(x)\n",
    "    \n",
    "    @staticmethod\n",
    "    def neg_adjust(x,M,neg_adjust = 1e-4):   \n",
    " \n",
    "        # adjust negative x to tiny positive number\n",
    "       \n",
    "        if sum(x <= 0)>0:\n",
    "            x_neg_adjust = (x <= 0) * neg_adjust \n",
    "            x_nonneg_adjust = (x > neg_adjust) * x - sum(x_neg_adjust) / sum(x > neg_adjust)\n",
    "\n",
    "            x_adjust = neg_adjust + (x > neg_adjust)*x_nonneg_adjust + ((x<=neg_adjust) & (x>0))*x\n",
    "        else:\n",
    "            x_adjust = x\n",
    "\n",
    "        return x_adjust / sum(x_adjust) * M\n",
    "\n",
    "    @staticmethod\n",
    "    def make_result(x_solve):\n",
    "        # Find the length of the longest array\n",
    "        max_len = max(len(arr) for arr in x_solve.values())\n",
    "\n",
    "         # Pad shorter arrays with NaN values to match the length of the longest array\n",
    "        for key, arr in x_solve.items():\n",
    "            if len(arr) < max_len:\n",
    "                padding_length = max_len - len(arr)\n",
    "                padding = np.full(padding_length, np.nan)\n",
    "                x_solve[key] = np.concatenate((padding, arr))\n",
    "        \n",
    "        return x_solve\n",
    "    \n",
    "\n",
    "    def grad_func(self,x,d,lambd = None):\n",
    "\n",
    "        # gradient function  \n",
    "\n",
    "        if lambd is None:\n",
    "            lambd = self.lambd\n",
    "    \n",
    "        u = self.utility(x,self.gamma) \n",
    "        u_prime = self.u_1st(x,self.gamma)\n",
    "        \n",
    "        if self.x_position is None:\n",
    "            w_upper = self.w_up(u,lambd) * d\n",
    "            w = w_upper / sum(w_upper)\n",
    "        else:\n",
    "            w_upper = self.w_up(u,lambd) * d[self.x_position]\n",
    "            w_other_sum = np.delete(d, self.x_position).sum()\n",
    "            w = w_upper / (sum(w_upper) + w_other_sum)\n",
    "\n",
    "        V = w @ u\n",
    "        G = w * (u+lambd-V) * u_prime / lambd\n",
    "\n",
    "        obj = -np.log(V) # minimization objective\n",
    "        grad = -G/V # gradient\n",
    "    \n",
    "        return obj, grad\n",
    "    \n",
    "\n",
    "    def solve_local(self, x_0, grad_0, obj_0, d, budget = None, lambd = None,\n",
    "                    stepsize = 0.1, iters = 300, a_grid = np.arange(4)/3,\n",
    "                    stopping = 100, tol = 1e-6):\n",
    "\n",
    "        if budget is None:\n",
    "            budget = self.M\n",
    "        \n",
    "        if lambd is None:\n",
    "            lambd = self.lambd\n",
    "\n",
    "        for i in range(iters):\n",
    "            \n",
    "            # Projection Gradient Descent (PG)\n",
    "            y = x_0 - stepsize * grad_0\n",
    "            x_1 = self.proj_func(budget,y)\n",
    "\n",
    "            # adjust negative x to tiny positive\n",
    "            x_pg = self.neg_adjust(x_1,M=budget)\n",
    "\n",
    "            # new obj and grad\n",
    "            obj_pg, grad_pg = self.grad_func(x_pg,d,lambd = lambd)\n",
    "\n",
    "            # WL algorithm: concentrate all budget on the period with minimal gradient \n",
    "            y_concentrate = np.repeat(0,len(x_0))\n",
    "            x_min_idx = np.where(grad_pg==min(grad_pg))[0]\n",
    "            y_concentrate[x_min_idx] = budget\n",
    "\n",
    "            x_2 = x_pg + 2/(i+2)*(y_concentrate-x_pg)\n",
    "\n",
    "            # adjust negative x to tiny positive\n",
    "            x_wl = self.neg_adjust(x_2,M=budget)\n",
    "\n",
    "            # generate a series of x between PG solution and WL solution\n",
    "            # calculate obj, grad for each generated x\n",
    "            x_list = list(map(lambda a:x_pg * (1-a) + x_wl * a,a_grid))\n",
    "\n",
    "            obj_list = [obj_pg]\n",
    "            grad_list = [grad_pg]\n",
    "\n",
    "            for j in range(1,len(x_list)):\n",
    "                obj_wl, grad_wl = self.grad_func(x_list[j],d)\n",
    "                obj_list += [obj_wl]\n",
    "                grad_list += [grad_wl]\n",
    "\n",
    "\n",
    "            obj_array = np.array(obj_list)\n",
    "            idx_obj_min = np.where(obj_array==min(obj_array))[0]\n",
    "\n",
    "            # if the minimal obj in the generated series of x is smaller than the old obj, then take it;\n",
    "            # otherwise take the old x\n",
    "            if obj_array[idx_obj_min] <= obj_0:\n",
    "                grad_new = grad_list[idx_obj_min[0]]\n",
    "                obj_new = obj_list[idx_obj_min[0]]\n",
    "                x_new = x_list[idx_obj_min[0]]\n",
    "            \n",
    "            else:\n",
    "                grad_new = grad_0\n",
    "                obj_new = obj_0\n",
    "                x_new = x_0\n",
    "\n",
    "            # condition for early stopping\n",
    "            if j > stopping:\n",
    "                if abs(obj_0 - obj_new) < tol:\n",
    "                    break\n",
    "           \n",
    "            # update x_0, obj_0, grad_0\n",
    "            x_0 = x_new\n",
    "            obj_0 = obj_new\n",
    "            grad_0 = grad_new\n",
    "        \n",
    "        return x_new, grad_new, obj_new\n",
    "   \n",
    "        \n",
    "    \n",
    "    def solve(self,init_x = None, T = None, budget = None, lambd = None,\n",
    "              global_iter = 700, diffusion = 1e-2, break_point = np.Inf):\n",
    "\n",
    "        if T is None:\n",
    "            T = self.T\n",
    "        \n",
    "        if budget is None:\n",
    "            budget = self.M\n",
    "        \n",
    "        if lambd is None:\n",
    "            lambd = self.lambd\n",
    "\n",
    "        # calculate default weight (discounting factor)\n",
    "        d = self.default_w(T,self.delta)\n",
    "\n",
    "        # set-up initial status\n",
    "        if self.x_position is None:\n",
    "            init_allocation = np.repeat(1,T+1)\n",
    "        else:\n",
    "            init_allocation = np.repeat(1,len(self.x_position))\n",
    "        \n",
    "        if init_x is None:\n",
    "            init_x = (init_allocation/sum(init_allocation))*budget\n",
    "    \n",
    "        init_obj, init_grad = self.grad_func(init_x,d,lambd=lambd)\n",
    "\n",
    "        x_0 = init_x\n",
    "        grad_0 = init_grad\n",
    "        obj_0 = init_obj\n",
    "        self.fn = [obj_0]\n",
    "\n",
    "        for j in tqdm(range(global_iter)):\n",
    "\n",
    "            # local solver\n",
    "            x_1, grad_1, obj_1 = self.solve_local(init_x,init_grad,init_obj,d,budget,lambd)\n",
    "\n",
    "            # if the new obj is smaller than the old obj, then keep the new solution\n",
    "            # otherwise, take the old solution\n",
    "            if obj_1 <= obj_0:\n",
    "                x_new = x_1\n",
    "                grad_new = grad_1\n",
    "                obj_new = obj_1  \n",
    "            else:\n",
    "                x_new = x_0\n",
    "                grad_new = grad_0\n",
    "                obj_new = obj_0\n",
    "\n",
    "            # calculate obj for the current iteration \n",
    "            self.fn += [obj_new] \n",
    "\n",
    "            # update x_0, obj_0, grad_0\n",
    "            # x_0: add a random diffusion to x_new and ensure all are positive\n",
    "            x_2 = x_new + np.random.normal(loc=0,scale=budget*diffusion,size=len(x_new))\n",
    "            init_x = self.neg_adjust(x_2,M=budget)  \n",
    "            init_obj, init_grad = self.grad_func(init_x,d,lambd)\n",
    "           \n",
    "            if j == break_point:\n",
    "                break\n",
    "            \n",
    "            x_0 = x_new\n",
    "            grad_0 = grad_new\n",
    "            obj_0 = obj_new\n",
    "        \n",
    "        self.x = x_new\n",
    "        self.gradient = grad_new\n",
    "\n",
    "        return {\"x\":np.around(x_new, decimals=3), \"obj_fn\":obj_new, \"gradient\":grad_new}\n",
    "\n",
    "\n",
    "    def dynamic(self,attention_update=True,global_iter=500):\n",
    "\n",
    "        budget = self.M\n",
    "        T = self.T\n",
    "        x_solve = {}\n",
    "\n",
    "        for i in range(T):\n",
    "            if attention_update:\n",
    "                lambd = self.lambd / (i+1)\n",
    "            else:\n",
    "                lambd = self.lambd\n",
    "            \n",
    "            self.solve(T=T-i,budget=budget,lambd=lambd,global_iter=global_iter)\n",
    "            x_solve[i] = self.x\n",
    "            budget = budget - self.x[0]\n",
    "\n",
    "        self.x_dynamic = self.make_result(x_solve)\n",
    "\n",
    "        return self.x_dynamic"
   ]
  },
  {
   "cell_type": "code",
   "execution_count": 7,
   "metadata": {},
   "outputs": [
    {
     "name": "stderr",
     "output_type": "stream",
     "text": [
      "100%|██████████| 700/700 [00:36<00:00, 19.12it/s]\n"
     ]
    },
    {
     "data": {
      "text/plain": [
       "{'x': array([74.196, 16.723,  6.354,  2.727]),\n",
       " 'obj_fn': -2.0399414912236464,\n",
       " 'gradient': array([-0.00635722, -0.00635574, -0.00635791, -0.0063548 ])}"
      ]
     },
     "execution_count": 7,
     "metadata": {},
     "output_type": "execute_result"
    }
   ],
   "source": [
    "delta = .75\n",
    "gamma = .6\n",
    "lambd = 50\n",
    "T = 3\n",
    "budget = 100\n",
    "x_position = None\n",
    "problem = budget_optimizer(T,budget,params={\"delta\":delta,\"gamma\":gamma,\"lambd\":lambd},x_position=x_position)\n",
    "problem.solve()"
   ]
  },
  {
   "cell_type": "code",
   "execution_count": 8,
   "metadata": {},
   "outputs": [
    {
     "name": "stderr",
     "output_type": "stream",
     "text": [
      "100%|██████████| 700/700 [00:33<00:00, 20.96it/s]\n"
     ]
    },
    {
     "data": {
      "text/plain": [
       "{'x': array([16.632,  6.408,  2.764]),\n",
       " 'obj_fn': -1.3394237893698522,\n",
       " 'gradient': array([-0.02352372, -0.02352517, -0.02351621])}"
      ]
     },
     "execution_count": 8,
     "metadata": {},
     "output_type": "execute_result"
    }
   ],
   "source": [
    "T = 2\n",
    "budget = 100 - 74.196\n",
    "x_position = None\n",
    "problem = budget_optimizer(T,budget,params={\"delta\":delta,\"gamma\":gamma,\"lambd\":lambd},x_position=x_position)\n",
    "problem.solve()"
   ]
  },
  {
   "cell_type": "code",
   "execution_count": 4,
   "metadata": {},
   "outputs": [
    {
     "name": "stderr",
     "output_type": "stream",
     "text": [
      "100%|██████████| 500/500 [00:21<00:00, 23.61it/s]\n",
      "100%|██████████| 500/500 [00:21<00:00, 23.75it/s]\n",
      "100%|██████████| 500/500 [00:21<00:00, 23.01it/s]\n",
      "100%|██████████| 500/500 [00:19<00:00, 25.67it/s]\n"
     ]
    },
    {
     "data": {
      "text/plain": [
       "{0: array([36.65663382, 24.72984494, 17.28998742, 12.34794179,  8.97559203]),\n",
       " 1: array([        nan, 24.71451074, 17.28916081, 12.36493363,  8.97476101]),\n",
       " 2: array([        nan,         nan, 17.28506486, 12.36674529,  8.9770453 ]),\n",
       " 3: array([        nan,         nan,         nan, 12.36440776,  8.97938283])}"
      ]
     },
     "execution_count": 4,
     "metadata": {},
     "output_type": "execute_result"
    }
   ],
   "source": [
    "delta = .9\n",
    "gamma = .6\n",
    "budget = 100\n",
    "T = 4\n",
    "lambd = 70 #budget * 0.7\n",
    "\n",
    "problem = budget_optimizer(T,budget,params={\"delta\":delta,\"gamma\":gamma,\"lambd\":lambd})\n",
    "problem.dynamic(global_iter=500,attention_update=False)"
   ]
  },
  {
   "cell_type": "code",
   "execution_count": 5,
   "metadata": {},
   "outputs": [
    {
     "name": "stdout",
     "output_type": "stream",
     "text": [
      "7.9912295436932705\n",
      "7.991213141118116\n",
      "6.87109761045671\n"
     ]
    }
   ],
   "source": [
    "print(np.exp(-problem.grad_func(x=np.array([37.2278584 , 26.32871368]),d=np.array([1,delta]))[0]))\n",
    "print(np.exp(-problem.grad_func(x=np.array([37.21224547, 26.34432661]),d=np.array([1,delta]))[0]))\n",
    "print(np.exp(-problem.grad_func(x=np.array([37.21224547+26.34432660, 0.00000001]),d=np.array([1,delta]))[0]))"
   ]
  },
  {
   "cell_type": "code",
   "execution_count": 9,
   "metadata": {},
   "outputs": [
    {
     "data": {
      "text/plain": [
       "<Figure size 400x400 with 0 Axes>"
      ]
     },
     "execution_count": 9,
     "metadata": {},
     "output_type": "execute_result"
    },
    {
     "data": {
      "image/png": "[encoded data removed]",
      "text/plain": [
       "<Figure size 640x480 with 1 Axes>"
      ]
     },
     "metadata": {},
     "output_type": "display_data"
    },
    {
     "data": {
      "text/plain": [
       "<Figure size 400x400 with 0 Axes>"
      ]
     },
     "metadata": {},
     "output_type": "display_data"
    }
   ],
   "source": [
    "x_solve = problem.x_dynamic\n",
    "\n",
    "# plot the results\n",
    "for i in x_solve.keys():\n",
    "    plt.plot(x_solve[i],label='step ' + str(i))\n",
    "\n",
    "\n",
    "plt.legend()\n",
    "plt.xticks(np.arange(len(x_solve.keys())+1))\n",
    "plt.xlabel('Period')\n",
    "plt.ylabel('Consumption')\n",
    "plt.figure(figsize=(4,4))\n",
    "# plt.savefig('consumption_allocation_Inattentive.png')"
   ]
  },
  {
   "cell_type": "code",
   "execution_count": 11,
   "metadata": {},
   "outputs": [
    {
     "name": "stderr",
     "output_type": "stream",
     "text": [
      "100%|██████████| 500/500 [00:20<00:00, 23.83it/s]\n",
      "100%|██████████| 500/500 [00:21<00:00, 23.54it/s]\n",
      "100%|██████████| 500/500 [00:21<00:00, 23.74it/s]\n",
      "100%|██████████| 500/500 [00:20<00:00, 24.65it/s]\n"
     ]
    },
    {
     "data": {
      "text/plain": [
       "{0: array([36.62880109, 24.7738711 , 17.29201299, 12.34999504,  8.95531977]),\n",
       " 1: array([        nan, 29.11650426, 16.47869454, 10.58647376,  7.18952635]),\n",
       " 2: array([        nan,         nan, 18.73746357,  9.54757695,  5.96965414]),\n",
       " 3: array([        nan,         nan,         nan, 10.08334081,  5.43389027])}"
      ]
     },
     "execution_count": 11,
     "metadata": {},
     "output_type": "execute_result"
    }
   ],
   "source": [
    "problem2 = budget_optimizer(T,budget,params={\"delta\":delta,\"gamma\":gamma,\"lambd\":lambd})\n",
    "problem2.dynamic(global_iter=500,attention_update=True)"
   ]
  },
  {
   "cell_type": "code",
   "execution_count": 16,
   "metadata": {},
   "outputs": [
    {
     "data": {
      "text/plain": [
       "<Figure size 400x400 with 0 Axes>"
      ]
     },
     "execution_count": 16,
     "metadata": {},
     "output_type": "execute_result"
    },
    {
     "data": {
      "image/png": "[encoded data removed]",
      "text/plain": [
       "<Figure size 640x480 with 1 Axes>"
      ]
     },
     "metadata": {},
     "output_type": "display_data"
    },
    {
     "data": {
      "text/plain": [
       "<Figure size 400x400 with 0 Axes>"
      ]
     },
     "metadata": {},
     "output_type": "display_data"
    }
   ],
   "source": [
    "x_solve2 = problem2.x_dynamic\n",
    "\n",
    "# plot the results\n",
    "for i in x_solve2.keys():\n",
    "    plt.plot(x_solve2[i],label='step ' + str(i))\n",
    "\n",
    "\n",
    "plt.legend()\n",
    "plt.xticks(np.arange(len(x_solve2.keys())+1))\n",
    "plt.xlabel('Period')\n",
    "plt.ylabel('Consumption')\n",
    "# plt.savefig('consumption_allocation_Inattentive.png')"
   ]
  },
  {
   "cell_type": "code",
   "execution_count": 47,
   "metadata": {},
   "outputs": [],
   "source": [
    "df_result = pd.DataFrame(x_solve).reset_index().rename(columns={'index':'period'})\n",
    "dynamic_choice = pd.melt(df_result,id_vars='period',var_name='decision_step',value_name='consumption').dropna()\n",
    "dynamic_choice.to_csv('example_att_choice.csv')"
   ]
  },
  {
   "cell_type": "code",
   "execution_count": 48,
   "metadata": {},
   "outputs": [
    {
     "name": "stderr",
     "output_type": "stream",
     "text": [
      "100%|██████████| 500/500 [00:19<00:00, 25.91it/s]\n",
      "100%|██████████| 500/500 [00:20<00:00, 24.94it/s]\n",
      "100%|██████████| 500/500 [00:18<00:00, 26.40it/s]\n",
      "100%|██████████| 500/500 [00:18<00:00, 26.67it/s]\n"
     ]
    }
   ],
   "source": [
    "problem.dynamic(global_iter=500,attention_update=False)\n",
    "df_result = pd.DataFrame(problem.x_dynamic).reset_index().rename(columns={'index':'period'})\n",
    "dynamic_choice = pd.melt(df_result,id_vars='period',var_name='decision_step',value_name='consumption').dropna()\n",
    "dynamic_choice.to_csv('example_inatt_choice.csv')"
   ]
  },
  {
   "cell_type": "code",
   "execution_count": 37,
   "metadata": {},
   "outputs": [
    {
     "data": {
      "text/plain": [
       "[<matplotlib.lines.Line2D at 0x2a09cf871f0>]"
      ]
     },
     "execution_count": 37,
     "metadata": {},
     "output_type": "execute_result"
    },
    {
     "data": {
      "image/png": "[encoded data removed]",
      "text/plain": [
       "<Figure size 640x480 with 1 Axes>"
      ]
     },
     "metadata": {},
     "output_type": "display_data"
    }
   ],
   "source": [
    "plt.plot(problem.fn)"
   ]
  },
  {
   "cell_type": "code",
   "execution_count": 7,
   "metadata": {},
   "outputs": [
    {
     "name": "stderr",
     "output_type": "stream",
     "text": [
      "100%|██████████| 500/500 [00:20<00:00, 24.75it/s]\n",
      "100%|██████████| 500/500 [00:20<00:00, 23.86it/s]\n",
      "100%|██████████| 500/500 [00:20<00:00, 24.17it/s]\n",
      "100%|██████████| 500/500 [00:19<00:00, 25.13it/s]\n"
     ]
    },
    {
     "data": {
      "text/plain": [
       "{0: array([332.22332137, 246.34524247, 182.34308948, 137.82993994,\n",
       "        101.25840674]),\n",
       " 1: array([         nan, 255.49790921, 183.1876237 , 132.08326843,\n",
       "         97.00787729]),\n",
       " 2: array([         nan,          nan, 187.87667108, 130.9315938 ,\n",
       "         93.47050454]),\n",
       " 3: array([         nan,          nan,          nan, 132.74590474,\n",
       "         91.65619359])}"
      ]
     },
     "execution_count": 7,
     "metadata": {},
     "output_type": "execute_result"
    }
   ],
   "source": [
    "delta = .9\n",
    "gamma = .6\n",
    "budget = 1000\n",
    "T = 4\n",
    "lambd = budget * 0.7\n",
    "\n",
    "problem2 = budget_optimizer(T,budget,params={\"delta\":delta,\"gamma\":gamma,\"lambd\":lambd})\n",
    "problem2.dynamic(global_iter=500,attention_update=True)"
   ]
  },
  {
   "cell_type": "code",
   "execution_count": null,
   "metadata": {},
   "outputs": [],
   "source": []
  }
 ],
 "metadata": {
  "kernelspec": {
   "display_name": "Python 3",
   "language": "python",
   "name": "python3"
  },
  "language_info": {
   "codemirror_mode": {
    "name": "ipython",
    "version": 3
   },
   "file_extension": ".py",
   "mimetype": "text/x-python",
   "name": "python",
   "nbconvert_exporter": "python",
   "pygments_lexer": "ipython3",
   "version": "3.10.6"
  },
  "orig_nbformat": 4
 },
 "nbformat": 4,
 "nbformat_minor": 2
}
