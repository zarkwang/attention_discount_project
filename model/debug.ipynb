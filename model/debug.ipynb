{
 "cells": [
  {
   "cell_type": "code",
   "execution_count": 69,
   "metadata": {},
   "outputs": [],
   "source": [
    "%reload_ext autoreload\n",
    "%autoreload 2\n",
    "import numpy as np\n",
    "import pandas as pd\n",
    "import multiprocessing as mp\n",
    "import json\n",
    "from scipy.optimize import minimize,basinhopping\n",
    "from functools import partial\n",
    "from tqdm import tqdm\n",
    "\n",
    "from mpl import discount\n",
    "from mpl import choice_rule"
   ]
  },
  {
   "cell_type": "code",
   "execution_count": 70,
   "metadata": {},
   "outputs": [
    {
     "data": {
      "text/plain": [
       "1.168519262604985"
      ]
     },
     "execution_count": 70,
     "metadata": {},
     "output_type": "execute_result"
    }
   ],
   "source": [
    "discount.trade_d({'beta':1,'zeta':1,'alpha':1,'k':1},ss_t=10,ll_t=100)"
   ]
  },
  {
   "cell_type": "code",
   "execution_count": 76,
   "metadata": {},
   "outputs": [],
   "source": [
    "c = choice_rule.utility(ss_x=5,ss_t=10,ll_x=100,ll_t=30,params=[1,1,1,1,2],dstyle='trade')"
   ]
  },
  {
   "cell_type": "code",
   "execution_count": 107,
   "metadata": {},
   "outputs": [
    {
     "data": {
      "text/plain": [
       "0.7595604498955438"
      ]
     },
     "execution_count": 107,
     "metadata": {},
     "output_type": "execute_result"
    }
   ],
   "source": [
    "choice_rule.choice_prob(ss_x=5,ss_t=10,ll_x=100,ll_t=30,params=[.5,.1,.1],dstyle='attention',ustyle='power',temper=1)"
   ]
  },
  {
   "cell_type": "code",
   "execution_count": null,
   "metadata": {},
   "outputs": [
    {
     "data": {
      "text/plain": [
       "{'mse': 0.17418814587999581,\n",
       " 'mae': 0.3508533636842815,\n",
       " 'accuracy': 0.6583865351131747,\n",
       " 'log_like': -4533.529694310184}"
      ]
     },
     "metadata": {},
     "output_type": "display_data"
    }
   ],
   "source": [
    "cross_valid.test_model(style=style,test_sample=sample[\"test\"],params=train_result[\"params\"])\n"
   ]
  },
  {
   "cell_type": "code",
   "execution_count": 2,
   "metadata": {},
   "outputs": [
    {
     "data": {
      "text/html": [
       "<div>\n",
       "<style scoped>\n",
       "    .dataframe tbody tr th:only-of-type {\n",
       "        vertical-align: middle;\n",
       "    }\n",
       "\n",
       "    .dataframe tbody tr th {\n",
       "        vertical-align: top;\n",
       "    }\n",
       "\n",
       "    .dataframe thead th {\n",
       "        text-align: right;\n",
       "    }\n",
       "</style>\n",
       "<table border=\"1\" class=\"dataframe\">\n",
       "  <thead>\n",
       "    <tr style=\"text-align: right;\">\n",
       "      <th></th>\n",
       "      <th>person_id</th>\n",
       "      <th>school</th>\n",
       "      <th>condition</th>\n",
       "      <th>choice</th>\n",
       "      <th>ss_amount</th>\n",
       "      <th>ss_delay</th>\n",
       "      <th>ll_amount</th>\n",
       "      <th>ll_delay</th>\n",
       "    </tr>\n",
       "  </thead>\n",
       "  <tbody>\n",
       "    <tr>\n",
       "      <th>0</th>\n",
       "      <td>1</td>\n",
       "      <td>1</td>\n",
       "      <td>DT1</td>\n",
       "      <td>0.0</td>\n",
       "      <td>54</td>\n",
       "      <td>0</td>\n",
       "      <td>55</td>\n",
       "      <td>117</td>\n",
       "    </tr>\n",
       "    <tr>\n",
       "      <th>1</th>\n",
       "      <td>2</td>\n",
       "      <td>1</td>\n",
       "      <td>DT1</td>\n",
       "      <td>0.0</td>\n",
       "      <td>54</td>\n",
       "      <td>0</td>\n",
       "      <td>55</td>\n",
       "      <td>117</td>\n",
       "    </tr>\n",
       "    <tr>\n",
       "      <th>2</th>\n",
       "      <td>3</td>\n",
       "      <td>1</td>\n",
       "      <td>DT1</td>\n",
       "      <td>0.0</td>\n",
       "      <td>54</td>\n",
       "      <td>0</td>\n",
       "      <td>55</td>\n",
       "      <td>117</td>\n",
       "    </tr>\n",
       "    <tr>\n",
       "      <th>3</th>\n",
       "      <td>4</td>\n",
       "      <td>1</td>\n",
       "      <td>DT1</td>\n",
       "      <td>1.0</td>\n",
       "      <td>54</td>\n",
       "      <td>0</td>\n",
       "      <td>55</td>\n",
       "      <td>117</td>\n",
       "    </tr>\n",
       "    <tr>\n",
       "      <th>4</th>\n",
       "      <td>5</td>\n",
       "      <td>1</td>\n",
       "      <td>DT1</td>\n",
       "      <td>0.0</td>\n",
       "      <td>54</td>\n",
       "      <td>0</td>\n",
       "      <td>55</td>\n",
       "      <td>117</td>\n",
       "    </tr>\n",
       "    <tr>\n",
       "      <th>...</th>\n",
       "      <td>...</td>\n",
       "      <td>...</td>\n",
       "      <td>...</td>\n",
       "      <td>...</td>\n",
       "      <td>...</td>\n",
       "      <td>...</td>\n",
       "      <td>...</td>\n",
       "      <td>...</td>\n",
       "    </tr>\n",
       "    <tr>\n",
       "      <th>34663</th>\n",
       "      <td>1552</td>\n",
       "      <td>8</td>\n",
       "      <td>DT27</td>\n",
       "      <td>1.0</td>\n",
       "      <td>20</td>\n",
       "      <td>0</td>\n",
       "      <td>55</td>\n",
       "      <td>7</td>\n",
       "    </tr>\n",
       "    <tr>\n",
       "      <th>34664</th>\n",
       "      <td>1553</td>\n",
       "      <td>8</td>\n",
       "      <td>DT27</td>\n",
       "      <td>1.0</td>\n",
       "      <td>20</td>\n",
       "      <td>0</td>\n",
       "      <td>55</td>\n",
       "      <td>7</td>\n",
       "    </tr>\n",
       "    <tr>\n",
       "      <th>34665</th>\n",
       "      <td>1554</td>\n",
       "      <td>8</td>\n",
       "      <td>DT27</td>\n",
       "      <td>1.0</td>\n",
       "      <td>20</td>\n",
       "      <td>0</td>\n",
       "      <td>55</td>\n",
       "      <td>7</td>\n",
       "    </tr>\n",
       "    <tr>\n",
       "      <th>34666</th>\n",
       "      <td>1555</td>\n",
       "      <td>8</td>\n",
       "      <td>DT27</td>\n",
       "      <td>1.0</td>\n",
       "      <td>20</td>\n",
       "      <td>0</td>\n",
       "      <td>55</td>\n",
       "      <td>7</td>\n",
       "    </tr>\n",
       "    <tr>\n",
       "      <th>34667</th>\n",
       "      <td>1556</td>\n",
       "      <td>8</td>\n",
       "      <td>DT27</td>\n",
       "      <td>1.0</td>\n",
       "      <td>20</td>\n",
       "      <td>0</td>\n",
       "      <td>55</td>\n",
       "      <td>7</td>\n",
       "    </tr>\n",
       "  </tbody>\n",
       "</table>\n",
       "<p>34668 rows × 8 columns</p>\n",
       "</div>"
      ],
      "text/plain": [
       "       person_id  school condition  choice  ss_amount  ss_delay  ll_amount  \\\n",
       "0              1       1       DT1     0.0         54         0         55   \n",
       "1              2       1       DT1     0.0         54         0         55   \n",
       "2              3       1       DT1     0.0         54         0         55   \n",
       "3              4       1       DT1     1.0         54         0         55   \n",
       "4              5       1       DT1     0.0         54         0         55   \n",
       "...          ...     ...       ...     ...        ...       ...        ...   \n",
       "34663       1552       8      DT27     1.0         20         0         55   \n",
       "34664       1553       8      DT27     1.0         20         0         55   \n",
       "34665       1554       8      DT27     1.0         20         0         55   \n",
       "34666       1555       8      DT27     1.0         20         0         55   \n",
       "34667       1556       8      DT27     1.0         20         0         55   \n",
       "\n",
       "       ll_delay  \n",
       "0           117  \n",
       "1           117  \n",
       "2           117  \n",
       "3           117  \n",
       "4           117  \n",
       "...         ...  \n",
       "34663         7  \n",
       "34664         7  \n",
       "34665         7  \n",
       "34666         7  \n",
       "34667         7  \n",
       "\n",
       "[34668 rows x 8 columns]"
      ]
     },
     "execution_count": 2,
     "metadata": {},
     "output_type": "execute_result"
    }
   ],
   "source": [
    "chavez_dt = pd.read_csv('data/chavez_data.csv')\n",
    "\n",
    "# questionnaire design\n",
    "pregunta = np.array([54,0,55,117,55,0,75,61,19,0,25,53,31,0,85,7,\n",
    "                     14,0,25,19,47,0,50,160,15,0,35,13,25,0,60,14,\n",
    "                     78,0,80,162,40,0,55,62,11,0,30,7,67,0,75,119,\n",
    "                     34,0,35,186,27,0,50,21,69,0,85,91,49,0,60,89,\n",
    "                     80,0,85,157,24,0,35,29,33,0,80,14,28,0,30,179,\n",
    "                     34,0,50,30,25,0,30,80,41,0,75,20,54,0,60,111,\n",
    "                     54,0,80,30,22,0,25,136,20,0,55,7]).reshape(27, 4)\n",
    "\n",
    "condition_col = np.array(['DT'+str(i) for i in range(1, 28)]).reshape(-1,1)\n",
    "pregunta = np.hstack((condition_col,pregunta))\n",
    "pregunta = pd.DataFrame(pregunta)\n",
    "condition_col_name = ['ss_amount','ss_delay','ll_amount','ll_delay']\n",
    "pregunta.columns = ['condition'] + condition_col_name\n",
    "\n",
    "# object containing participants' choices: '0' is choice of SS, '1' is choice of 'LL'\n",
    "chavez_dt = pd.melt(chavez_dt, id_vars=['ID','School'], var_name='condition', value_name='choice')\n",
    "chavez_dt = pd.merge(chavez_dt,pregunta,on='condition')\n",
    "chavez_dt[condition_col_name] = chavez_dt[condition_col_name].apply(pd.to_numeric)\n",
    "chavez_dt.columns = ['person_id','school','condition','choice'] + condition_col_name\n",
    "\n",
    "chavez_dt"
   ]
  },
  {
   "cell_type": "code",
   "execution_count": 2,
   "metadata": {},
   "outputs": [
    {
     "data": {
      "text/html": [
       "<div>\n",
       "<style scoped>\n",
       "    .dataframe tbody tr th:only-of-type {\n",
       "        vertical-align: middle;\n",
       "    }\n",
       "\n",
       "    .dataframe tbody tr th {\n",
       "        vertical-align: top;\n",
       "    }\n",
       "\n",
       "    .dataframe thead th {\n",
       "        text-align: right;\n",
       "    }\n",
       "</style>\n",
       "<table border=\"1\" class=\"dataframe\">\n",
       "  <thead>\n",
       "    <tr style=\"text-align: right;\">\n",
       "      <th></th>\n",
       "      <th>person_id</th>\n",
       "      <th>Condition</th>\n",
       "      <th>Question</th>\n",
       "      <th>G</th>\n",
       "      <th>R</th>\n",
       "      <th>D</th>\n",
       "      <th>ss_amount</th>\n",
       "      <th>ss_delay</th>\n",
       "      <th>ll_amount</th>\n",
       "      <th>ll_delay</th>\n",
       "      <th>choice</th>\n",
       "    </tr>\n",
       "  </thead>\n",
       "  <tbody>\n",
       "    <tr>\n",
       "      <th>0</th>\n",
       "      <td>259</td>\n",
       "      <td>4</td>\n",
       "      <td>1</td>\n",
       "      <td>0.5</td>\n",
       "      <td>1.50</td>\n",
       "      <td>1</td>\n",
       "      <td>1.00</td>\n",
       "      <td>2</td>\n",
       "      <td>1.50</td>\n",
       "      <td>3</td>\n",
       "      <td>0.0</td>\n",
       "    </tr>\n",
       "    <tr>\n",
       "      <th>1</th>\n",
       "      <td>259</td>\n",
       "      <td>4</td>\n",
       "      <td>2</td>\n",
       "      <td>2.0</td>\n",
       "      <td>4.00</td>\n",
       "      <td>1</td>\n",
       "      <td>0.67</td>\n",
       "      <td>0</td>\n",
       "      <td>2.67</td>\n",
       "      <td>1</td>\n",
       "      <td>0.0</td>\n",
       "    </tr>\n",
       "    <tr>\n",
       "      <th>2</th>\n",
       "      <td>259</td>\n",
       "      <td>4</td>\n",
       "      <td>3</td>\n",
       "      <td>10.0</td>\n",
       "      <td>1.01</td>\n",
       "      <td>1</td>\n",
       "      <td>1000.00</td>\n",
       "      <td>2</td>\n",
       "      <td>1010.00</td>\n",
       "      <td>3</td>\n",
       "      <td>0.0</td>\n",
       "    </tr>\n",
       "    <tr>\n",
       "      <th>3</th>\n",
       "      <td>259</td>\n",
       "      <td>4</td>\n",
       "      <td>4</td>\n",
       "      <td>0.5</td>\n",
       "      <td>4.00</td>\n",
       "      <td>2</td>\n",
       "      <td>0.17</td>\n",
       "      <td>0</td>\n",
       "      <td>0.67</td>\n",
       "      <td>2</td>\n",
       "      <td>0.0</td>\n",
       "    </tr>\n",
       "    <tr>\n",
       "      <th>4</th>\n",
       "      <td>259</td>\n",
       "      <td>4</td>\n",
       "      <td>5</td>\n",
       "      <td>10.0</td>\n",
       "      <td>1.50</td>\n",
       "      <td>2</td>\n",
       "      <td>20.00</td>\n",
       "      <td>0</td>\n",
       "      <td>30.00</td>\n",
       "      <td>2</td>\n",
       "      <td>0.0</td>\n",
       "    </tr>\n",
       "    <tr>\n",
       "      <th>...</th>\n",
       "      <td>...</td>\n",
       "      <td>...</td>\n",
       "      <td>...</td>\n",
       "      <td>...</td>\n",
       "      <td>...</td>\n",
       "      <td>...</td>\n",
       "      <td>...</td>\n",
       "      <td>...</td>\n",
       "      <td>...</td>\n",
       "      <td>...</td>\n",
       "      <td>...</td>\n",
       "    </tr>\n",
       "    <tr>\n",
       "      <th>23495</th>\n",
       "      <td>793</td>\n",
       "      <td>1</td>\n",
       "      <td>21</td>\n",
       "      <td>10.0</td>\n",
       "      <td>1.25</td>\n",
       "      <td>3</td>\n",
       "      <td>40.00</td>\n",
       "      <td>2</td>\n",
       "      <td>50.00</td>\n",
       "      <td>5</td>\n",
       "      <td>1.0</td>\n",
       "    </tr>\n",
       "    <tr>\n",
       "      <th>23496</th>\n",
       "      <td>793</td>\n",
       "      <td>1</td>\n",
       "      <td>22</td>\n",
       "      <td>100.0</td>\n",
       "      <td>2.00</td>\n",
       "      <td>1</td>\n",
       "      <td>100.00</td>\n",
       "      <td>0</td>\n",
       "      <td>200.00</td>\n",
       "      <td>1</td>\n",
       "      <td>1.0</td>\n",
       "    </tr>\n",
       "    <tr>\n",
       "      <th>23497</th>\n",
       "      <td>793</td>\n",
       "      <td>1</td>\n",
       "      <td>23</td>\n",
       "      <td>500.0</td>\n",
       "      <td>2.00</td>\n",
       "      <td>3</td>\n",
       "      <td>500.00</td>\n",
       "      <td>0</td>\n",
       "      <td>1000.00</td>\n",
       "      <td>3</td>\n",
       "      <td>1.0</td>\n",
       "    </tr>\n",
       "    <tr>\n",
       "      <th>23498</th>\n",
       "      <td>793</td>\n",
       "      <td>1</td>\n",
       "      <td>24</td>\n",
       "      <td>10.0</td>\n",
       "      <td>1.01</td>\n",
       "      <td>2</td>\n",
       "      <td>1000.00</td>\n",
       "      <td>2</td>\n",
       "      <td>1010.00</td>\n",
       "      <td>4</td>\n",
       "      <td>0.0</td>\n",
       "    </tr>\n",
       "    <tr>\n",
       "      <th>23499</th>\n",
       "      <td>793</td>\n",
       "      <td>1</td>\n",
       "      <td>25</td>\n",
       "      <td>0.1</td>\n",
       "      <td>1.25</td>\n",
       "      <td>2</td>\n",
       "      <td>0.40</td>\n",
       "      <td>1</td>\n",
       "      <td>0.50</td>\n",
       "      <td>3</td>\n",
       "      <td>0.0</td>\n",
       "    </tr>\n",
       "  </tbody>\n",
       "</table>\n",
       "<p>23500 rows × 11 columns</p>\n",
       "</div>"
      ],
      "text/plain": [
       "       person_id  Condition  Question      G     R  D  ss_amount  ss_delay  \\\n",
       "0            259          4         1    0.5  1.50  1       1.00         2   \n",
       "1            259          4         2    2.0  4.00  1       0.67         0   \n",
       "2            259          4         3   10.0  1.01  1    1000.00         2   \n",
       "3            259          4         4    0.5  4.00  2       0.17         0   \n",
       "4            259          4         5   10.0  1.50  2      20.00         0   \n",
       "...          ...        ...       ...    ...   ... ..        ...       ...   \n",
       "23495        793          1        21   10.0  1.25  3      40.00         2   \n",
       "23496        793          1        22  100.0  2.00  1     100.00         0   \n",
       "23497        793          1        23  500.0  2.00  3     500.00         0   \n",
       "23498        793          1        24   10.0  1.01  2    1000.00         2   \n",
       "23499        793          1        25    0.1  1.25  2       0.40         1   \n",
       "\n",
       "       ll_amount  ll_delay  choice  \n",
       "0           1.50         3     0.0  \n",
       "1           2.67         1     0.0  \n",
       "2        1010.00         3     0.0  \n",
       "3           0.67         2     0.0  \n",
       "4          30.00         2     0.0  \n",
       "...          ...       ...     ...  \n",
       "23495      50.00         5     1.0  \n",
       "23496     200.00         1     1.0  \n",
       "23497    1000.00         3     1.0  \n",
       "23498    1010.00         4     0.0  \n",
       "23499       0.50         3     0.0  \n",
       "\n",
       "[23500 rows x 11 columns]"
      ]
     },
     "execution_count": 2,
     "metadata": {},
     "output_type": "execute_result"
    }
   ],
   "source": [
    "itch_dt = pd.read_csv('data/itch_data.csv')\n",
    "itch_dt = itch_dt.rename(columns={\"Subject\":\"person_id\",\n",
    "                        \"X1\":\"ss_amount\",\n",
    "                        \"T1\":\"ss_delay\",\n",
    "                        \"X2\":\"ll_amount\",\n",
    "                        \"T2\":\"ll_delay\",\n",
    "                        \"LaterOptionChosen\": \"choice\"})\n",
    "itch_dt"
   ]
  },
  {
   "cell_type": "code",
   "execution_count": 24,
   "metadata": {},
   "outputs": [
    {
     "name": "stderr",
     "output_type": "stream",
     "text": [
      "100%|██████████| 9/9 [48:46<00:00, 325.22s/it]   \n"
     ]
    }
   ],
   "source": [
    "dstyle_list = list(mpl_estimation.config_param['discount_func'].keys())\n",
    "#ustyle_list = list(mpl_estimation.config_param['utility_func'].keys())\n",
    "ustyle_list = [\"power\"]\n",
    "style_list = [{\"dstyle\":dstyle_list[i],\"ustyle\":ustyle_list[j]} \n",
    "              for i in range(len(dstyle_list)) for j in range(len(ustyle_list))]\n",
    "\n",
    "with mp.Pool(processes=4) as pool:\n",
    "    result = []\n",
    "\n",
    "    func = partial(cross_valid.validation,data=itch_dt,sample_times=20)\n",
    "    for r in tqdm(pool.imap(func,style_list),total=len(style_list)):\n",
    "        result += r\n",
    "\n",
    "pool.join()\n",
    "pool.close()"
   ]
  },
  {
   "cell_type": "code",
   "execution_count": 25,
   "metadata": {},
   "outputs": [],
   "source": [
    "with open('crossvalid_output.json', 'w') as f:\n",
    "    json.dump(result, f)\n",
    "sucess_result = [d for d in result if 'Fail to converge' not in d.values()]\n",
    "sucess_result_tab = pd.DataFrame(sucess_result).groupby(['model']).mean()\n",
    "sucess_result_tab['iter'] = pd.DataFrame(sucess_result).groupby(['model'])['iter'].count()\n",
    "sucess_result_tab.to_csv(\"cross_valid_result_2.csv\")"
   ]
  },
  {
   "cell_type": "code",
   "execution_count": 26,
   "metadata": {},
   "outputs": [
    {
     "data": {
      "text/html": [
       "<div>\n",
       "<style scoped>\n",
       "    .dataframe tbody tr th:only-of-type {\n",
       "        vertical-align: middle;\n",
       "    }\n",
       "\n",
       "    .dataframe tbody tr th {\n",
       "        vertical-align: top;\n",
       "    }\n",
       "\n",
       "    .dataframe thead th {\n",
       "        text-align: right;\n",
       "    }\n",
       "</style>\n",
       "<table border=\"1\" class=\"dataframe\">\n",
       "  <thead>\n",
       "    <tr style=\"text-align: right;\">\n",
       "      <th></th>\n",
       "      <th>mse</th>\n",
       "      <th>mae</th>\n",
       "      <th>accuracy</th>\n",
       "      <th>log_like</th>\n",
       "      <th>iter</th>\n",
       "    </tr>\n",
       "    <tr>\n",
       "      <th>model</th>\n",
       "      <th></th>\n",
       "      <th></th>\n",
       "      <th></th>\n",
       "      <th></th>\n",
       "      <th></th>\n",
       "    </tr>\n",
       "  </thead>\n",
       "  <tbody>\n",
       "    <tr>\n",
       "      <th>attention-power</th>\n",
       "      <td>0.208908</td>\n",
       "      <td>0.417425</td>\n",
       "      <td>0.682846</td>\n",
       "      <td>-3515.803651</td>\n",
       "      <td>19</td>\n",
       "    </tr>\n",
       "    <tr>\n",
       "      <th>expo-power</th>\n",
       "      <td>0.205660</td>\n",
       "      <td>0.415521</td>\n",
       "      <td>0.691343</td>\n",
       "      <td>-3485.903809</td>\n",
       "      <td>20</td>\n",
       "    </tr>\n",
       "    <tr>\n",
       "      <th>expo2-power</th>\n",
       "      <td>0.205394</td>\n",
       "      <td>0.415116</td>\n",
       "      <td>0.690721</td>\n",
       "      <td>-3490.879764</td>\n",
       "      <td>14</td>\n",
       "    </tr>\n",
       "    <tr>\n",
       "      <th>hb-power</th>\n",
       "      <td>0.207483</td>\n",
       "      <td>0.416106</td>\n",
       "      <td>0.685180</td>\n",
       "      <td>-3505.014120</td>\n",
       "      <td>19</td>\n",
       "    </tr>\n",
       "    <tr>\n",
       "      <th>hb2-power</th>\n",
       "      <td>0.209631</td>\n",
       "      <td>0.406708</td>\n",
       "      <td>0.680632</td>\n",
       "      <td>-3566.917307</td>\n",
       "      <td>20</td>\n",
       "    </tr>\n",
       "    <tr>\n",
       "      <th>hbmd-power</th>\n",
       "      <td>0.202267</td>\n",
       "      <td>0.405576</td>\n",
       "      <td>0.700174</td>\n",
       "      <td>-3434.337778</td>\n",
       "      <td>20</td>\n",
       "    </tr>\n",
       "    <tr>\n",
       "      <th>hce-power</th>\n",
       "      <td>0.208268</td>\n",
       "      <td>0.415015</td>\n",
       "      <td>0.683770</td>\n",
       "      <td>-3515.479530</td>\n",
       "      <td>10</td>\n",
       "    </tr>\n",
       "    <tr>\n",
       "      <th>quasihb-power</th>\n",
       "      <td>0.207830</td>\n",
       "      <td>0.382915</td>\n",
       "      <td>0.681961</td>\n",
       "      <td>-3864.065715</td>\n",
       "      <td>20</td>\n",
       "    </tr>\n",
       "    <tr>\n",
       "      <th>quasihb_fc-power</th>\n",
       "      <td>0.208875</td>\n",
       "      <td>0.395679</td>\n",
       "      <td>0.677600</td>\n",
       "      <td>-3815.240673</td>\n",
       "      <td>20</td>\n",
       "    </tr>\n",
       "  </tbody>\n",
       "</table>\n",
       "</div>"
      ],
      "text/plain": [
       "                       mse       mae  accuracy     log_like  iter\n",
       "model                                                            \n",
       "attention-power   0.208908  0.417425  0.682846 -3515.803651    19\n",
       "expo-power        0.205660  0.415521  0.691343 -3485.903809    20\n",
       "expo2-power       0.205394  0.415116  0.690721 -3490.879764    14\n",
       "hb-power          0.207483  0.416106  0.685180 -3505.014120    19\n",
       "hb2-power         0.209631  0.406708  0.680632 -3566.917307    20\n",
       "hbmd-power        0.202267  0.405576  0.700174 -3434.337778    20\n",
       "hce-power         0.208268  0.415015  0.683770 -3515.479530    10\n",
       "quasihb-power     0.207830  0.382915  0.681961 -3864.065715    20\n",
       "quasihb_fc-power  0.208875  0.395679  0.677600 -3815.240673    20"
      ]
     },
     "execution_count": 26,
     "metadata": {},
     "output_type": "execute_result"
    }
   ],
   "source": [
    "sucess_result_tab"
   ]
  },
  {
   "cell_type": "code",
   "execution_count": 96,
   "metadata": {},
   "outputs": [
    {
     "data": {
      "text/plain": [
       "      fun: 16974.212425537\n",
       " hess_inv: <4x4 LbfgsInvHessProduct with dtype=float64>\n",
       "      jac: array([ 0.16516424, -0.02874003,  0.06984919,  0.00691216])\n",
       "  message: 'CONVERGENCE: REL_REDUCTION_OF_F_<=_FACTR*EPSMCH'\n",
       "     nfev: 220\n",
       "      nit: 26\n",
       "     njev: 44\n",
       "   status: 0\n",
       "  success: True\n",
       "        x: array([0.98793912, 1.17045354, 0.42731155, 1.57849465])"
      ]
     },
     "execution_count": 96,
     "metadata": {},
     "output_type": "execute_result"
    }
   ],
   "source": [
    "data = chavez_dt\n",
    "init_params = [.9,1,.01,1]\n",
    "dstyle = 'attention'\n",
    "ustyle = 'power'\n",
    "bounds = [(.01,1),(.01,100),(.01,100),(.01,100)]\n",
    "result = minimize(mpl_estimation.log_likelihood, \n",
    "         x0=init_params, args=(data,dstyle,ustyle,bounds), \n",
    "         bounds=bounds,\n",
    "         tol=1e-8,\n",
    "         method='L-BFGS-B')\n",
    "result"
   ]
  },
  {
   "cell_type": "code",
   "execution_count": 4,
   "metadata": {},
   "outputs": [
    {
     "name": "stderr",
     "output_type": "stream",
     "text": [
      "e:\\Attention_discounting\\attention_discount_project\\model\\discount_func.py:88: RuntimeWarning: overflow encountered in power\n",
      "  g = 1 / (1 - dargs['delta']) * (dargs['delta']**(-t) - 1)\n",
      "e:\\Attention_discounting\\attention_discount_project\\model\\mpl_estimation.py:38: RuntimeWarning: divide by zero encountered in log\n",
      "  log_like = np.sum(np.log(p_choice))\n",
      "d:\\Python\\lib\\site-packages\\scipy\\optimize\\_numdiff.py:576: RuntimeWarning: invalid value encountered in subtract\n",
      "  df = fun(x) - f0\n"
     ]
    }
   ],
   "source": [
    "data = chavez_dt\n",
    "x0 = [.5,1,.5,1]\n",
    "bounds = [(.01,1),(.01,100),(.01,100),(.01,100)]\n",
    "dstyle = 'attention'\n",
    "ustyle = 'power'\n",
    "minimizer_kwargs = {\"method\": \"L-BFGS-B\", \"args\": (data, dstyle, ustyle,bounds)}\n",
    "\n",
    "solver = basinhopping(mpl_estimation.log_likelihood, x0, minimizer_kwargs=minimizer_kwargs, \n",
    "             niter=1000, \n",
    "             stepsize=0.05, \n",
    "             T=1.0, \n",
    "             niter_success = 100,\n",
    "             disp=False)"
   ]
  },
  {
   "cell_type": "code",
   "execution_count": 72,
   "metadata": {},
   "outputs": [
    {
     "name": "stdout",
     "output_type": "stream",
     "text": [
      "basinhopping step 0: f 14871.3\n",
      "basinhopping step 1: f 14871.3 trial_f 1e+10 accepted 0  lowest_f 14871.3\n",
      "basinhopping step 2: f 14871.3 trial_f 14874.8 accepted 0  lowest_f 14871.3\n",
      "basinhopping step 3: f 14871.5 trial_f 14871.5 accepted 1  lowest_f 14871.3\n"
     ]
    },
    {
     "ename": "KeyboardInterrupt",
     "evalue": "",
     "output_type": "error",
     "traceback": [
      "\u001b[1;31m---------------------------------------------------------------------------\u001b[0m",
      "\u001b[1;31mKeyboardInterrupt\u001b[0m                         Traceback (most recent call last)",
      "\u001b[1;32me:\\Attention_discounting\\attention_discount_project\\model\\debug.ipynb Cell 10\u001b[0m in \u001b[0;36m<cell line: 3>\u001b[1;34m()\u001b[0m\n\u001b[0;32m      <a href='vscode-notebook-cell:/e%3A/Attention_discounting/attention_discount_project/model/debug.ipynb#X12sZmlsZQ%3D%3D?line=0'>1</a>\u001b[0m data \u001b[39m=\u001b[39m itch_dt\n\u001b[0;32m      <a href='vscode-notebook-cell:/e%3A/Attention_discounting/attention_discount_project/model/debug.ipynb#X12sZmlsZQ%3D%3D?line=1'>2</a>\u001b[0m style \u001b[39m=\u001b[39m {\u001b[39m'\u001b[39m\u001b[39mdstyle\u001b[39m\u001b[39m'\u001b[39m:\u001b[39m'\u001b[39m\u001b[39mattention\u001b[39m\u001b[39m'\u001b[39m,\u001b[39m'\u001b[39m\u001b[39mustyle\u001b[39m\u001b[39m'\u001b[39m:\u001b[39m'\u001b[39m\u001b[39mpower\u001b[39m\u001b[39m'\u001b[39m,\u001b[39m'\u001b[39m\u001b[39mmethod\u001b[39m\u001b[39m'\u001b[39m:\u001b[39m'\u001b[39m\u001b[39mprobit\u001b[39m\u001b[39m'\u001b[39m}\n\u001b[1;32m----> <a href='vscode-notebook-cell:/e%3A/Attention_discounting/attention_discount_project/model/debug.ipynb#X12sZmlsZQ%3D%3D?line=2'>3</a>\u001b[0m mpl_estimation\u001b[39m.\u001b[39;49mmle(style,data,disp_output\u001b[39m=\u001b[39;49m\u001b[39mTrue\u001b[39;49;00m,disp_step\u001b[39m=\u001b[39;49m\u001b[39mTrue\u001b[39;49;00m)\n",
      "File \u001b[1;32me:\\Attention_discounting\\attention_discount_project\\model\\mpl_estimation.py:80\u001b[0m, in \u001b[0;36mmle\u001b[1;34m(style, data, disp_output, disp_step, simu_size)\u001b[0m\n\u001b[0;32m     77\u001b[0m \u001b[39melse\u001b[39;00m:\n\u001b[0;32m     78\u001b[0m     minimizer_kwargs \u001b[39m=\u001b[39m {\u001b[39m\"\u001b[39m\u001b[39mmethod\u001b[39m\u001b[39m\"\u001b[39m: \u001b[39m\"\u001b[39m\u001b[39mL-BFGS-B\u001b[39m\u001b[39m\"\u001b[39m, \u001b[39m\"\u001b[39m\u001b[39margs\u001b[39m\u001b[39m\"\u001b[39m: (data, dstyle, ustyle, bounds, method)}\n\u001b[1;32m---> 80\u001b[0m solver \u001b[39m=\u001b[39m basinhopping(log_likelihood, x0, minimizer_kwargs\u001b[39m=\u001b[39;49mminimizer_kwargs, \n\u001b[0;32m     81\u001b[0m             niter\u001b[39m=\u001b[39;49m\u001b[39m100\u001b[39;49m, \n\u001b[0;32m     82\u001b[0m             stepsize\u001b[39m=\u001b[39;49m\u001b[39m0.05\u001b[39;49m, \n\u001b[0;32m     83\u001b[0m             T\u001b[39m=\u001b[39;49m\u001b[39m1.0\u001b[39;49m, \n\u001b[0;32m     84\u001b[0m             niter_success \u001b[39m=\u001b[39;49m \u001b[39m10\u001b[39;49m,\n\u001b[0;32m     85\u001b[0m             disp\u001b[39m=\u001b[39;49mdisp_step)\n\u001b[0;32m     87\u001b[0m \u001b[39mif\u001b[39;00m solver\u001b[39m.\u001b[39msuccess:\n\u001b[0;32m     88\u001b[0m     result \u001b[39m=\u001b[39m solver\u001b[39m.\u001b[39mlowest_optimization_result\n",
      "File \u001b[1;32md:\\Python\\lib\\site-packages\\scipy\\optimize\\_basinhopping.py:735\u001b[0m, in \u001b[0;36mbasinhopping\u001b[1;34m(func, x0, niter, T, stepsize, minimizer_kwargs, take_step, accept_test, callback, interval, disp, niter_success, seed, target_accept_rate, stepwise_factor)\u001b[0m\n\u001b[0;32m    732\u001b[0m message \u001b[39m=\u001b[39m [\u001b[39m\"\u001b[39m\u001b[39mrequested number of basinhopping iterations completed\u001b[39m\u001b[39m\"\u001b[39m\n\u001b[0;32m    733\u001b[0m            \u001b[39m\"\u001b[39m\u001b[39m successfully\u001b[39m\u001b[39m\"\u001b[39m]\n\u001b[0;32m    734\u001b[0m \u001b[39mfor\u001b[39;00m i \u001b[39min\u001b[39;00m \u001b[39mrange\u001b[39m(niter):\n\u001b[1;32m--> 735\u001b[0m     new_global_min \u001b[39m=\u001b[39m bh\u001b[39m.\u001b[39;49mone_cycle()\n\u001b[0;32m    737\u001b[0m     \u001b[39mif\u001b[39;00m callable(callback):\n\u001b[0;32m    738\u001b[0m         \u001b[39m# should we pass a copy of x?\u001b[39;00m\n\u001b[0;32m    739\u001b[0m         val \u001b[39m=\u001b[39m callback(bh\u001b[39m.\u001b[39mxtrial, bh\u001b[39m.\u001b[39menergy_trial, bh\u001b[39m.\u001b[39maccept)\n",
      "File \u001b[1;32md:\\Python\\lib\\site-packages\\scipy\\optimize\\_basinhopping.py:152\u001b[0m, in \u001b[0;36mBasinHoppingRunner.one_cycle\u001b[1;34m(self)\u001b[0m\n\u001b[0;32m    149\u001b[0m \u001b[39mself\u001b[39m\u001b[39m.\u001b[39mnstep \u001b[39m+\u001b[39m\u001b[39m=\u001b[39m \u001b[39m1\u001b[39m\n\u001b[0;32m    150\u001b[0m new_global_min \u001b[39m=\u001b[39m \u001b[39mFalse\u001b[39;00m\n\u001b[1;32m--> 152\u001b[0m accept, minres \u001b[39m=\u001b[39m \u001b[39mself\u001b[39;49m\u001b[39m.\u001b[39;49m_monte_carlo_step()\n\u001b[0;32m    154\u001b[0m \u001b[39mif\u001b[39;00m accept:\n\u001b[0;32m    155\u001b[0m     \u001b[39mself\u001b[39m\u001b[39m.\u001b[39menergy \u001b[39m=\u001b[39m minres\u001b[39m.\u001b[39mfun\n",
      "File \u001b[1;32md:\\Python\\lib\\site-packages\\scipy\\optimize\\_basinhopping.py:104\u001b[0m, in \u001b[0;36mBasinHoppingRunner._monte_carlo_step\u001b[1;34m(self)\u001b[0m\n\u001b[0;32m    101\u001b[0m x_after_step \u001b[39m=\u001b[39m \u001b[39mself\u001b[39m\u001b[39m.\u001b[39mstep_taking(x_after_step)\n\u001b[0;32m    103\u001b[0m \u001b[39m# do a local minimization\u001b[39;00m\n\u001b[1;32m--> 104\u001b[0m minres \u001b[39m=\u001b[39m \u001b[39mself\u001b[39;49m\u001b[39m.\u001b[39;49mminimizer(x_after_step)\n\u001b[0;32m    105\u001b[0m x_after_quench \u001b[39m=\u001b[39m minres\u001b[39m.\u001b[39mx\n\u001b[0;32m    106\u001b[0m energy_after_quench \u001b[39m=\u001b[39m minres\u001b[39m.\u001b[39mfun\n",
      "File \u001b[1;32md:\\Python\\lib\\site-packages\\scipy\\optimize\\_basinhopping.py:292\u001b[0m, in \u001b[0;36mMinimizerWrapper.__call__\u001b[1;34m(self, x0)\u001b[0m\n\u001b[0;32m    290\u001b[0m     \u001b[39mreturn\u001b[39;00m \u001b[39mself\u001b[39m\u001b[39m.\u001b[39mminimizer(x0, \u001b[39m*\u001b[39m\u001b[39m*\u001b[39m\u001b[39mself\u001b[39m\u001b[39m.\u001b[39mkwargs)\n\u001b[0;32m    291\u001b[0m \u001b[39melse\u001b[39;00m:\n\u001b[1;32m--> 292\u001b[0m     \u001b[39mreturn\u001b[39;00m \u001b[39mself\u001b[39m\u001b[39m.\u001b[39mminimizer(\u001b[39mself\u001b[39m\u001b[39m.\u001b[39mfunc, x0, \u001b[39m*\u001b[39m\u001b[39m*\u001b[39m\u001b[39mself\u001b[39m\u001b[39m.\u001b[39mkwargs)\n",
      "File \u001b[1;32md:\\Python\\lib\\site-packages\\scipy\\optimize\\_minimize.py:699\u001b[0m, in \u001b[0;36mminimize\u001b[1;34m(fun, x0, args, method, jac, hess, hessp, bounds, constraints, tol, callback, options)\u001b[0m\n\u001b[0;32m    696\u001b[0m     res \u001b[39m=\u001b[39m _minimize_newtoncg(fun, x0, args, jac, hess, hessp, callback,\n\u001b[0;32m    697\u001b[0m                              \u001b[39m*\u001b[39m\u001b[39m*\u001b[39moptions)\n\u001b[0;32m    698\u001b[0m \u001b[39melif\u001b[39;00m meth \u001b[39m==\u001b[39m \u001b[39m'\u001b[39m\u001b[39ml-bfgs-b\u001b[39m\u001b[39m'\u001b[39m:\n\u001b[1;32m--> 699\u001b[0m     res \u001b[39m=\u001b[39m _minimize_lbfgsb(fun, x0, args, jac, bounds,\n\u001b[0;32m    700\u001b[0m                            callback\u001b[39m=\u001b[39mcallback, \u001b[39m*\u001b[39m\u001b[39m*\u001b[39moptions)\n\u001b[0;32m    701\u001b[0m \u001b[39melif\u001b[39;00m meth \u001b[39m==\u001b[39m \u001b[39m'\u001b[39m\u001b[39mtnc\u001b[39m\u001b[39m'\u001b[39m:\n\u001b[0;32m    702\u001b[0m     res \u001b[39m=\u001b[39m _minimize_tnc(fun, x0, args, jac, bounds, callback\u001b[39m=\u001b[39mcallback,\n\u001b[0;32m    703\u001b[0m                         \u001b[39m*\u001b[39m\u001b[39m*\u001b[39moptions)\n",
      "File \u001b[1;32md:\\Python\\lib\\site-packages\\scipy\\optimize\\_lbfgsb_py.py:362\u001b[0m, in \u001b[0;36m_minimize_lbfgsb\u001b[1;34m(fun, x0, args, jac, bounds, disp, maxcor, ftol, gtol, eps, maxfun, maxiter, iprint, callback, maxls, finite_diff_rel_step, **unknown_options)\u001b[0m\n\u001b[0;32m    356\u001b[0m task_str \u001b[39m=\u001b[39m task\u001b[39m.\u001b[39mtobytes()\n\u001b[0;32m    357\u001b[0m \u001b[39mif\u001b[39;00m task_str\u001b[39m.\u001b[39mstartswith(\u001b[39mb\u001b[39m\u001b[39m'\u001b[39m\u001b[39mFG\u001b[39m\u001b[39m'\u001b[39m):\n\u001b[0;32m    358\u001b[0m     \u001b[39m# The minimization routine wants f and g at the current x.\u001b[39;00m\n\u001b[0;32m    359\u001b[0m     \u001b[39m# Note that interruptions due to maxfun are postponed\u001b[39;00m\n\u001b[0;32m    360\u001b[0m     \u001b[39m# until the completion of the current minimization iteration.\u001b[39;00m\n\u001b[0;32m    361\u001b[0m     \u001b[39m# Overwrite f and g:\u001b[39;00m\n\u001b[1;32m--> 362\u001b[0m     f, g \u001b[39m=\u001b[39m func_and_grad(x)\n\u001b[0;32m    363\u001b[0m \u001b[39melif\u001b[39;00m task_str\u001b[39m.\u001b[39mstartswith(\u001b[39mb\u001b[39m\u001b[39m'\u001b[39m\u001b[39mNEW_X\u001b[39m\u001b[39m'\u001b[39m):\n\u001b[0;32m    364\u001b[0m     \u001b[39m# new iteration\u001b[39;00m\n\u001b[0;32m    365\u001b[0m     n_iterations \u001b[39m+\u001b[39m\u001b[39m=\u001b[39m \u001b[39m1\u001b[39m\n",
      "File \u001b[1;32md:\\Python\\lib\\site-packages\\scipy\\optimize\\_differentiable_functions.py:285\u001b[0m, in \u001b[0;36mScalarFunction.fun_and_grad\u001b[1;34m(self, x)\u001b[0m\n\u001b[0;32m    283\u001b[0m \u001b[39mif\u001b[39;00m \u001b[39mnot\u001b[39;00m np\u001b[39m.\u001b[39marray_equal(x, \u001b[39mself\u001b[39m\u001b[39m.\u001b[39mx):\n\u001b[0;32m    284\u001b[0m     \u001b[39mself\u001b[39m\u001b[39m.\u001b[39m_update_x_impl(x)\n\u001b[1;32m--> 285\u001b[0m \u001b[39mself\u001b[39;49m\u001b[39m.\u001b[39;49m_update_fun()\n\u001b[0;32m    286\u001b[0m \u001b[39mself\u001b[39m\u001b[39m.\u001b[39m_update_grad()\n\u001b[0;32m    287\u001b[0m \u001b[39mreturn\u001b[39;00m \u001b[39mself\u001b[39m\u001b[39m.\u001b[39mf, \u001b[39mself\u001b[39m\u001b[39m.\u001b[39mg\n",
      "File \u001b[1;32md:\\Python\\lib\\site-packages\\scipy\\optimize\\_differentiable_functions.py:251\u001b[0m, in \u001b[0;36mScalarFunction._update_fun\u001b[1;34m(self)\u001b[0m\n\u001b[0;32m    249\u001b[0m \u001b[39mdef\u001b[39;00m \u001b[39m_update_fun\u001b[39m(\u001b[39mself\u001b[39m):\n\u001b[0;32m    250\u001b[0m     \u001b[39mif\u001b[39;00m \u001b[39mnot\u001b[39;00m \u001b[39mself\u001b[39m\u001b[39m.\u001b[39mf_updated:\n\u001b[1;32m--> 251\u001b[0m         \u001b[39mself\u001b[39;49m\u001b[39m.\u001b[39;49m_update_fun_impl()\n\u001b[0;32m    252\u001b[0m         \u001b[39mself\u001b[39m\u001b[39m.\u001b[39mf_updated \u001b[39m=\u001b[39m \u001b[39mTrue\u001b[39;00m\n",
      "File \u001b[1;32md:\\Python\\lib\\site-packages\\scipy\\optimize\\_differentiable_functions.py:155\u001b[0m, in \u001b[0;36mScalarFunction.__init__.<locals>.update_fun\u001b[1;34m()\u001b[0m\n\u001b[0;32m    154\u001b[0m \u001b[39mdef\u001b[39;00m \u001b[39mupdate_fun\u001b[39m():\n\u001b[1;32m--> 155\u001b[0m     \u001b[39mself\u001b[39m\u001b[39m.\u001b[39mf \u001b[39m=\u001b[39m fun_wrapped(\u001b[39mself\u001b[39;49m\u001b[39m.\u001b[39;49mx)\n",
      "File \u001b[1;32md:\\Python\\lib\\site-packages\\scipy\\optimize\\_differentiable_functions.py:137\u001b[0m, in \u001b[0;36mScalarFunction.__init__.<locals>.fun_wrapped\u001b[1;34m(x)\u001b[0m\n\u001b[0;32m    133\u001b[0m \u001b[39mself\u001b[39m\u001b[39m.\u001b[39mnfev \u001b[39m+\u001b[39m\u001b[39m=\u001b[39m \u001b[39m1\u001b[39m\n\u001b[0;32m    134\u001b[0m \u001b[39m# Send a copy because the user may overwrite it.\u001b[39;00m\n\u001b[0;32m    135\u001b[0m \u001b[39m# Overwriting results in undefined behaviour because\u001b[39;00m\n\u001b[0;32m    136\u001b[0m \u001b[39m# fun(self.x) will change self.x, with the two no longer linked.\u001b[39;00m\n\u001b[1;32m--> 137\u001b[0m fx \u001b[39m=\u001b[39m fun(np\u001b[39m.\u001b[39;49mcopy(x), \u001b[39m*\u001b[39;49margs)\n\u001b[0;32m    138\u001b[0m \u001b[39m# Make sure the function returns a true scalar\u001b[39;00m\n\u001b[0;32m    139\u001b[0m \u001b[39mif\u001b[39;00m \u001b[39mnot\u001b[39;00m np\u001b[39m.\u001b[39misscalar(fx):\n",
      "File \u001b[1;32me:\\Attention_discounting\\attention_discount_project\\model\\mpl_estimation.py:37\u001b[0m, in \u001b[0;36mlog_likelihood\u001b[1;34m(params, data, dstyle, ustyle, bounds, method, regenerate_sample, kwargs)\u001b[0m\n\u001b[0;32m     34\u001b[0m choice \u001b[39m=\u001b[39m data[\u001b[39m'\u001b[39m\u001b[39mchoice\u001b[39m\u001b[39m'\u001b[39m]\u001b[39m.\u001b[39mvalues\n\u001b[0;32m     36\u001b[0m \u001b[39mif\u001b[39;00m \u001b[39mnot\u001b[39;00m regenerate_sample:\n\u001b[1;32m---> 37\u001b[0m     p_choice_ll \u001b[39m=\u001b[39m choice_prob\u001b[39m.\u001b[39;49mchoice_prob_du(ss_t, ss_x, ll_t, ll_x, params, dstyle, ustyle, temper, method,\n\u001b[0;32m     38\u001b[0m                                              regenerate_sample\u001b[39m=\u001b[39;49m\u001b[39mFalse\u001b[39;49;00m, simu_sample \u001b[39m=\u001b[39;49m kwargs[\u001b[39m'\u001b[39;49m\u001b[39msimu_sample\u001b[39;49m\u001b[39m'\u001b[39;49m])\n\u001b[0;32m     39\u001b[0m \u001b[39melse\u001b[39;00m:\n\u001b[0;32m     40\u001b[0m     p_choice_ll \u001b[39m=\u001b[39m choice_prob\u001b[39m.\u001b[39mchoice_prob_du(ss_t, ss_x, ll_t, ll_x, params, dstyle, ustyle, temper, method)\n",
      "File \u001b[1;32me:\\Attention_discounting\\attention_discount_project\\model\\choice_prob.py:118\u001b[0m, in \u001b[0;36mchoice_prob_du\u001b[1;34m(ss_t, ss_x, ll_t, ll_x, params, dstyle, ustyle, temper, method, simu_size, regenerate_sample, **kwargs)\u001b[0m\n\u001b[0;32m    114\u001b[0m     diff_v \u001b[39m=\u001b[39m np\u001b[39m.\u001b[39mrepeat(ll_v\u001b[39m-\u001b[39mss_v,simu_size)\u001b[39m.\u001b[39mreshape(obs,simu_size) \n\u001b[0;32m    116\u001b[0m     _limit \u001b[39m=\u001b[39m (diff_v \u001b[39m+\u001b[39m simu_normal \u001b[39m*\u001b[39m temper) \u001b[39m/\u001b[39m temper\n\u001b[1;32m--> 118\u001b[0m     p_choice_ll \u001b[39m=\u001b[39m np\u001b[39m.\u001b[39mmean(st\u001b[39m.\u001b[39;49mnorm\u001b[39m.\u001b[39;49mcdf(_limit),axis\u001b[39m=\u001b[39m\u001b[39m1\u001b[39m)\n\u001b[0;32m    120\u001b[0m \u001b[39melse\u001b[39;00m:\n\u001b[0;32m    121\u001b[0m     \u001b[39mif\u001b[39;00m regenerate_sample:\n",
      "File \u001b[1;32md:\\Python\\lib\\site-packages\\scipy\\stats\\_distn_infrastructure.py:2178\u001b[0m, in \u001b[0;36mrv_continuous.cdf\u001b[1;34m(self, x, *args, **kwds)\u001b[0m\n\u001b[0;32m   2176\u001b[0m \u001b[39mif\u001b[39;00m np\u001b[39m.\u001b[39many(cond):  \u001b[39m# call only if at least 1 entry\u001b[39;00m\n\u001b[0;32m   2177\u001b[0m     goodargs \u001b[39m=\u001b[39m argsreduce(cond, \u001b[39m*\u001b[39m((x,)\u001b[39m+\u001b[39margs))\n\u001b[1;32m-> 2178\u001b[0m     place(output, cond, \u001b[39mself\u001b[39;49m\u001b[39m.\u001b[39;49m_cdf(\u001b[39m*\u001b[39;49mgoodargs))\n\u001b[0;32m   2179\u001b[0m \u001b[39mif\u001b[39;00m output\u001b[39m.\u001b[39mndim \u001b[39m==\u001b[39m \u001b[39m0\u001b[39m:\n\u001b[0;32m   2180\u001b[0m     \u001b[39mreturn\u001b[39;00m output[()]\n",
      "File \u001b[1;32md:\\Python\\lib\\site-packages\\scipy\\stats\\_continuous_distns.py:335\u001b[0m, in \u001b[0;36mnorm_gen._cdf\u001b[1;34m(self, x)\u001b[0m\n\u001b[0;32m    334\u001b[0m \u001b[39mdef\u001b[39;00m \u001b[39m_cdf\u001b[39m(\u001b[39mself\u001b[39m, x):\n\u001b[1;32m--> 335\u001b[0m     \u001b[39mreturn\u001b[39;00m _norm_cdf(x)\n",
      "File \u001b[1;32md:\\Python\\lib\\site-packages\\scipy\\stats\\_continuous_distns.py:275\u001b[0m, in \u001b[0;36m_norm_cdf\u001b[1;34m(x)\u001b[0m\n\u001b[0;32m    274\u001b[0m \u001b[39mdef\u001b[39;00m \u001b[39m_norm_cdf\u001b[39m(x):\n\u001b[1;32m--> 275\u001b[0m     \u001b[39mreturn\u001b[39;00m sc\u001b[39m.\u001b[39;49mndtr(x)\n",
      "\u001b[1;31mKeyboardInterrupt\u001b[0m: "
     ]
    }
   ],
   "source": [
    "data = itch_dt\n",
    "style = {'dstyle':'attention','ustyle':'power','method':'probit'}\n",
    "mpl_estimation.mle(style,data,disp_output=True,disp_step=True)"
   ]
  },
  {
   "cell_type": "code",
   "execution_count": 69,
   "metadata": {},
   "outputs": [],
   "source": [
    "params = [1,.5,10]\n",
    "bounds = [[.001,100],[.001,100],[.001,100]]\n",
    "dstyle = 'hbmd'\n",
    "ustyle = 'power'\n",
    "data = itch_dt\n",
    "simu_size = 1000\n",
    "kwargs = {'simu_sample':np.random.normal(size=len(data)*simu_size).reshape(len(data),simu_size)}"
   ]
  },
  {
   "cell_type": "code",
   "execution_count": 70,
   "metadata": {},
   "outputs": [
    {
     "data": {
      "text/plain": [
       "15978.410516612446"
      ]
     },
     "execution_count": 70,
     "metadata": {},
     "output_type": "execute_result"
    }
   ],
   "source": [
    "mpl_estimation.log_likelihood(params, data, dstyle, ustyle, bounds, method=\"probit\", regenerate_sample=False,kwargs=kwargs)"
   ]
  },
  {
   "cell_type": "code",
   "execution_count": 27,
   "metadata": {},
   "outputs": [
    {
     "name": "stderr",
     "output_type": "stream",
     "text": [
      "100%|██████████| 27/27 [08:10<00:00, 18.17s/it]\n"
     ]
    }
   ],
   "source": [
    "\n",
    "\n",
    "dstyle_list = list(mpl_estimation.config_param['discount_func'].keys())\n",
    "ustyle_list = list(mpl_estimation.config_param['utility_func'].keys())\n",
    "style_list = [{\"dstyle\":dstyle_list[i],\"ustyle\":ustyle_list[j]} \n",
    "              for i in range(len(dstyle_list)) for j in range(len(ustyle_list))]\n",
    "\n",
    "with mp.Pool(processes=4) as pool:\n",
    "    result = []\n",
    "\n",
    "    func = partial(mpl_estimation.mle,data=itch_dt)\n",
    "    for r in tqdm(pool.imap(func,style_list),total=len(style_list)):\n",
    "        result += [r]\n",
    "\n",
    "pool.join()\n",
    "pool.close()"
   ]
  },
  {
   "cell_type": "code",
   "execution_count": 28,
   "metadata": {},
   "outputs": [
    {
     "data": {
      "text/html": [
       "<div>\n",
       "<style scoped>\n",
       "    .dataframe tbody tr th:only-of-type {\n",
       "        vertical-align: middle;\n",
       "    }\n",
       "\n",
       "    .dataframe tbody tr th {\n",
       "        vertical-align: top;\n",
       "    }\n",
       "\n",
       "    .dataframe thead th {\n",
       "        text-align: right;\n",
       "    }\n",
       "</style>\n",
       "<table border=\"1\" class=\"dataframe\">\n",
       "  <thead>\n",
       "    <tr style=\"text-align: right;\">\n",
       "      <th></th>\n",
       "      <th>model</th>\n",
       "      <th>params</th>\n",
       "      <th>se</th>\n",
       "      <th>gradient</th>\n",
       "      <th>log-likelihood</th>\n",
       "      <th>aic</th>\n",
       "      <th>bic</th>\n",
       "    </tr>\n",
       "  </thead>\n",
       "  <tbody>\n",
       "    <tr>\n",
       "      <th>0</th>\n",
       "      <td>expo-power</td>\n",
       "      <td>[0.994, 0.013, 0.011]</td>\n",
       "      <td>[0.001, 0.003, 0.002]</td>\n",
       "      <td>[-2.43, 0.698, -2.146]</td>\n",
       "      <td>-14202.379</td>\n",
       "      <td>28410.759</td>\n",
       "      <td>28465.147</td>\n",
       "    </tr>\n",
       "    <tr>\n",
       "      <th>1</th>\n",
       "      <td>expo-cara</td>\n",
       "      <td>[0.743, 2.045, 0.509]</td>\n",
       "      <td>[0.001, 0.015, 0.002]</td>\n",
       "      <td>[0.0, -0.0, 0.002]</td>\n",
       "      <td>-15165.959</td>\n",
       "      <td>30337.919</td>\n",
       "      <td>30392.307</td>\n",
       "    </tr>\n",
       "    <tr>\n",
       "      <th>2</th>\n",
       "      <td>hb-power</td>\n",
       "      <td>[0.011, 0.025, 0.021]</td>\n",
       "      <td>[0.001, 0.002, 0.002]</td>\n",
       "      <td>[-1.314, 0.111, 0.699]</td>\n",
       "      <td>-14192.353</td>\n",
       "      <td>28390.705</td>\n",
       "      <td>28445.094</td>\n",
       "    </tr>\n",
       "    <tr>\n",
       "      <th>3</th>\n",
       "      <td>hb-cara</td>\n",
       "      <td>[0.295, 2.936, 0.398]</td>\n",
       "      <td>[0.0, 0.008, 0.0]</td>\n",
       "      <td>[-0.0, 0.0, 0.001]</td>\n",
       "      <td>-15175.382</td>\n",
       "      <td>30356.764</td>\n",
       "      <td>30411.153</td>\n",
       "    </tr>\n",
       "    <tr>\n",
       "      <th>4</th>\n",
       "      <td>hb2-power</td>\n",
       "      <td>[0.399, 0.004, 0.002, 0.002]</td>\n",
       "      <td>[0.007, 0.007, 0.003, 0.002]</td>\n",
       "      <td>[-19.79, 1860.486, -464.905, -4091.861]</td>\n",
       "      <td>-14044.266</td>\n",
       "      <td>28096.531</td>\n",
       "      <td>28169.049</td>\n",
       "    </tr>\n",
       "    <tr>\n",
       "      <th>5</th>\n",
       "      <td>hb2-cara</td>\n",
       "      <td>[0.036, 8.124, 2.146, 0.489]</td>\n",
       "      <td>[0.009, 0.007, 0.014, 0.042]</td>\n",
       "      <td>[0.422, 0.002, 0.001, -0.02]</td>\n",
       "      <td>-15165.669</td>\n",
       "      <td>30339.338</td>\n",
       "      <td>30411.856</td>\n",
       "    </tr>\n",
       "    <tr>\n",
       "      <th>6</th>\n",
       "      <td>hbmd-power</td>\n",
       "      <td>[7.094, 0.146, 0.171]</td>\n",
       "      <td>[0.021, 0.001, 0.0]</td>\n",
       "      <td>[0.0, 0.0, -0.001]</td>\n",
       "      <td>-13928.870</td>\n",
       "      <td>27863.740</td>\n",
       "      <td>27918.129</td>\n",
       "    </tr>\n",
       "    <tr>\n",
       "      <th>7</th>\n",
       "      <td>hbmd-cara</td>\n",
       "      <td>[3.453, 2.461, 0.389]</td>\n",
       "      <td>[0.002, 0.003, 0.0]</td>\n",
       "      <td>[0.0, 0.0, -0.001]</td>\n",
       "      <td>-15155.590</td>\n",
       "      <td>30317.179</td>\n",
       "      <td>30371.568</td>\n",
       "    </tr>\n",
       "    <tr>\n",
       "      <th>8</th>\n",
       "      <td>quasihb-power</td>\n",
       "      <td>[0.999, 0.999, 0.001, 0.001]</td>\n",
       "      <td>[0.004, 0.003, 0.009, 0.007]</td>\n",
       "      <td>[-3271.168, -2270.061, 464.412, -3364.671]</td>\n",
       "      <td>-14062.506</td>\n",
       "      <td>28133.012</td>\n",
       "      <td>28205.530</td>\n",
       "    </tr>\n",
       "    <tr>\n",
       "      <th>9</th>\n",
       "      <td>quasihb-cara</td>\n",
       "      <td>[0.943, 0.784, 2.294, 0.465]</td>\n",
       "      <td>[0.003, 0.003, 0.042, 0.003]</td>\n",
       "      <td>[-0.001, -0.001, 0.0, 0.001]</td>\n",
       "      <td>-15162.805</td>\n",
       "      <td>30333.610</td>\n",
       "      <td>30406.128</td>\n",
       "    </tr>\n",
       "    <tr>\n",
       "      <th>10</th>\n",
       "      <td>quasihb_fc-power</td>\n",
       "      <td>[0.999, 0.999, 0.993, 0.001, 0.001]</td>\n",
       "      <td>[0.006, 0.002, 0.007, 0.005, 0.004]</td>\n",
       "      <td>[-194.245, 48.558, -0.001, 26.25, -65.63]</td>\n",
       "      <td>-14062.496</td>\n",
       "      <td>28134.992</td>\n",
       "      <td>28225.639</td>\n",
       "    </tr>\n",
       "    <tr>\n",
       "      <th>11</th>\n",
       "      <td>quasihb_fc-cara</td>\n",
       "      <td>[0.943, 0.784, 1.082, 2.294, 0.465]</td>\n",
       "      <td>[0.01, 0.005, 0.007, 0.04, 0.013]</td>\n",
       "      <td>[0.001, 0.003, 0.0, 0.0, 0.003]</td>\n",
       "      <td>-15162.805</td>\n",
       "      <td>30335.610</td>\n",
       "      <td>30426.257</td>\n",
       "    </tr>\n",
       "    <tr>\n",
       "      <th>12</th>\n",
       "      <td>hce-cara</td>\n",
       "      <td>[0.743, 99.837, 2.071, 0.509]</td>\n",
       "      <td>[0.0, 0.007, 0.015, 0.001]</td>\n",
       "      <td>[0.001, -0.003, -0.001, -0.001]</td>\n",
       "      <td>-15166.235</td>\n",
       "      <td>30340.469</td>\n",
       "      <td>30412.987</td>\n",
       "    </tr>\n",
       "    <tr>\n",
       "      <th>13</th>\n",
       "      <td>attention-power</td>\n",
       "      <td>[1.0, 1.381, 0.183, 0.34]</td>\n",
       "      <td>[0.001, 0.007, 0.002, 0.007]</td>\n",
       "      <td>[-449.412, -59.389, 566.675, 109.72]</td>\n",
       "      <td>-14175.243</td>\n",
       "      <td>28358.487</td>\n",
       "      <td>28431.005</td>\n",
       "    </tr>\n",
       "    <tr>\n",
       "      <th>14</th>\n",
       "      <td>attention-cara</td>\n",
       "      <td>[0.806, 0.654, 0.848, 0.42]</td>\n",
       "      <td>[0.001, 0.0, 0.008, 0.001]</td>\n",
       "      <td>[-0.0, 0.001, 0.0, -0.0]</td>\n",
       "      <td>-15141.810</td>\n",
       "      <td>30291.620</td>\n",
       "      <td>30364.138</td>\n",
       "    </tr>\n",
       "  </tbody>\n",
       "</table>\n",
       "</div>"
      ],
      "text/plain": [
       "               model                               params  \\\n",
       "0         expo-power                [0.994, 0.013, 0.011]   \n",
       "1          expo-cara                [0.743, 2.045, 0.509]   \n",
       "2           hb-power                [0.011, 0.025, 0.021]   \n",
       "3            hb-cara                [0.295, 2.936, 0.398]   \n",
       "4          hb2-power         [0.399, 0.004, 0.002, 0.002]   \n",
       "5           hb2-cara         [0.036, 8.124, 2.146, 0.489]   \n",
       "6         hbmd-power                [7.094, 0.146, 0.171]   \n",
       "7          hbmd-cara                [3.453, 2.461, 0.389]   \n",
       "8      quasihb-power         [0.999, 0.999, 0.001, 0.001]   \n",
       "9       quasihb-cara         [0.943, 0.784, 2.294, 0.465]   \n",
       "10  quasihb_fc-power  [0.999, 0.999, 0.993, 0.001, 0.001]   \n",
       "11   quasihb_fc-cara  [0.943, 0.784, 1.082, 2.294, 0.465]   \n",
       "12          hce-cara        [0.743, 99.837, 2.071, 0.509]   \n",
       "13   attention-power            [1.0, 1.381, 0.183, 0.34]   \n",
       "14    attention-cara          [0.806, 0.654, 0.848, 0.42]   \n",
       "\n",
       "                                     se  \\\n",
       "0                 [0.001, 0.003, 0.002]   \n",
       "1                 [0.001, 0.015, 0.002]   \n",
       "2                 [0.001, 0.002, 0.002]   \n",
       "3                     [0.0, 0.008, 0.0]   \n",
       "4          [0.007, 0.007, 0.003, 0.002]   \n",
       "5          [0.009, 0.007, 0.014, 0.042]   \n",
       "6                   [0.021, 0.001, 0.0]   \n",
       "7                   [0.002, 0.003, 0.0]   \n",
       "8          [0.004, 0.003, 0.009, 0.007]   \n",
       "9          [0.003, 0.003, 0.042, 0.003]   \n",
       "10  [0.006, 0.002, 0.007, 0.005, 0.004]   \n",
       "11    [0.01, 0.005, 0.007, 0.04, 0.013]   \n",
       "12           [0.0, 0.007, 0.015, 0.001]   \n",
       "13         [0.001, 0.007, 0.002, 0.007]   \n",
       "14           [0.001, 0.0, 0.008, 0.001]   \n",
       "\n",
       "                                      gradient  log-likelihood        aic  \\\n",
       "0                       [-2.43, 0.698, -2.146]      -14202.379  28410.759   \n",
       "1                           [0.0, -0.0, 0.002]      -15165.959  30337.919   \n",
       "2                       [-1.314, 0.111, 0.699]      -14192.353  28390.705   \n",
       "3                           [-0.0, 0.0, 0.001]      -15175.382  30356.764   \n",
       "4      [-19.79, 1860.486, -464.905, -4091.861]      -14044.266  28096.531   \n",
       "5                 [0.422, 0.002, 0.001, -0.02]      -15165.669  30339.338   \n",
       "6                           [0.0, 0.0, -0.001]      -13928.870  27863.740   \n",
       "7                           [0.0, 0.0, -0.001]      -15155.590  30317.179   \n",
       "8   [-3271.168, -2270.061, 464.412, -3364.671]      -14062.506  28133.012   \n",
       "9                 [-0.001, -0.001, 0.0, 0.001]      -15162.805  30333.610   \n",
       "10   [-194.245, 48.558, -0.001, 26.25, -65.63]      -14062.496  28134.992   \n",
       "11             [0.001, 0.003, 0.0, 0.0, 0.003]      -15162.805  30335.610   \n",
       "12             [0.001, -0.003, -0.001, -0.001]      -15166.235  30340.469   \n",
       "13        [-449.412, -59.389, 566.675, 109.72]      -14175.243  28358.487   \n",
       "14                    [-0.0, 0.001, 0.0, -0.0]      -15141.810  30291.620   \n",
       "\n",
       "          bic  \n",
       "0   28465.147  \n",
       "1   30392.307  \n",
       "2   28445.094  \n",
       "3   30411.153  \n",
       "4   28169.049  \n",
       "5   30411.856  \n",
       "6   27918.129  \n",
       "7   30371.568  \n",
       "8   28205.530  \n",
       "9   30406.128  \n",
       "10  28225.639  \n",
       "11  30426.257  \n",
       "12  30412.987  \n",
       "13  28431.005  \n",
       "14  30364.138  "
      ]
     },
     "execution_count": 28,
     "metadata": {},
     "output_type": "execute_result"
    }
   ],
   "source": [
    "success_result = list(np.array(result)[[result[i] != \"Fail to converge\" for i in range(len(result))]])\n",
    "pd.DataFrame(success_result)"
   ]
  },
  {
   "cell_type": "code",
   "execution_count": 38,
   "metadata": {},
   "outputs": [],
   "source": [
    "pd.DataFrame(success_result).to_csv(\"mle_result_3.csv\",index=False)"
   ]
  },
  {
   "cell_type": "code",
   "execution_count": 54,
   "metadata": {},
   "outputs": [
    {
     "name": "stderr",
     "output_type": "stream",
     "text": [
      "e:\\Attention_discounting\\attention_discount_project\\model\\mpl_estimation.py:39: RuntimeWarning: divide by zero encountered in log\n",
      "  p_choice_ss = 1 - p_choice_ll\n",
      "d:\\Python\\lib\\site-packages\\scipy\\optimize\\_numdiff.py:576: RuntimeWarning: invalid value encountered in subtract\n",
      "  df = fun(x) - f0\n"
     ]
    }
   ],
   "source": [
    "style = {\"dstyle\":\"attention_uni\",\"ustyle\":\"log\"}\n",
    "res = mpl_estimation.mle(style=style,data=itch_dt)"
   ]
  },
  {
   "cell_type": "code",
   "execution_count": 56,
   "metadata": {},
   "outputs": [],
   "source": [
    "res = pd.DataFrame({'model': 'attention_uni-log',\n",
    " 'params': [[1.295, 1.505, 0.384, 0.282]],\n",
    " 'se': [[0.004, 0.005, 0.001, 0.001]],\n",
    " 'gradient': [[0.0, 0.0, -0.0, 0.001]],\n",
    " 'log-likelihood': -13992.422,\n",
    " 'aic': 27992.844,\n",
    " 'bic': 28065.363})"
   ]
  },
  {
   "cell_type": "code",
   "execution_count": 40,
   "metadata": {},
   "outputs": [
    {
     "name": "stderr",
     "output_type": "stream",
     "text": [
      "e:\\Attention_discounting\\attention_discount_project\\model\\mpl_estimation.py:39: RuntimeWarning: divide by zero encountered in log\n",
      "  p_choice_ss = 1 - p_choice_ll\n",
      "d:\\Python\\lib\\site-packages\\scipy\\optimize\\_numdiff.py:576: RuntimeWarning: invalid value encountered in subtract\n",
      "  df = fun(x) - f0\n"
     ]
    }
   ],
   "source": [
    "style = {\"dstyle\":\"attention_uni\",\"ustyle\":\"power\"}\n",
    "res = mpl_estimation.mle(style=style,data=itch_dt)"
   ]
  },
  {
   "cell_type": "code",
   "execution_count": 68,
   "metadata": {},
   "outputs": [],
   "source": [
    "tot_res = pd.read_csv('mle_result_3.csv')\n",
    "#pd.concat([tot_res,res]).to_csv('mle_result_3.csv')"
   ]
  },
  {
   "cell_type": "code",
   "execution_count": 69,
   "metadata": {},
   "outputs": [
    {
     "data": {
      "text/html": [
       "<div>\n",
       "<style scoped>\n",
       "    .dataframe tbody tr th:only-of-type {\n",
       "        vertical-align: middle;\n",
       "    }\n",
       "\n",
       "    .dataframe tbody tr th {\n",
       "        vertical-align: top;\n",
       "    }\n",
       "\n",
       "    .dataframe thead th {\n",
       "        text-align: right;\n",
       "    }\n",
       "</style>\n",
       "<table border=\"1\" class=\"dataframe\">\n",
       "  <thead>\n",
       "    <tr style=\"text-align: right;\">\n",
       "      <th></th>\n",
       "      <th>model</th>\n",
       "      <th>params</th>\n",
       "      <th>se</th>\n",
       "      <th>gradient</th>\n",
       "      <th>log-likelihood</th>\n",
       "      <th>aic</th>\n",
       "      <th>bic</th>\n",
       "    </tr>\n",
       "  </thead>\n",
       "  <tbody>\n",
       "    <tr>\n",
       "      <th>0</th>\n",
       "      <td>expo-power</td>\n",
       "      <td>[0.994, 0.013, 0.011]</td>\n",
       "      <td>[0.001, 0.003, 0.002]</td>\n",
       "      <td>[-2.43, 0.698, -2.146]</td>\n",
       "      <td>-14202.379</td>\n",
       "      <td>28410.759</td>\n",
       "      <td>28465.147</td>\n",
       "    </tr>\n",
       "    <tr>\n",
       "      <th>1</th>\n",
       "      <td>expo-cara</td>\n",
       "      <td>[0.743, 2.045, 0.509]</td>\n",
       "      <td>[0.001, 0.015, 0.002]</td>\n",
       "      <td>[0.0, -0.0, 0.002]</td>\n",
       "      <td>-15165.959</td>\n",
       "      <td>30337.919</td>\n",
       "      <td>30392.307</td>\n",
       "    </tr>\n",
       "    <tr>\n",
       "      <th>2</th>\n",
       "      <td>hb-power</td>\n",
       "      <td>[0.011, 0.025, 0.021]</td>\n",
       "      <td>[0.001, 0.002, 0.002]</td>\n",
       "      <td>[-1.314, 0.111, 0.699]</td>\n",
       "      <td>-14192.353</td>\n",
       "      <td>28390.705</td>\n",
       "      <td>28445.094</td>\n",
       "    </tr>\n",
       "    <tr>\n",
       "      <th>3</th>\n",
       "      <td>hb-cara</td>\n",
       "      <td>[0.295, 2.936, 0.398]</td>\n",
       "      <td>[0.0, 0.008, 0.0]</td>\n",
       "      <td>[-0.0, 0.0, 0.001]</td>\n",
       "      <td>-15175.382</td>\n",
       "      <td>30356.764</td>\n",
       "      <td>30411.153</td>\n",
       "    </tr>\n",
       "    <tr>\n",
       "      <th>4</th>\n",
       "      <td>hb2-power</td>\n",
       "      <td>[0.399, 0.004, 0.002, 0.002]</td>\n",
       "      <td>[0.007, 0.007, 0.003, 0.002]</td>\n",
       "      <td>[-19.79, 1860.486, -464.905, -4091.861]</td>\n",
       "      <td>-14044.266</td>\n",
       "      <td>28096.531</td>\n",
       "      <td>28169.049</td>\n",
       "    </tr>\n",
       "    <tr>\n",
       "      <th>5</th>\n",
       "      <td>hb2-cara</td>\n",
       "      <td>[0.036, 8.124, 2.146, 0.489]</td>\n",
       "      <td>[0.009, 0.007, 0.014, 0.042]</td>\n",
       "      <td>[0.422, 0.002, 0.001, -0.02]</td>\n",
       "      <td>-15165.669</td>\n",
       "      <td>30339.338</td>\n",
       "      <td>30411.856</td>\n",
       "    </tr>\n",
       "    <tr>\n",
       "      <th>6</th>\n",
       "      <td>hbmd-power</td>\n",
       "      <td>[7.094, 0.146, 0.171]</td>\n",
       "      <td>[0.021, 0.001, 0.0]</td>\n",
       "      <td>[0.0, 0.0, -0.001]</td>\n",
       "      <td>-13928.870</td>\n",
       "      <td>27863.740</td>\n",
       "      <td>27918.129</td>\n",
       "    </tr>\n",
       "    <tr>\n",
       "      <th>7</th>\n",
       "      <td>hbmd-cara</td>\n",
       "      <td>[3.453, 2.461, 0.389]</td>\n",
       "      <td>[0.002, 0.003, 0.0]</td>\n",
       "      <td>[0.0, 0.0, -0.001]</td>\n",
       "      <td>-15155.590</td>\n",
       "      <td>30317.179</td>\n",
       "      <td>30371.568</td>\n",
       "    </tr>\n",
       "    <tr>\n",
       "      <th>8</th>\n",
       "      <td>quasihb-power</td>\n",
       "      <td>[0.999, 0.999, 0.001, 0.001]</td>\n",
       "      <td>[0.004, 0.003, 0.009, 0.007]</td>\n",
       "      <td>[-3271.168, -2270.061, 464.412, -3364.671]</td>\n",
       "      <td>-14062.506</td>\n",
       "      <td>28133.012</td>\n",
       "      <td>28205.530</td>\n",
       "    </tr>\n",
       "    <tr>\n",
       "      <th>9</th>\n",
       "      <td>quasihb-cara</td>\n",
       "      <td>[0.943, 0.784, 2.294, 0.465]</td>\n",
       "      <td>[0.003, 0.003, 0.042, 0.003]</td>\n",
       "      <td>[-0.001, -0.001, 0.0, 0.001]</td>\n",
       "      <td>-15162.805</td>\n",
       "      <td>30333.610</td>\n",
       "      <td>30406.128</td>\n",
       "    </tr>\n",
       "    <tr>\n",
       "      <th>10</th>\n",
       "      <td>quasihb_fc-power</td>\n",
       "      <td>[0.999, 0.999, 0.993, 0.001, 0.001]</td>\n",
       "      <td>[0.006, 0.002, 0.007, 0.005, 0.004]</td>\n",
       "      <td>[-194.245, 48.558, -0.001, 26.25, -65.63]</td>\n",
       "      <td>-14062.496</td>\n",
       "      <td>28134.992</td>\n",
       "      <td>28225.639</td>\n",
       "    </tr>\n",
       "    <tr>\n",
       "      <th>11</th>\n",
       "      <td>quasihb_fc-cara</td>\n",
       "      <td>[0.943, 0.784, 1.082, 2.294, 0.465]</td>\n",
       "      <td>[0.01, 0.005, 0.007, 0.04, 0.013]</td>\n",
       "      <td>[0.001, 0.003, 0.0, 0.0, 0.003]</td>\n",
       "      <td>-15162.805</td>\n",
       "      <td>30335.610</td>\n",
       "      <td>30426.257</td>\n",
       "    </tr>\n",
       "    <tr>\n",
       "      <th>12</th>\n",
       "      <td>hce-cara</td>\n",
       "      <td>[0.743, 99.837, 2.071, 0.509]</td>\n",
       "      <td>[0.0, 0.007, 0.015, 0.001]</td>\n",
       "      <td>[0.001, -0.003, -0.001, -0.001]</td>\n",
       "      <td>-15166.235</td>\n",
       "      <td>30340.469</td>\n",
       "      <td>30412.987</td>\n",
       "    </tr>\n",
       "    <tr>\n",
       "      <th>13</th>\n",
       "      <td>attention-power</td>\n",
       "      <td>[1.0, 1.381, 0.183, 0.34]</td>\n",
       "      <td>[0.001, 0.007, 0.002, 0.007]</td>\n",
       "      <td>[-449.412, -59.389, 566.675, 109.72]</td>\n",
       "      <td>-14175.243</td>\n",
       "      <td>28358.487</td>\n",
       "      <td>28431.005</td>\n",
       "    </tr>\n",
       "    <tr>\n",
       "      <th>14</th>\n",
       "      <td>attention-cara</td>\n",
       "      <td>[0.806, 0.654, 0.848, 0.42]</td>\n",
       "      <td>[0.001, 0.0, 0.008, 0.001]</td>\n",
       "      <td>[-0.0, 0.001, 0.0, -0.0]</td>\n",
       "      <td>-15141.810</td>\n",
       "      <td>30291.620</td>\n",
       "      <td>30364.138</td>\n",
       "    </tr>\n",
       "    <tr>\n",
       "      <th>15</th>\n",
       "      <td>attention_uni-log</td>\n",
       "      <td>[1.295, 1.505, 0.384, 0.282]</td>\n",
       "      <td>[0.004, 0.005, 0.001, 0.001]</td>\n",
       "      <td>[0.0, 0.0, -0.0, 0.001]</td>\n",
       "      <td>-13992.422</td>\n",
       "      <td>27992.844</td>\n",
       "      <td>28065.363</td>\n",
       "    </tr>\n",
       "    <tr>\n",
       "      <th>16</th>\n",
       "      <td>attention_uni-power</td>\n",
       "      <td>[1.37, 0.181, 0.334]</td>\n",
       "      <td>[0.006, 0.0, 0.001]</td>\n",
       "      <td>[0.001, -0.005, -0.001]</td>\n",
       "      <td>-14174.726</td>\n",
       "      <td>28355.452</td>\n",
       "      <td>28409.840</td>\n",
       "    </tr>\n",
       "  </tbody>\n",
       "</table>\n",
       "</div>"
      ],
      "text/plain": [
       "                  model                               params  \\\n",
       "0            expo-power                [0.994, 0.013, 0.011]   \n",
       "1             expo-cara                [0.743, 2.045, 0.509]   \n",
       "2              hb-power                [0.011, 0.025, 0.021]   \n",
       "3               hb-cara                [0.295, 2.936, 0.398]   \n",
       "4             hb2-power         [0.399, 0.004, 0.002, 0.002]   \n",
       "5              hb2-cara         [0.036, 8.124, 2.146, 0.489]   \n",
       "6            hbmd-power                [7.094, 0.146, 0.171]   \n",
       "7             hbmd-cara                [3.453, 2.461, 0.389]   \n",
       "8         quasihb-power         [0.999, 0.999, 0.001, 0.001]   \n",
       "9          quasihb-cara         [0.943, 0.784, 2.294, 0.465]   \n",
       "10     quasihb_fc-power  [0.999, 0.999, 0.993, 0.001, 0.001]   \n",
       "11      quasihb_fc-cara  [0.943, 0.784, 1.082, 2.294, 0.465]   \n",
       "12             hce-cara        [0.743, 99.837, 2.071, 0.509]   \n",
       "13      attention-power            [1.0, 1.381, 0.183, 0.34]   \n",
       "14       attention-cara          [0.806, 0.654, 0.848, 0.42]   \n",
       "15    attention_uni-log         [1.295, 1.505, 0.384, 0.282]   \n",
       "16  attention_uni-power                 [1.37, 0.181, 0.334]   \n",
       "\n",
       "                                     se  \\\n",
       "0                 [0.001, 0.003, 0.002]   \n",
       "1                 [0.001, 0.015, 0.002]   \n",
       "2                 [0.001, 0.002, 0.002]   \n",
       "3                     [0.0, 0.008, 0.0]   \n",
       "4          [0.007, 0.007, 0.003, 0.002]   \n",
       "5          [0.009, 0.007, 0.014, 0.042]   \n",
       "6                   [0.021, 0.001, 0.0]   \n",
       "7                   [0.002, 0.003, 0.0]   \n",
       "8          [0.004, 0.003, 0.009, 0.007]   \n",
       "9          [0.003, 0.003, 0.042, 0.003]   \n",
       "10  [0.006, 0.002, 0.007, 0.005, 0.004]   \n",
       "11    [0.01, 0.005, 0.007, 0.04, 0.013]   \n",
       "12           [0.0, 0.007, 0.015, 0.001]   \n",
       "13         [0.001, 0.007, 0.002, 0.007]   \n",
       "14           [0.001, 0.0, 0.008, 0.001]   \n",
       "15         [0.004, 0.005, 0.001, 0.001]   \n",
       "16                  [0.006, 0.0, 0.001]   \n",
       "\n",
       "                                      gradient  log-likelihood        aic  \\\n",
       "0                       [-2.43, 0.698, -2.146]      -14202.379  28410.759   \n",
       "1                           [0.0, -0.0, 0.002]      -15165.959  30337.919   \n",
       "2                       [-1.314, 0.111, 0.699]      -14192.353  28390.705   \n",
       "3                           [-0.0, 0.0, 0.001]      -15175.382  30356.764   \n",
       "4      [-19.79, 1860.486, -464.905, -4091.861]      -14044.266  28096.531   \n",
       "5                 [0.422, 0.002, 0.001, -0.02]      -15165.669  30339.338   \n",
       "6                           [0.0, 0.0, -0.001]      -13928.870  27863.740   \n",
       "7                           [0.0, 0.0, -0.001]      -15155.590  30317.179   \n",
       "8   [-3271.168, -2270.061, 464.412, -3364.671]      -14062.506  28133.012   \n",
       "9                 [-0.001, -0.001, 0.0, 0.001]      -15162.805  30333.610   \n",
       "10   [-194.245, 48.558, -0.001, 26.25, -65.63]      -14062.496  28134.992   \n",
       "11             [0.001, 0.003, 0.0, 0.0, 0.003]      -15162.805  30335.610   \n",
       "12             [0.001, -0.003, -0.001, -0.001]      -15166.235  30340.469   \n",
       "13        [-449.412, -59.389, 566.675, 109.72]      -14175.243  28358.487   \n",
       "14                    [-0.0, 0.001, 0.0, -0.0]      -15141.810  30291.620   \n",
       "15                     [0.0, 0.0, -0.0, 0.001]      -13992.422  27992.844   \n",
       "16                     [0.001, -0.005, -0.001]      -14174.726  28355.452   \n",
       "\n",
       "          bic  \n",
       "0   28465.147  \n",
       "1   30392.307  \n",
       "2   28445.094  \n",
       "3   30411.153  \n",
       "4   28169.049  \n",
       "5   30411.856  \n",
       "6   27918.129  \n",
       "7   30371.568  \n",
       "8   28205.530  \n",
       "9   30406.128  \n",
       "10  28225.639  \n",
       "11  30426.257  \n",
       "12  30412.987  \n",
       "13  28431.005  \n",
       "14  30364.138  \n",
       "15  28065.363  \n",
       "16  28409.840  "
      ]
     },
     "execution_count": 69,
     "metadata": {},
     "output_type": "execute_result"
    }
   ],
   "source": [
    "impo"
   ]
  },
  {
   "cell_type": "code",
   "execution_count": 26,
   "metadata": {},
   "outputs": [
    {
     "name": "stderr",
     "output_type": "stream",
     "text": [
      "  5%|▌         | 1/20 [00:15<04:45, 15.04s/it]"
     ]
    },
    {
     "name": "stdout",
     "output_type": "stream",
     "text": [
      "{'mse': 0.2043127151235341, 'mae': 0.40907320981355777, 'accuracy': 0.6928013876843018, 'log_like': -3447.1841697758045}\n"
     ]
    },
    {
     "name": "stderr",
     "output_type": "stream",
     "text": [
      " 10%|█         | 2/20 [00:26<03:51, 12.87s/it]"
     ]
    },
    {
     "name": "stdout",
     "output_type": "stream",
     "text": [
      "{'mse': 0.20451927004690942, 'mae': 0.41079338822248906, 'accuracy': 0.6974818903070024, 'log_like': -3470.6954145232503}\n"
     ]
    },
    {
     "name": "stderr",
     "output_type": "stream",
     "text": [
      " 15%|█▌        | 3/20 [00:34<03:02, 10.71s/it]"
     ]
    },
    {
     "name": "stdout",
     "output_type": "stream",
     "text": [
      "{'mse': 0.20421286677384973, 'mae': 0.4105530026726774, 'accuracy': 0.7019031141868513, 'log_like': -3456.9708764551474}\n"
     ]
    },
    {
     "name": "stderr",
     "output_type": "stream",
     "text": [
      " 20%|██        | 4/20 [00:44<02:44, 10.27s/it]"
     ]
    },
    {
     "name": "stdout",
     "output_type": "stream",
     "text": [
      "{'mse': 0.20645881439579705, 'mae': 0.40980488887262867, 'accuracy': 0.6929567763044602, 'log_like': -3503.072640364512}\n"
     ]
    },
    {
     "name": "stderr",
     "output_type": "stream",
     "text": [
      " 25%|██▌       | 5/20 [00:56<02:45, 11.06s/it]"
     ]
    },
    {
     "name": "stdout",
     "output_type": "stream",
     "text": [
      "{'mse': 0.20737545606634702, 'mae': 0.41016622165038946, 'accuracy': 0.6896016554578376, 'log_like': -3522.3486835026392}\n"
     ]
    },
    {
     "name": "stderr",
     "output_type": "stream",
     "text": [
      " 30%|███       | 6/20 [01:12<02:57, 12.69s/it]"
     ]
    },
    {
     "name": "stdout",
     "output_type": "stream",
     "text": [
      "{'mse': 0.19997275930940267, 'mae': 0.4061151188505444, 'accuracy': 0.7054344063689858, 'log_like': -3393.60148319562}\n"
     ]
    },
    {
     "name": "stderr",
     "output_type": "stream",
     "text": [
      " 35%|███▌      | 7/20 [01:34<03:26, 15.88s/it]"
     ]
    },
    {
     "name": "stdout",
     "output_type": "stream",
     "text": [
      "{'mse': 0.20274086588846157, 'mae': 0.40725070408043773, 'accuracy': 0.7001041305102395, 'log_like': -3418.5857000122164}\n"
     ]
    },
    {
     "name": "stderr",
     "output_type": "stream",
     "text": [
      " 40%|████      | 8/20 [01:43<02:44, 13.71s/it]"
     ]
    },
    {
     "name": "stdout",
     "output_type": "stream",
     "text": [
      "{'mse': 0.1978481002827597, 'mae': 0.4030894506642851, 'accuracy': 0.7117768595041323, 'log_like': -3396.6339676602165}\n"
     ]
    },
    {
     "name": "stderr",
     "output_type": "stream",
     "text": [
      " 45%|████▌     | 9/20 [02:01<02:43, 14.89s/it]"
     ]
    },
    {
     "name": "stdout",
     "output_type": "stream",
     "text": [
      "{'mse': 0.20710876421330307, 'mae': 0.40949399070426185, 'accuracy': 0.6832008295886622, 'log_like': -3497.5847451154523}\n"
     ]
    },
    {
     "name": "stderr",
     "output_type": "stream",
     "text": [
      " 50%|█████     | 10/20 [02:10<02:11, 13.12s/it]"
     ]
    },
    {
     "name": "stdout",
     "output_type": "stream",
     "text": [
      "{'mse': 0.19266830889572165, 'mae': 0.40290849289118036, 'accuracy': 0.7221074380165289, 'log_like': -3342.049356346337}\n"
     ]
    },
    {
     "name": "stderr",
     "output_type": "stream",
     "text": [
      " 55%|█████▌    | 11/20 [02:17<01:41, 11.33s/it]"
     ]
    },
    {
     "name": "stdout",
     "output_type": "stream",
     "text": [
      "{'mse': 0.20405185043049165, 'mae': 0.4089966338328091, 'accuracy': 0.6873385012919897, 'log_like': -3463.3814854425427}\n"
     ]
    },
    {
     "name": "stderr",
     "output_type": "stream",
     "text": [
      " 60%|██████    | 12/20 [02:44<02:06, 15.87s/it]"
     ]
    },
    {
     "name": "stdout",
     "output_type": "stream",
     "text": [
      "{'mse': 0.19497523549915388, 'mae': 0.40407070464236966, 'accuracy': 0.7167188043100452, 'log_like': -3325.1298815970267}\n"
     ]
    },
    {
     "name": "stderr",
     "output_type": "stream",
     "text": [
      " 65%|██████▌   | 13/20 [02:54<01:38, 14.11s/it]"
     ]
    },
    {
     "name": "stdout",
     "output_type": "stream",
     "text": [
      "{'mse': 0.20569809448970783, 'mae': 0.4096469719103722, 'accuracy': 0.6980672122584015, 'log_like': -3457.0480076828135}\n"
     ]
    },
    {
     "name": "stderr",
     "output_type": "stream",
     "text": [
      " 70%|███████   | 14/20 [03:07<01:22, 13.75s/it]"
     ]
    },
    {
     "name": "stdout",
     "output_type": "stream",
     "text": [
      "{'mse': 0.2000833105575586, 'mae': 0.40644266548937497, 'accuracy': 0.7033443077456247, 'log_like': -3395.432393749259}\n"
     ]
    },
    {
     "name": "stderr",
     "output_type": "stream",
     "text": [
      " 75%|███████▌  | 15/20 [03:23<01:12, 14.58s/it]"
     ]
    },
    {
     "name": "stdout",
     "output_type": "stream",
     "text": [
      "{'mse': 0.20064144560227015, 'mae': 0.4054374114568173, 'accuracy': 0.7032280458174245, 'log_like': -3394.1171642225154}\n"
     ]
    },
    {
     "name": "stderr",
     "output_type": "stream",
     "text": [
      " 80%|████████  | 16/20 [03:38<00:58, 14.72s/it]"
     ]
    },
    {
     "name": "stdout",
     "output_type": "stream",
     "text": [
      "{'mse': 0.20671415466847443, 'mae': 0.41063559863095284, 'accuracy': 0.6924413553431799, 'log_like': -3474.1421986953546}\n"
     ]
    },
    {
     "name": "stderr",
     "output_type": "stream",
     "text": [
      " 85%|████████▌ | 17/20 [03:51<00:42, 14.29s/it]"
     ]
    },
    {
     "name": "stdout",
     "output_type": "stream",
     "text": [
      "{'mse': 0.20368159297634555, 'mae': 0.4081262639993614, 'accuracy': 0.7028985507246377, 'log_like': -3458.6031526663255}\n"
     ]
    },
    {
     "name": "stderr",
     "output_type": "stream",
     "text": [
      " 90%|█████████ | 18/20 [04:01<00:25, 12.87s/it]"
     ]
    },
    {
     "name": "stdout",
     "output_type": "stream",
     "text": [
      "{'mse': 0.20044607415268254, 'mae': 0.40474951631903067, 'accuracy': 0.7048473348283595, 'log_like': -3411.21442431893}\n"
     ]
    },
    {
     "name": "stderr",
     "output_type": "stream",
     "text": [
      " 95%|█████████▌| 19/20 [04:19<00:14, 14.34s/it]"
     ]
    },
    {
     "name": "stdout",
     "output_type": "stream",
     "text": [
      "{'mse': 0.20185773703125223, 'mae': 0.4076368546083672, 'accuracy': 0.7014718614718615, 'log_like': -3423.6531836622557}\n"
     ]
    },
    {
     "name": "stderr",
     "output_type": "stream",
     "text": [
      "100%|██████████| 20/20 [04:26<00:00, 13.33s/it]"
     ]
    },
    {
     "name": "stdout",
     "output_type": "stream",
     "text": [
      "{'mse': 0.19873558603805372, 'mae': 0.405722621518874, 'accuracy': 0.7043010752688172, 'log_like': -3382.0717694721725}\n"
     ]
    },
    {
     "name": "stderr",
     "output_type": "stream",
     "text": [
      "\n"
     ]
    }
   ],
   "source": [
    "test_result = cross_valid.validation(style=style,data=itch_dt,sample_times=20)"
   ]
  },
  {
   "cell_type": "code",
   "execution_count": 27,
   "metadata": {},
   "outputs": [],
   "source": [
    "m = pd.DataFrame(test_result).groupby(['model']).mean().reset_index()\n",
    "m['iter'] = len(test_result)"
   ]
  },
  {
   "cell_type": "code",
   "execution_count": 28,
   "metadata": {},
   "outputs": [
    {
     "data": {
      "text/html": [
       "<div>\n",
       "<style scoped>\n",
       "    .dataframe tbody tr th:only-of-type {\n",
       "        vertical-align: middle;\n",
       "    }\n",
       "\n",
       "    .dataframe tbody tr th {\n",
       "        vertical-align: top;\n",
       "    }\n",
       "\n",
       "    .dataframe thead th {\n",
       "        text-align: right;\n",
       "    }\n",
       "</style>\n",
       "<table border=\"1\" class=\"dataframe\">\n",
       "  <thead>\n",
       "    <tr style=\"text-align: right;\">\n",
       "      <th></th>\n",
       "      <th>model</th>\n",
       "      <th>mse</th>\n",
       "      <th>mae</th>\n",
       "      <th>accuracy</th>\n",
       "      <th>log_like</th>\n",
       "      <th>iter</th>\n",
       "    </tr>\n",
       "  </thead>\n",
       "  <tbody>\n",
       "    <tr>\n",
       "      <th>0</th>\n",
       "      <td>attention_uni-log</td>\n",
       "      <td>0.202205</td>\n",
       "      <td>0.407536</td>\n",
       "      <td>0.700601</td>\n",
       "      <td>-3431.676035</td>\n",
       "      <td>20</td>\n",
       "    </tr>\n",
       "  </tbody>\n",
       "</table>\n",
       "</div>"
      ],
      "text/plain": [
       "               model       mse       mae  accuracy     log_like  iter\n",
       "0  attention_uni-log  0.202205  0.407536  0.700601 -3431.676035    20"
      ]
     },
     "execution_count": 28,
     "metadata": {},
     "output_type": "execute_result"
    }
   ],
   "source": [
    "m"
   ]
  },
  {
   "cell_type": "code",
   "execution_count": 37,
   "metadata": {},
   "outputs": [
    {
     "data": {
      "text/html": [
       "<div>\n",
       "<style scoped>\n",
       "    .dataframe tbody tr th:only-of-type {\n",
       "        vertical-align: middle;\n",
       "    }\n",
       "\n",
       "    .dataframe tbody tr th {\n",
       "        vertical-align: top;\n",
       "    }\n",
       "\n",
       "    .dataframe thead th {\n",
       "        text-align: right;\n",
       "    }\n",
       "</style>\n",
       "<table border=\"1\" class=\"dataframe\">\n",
       "  <thead>\n",
       "    <tr style=\"text-align: right;\">\n",
       "      <th></th>\n",
       "      <th>model</th>\n",
       "      <th>mse</th>\n",
       "      <th>mae</th>\n",
       "      <th>accuracy</th>\n",
       "      <th>log_like</th>\n",
       "      <th>iter</th>\n",
       "    </tr>\n",
       "  </thead>\n",
       "  <tbody>\n",
       "    <tr>\n",
       "      <th>0</th>\n",
       "      <td>attention-power</td>\n",
       "      <td>0.208908</td>\n",
       "      <td>0.417425</td>\n",
       "      <td>0.682846</td>\n",
       "      <td>-3515.803651</td>\n",
       "      <td>19</td>\n",
       "    </tr>\n",
       "    <tr>\n",
       "      <th>1</th>\n",
       "      <td>expo-power</td>\n",
       "      <td>0.205660</td>\n",
       "      <td>0.415521</td>\n",
       "      <td>0.691343</td>\n",
       "      <td>-3485.903809</td>\n",
       "      <td>20</td>\n",
       "    </tr>\n",
       "    <tr>\n",
       "      <th>2</th>\n",
       "      <td>expo2-power</td>\n",
       "      <td>0.205394</td>\n",
       "      <td>0.415116</td>\n",
       "      <td>0.690721</td>\n",
       "      <td>-3490.879764</td>\n",
       "      <td>14</td>\n",
       "    </tr>\n",
       "    <tr>\n",
       "      <th>3</th>\n",
       "      <td>hb-power</td>\n",
       "      <td>0.207483</td>\n",
       "      <td>0.416106</td>\n",
       "      <td>0.685180</td>\n",
       "      <td>-3505.014120</td>\n",
       "      <td>19</td>\n",
       "    </tr>\n",
       "    <tr>\n",
       "      <th>4</th>\n",
       "      <td>hb2-power</td>\n",
       "      <td>0.209631</td>\n",
       "      <td>0.406708</td>\n",
       "      <td>0.680632</td>\n",
       "      <td>-3566.917307</td>\n",
       "      <td>20</td>\n",
       "    </tr>\n",
       "    <tr>\n",
       "      <th>5</th>\n",
       "      <td>hbmd-power</td>\n",
       "      <td>0.202267</td>\n",
       "      <td>0.405576</td>\n",
       "      <td>0.700174</td>\n",
       "      <td>-3434.337778</td>\n",
       "      <td>20</td>\n",
       "    </tr>\n",
       "    <tr>\n",
       "      <th>6</th>\n",
       "      <td>hce-power</td>\n",
       "      <td>0.208268</td>\n",
       "      <td>0.415015</td>\n",
       "      <td>0.683770</td>\n",
       "      <td>-3515.479530</td>\n",
       "      <td>10</td>\n",
       "    </tr>\n",
       "    <tr>\n",
       "      <th>7</th>\n",
       "      <td>quasihb-power</td>\n",
       "      <td>0.207830</td>\n",
       "      <td>0.382915</td>\n",
       "      <td>0.681961</td>\n",
       "      <td>-3864.065715</td>\n",
       "      <td>20</td>\n",
       "    </tr>\n",
       "    <tr>\n",
       "      <th>8</th>\n",
       "      <td>quasihb_fc-power</td>\n",
       "      <td>0.208875</td>\n",
       "      <td>0.395679</td>\n",
       "      <td>0.677600</td>\n",
       "      <td>-3815.240673</td>\n",
       "      <td>20</td>\n",
       "    </tr>\n",
       "    <tr>\n",
       "      <th>9</th>\n",
       "      <td>attention_uni-power</td>\n",
       "      <td>0.206063</td>\n",
       "      <td>0.414933</td>\n",
       "      <td>0.691464</td>\n",
       "      <td>-3478.057401</td>\n",
       "      <td>20</td>\n",
       "    </tr>\n",
       "    <tr>\n",
       "      <th>10</th>\n",
       "      <td>attention_uni-log</td>\n",
       "      <td>0.202205</td>\n",
       "      <td>0.407536</td>\n",
       "      <td>0.700601</td>\n",
       "      <td>-3431.676035</td>\n",
       "      <td>20</td>\n",
       "    </tr>\n",
       "  </tbody>\n",
       "</table>\n",
       "</div>"
      ],
      "text/plain": [
       "                  model       mse       mae  accuracy     log_like  iter\n",
       "0       attention-power  0.208908  0.417425  0.682846 -3515.803651    19\n",
       "1            expo-power  0.205660  0.415521  0.691343 -3485.903809    20\n",
       "2           expo2-power  0.205394  0.415116  0.690721 -3490.879764    14\n",
       "3              hb-power  0.207483  0.416106  0.685180 -3505.014120    19\n",
       "4             hb2-power  0.209631  0.406708  0.680632 -3566.917307    20\n",
       "5            hbmd-power  0.202267  0.405576  0.700174 -3434.337778    20\n",
       "6             hce-power  0.208268  0.415015  0.683770 -3515.479530    10\n",
       "7         quasihb-power  0.207830  0.382915  0.681961 -3864.065715    20\n",
       "8      quasihb_fc-power  0.208875  0.395679  0.677600 -3815.240673    20\n",
       "9   attention_uni-power  0.206063  0.414933  0.691464 -3478.057401    20\n",
       "10    attention_uni-log  0.202205  0.407536  0.700601 -3431.676035    20"
      ]
     },
     "execution_count": 37,
     "metadata": {},
     "output_type": "execute_result"
    }
   ],
   "source": [
    "sucess_res = pd.read_csv('cross_valid_result_2.csv')\n",
    "#pd.concat([sucess_res,m]).to_csv('cross_valid_result_2.csv',index=False)\n",
    "sucess_res"
   ]
  }
 ],
 "metadata": {
  "kernelspec": {
   "display_name": "Python 3",
   "language": "python",
   "name": "python3"
  },
  "language_info": {
   "codemirror_mode": {
    "name": "ipython",
    "version": 3
   },
   "file_extension": ".py",
   "mimetype": "text/x-python",
   "name": "python",
   "nbconvert_exporter": "python",
   "pygments_lexer": "ipython3",
   "version": "3.10.6"
  },
  "orig_nbformat": 4,
  "vscode": {
   "interpreter": {
    "hash": "2469a70536e4d2335a2ea8907942d0699c37342a371ac185bdb5b0aa6f073890"
   }
  }
 },
 "nbformat": 4,
 "nbformat_minor": 2
}
