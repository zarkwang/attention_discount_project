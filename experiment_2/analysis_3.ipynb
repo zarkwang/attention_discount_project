{
 "cells": [
  {
   "cell_type": "code",
   "execution_count": 2,
   "metadata": {},
   "outputs": [],
   "source": [
    "%reload_ext autoreload\n",
    "%autoreload 2\n",
    "\n",
    "import json\n",
    "import pickle\n",
    "import pandas as pd\n",
    "import numpy as np\n",
    "from lib import utils\n",
    "\n"
   ]
  },
  {
   "cell_type": "code",
   "execution_count": 2,
   "metadata": {},
   "outputs": [
    {
     "data": {
      "text/plain": [
       "62"
      ]
     },
     "execution_count": 2,
     "metadata": {},
     "output_type": "execute_result"
    }
   ],
   "source": [
    "df = pd.read_csv('valid_sequence_data.csv',index_col=0)\n",
    "df['total_money_heuristic'] = df['value_surplus'] == 60\n",
    "(df.groupby('worker_id')['total_money_heuristic'].sum() >= 12).sum()"
   ]
  },
  {
   "cell_type": "code",
   "execution_count": 3,
   "metadata": {},
   "outputs": [
    {
     "name": "stdout",
     "output_type": "stream",
     "text": [
      "                    median_coef        se       mad   ci_lower   ci_upper\n",
      "const                 52.057925  0.617866  0.361804  50.994498  53.511135\n",
      "front_amount_6m_0     -0.016670  0.002317  0.001616  -0.021447  -0.012264\n",
      "front_amount_12m_0    -0.021310  0.002332  0.001602  -0.025904  -0.016959\n",
      "front_amount_6m_1     -0.000722  0.000620  0.000435  -0.001899   0.000435\n",
      "front_amount_12m_1    -0.000898  0.000597  0.000409  -0.002090   0.000261\n",
      "choice_peli            2.448971  0.668575  0.407567   0.942326   3.709506\n",
      "M-W Criterion: 118.99193776238214\n"
     ]
    }
   ],
   "source": [
    "with open('bootstrap_rlm_fe_label_k.pkl', 'rb') as file:\n",
    "    bootstrap_rlm_fe_label_k = pickle.load(file)\n",
    "\n",
    "print(bootstrap_rlm_fe_label_k.conf_int())\n",
    "print('M-W Criterion:',bootstrap_rlm_fe_label_k.muller_welsh_criterion())"
   ]
  },
  {
   "cell_type": "code",
   "execution_count": 4,
   "metadata": {},
   "outputs": [
    {
     "name": "stdout",
     "output_type": "stream",
     "text": [
      "                  median_coef        se       mad   ci_lower   ci_upper\n",
      "const               51.639343  0.610820  0.362385  50.581226  52.996600\n",
      "front_amount_6m     -0.004421  0.000764  0.000521  -0.005860  -0.002932\n",
      "front_amount_12m    -0.005719  0.000790  0.000519  -0.007393  -0.004259\n",
      "choice_peli          2.378662  0.649683  0.404103   0.944536   3.554102\n",
      "M-W Criterion: 125.09652410843766\n"
     ]
    }
   ],
   "source": [
    "with open('bootstrap_rlm_fe_baseline_k.pkl', 'rb') as file:\n",
    "    bootstrap_rlm_fe_baseline_k = pickle.load(file)\n",
    "\n",
    "print(bootstrap_rlm_fe_baseline_k.conf_int())\n",
    "print('M-W Criterion:',bootstrap_rlm_fe_baseline_k.muller_welsh_criterion())"
   ]
  },
  {
   "cell_type": "code",
   "execution_count": 5,
   "metadata": {},
   "outputs": [
    {
     "name": "stdout",
     "output_type": "stream",
     "text": [
      "                    median_coef        se       mad   ci_lower   ci_upper\n",
      "const                 57.477850  0.614153  0.415818  56.234533  58.644906\n",
      "front_amount_6m_0     -0.065290  0.003210  0.002201  -0.071599  -0.059017\n",
      "front_amount_12m_0    -0.068168  0.003257  0.002077  -0.075164  -0.062138\n",
      "front_amount_6m_1      0.009703  0.001449  0.000959   0.006622   0.012413\n",
      "front_amount_12m_1     0.008944  0.001473  0.000946   0.006106   0.011916\n",
      "choice_peli           -1.341249  0.524019  0.371619  -2.298808  -0.311319\n",
      "M-W Criterion: 214.3676680443063\n"
     ]
    }
   ],
   "source": [
    "with open('bootstrap_rlm_pool_label_k.pkl', 'rb') as file:\n",
    "    bootstrap_rlm_pool_label_k = pickle.load(file)\n",
    "\n",
    "print(bootstrap_rlm_pool_label_k.conf_int())\n",
    "print('M-W Criterion:',bootstrap_rlm_pool_label_k.muller_welsh_criterion())"
   ]
  },
  {
   "cell_type": "code",
   "execution_count": 6,
   "metadata": {},
   "outputs": [
    {
     "name": "stdout",
     "output_type": "stream",
     "text": [
      "                  median_coef        se       mad   ci_lower   ci_upper\n",
      "const               57.125512  0.861522  0.554130  55.320198  58.804736\n",
      "front_amount_6m     -0.002642  0.002016  0.001390  -0.006710   0.001183\n",
      "front_amount_12m    -0.003970  0.002159  0.001426  -0.008334   0.000134\n",
      "choice_peli         -2.261167  0.835444  0.551689  -3.815411  -0.476396\n",
      "M-W Criterion: 412.64036514663803\n"
     ]
    }
   ],
   "source": [
    "with open('bootstrap_rlm_pool_baseline_k.pkl', 'rb') as file:\n",
    "    bootstrap_rlm_pool_baseline_k = pickle.load(file)\n",
    "\n",
    "print(bootstrap_rlm_pool_baseline_k.conf_int())\n",
    "print('M-W Criterion:',bootstrap_rlm_pool_baseline_k.muller_welsh_criterion())"
   ]
  },
  {
   "cell_type": "code",
   "execution_count": 8,
   "metadata": {},
   "outputs": [],
   "source": [
    "with open('model_reg_result_k.json', 'r') as f:\n",
    "    reg_result = json.load(f)\n",
    "\n",
    "for m in list(reg_result.keys()):\n",
    "    if 'Intercept' in reg_result[m]['coef_name']:\n",
    "        index_to_replace = reg_result[m]['coef_name'].index('Intercept')\n",
    "        reg_result[m]['coef_name'][index_to_replace] = 'const'\n",
    "\n",
    "indicators = ['nobs','rsquared_adj']\n",
    "row_names = ['b_front_amount_6m','se_front_amount_6m',\n",
    "             'b_front_amount_12m','se_front_amount_12m',\n",
    "             'b_front_amount_6m_0','se_front_amount_6m_0',\n",
    "             'b_front_amount_12m_0','se_front_amount_12m_0',\n",
    "             'b_front_amount_6m_1','se_front_amount_6m_1',\n",
    "             'b_front_amount_12m_1','se_front_amount_12m_1',\n",
    "             'b_choice_peli','se_choice_peli',\n",
    "             'b_const','se_const'] + indicators\n",
    "\n",
    "result_table = {k:[] for k in row_names}\n",
    "result_table['model'] = list(reg_result.keys())\n",
    "\n",
    "digit = 3\n",
    "\n",
    "for r in row_names:\n",
    "    for m in list(reg_result.keys()):\n",
    "        b_coef = r.split('b_',1)\n",
    "        se_coef = r.split('se_',1)\n",
    "        coef_name = reg_result[m]['coef_name']\n",
    "\n",
    "        if len(b_coef) > 1 and b_coef[1] in coef_name:\n",
    "            _b = reg_result[m]['params'][coef_name.index(b_coef[1])]\n",
    "            _p_value = reg_result[m]['pvalues'][coef_name.index(b_coef[1])]\n",
    "\n",
    "            if b_coef[1] == 'const':\n",
    "                _b = _b + reg_result[m]['contrast_mean']\n",
    "\n",
    "            result_table[r] += [ str(round(_b,digit)) + utils.get_star(_p_value)]\n",
    "\n",
    "        elif len(se_coef) > 1 and se_coef[1] in coef_name:\n",
    "            _se = reg_result[m]['bse'][coef_name.index(se_coef[1])]\n",
    "            result_table[r] += [ '(' + str(round(_se,digit)) + ')' ]\n",
    "\n",
    "        elif r == 'nobs':\n",
    "            result_table[r] += [ int(reg_result[m][r]) ]\n",
    "        \n",
    "        elif r == 'rsquared_adj':\n",
    "            try:\n",
    "                result_table[r] += [ str(round(reg_result[m][r],digit)) ]\n",
    "            except:\n",
    "                result_table[r] += ['']\n",
    "            \n",
    "        else:\n",
    "            result_table[r] += ['']\n",
    "\n",
    "result_table = pd.DataFrame(result_table)\n",
    "\n",
    "\n",
    "param_list = [r'$Y_1\\cdot\\text{1}\\{T=\\underline{T}\\}$',\n",
    "            '',\n",
    "            r'$Y_1\\cdot\\text{1}\\{T=\\bar{T}\\}$',\n",
    "            '',\n",
    "            r'$Y_1\\cdot\\text{1}\\{T=\\underline{T}\\}\\times$ Cluster 1',\n",
    "            '',\n",
    "            r'$Y_1\\cdot\\text{1}\\{T=\\bar{T}\\}\\times$ Cluster 1',\n",
    "            '',\n",
    "            r'$Y_1\\cdot\\text{1}\\{T=\\underline{T}\\}\\times$ Cluster 2',\n",
    "            '',\n",
    "            r'$Y_1\\cdot\\text{1}\\{T=\\bar{T}\\}\\times$ Cluster 2',\n",
    "            '',\n",
    "            'PELI',\n",
    "            '',\n",
    "            'Constant',\n",
    "            '',\n",
    "            'observations']"
   ]
  },
  {
   "cell_type": "code",
   "execution_count": 16,
   "metadata": {},
   "outputs": [],
   "source": [
    "reg_table = pd.DataFrame(result_table.iloc[:,:-1].values.T,columns=result_table['model'])\n",
    "reg_table['row_name'] = row_names\n",
    "reg_table = reg_table.set_index('row_name')\n",
    "reg_table.iloc[-1,4:] = np.repeat('',4)\n",
    "\n",
    "reg_table.index.name = None\n",
    "reg_table.columns.name = None\n",
    "\n",
    "reg_table_1 = reg_table.iloc[:,:4]\n",
    "reg_table_1.columns = ['(1) Pooled', '(2) Pooled', '(3) FE', '(4) FE']\n",
    "reg_table_1.index = param_list + ['adj-$R^2$']\n",
    "\n",
    "with open('tables/tab_ols.tex','w') as f:\n",
    "    tex_code = '\\\\documentclass[12px]{article} \\n \\\\begin{document} \\n' + reg_table_1.to_latex() + '\\n \\end{document}'\n",
    "    tex_code = utils.add_border(tex_code)\n",
    "    f.write(tex_code)"
   ]
  },
  {
   "cell_type": "code",
   "execution_count": 22,
   "metadata": {},
   "outputs": [],
   "source": [
    "reg_table_2 = reg_table.iloc[:-1,4:]\n",
    "# reg_table_2.loc['muller_welsh'] = [\n",
    "#                     bootstrap_rlm_pool_baseline_k.muller_welsh_criterion(),\n",
    "#                     bootstrap_rlm_pool_label_k.muller_welsh_criterion(),\n",
    "#                     bootstrap_rlm_fe_baseline_k.muller_welsh_criterion(),\n",
    "#                     bootstrap_rlm_fe_label_k.muller_welsh_criterion()]\n",
    "\n",
    "\n",
    "reg_table_2.columns = ['(5) Pooled', '(6) Pooled', '(7) FE', '(8) FE']\n",
    "reg_table_2.index = param_list\n",
    "\n",
    "with open('tables/tab_rlm.tex','w') as f:\n",
    "    tex_code = '\\\\documentclass[12px]{article} \\n \\\\begin{document} \\n' + reg_table_2.to_latex() + '\\n \\end{document}'\n",
    "    tex_code = utils.add_border(tex_code)\n",
    "    f.write(tex_code)"
   ]
  },
  {
   "cell_type": "code",
   "execution_count": 140,
   "metadata": {},
   "outputs": [
    {
     "data": {
      "text/html": [
       "<div>\n",
       "<style scoped>\n",
       "    .dataframe tbody tr th:only-of-type {\n",
       "        vertical-align: middle;\n",
       "    }\n",
       "\n",
       "    .dataframe tbody tr th {\n",
       "        vertical-align: top;\n",
       "    }\n",
       "\n",
       "    .dataframe thead th {\n",
       "        text-align: right;\n",
       "    }\n",
       "</style>\n",
       "<table border=\"1\" class=\"dataframe\">\n",
       "  <thead>\n",
       "    <tr style=\"text-align: right;\">\n",
       "      <th></th>\n",
       "      <th>rlm_pool_baseline</th>\n",
       "      <th>rlm_pool_label</th>\n",
       "      <th>rlm_fe_baseline</th>\n",
       "      <th>rlm_fe_label</th>\n",
       "    </tr>\n",
       "  </thead>\n",
       "  <tbody>\n",
       "    <tr>\n",
       "      <th>front_amount_6m</th>\n",
       "      <td>[-0.007, 0.001]</td>\n",
       "      <td></td>\n",
       "      <td>[-0.006, -0.003]</td>\n",
       "      <td></td>\n",
       "    </tr>\n",
       "    <tr>\n",
       "      <th>front_amount_12m</th>\n",
       "      <td>[-0.008, 0.0]</td>\n",
       "      <td></td>\n",
       "      <td>[-0.007, -0.004]</td>\n",
       "      <td></td>\n",
       "    </tr>\n",
       "    <tr>\n",
       "      <th>front_amount_6m_0</th>\n",
       "      <td></td>\n",
       "      <td>[-0.072, -0.059]</td>\n",
       "      <td></td>\n",
       "      <td>[-0.021, -0.012]</td>\n",
       "    </tr>\n",
       "    <tr>\n",
       "      <th>front_amount_12m_0</th>\n",
       "      <td></td>\n",
       "      <td>[-0.075, -0.062]</td>\n",
       "      <td></td>\n",
       "      <td>[-0.026, -0.017]</td>\n",
       "    </tr>\n",
       "    <tr>\n",
       "      <th>front_amount_6m_1</th>\n",
       "      <td></td>\n",
       "      <td>[0.007, 0.012]</td>\n",
       "      <td></td>\n",
       "      <td>[-0.002, 0.0]</td>\n",
       "    </tr>\n",
       "    <tr>\n",
       "      <th>front_amount_12m_1</th>\n",
       "      <td></td>\n",
       "      <td>[0.006, 0.012]</td>\n",
       "      <td></td>\n",
       "      <td>[-0.002, 0.0]</td>\n",
       "    </tr>\n",
       "    <tr>\n",
       "      <th>choice_peli</th>\n",
       "      <td>[-3.815, -0.476]</td>\n",
       "      <td>[-2.299, -0.311]</td>\n",
       "      <td>[0.945, 3.554]</td>\n",
       "      <td>[1.092, 3.718]</td>\n",
       "    </tr>\n",
       "    <tr>\n",
       "      <th>const</th>\n",
       "      <td>[55.32, 58.805]</td>\n",
       "      <td>[56.235, 58.645]</td>\n",
       "      <td>[50.581, 52.997]</td>\n",
       "      <td>[50.922, 53.337]</td>\n",
       "    </tr>\n",
       "  </tbody>\n",
       "</table>\n",
       "</div>"
      ],
      "text/plain": [
       "                   rlm_pool_baseline    rlm_pool_label   rlm_fe_baseline  \\\n",
       "front_amount_6m      [-0.007, 0.001]                    [-0.006, -0.003]   \n",
       "front_amount_12m       [-0.008, 0.0]                    [-0.007, -0.004]   \n",
       "front_amount_6m_0                     [-0.072, -0.059]                     \n",
       "front_amount_12m_0                    [-0.075, -0.062]                     \n",
       "front_amount_6m_1                       [0.007, 0.012]                     \n",
       "front_amount_12m_1                      [0.006, 0.012]                     \n",
       "choice_peli         [-3.815, -0.476]  [-2.299, -0.311]    [0.945, 3.554]   \n",
       "const                [55.32, 58.805]  [56.235, 58.645]  [50.581, 52.997]   \n",
       "\n",
       "                        rlm_fe_label  \n",
       "front_amount_6m                       \n",
       "front_amount_12m                      \n",
       "front_amount_6m_0   [-0.021, -0.012]  \n",
       "front_amount_12m_0  [-0.026, -0.017]  \n",
       "front_amount_6m_1      [-0.002, 0.0]  \n",
       "front_amount_12m_1     [-0.002, 0.0]  \n",
       "choice_peli           [1.092, 3.718]  \n",
       "const               [50.922, 53.337]  "
      ]
     },
     "execution_count": 140,
     "metadata": {},
     "output_type": "execute_result"
    }
   ],
   "source": [
    "row_names_ci = ['front_amount_6m',\n",
    "             'front_amount_12m',\n",
    "             'front_amount_6m_0',\n",
    "             'front_amount_12m_0',\n",
    "             'front_amount_6m_1',\n",
    "             'front_amount_12m_1',\n",
    "             'choice_peli',\n",
    "             'const']\n",
    "\n",
    "def get_ci(model):\n",
    "    ci_table = model.conf_int()\n",
    "    ci_list = []\n",
    "    for r in row_names_ci:\n",
    "        if r in ci_table.index:\n",
    "            _lower = np.round(ci_table.loc[r]['ci_lower'],digit)\n",
    "            _upper = np.round(ci_table.loc[r]['ci_upper'],digit)\n",
    "            ci_list += ['[' + str(_lower) + ', ' + str(_upper) + ']']\n",
    "        else:\n",
    "            ci_list += ['']\n",
    "    return ci_list\n",
    "\n",
    "\n",
    "model_list = [bootstrap_rlm_pool_baseline_k,bootstrap_rlm_pool_label_k,bootstrap_rlm_fe_baseline_k,bootstrap_rlm_fe_label_k]\n",
    "model_names = ['rlm_pool_baseline','rlm_pool_label','rlm_fe_baseline','rlm_fe_label']\n",
    "\n",
    "ci_table = pd.DataFrame({model_names[i]:get_ci(model_list[i]) for i in range(len(model_names))},index=row_names_ci)\n",
    "ci_table"
   ]
  },
  {
   "cell_type": "code",
   "execution_count": 25,
   "metadata": {},
   "outputs": [
    {
     "data": {
      "text/plain": [
       "7.899855114257345"
      ]
     },
     "execution_count": 25,
     "metadata": {},
     "output_type": "execute_result"
    }
   ],
   "source": [
    "bootstrap_rlm_fe_baseline_k.model.scale"
   ]
  }
 ],
 "metadata": {
  "kernelspec": {
   "display_name": "Python 3",
   "language": "python",
   "name": "python3"
  },
  "language_info": {
   "codemirror_mode": {
    "name": "ipython",
    "version": 3
   },
   "file_extension": ".py",
   "mimetype": "text/x-python",
   "name": "python",
   "nbconvert_exporter": "python",
   "pygments_lexer": "ipython3",
   "version": "3.10.6"
  }
 },
 "nbformat": 4,
 "nbformat_minor": 2
}
