{
 "cells": [
  {
   "cell_type": "code",
   "execution_count": 1,
   "metadata": {},
   "outputs": [
    {
     "name": "stdout",
     "output_type": "stream",
     "text": [
      "Optimal Solution:\n",
      "[nan nan nan nan nan nan]\n",
      "Objective Value:\n",
      "nan\n"
     ]
    },
    {
     "name": "stderr",
     "output_type": "stream",
     "text": [
      "C:\\Users\\zarkwang\\AppData\\Local\\Temp\\ipykernel_13436\\1099610938.py:14: RuntimeWarning: invalid value encountered in double_scalars\n",
      "  grad[t] = d**t * a * x[t]**(a-1)\n"
     ]
    }
   ],
   "source": [
    "import numpy as np\n",
    "\n",
    "def u(x, a):\n",
    "    return x**a\n",
    "\n",
    "def objective_function(x, a, d):\n",
    "    T = len(x) - 1\n",
    "    return sum([d**t * u(x[t], a) for t in range(T+1)])\n",
    "\n",
    "def gradient(x, a, d):\n",
    "    T = len(x) - 1\n",
    "    grad = np.zeros(T+1)\n",
    "    for t in range(T+1):\n",
    "        grad[t] = d**t * a * x[t]**(a-1)\n",
    "    return grad\n",
    "\n",
    "def gradient_descent(a, T, d, m, learning_rate=0.1, num_iterations=1000):\n",
    "    x = np.ones(T+1)  # 初始值设为1\n",
    "    for _ in range(num_iterations):\n",
    "        grad = gradient(x, a, d)\n",
    "        x -= learning_rate * grad\n",
    "        # 将解投影到约束空间\n",
    "        x /= sum(x) / m\n",
    "    return x\n",
    "\n",
    "# 参数设置\n",
    "a = 0.5\n",
    "T = 5\n",
    "d = 0.8\n",
    "m = 10\n",
    "\n",
    "# 求解\n",
    "x_optimal = gradient_descent(a, T, d, m)\n",
    "objective_value = objective_function(x_optimal, a, d)\n",
    "\n",
    "print(\"Optimal Solution:\")\n",
    "print(x_optimal)\n",
    "print(\"Objective Value:\")\n",
    "print(objective_value)"
   ]
  },
  {
   "cell_type": "code",
   "execution_count": 3,
   "metadata": {},
   "outputs": [
    {
     "data": {
      "text/plain": [
       "array([0.35355339, 0.28284271, 0.22627417, 0.18101934, 0.14481547])"
      ]
     },
     "execution_count": 3,
     "metadata": {},
     "output_type": "execute_result"
    }
   ],
   "source": [
    "gradient(x=np.repeat(m/T,T), a=a, d=d)"
   ]
  }
 ],
 "metadata": {
  "kernelspec": {
   "display_name": "Python 3",
   "language": "python",
   "name": "python3"
  },
  "language_info": {
   "codemirror_mode": {
    "name": "ipython",
    "version": 3
   },
   "file_extension": ".py",
   "mimetype": "text/x-python",
   "name": "python",
   "nbconvert_exporter": "python",
   "pygments_lexer": "ipython3",
   "version": "3.10.6"
  },
  "orig_nbformat": 4
 },
 "nbformat": 4,
 "nbformat_minor": 2
}
