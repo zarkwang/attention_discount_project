{
 "cells": [
  {
   "cell_type": "code",
   "execution_count": 13,
   "metadata": {},
   "outputs": [],
   "source": [
    "import numpy as np\n",
    "import pandas as pd\n",
    "import matplotlib.pyplot as plt\n",
    "from sklearn.neighbors import KernelDensity\n"
   ]
  },
  {
   "cell_type": "code",
   "execution_count": 24,
   "metadata": {},
   "outputs": [],
   "source": [
    "df_choice = pd.read_csv('choice_data.csv',sep=',',index_col=0)\n",
    "\n",
    "df_choice['part_control'] = (df_choice['group_value'] == False)*df_choice['part_value']\n",
    "df_choice['part_treatment'] = (df_choice['group_value'] == True)*df_choice['part_value']\n",
    " \n",
    "sum_choice_seq = df_choice.groupby('worker_id')['choice_value'].sum().to_frame()\n",
    "analysis_workers = sum_choice_seq[(sum_choice_seq['choice_value'] != 24) & (sum_choice_seq['choice_value'] != 0)].index\n",
    "# df_analysis = df_choice[df_choice['worker_id'].isin(analysis_workers)]\n",
    "df = df_choice\n",
    "\n",
    "bool_cols = df.select_dtypes(include=['bool']).columns\n",
    "df[bool_cols] = df[bool_cols].astype(int)"
   ]
  },
  {
   "cell_type": "code",
   "execution_count": 3,
   "metadata": {},
   "outputs": [],
   "source": [
    "tab_reward = (df.groupby(['front_ratio','single_amount'])['choice_value'].count()/ len(df)).reset_index()\n",
    "tab_reward = tab_reward.rename(columns={'choice_value':'prob'})\n",
    "\n",
    "var = {'front_ratio':0.1,'single_amount':200}\n",
    "\n",
    "def kernelReward(var,tab=None):\n",
    "    \n",
    "    reward = None\n",
    "    for key, value in var.items():\n",
    "        if reward is None:\n",
    "            reward = tab[key] == value\n",
    "        else:\n",
    "            reward &= tab[key] == value\n",
    "\n",
    "    # Find corresponding row\n",
    "    _row = tab[reward]\n",
    "\n",
    "    return _row['prob'].values[0]"
   ]
  },
  {
   "cell_type": "code",
   "execution_count": 4,
   "metadata": {},
   "outputs": [
    {
     "data": {
      "text/plain": [
       "0.041666666666666664"
      ]
     },
     "execution_count": 4,
     "metadata": {},
     "output_type": "execute_result"
    }
   ],
   "source": [
    "kernelReward(var,tab=tab_reward)"
   ]
  },
  {
   "cell_type": "code",
   "execution_count": 7,
   "metadata": {},
   "outputs": [],
   "source": [
    "logitFunc = lambda s: np.exp(s)/(1+np.exp(s))\n",
    "logitPrime = lambda s: np.exp(-s)/(1+np.exp(-s))**2\n",
    "logLink = lambda y: np.log(y/(1-y))\n",
    "V = lambda m: m*(1-m)\n",
    "G = lambda s: logitFunc(s)*V(logitPrime(s)) \n",
    "\n"
   ]
  },
  {
   "cell_type": "code",
   "execution_count": 29,
   "metadata": {},
   "outputs": [
    {
     "name": "stderr",
     "output_type": "stream",
     "text": [
      "C:\\Users\\zarkwang\\AppData\\Local\\Temp\\ipykernel_15556\\4118028202.py:3: SettingWithCopyWarning: \n",
      "A value is trying to be set on a copy of a slice from a DataFrame.\n",
      "Try using .loc[row_indexer,col_indexer] = value instead\n",
      "\n",
      "See the caveats in the documentation: https://pandas.pydata.org/pandas-docs/stable/user_guide/indexing.html#returning-a-view-versus-a-copy\n",
      "  X['const'] = 1\n"
     ]
    },
    {
     "data": {
      "text/html": [
       "<div>\n",
       "<style scoped>\n",
       "    .dataframe tbody tr th:only-of-type {\n",
       "        vertical-align: middle;\n",
       "    }\n",
       "\n",
       "    .dataframe tbody tr th {\n",
       "        vertical-align: top;\n",
       "    }\n",
       "\n",
       "    .dataframe thead th {\n",
       "        text-align: right;\n",
       "    }\n",
       "</style>\n",
       "<table border=\"1\" class=\"dataframe\">\n",
       "  <thead>\n",
       "    <tr style=\"text-align: right;\">\n",
       "      <th></th>\n",
       "      <th>group_value</th>\n",
       "      <th>part_value</th>\n",
       "      <th>part_control</th>\n",
       "      <th>part_treatment</th>\n",
       "      <th>const</th>\n",
       "    </tr>\n",
       "  </thead>\n",
       "  <tbody>\n",
       "    <tr>\n",
       "      <th>13</th>\n",
       "      <td>1</td>\n",
       "      <td>1</td>\n",
       "      <td>0</td>\n",
       "      <td>1</td>\n",
       "      <td>1</td>\n",
       "    </tr>\n",
       "    <tr>\n",
       "      <th>14</th>\n",
       "      <td>1</td>\n",
       "      <td>1</td>\n",
       "      <td>0</td>\n",
       "      <td>1</td>\n",
       "      <td>1</td>\n",
       "    </tr>\n",
       "    <tr>\n",
       "      <th>15</th>\n",
       "      <td>1</td>\n",
       "      <td>1</td>\n",
       "      <td>0</td>\n",
       "      <td>1</td>\n",
       "      <td>1</td>\n",
       "    </tr>\n",
       "    <tr>\n",
       "      <th>16</th>\n",
       "      <td>1</td>\n",
       "      <td>1</td>\n",
       "      <td>0</td>\n",
       "      <td>1</td>\n",
       "      <td>1</td>\n",
       "    </tr>\n",
       "    <tr>\n",
       "      <th>17</th>\n",
       "      <td>1</td>\n",
       "      <td>1</td>\n",
       "      <td>0</td>\n",
       "      <td>1</td>\n",
       "      <td>1</td>\n",
       "    </tr>\n",
       "    <tr>\n",
       "      <th>...</th>\n",
       "      <td>...</td>\n",
       "      <td>...</td>\n",
       "      <td>...</td>\n",
       "      <td>...</td>\n",
       "      <td>...</td>\n",
       "    </tr>\n",
       "    <tr>\n",
       "      <th>3895</th>\n",
       "      <td>0</td>\n",
       "      <td>0</td>\n",
       "      <td>0</td>\n",
       "      <td>0</td>\n",
       "      <td>1</td>\n",
       "    </tr>\n",
       "    <tr>\n",
       "      <th>3896</th>\n",
       "      <td>0</td>\n",
       "      <td>0</td>\n",
       "      <td>0</td>\n",
       "      <td>0</td>\n",
       "      <td>1</td>\n",
       "    </tr>\n",
       "    <tr>\n",
       "      <th>3897</th>\n",
       "      <td>0</td>\n",
       "      <td>0</td>\n",
       "      <td>0</td>\n",
       "      <td>0</td>\n",
       "      <td>1</td>\n",
       "    </tr>\n",
       "    <tr>\n",
       "      <th>3898</th>\n",
       "      <td>0</td>\n",
       "      <td>0</td>\n",
       "      <td>0</td>\n",
       "      <td>0</td>\n",
       "      <td>1</td>\n",
       "    </tr>\n",
       "    <tr>\n",
       "      <th>3899</th>\n",
       "      <td>0</td>\n",
       "      <td>0</td>\n",
       "      <td>0</td>\n",
       "      <td>0</td>\n",
       "      <td>1</td>\n",
       "    </tr>\n",
       "  </tbody>\n",
       "</table>\n",
       "<p>7056 rows × 5 columns</p>\n",
       "</div>"
      ],
      "text/plain": [
       "      group_value  part_value  part_control  part_treatment  const\n",
       "13              1           1             0               1      1\n",
       "14              1           1             0               1      1\n",
       "15              1           1             0               1      1\n",
       "16              1           1             0               1      1\n",
       "17              1           1             0               1      1\n",
       "...           ...         ...           ...             ...    ...\n",
       "3895            0           0             0               0      1\n",
       "3896            0           0             0               0      1\n",
       "3897            0           0             0               0      1\n",
       "3898            0           0             0               0      1\n",
       "3899            0           0             0               0      1\n",
       "\n",
       "[7056 rows x 5 columns]"
      ]
     },
     "execution_count": 29,
     "metadata": {},
     "output_type": "execute_result"
    }
   ],
   "source": [
    "y = df['choice_value']\n",
    "X = df[['group_value','part_value','part_control','part_treatment']]\n",
    "X['const'] = 1\n",
    "X"
   ]
  },
  {
   "cell_type": "code",
   "execution_count": 30,
   "metadata": {},
   "outputs": [
    {
     "data": {
      "text/plain": [
       "13      11.512915\n",
       "14      11.512915\n",
       "15      11.512915\n",
       "16      11.512915\n",
       "17      11.512915\n",
       "          ...    \n",
       "3895   -11.512915\n",
       "3896   -11.512915\n",
       "3897   -11.512915\n",
       "3898   -11.512915\n",
       "3899   -11.512915\n",
       "Name: choice_value, Length: 7056, dtype: float64"
      ]
     },
     "execution_count": 30,
     "metadata": {},
     "output_type": "execute_result"
    }
   ],
   "source": [
    "adjust_y = 1e-5\n",
    "\n",
    "\n",
    "logLink(2* (0.5-y) * adjust_y + y) - "
   ]
  },
  {
   "cell_type": "code",
   "execution_count": null,
   "metadata": {},
   "outputs": [],
   "source": [
    "\n",
    "# Generate some random data\n",
    "np.random.seed(0)\n",
    "data = np.random.randn(1000)\n",
    "\n",
    "# Instantiate and fit the KDE model\n",
    "kde = KernelDensity(bandwidth=0.5, kernel='gaussian')\n",
    "kde.fit(data[:, None])\n",
    "\n",
    "# Generate points for evaluation\n",
    "x = np.linspace(-5, 5, 1000)\n",
    "log_density = kde.score_samples(x[:, None])\n",
    "\n",
    "# Plot the KDE\n",
    "plt.fill_between(x, np.exp(log_density), alpha=0.5)\n",
    "plt.xlabel('x')\n",
    "plt.ylabel('Density')\n",
    "plt.title('Kernel Density Estimation')\n",
    "plt.show()"
   ]
  }
 ],
 "metadata": {
  "kernelspec": {
   "display_name": "Python 3",
   "language": "python",
   "name": "python3"
  },
  "language_info": {
   "codemirror_mode": {
    "name": "ipython",
    "version": 3
   },
   "file_extension": ".py",
   "mimetype": "text/x-python",
   "name": "python",
   "nbconvert_exporter": "python",
   "pygments_lexer": "ipython3",
   "version": "3.10.6"
  }
 },
 "nbformat": 4,
 "nbformat_minor": 2
}
