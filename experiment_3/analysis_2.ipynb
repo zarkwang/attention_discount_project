{
 "cells": [
  {
   "cell_type": "code",
   "execution_count": 3,
   "metadata": {},
   "outputs": [],
   "source": [
    "import numpy as np\n",
    "import pandas as pd\n",
    "import scipy.stats as stats\n",
    "from datetime import datetime\n",
    "import matplotlib.pyplot as plt\n",
    "import statsmodels.api as sm\n",
    "import statsmodels.formula.api as smf\n",
    "import multiprocessing as mp\n",
    "from tqdm import tqdm\n"
   ]
  },
  {
   "cell_type": "code",
   "execution_count": 4,
   "metadata": {},
   "outputs": [],
   "source": [
    "df_total = pd.read_csv('choice_data.csv',sep=',',index_col=0)\n",
    "df_rabbit = pd.read_csv('rabbit_data.csv',sep=',',index_col=0)\n",
    "\n",
    "sum_choice_seq = df_total.groupby('worker_id')['choice_value'].sum().to_frame()\n",
    "analysis_workers = sum_choice_seq[(sum_choice_seq['choice_value'] != 24) & (sum_choice_seq['choice_value'] != 0)].index\n",
    "df_analysis = df_total[df_total['worker_id'].isin(analysis_workers)]"
   ]
  },
  {
   "cell_type": "code",
   "execution_count": 6,
   "metadata": {},
   "outputs": [
    {
     "name": "stderr",
     "output_type": "stream",
     "text": [
      "  0%|          | 0/10 [00:00<?, ?it/s]"
     ]
    }
   ],
   "source": [
    "n_iter = 10\n",
    "pool_size = 8\n",
    "estimates = []\n",
    "\n",
    "def fit_bootstrap(sample_index, data):\n",
    "    bootstrap_sample = data.sample(n=len(data), replace=True)\n",
    "    mod_bootstrap = smf.logit('choice_value ~ group_value + part_value + I((group_value==1)*part_value) + C(single_amount) + C(front_ratio)', data=bootstrap_sample)\n",
    "    result_bootstrap = mod_bootstrap.fit(disp=0)  \n",
    "    return result_bootstrap.params\n",
    "    \n",
    "with mp.Pool(pool_size) as pool:\n",
    "        args = [(i, df_analysis) for i in range(n_iter)]\n",
    "\n",
    "        for result in tqdm(\n",
    "                            pool.imap_unordered(fit_bootstrap, args),\n",
    "                            total=n_iter):\n",
    "            \n",
    "            estimates += [result]"
   ]
  },
  {
   "cell_type": "code",
   "execution_count": 5,
   "metadata": {},
   "outputs": [
    {
     "data": {
      "text/plain": [
       "8"
      ]
     },
     "execution_count": 5,
     "metadata": {},
     "output_type": "execute_result"
    }
   ],
   "source": [
    "mp.cpu_count()"
   ]
  },
  {
   "cell_type": "code",
   "execution_count": 5,
   "metadata": {},
   "outputs": [
    {
     "name": "stderr",
     "output_type": "stream",
     "text": [
      "d:\\Python\\lib\\site-packages\\patsy\\util.py:672: FutureWarning: is_categorical_dtype is deprecated and will be removed in a future version. Use isinstance(dtype, CategoricalDtype) instead\n",
      "  return _pandas_is_categorical_dtype(dt)\n",
      "d:\\Python\\lib\\site-packages\\patsy\\util.py:672: FutureWarning: is_categorical_dtype is deprecated and will be removed in a future version. Use isinstance(dtype, CategoricalDtype) instead\n",
      "  return _pandas_is_categorical_dtype(dt)\n",
      "d:\\Python\\lib\\site-packages\\patsy\\util.py:672: FutureWarning: is_categorical_dtype is deprecated and will be removed in a future version. Use isinstance(dtype, CategoricalDtype) instead\n",
      "  return _pandas_is_categorical_dtype(dt)\n",
      "d:\\Python\\lib\\site-packages\\patsy\\util.py:672: FutureWarning: is_categorical_dtype is deprecated and will be removed in a future version. Use isinstance(dtype, CategoricalDtype) instead\n",
      "  return _pandas_is_categorical_dtype(dt)\n",
      "d:\\Python\\lib\\site-packages\\patsy\\util.py:672: FutureWarning: is_categorical_dtype is deprecated and will be removed in a future version. Use isinstance(dtype, CategoricalDtype) instead\n",
      "  return _pandas_is_categorical_dtype(dt)\n"
     ]
    },
    {
     "data": {
      "text/plain": [
       "Intercept                                    -0.236635\n",
       "group_value[T.True]                           0.016963\n",
       "part_value[T.True]                            0.075606\n",
       "I((group_value == 1) * part_value)[T.True]    0.165231\n",
       "C(single_amount)[T.240]                       0.423976\n",
       "C(single_amount)[T.280]                       1.042799\n",
       "C(single_amount)[T.320]                       0.890020\n",
       "C(front_ratio)[T.0.2]                        -0.775973\n",
       "C(front_ratio)[T.0.3]                        -0.688705\n",
       "C(front_ratio)[T.0.4]                        -0.463887\n",
       "C(front_ratio)[T.0.5]                        -0.467867\n",
       "C(front_ratio)[T.0.6]                        -0.924494\n",
       "dtype: float64"
      ]
     },
     "execution_count": 5,
     "metadata": {},
     "output_type": "execute_result"
    }
   ],
   "source": [
    "bootstrap_estimates_df = pd.DataFrame(estimates)\n",
    "\n",
    "bootstrap_means = bootstrap_estimates_df.mean()\n",
    "bootstrap_se = bootstrap_estimates_df.std()\n",
    "bootstrap_ci_lower = bootstrap_estimates_df.quantile(0.025)\n",
    "bootstrap_ci_upper = bootstrap_estimates_df.quantile(0.975)\n",
    "\n",
    "# Print results\n",
    "print(\"Bootstrap Means:\")\n",
    "print(bootstrap_means)\n",
    "print(\"\\nBootstrap Standard Errors:\")\n",
    "print(bootstrap_se)\n",
    "print(\"\\nBootstrap 95% Confidence Intervals:\")\n",
    "print(pd.DataFrame({'lower': bootstrap_ci_lower, 'upper': bootstrap_ci_upper}))"
   ]
  },
  {
   "cell_type": "code",
   "execution_count": 5,
   "metadata": {},
   "outputs": [],
   "source": [
    "def fit_bootstrap(sample_index, data):\n",
    "    bootstrap_sample = data.sample(n=len(data), replace=True)\n",
    "    mod_bootstrap = smf.logit('choice_value ~ group_value + part_value + I((group_value==1)*part_value) + C(single_amount) + C(front_ratio)', data=bootstrap_sample)\n",
    "    result_bootstrap = mod_bootstrap.fit(disp=0)  \n",
    "    return result_bootstrap.params"
   ]
  },
  {
   "cell_type": "code",
   "execution_count": 11,
   "metadata": {},
   "outputs": [
    {
     "name": "stderr",
     "output_type": "stream",
     "text": [
      "d:\\Python\\lib\\site-packages\\patsy\\util.py:672: FutureWarning: is_categorical_dtype is deprecated and will be removed in a future version. Use isinstance(dtype, CategoricalDtype) instead\n",
      "  return _pandas_is_categorical_dtype(dt)\n",
      "d:\\Python\\lib\\site-packages\\patsy\\util.py:672: FutureWarning: is_categorical_dtype is deprecated and will be removed in a future version. Use isinstance(dtype, CategoricalDtype) instead\n",
      "  return _pandas_is_categorical_dtype(dt)\n",
      "d:\\Python\\lib\\site-packages\\patsy\\util.py:672: FutureWarning: is_categorical_dtype is deprecated and will be removed in a future version. Use isinstance(dtype, CategoricalDtype) instead\n",
      "  return _pandas_is_categorical_dtype(dt)\n",
      "d:\\Python\\lib\\site-packages\\patsy\\util.py:672: FutureWarning: is_categorical_dtype is deprecated and will be removed in a future version. Use isinstance(dtype, CategoricalDtype) instead\n",
      "  return _pandas_is_categorical_dtype(dt)\n",
      "d:\\Python\\lib\\site-packages\\patsy\\util.py:672: FutureWarning: is_categorical_dtype is deprecated and will be removed in a future version. Use isinstance(dtype, CategoricalDtype) instead\n",
      "  return _pandas_is_categorical_dtype(dt)\n",
      "d:\\Python\\lib\\site-packages\\patsy\\util.py:672: FutureWarning: is_categorical_dtype is deprecated and will be removed in a future version. Use isinstance(dtype, CategoricalDtype) instead\n",
      "  return _pandas_is_categorical_dtype(dt)\n",
      "d:\\Python\\lib\\site-packages\\patsy\\util.py:672: FutureWarning: is_categorical_dtype is deprecated and will be removed in a future version. Use isinstance(dtype, CategoricalDtype) instead\n",
      "  return _pandas_is_categorical_dtype(dt)\n",
      "d:\\Python\\lib\\site-packages\\patsy\\util.py:672: FutureWarning: is_categorical_dtype is deprecated and will be removed in a future version. Use isinstance(dtype, CategoricalDtype) instead\n",
      "  return _pandas_is_categorical_dtype(dt)\n",
      "d:\\Python\\lib\\site-packages\\patsy\\util.py:672: FutureWarning: is_categorical_dtype is deprecated and will be removed in a future version. Use isinstance(dtype, CategoricalDtype) instead\n",
      "  return _pandas_is_categorical_dtype(dt)\n"
     ]
    }
   ],
   "source": [
    "ser1 = fit_bootstrap(1, df_analysis)\n",
    "ser2 = fit_bootstrap(2, df_analysis)"
   ]
  },
  {
   "cell_type": "code",
   "execution_count": 15,
   "metadata": {},
   "outputs": [
    {
     "data": {
      "text/html": [
       "<div>\n",
       "<style scoped>\n",
       "    .dataframe tbody tr th:only-of-type {\n",
       "        vertical-align: middle;\n",
       "    }\n",
       "\n",
       "    .dataframe tbody tr th {\n",
       "        vertical-align: top;\n",
       "    }\n",
       "\n",
       "    .dataframe thead th {\n",
       "        text-align: right;\n",
       "    }\n",
       "</style>\n",
       "<table border=\"1\" class=\"dataframe\">\n",
       "  <thead>\n",
       "    <tr style=\"text-align: right;\">\n",
       "      <th></th>\n",
       "      <th>Intercept</th>\n",
       "      <th>group_value[T.True]</th>\n",
       "      <th>part_value[T.True]</th>\n",
       "      <th>I((group_value == 1) * part_value)[T.True]</th>\n",
       "      <th>C(single_amount)[T.240]</th>\n",
       "      <th>C(single_amount)[T.280]</th>\n",
       "      <th>C(single_amount)[T.320]</th>\n",
       "      <th>C(front_ratio)[T.0.2]</th>\n",
       "      <th>C(front_ratio)[T.0.3]</th>\n",
       "      <th>C(front_ratio)[T.0.4]</th>\n",
       "      <th>C(front_ratio)[T.0.5]</th>\n",
       "      <th>C(front_ratio)[T.0.6]</th>\n",
       "    </tr>\n",
       "  </thead>\n",
       "  <tbody>\n",
       "    <tr>\n",
       "      <th>0</th>\n",
       "      <td>-0.430434</td>\n",
       "      <td>-0.016302</td>\n",
       "      <td>0.182994</td>\n",
       "      <td>0.155565</td>\n",
       "      <td>0.413467</td>\n",
       "      <td>1.188382</td>\n",
       "      <td>0.753420</td>\n",
       "      <td>-0.413150</td>\n",
       "      <td>-0.652457</td>\n",
       "      <td>-0.531543</td>\n",
       "      <td>-0.379973</td>\n",
       "      <td>-0.663521</td>\n",
       "    </tr>\n",
       "    <tr>\n",
       "      <th>1</th>\n",
       "      <td>-0.176682</td>\n",
       "      <td>0.037758</td>\n",
       "      <td>0.193642</td>\n",
       "      <td>0.065159</td>\n",
       "      <td>0.267205</td>\n",
       "      <td>0.968430</td>\n",
       "      <td>0.755872</td>\n",
       "      <td>-0.644973</td>\n",
       "      <td>-0.718497</td>\n",
       "      <td>-0.771942</td>\n",
       "      <td>-0.576714</td>\n",
       "      <td>-0.841197</td>\n",
       "    </tr>\n",
       "  </tbody>\n",
       "</table>\n",
       "</div>"
      ],
      "text/plain": [
       "   Intercept  group_value[T.True]  part_value[T.True]  \\\n",
       "0  -0.430434            -0.016302            0.182994   \n",
       "1  -0.176682             0.037758            0.193642   \n",
       "\n",
       "   I((group_value == 1) * part_value)[T.True]  C(single_amount)[T.240]  \\\n",
       "0                                    0.155565                 0.413467   \n",
       "1                                    0.065159                 0.267205   \n",
       "\n",
       "   C(single_amount)[T.280]  C(single_amount)[T.320]  C(front_ratio)[T.0.2]  \\\n",
       "0                 1.188382                 0.753420              -0.413150   \n",
       "1                 0.968430                 0.755872              -0.644973   \n",
       "\n",
       "   C(front_ratio)[T.0.3]  C(front_ratio)[T.0.4]  C(front_ratio)[T.0.5]  \\\n",
       "0              -0.652457              -0.531543              -0.379973   \n",
       "1              -0.718497              -0.771942              -0.576714   \n",
       "\n",
       "   C(front_ratio)[T.0.6]  \n",
       "0              -0.663521  \n",
       "1              -0.841197  "
      ]
     },
     "execution_count": 15,
     "metadata": {},
     "output_type": "execute_result"
    }
   ],
   "source": [
    "[ser1, ser2]"
   ]
  },
  {
   "cell_type": "code",
   "execution_count": 14,
   "metadata": {},
   "outputs": [
    {
     "data": {
      "text/plain": [
       "Intercept                                    -0.430434\n",
       "group_value[T.True]                          -0.016302\n",
       "part_value[T.True]                            0.182994\n",
       "I((group_value == 1) * part_value)[T.True]    0.155565\n",
       "C(single_amount)[T.240]                       0.413467\n",
       "C(single_amount)[T.280]                       1.188382\n",
       "C(single_amount)[T.320]                       0.753420\n",
       "C(front_ratio)[T.0.2]                        -0.413150\n",
       "C(front_ratio)[T.0.3]                        -0.652457\n",
       "C(front_ratio)[T.0.4]                        -0.531543\n",
       "C(front_ratio)[T.0.5]                        -0.379973\n",
       "C(front_ratio)[T.0.6]                        -0.663521\n",
       "dtype: float64"
      ]
     },
     "execution_count": 14,
     "metadata": {},
     "output_type": "execute_result"
    }
   ],
   "source": [
    "ser1.T"
   ]
  }
 ],
 "metadata": {
  "kernelspec": {
   "display_name": "Python 3",
   "language": "python",
   "name": "python3"
  },
  "language_info": {
   "codemirror_mode": {
    "name": "ipython",
    "version": 3
   },
   "file_extension": ".py",
   "mimetype": "text/x-python",
   "name": "python",
   "nbconvert_exporter": "python",
   "pygments_lexer": "ipython3",
   "version": "3.10.6"
  }
 },
 "nbformat": 4,
 "nbformat_minor": 2
}
